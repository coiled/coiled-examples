{
 "cells": [
  {
   "cell_type": "markdown",
   "metadata": {},
   "source": [
    "# RandomForests"
   ]
  },
  {
   "cell_type": "markdown",
   "metadata": {},
   "source": [
    "You may want to switch to the `coiled/default` environment\n",
    "\n",
    "```\n",
    "coiled install coiled/default\n",
    "conda activate coiled-coiled-default\n",
    "```"
   ]
  },
  {
   "cell_type": "markdown",
   "metadata": {},
   "source": [
    "## Setup Coiled"
   ]
  },
  {
   "cell_type": "code",
   "execution_count": null,
   "metadata": {},
   "outputs": [],
   "source": [
    "import coiled\n",
    "cluster = coiled.Cluster(10, configuration=\"coiled/default\")\n",
    "\n",
    "from dask.distributed import Client\n",
    "client = Client(cluster)\n",
    "client.dashboard_link"
   ]
  },
  {
   "cell_type": "markdown",
   "metadata": {},
   "source": [
    "## Set up problem\n"
   ]
  },
  {
   "cell_type": "code",
   "execution_count": null,
   "metadata": {},
   "outputs": [],
   "source": [
    "from joblib import parallel_backend\n",
    "import numpy as np\n",
    "from sklearn.datasets import load_digits\n",
    "from sklearn.ensemble import RandomForestClassifier\n",
    "from sklearn.model_selection import cross_val_score\n",
    "\n",
    "digits = load_digits()\n",
    "clf = RandomForestClassifier(n_estimators=45000, verbose=1)"
   ]
  },
  {
   "cell_type": "markdown",
   "metadata": {},
   "source": [
    "## We could run locally\n",
    "\n",
    "In principle we want to run the following:\n",
    "\n",
    "```python\n",
    "with parallel_backend('dask'):\n",
    "    clf.fit(digits.data, digits.target)\n",
    "```\n",
    "\n",
    "But then our local session will be in rapid communication with all of the workers.  This is fine if we're running this from the cloud, but if we're running this from our laptop then it's better to run this on a worker."
   ]
  },
  {
   "cell_type": "code",
   "execution_count": null,
   "metadata": {},
   "outputs": [],
   "source": [
    "def train(clf, X, y):\n",
    "    with parallel_backend('dask'):\n",
    "        clf.fit(digits.data, digits.target)\n",
    "    \n",
    "    return clf"
   ]
  },
  {
   "cell_type": "code",
   "execution_count": null,
   "metadata": {},
   "outputs": [],
   "source": [
    "%%time\n",
    "\n",
    "future = client.submit(train, clf, digits.data, digits.target)\n",
    "s = client.submit(str, future)\n",
    "s.result()"
   ]
  }
 ],
 "metadata": {
  "kernelspec": {
   "display_name": "Python [conda env:coiled-coiled-default]",
   "language": "python",
   "name": "conda-env-coiled-coiled-default-py"
  },
  "language_info": {
   "codemirror_mode": {
    "name": "ipython",
    "version": 3
   },
   "file_extension": ".py",
   "mimetype": "text/x-python",
   "name": "python",
   "nbconvert_exporter": "python",
   "pygments_lexer": "ipython3",
   "version": "3.8.5"
  }
 },
 "nbformat": 4,
 "nbformat_minor": 4
}
