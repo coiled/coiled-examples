{
 "cells": [
  {
   "cell_type": "code",
   "execution_count": 15,
   "metadata": {},
   "outputs": [
    {
     "data": {
      "text/html": [
       "<style>.container { width:95% !important; }</style>"
      ],
      "text/plain": [
       "<IPython.core.display.HTML object>"
      ]
     },
     "metadata": {},
     "output_type": "display_data"
    }
   ],
   "source": [
    "from IPython.core.display import display, HTML\n",
    "display(HTML(\"<style>.container { width:95% !important; }</style>\"))"
   ]
  },
  {
   "cell_type": "code",
   "execution_count": 1,
   "metadata": {
    "ExecuteTime": {
     "end_time": "2020-08-27T13:24:14.295127Z",
     "start_time": "2020-08-27T13:24:13.628691Z"
    }
   },
   "outputs": [],
   "source": [
    "import dask\n",
    "import numpy as np\n",
    "import pandas as pd"
   ]
  },
  {
   "cell_type": "code",
   "execution_count": 2,
   "metadata": {
    "ExecuteTime": {
     "end_time": "2020-08-27T13:24:14.495654Z",
     "start_time": "2020-08-27T13:24:14.296696Z"
    }
   },
   "outputs": [
    {
     "name": "stdout",
     "output_type": "stream",
     "text": [
      "/workspace/src/dask/distributed/distributed/__init__.py\n"
     ]
    }
   ],
   "source": [
    "from distributed import Client\n",
    "import distributed as d\n",
    "print(d.__file__)"
   ]
  },
  {
   "cell_type": "code",
   "execution_count": 53,
   "metadata": {
    "ExecuteTime": {
     "end_time": "2020-08-27T13:37:47.985824Z",
     "start_time": "2020-08-27T13:37:47.965329Z"
    }
   },
   "outputs": [
    {
     "data": {
      "text/html": [
       "<table style=\"border: 2px solid white;\">\n",
       "<tr>\n",
       "<td style=\"vertical-align: top; border: 0px solid white\">\n",
       "<h3 style=\"text-align: left;\">Client</h3>\n",
       "<ul style=\"text-align: left; list-style: none; margin: 0; padding: 0;\">\n",
       "  <li><b>Scheduler: </b>tcp://scheduler:8786</li>\n",
       "  <li><b>Dashboard: </b><a href='http://scheduler:8787/status' target='_blank'>http://scheduler:8787/status</a></li>\n",
       "</ul>\n",
       "</td>\n",
       "<td style=\"vertical-align: top; border: 0px solid white\">\n",
       "<h3 style=\"text-align: left;\">Cluster</h3>\n",
       "<ul style=\"text-align: left; list-style:none; margin: 0; padding: 0;\">\n",
       "  <li><b>Workers: </b>1</li>\n",
       "  <li><b>Cores: </b>8</li>\n",
       "  <li><b>Memory: </b>33.57 GB</li>\n",
       "</ul>\n",
       "</td>\n",
       "</tr>\n",
       "</table>"
      ],
      "text/plain": [
       "<Client: 'tcp://172.18.0.4:8786' processes=1 threads=8, memory=33.57 GB>"
      ]
     },
     "execution_count": 53,
     "metadata": {},
     "output_type": "execute_result"
    }
   ],
   "source": [
    "client = Client(\"tcp://scheduler:8786\")\n",
    "client"
   ]
  },
  {
   "cell_type": "code",
   "execution_count": 4,
   "metadata": {
    "ExecuteTime": {
     "end_time": "2020-08-27T13:24:17.426573Z",
     "start_time": "2020-08-27T13:24:16.077829Z"
    }
   },
   "outputs": [],
   "source": [
    "# checking that we have all this stuff in our env\n",
    "import dask.dataframe as dd\n",
    "import dask.array as da\n",
    "from dask_ml.model_selection import train_test_split\n",
    "import dask\n",
    "import torch.optim as optim\n",
    "import torch.nn as nn\n",
    "import torch.nn.functional as F\n",
    "from skorch import NeuralNetRegressor\n",
    "from scipy.stats import loguniform, uniform\n",
    "from dask_ml.model_selection import HyperbandSearchCV\n",
    "from dask_ml.wrappers import ParallelPostFit\n",
    "from sklearn.metrics import confusion_matrix\n",
    "import numpy as np\n",
    "import torch\n",
    "import time"
   ]
  },
  {
   "cell_type": "code",
   "execution_count": 88,
   "metadata": {
    "ExecuteTime": {
     "end_time": "2020-08-21T13:08:57.512453Z",
     "start_time": "2020-08-21T13:08:57.509035Z"
    }
   },
   "outputs": [
    {
     "data": {
      "text/plain": [
       "False"
      ]
     },
     "execution_count": 88,
     "metadata": {},
     "output_type": "execute_result"
    }
   ],
   "source": [
    "torch.cuda.is_available()"
   ]
  },
  {
   "cell_type": "markdown",
   "metadata": {
    "heading_collapsed": true
   },
   "source": [
    "# Small Fake Net"
   ]
  },
  {
   "cell_type": "code",
   "execution_count": 6,
   "metadata": {
    "hidden": true
   },
   "outputs": [],
   "source": [
    "nmb=10000\n",
    "nfeat=20"
   ]
  },
  {
   "cell_type": "code",
   "execution_count": 7,
   "metadata": {
    "hidden": true
   },
   "outputs": [],
   "source": [
    "features=da.random.normal(size=(nmb,nfeat)).astype(\"float32\")\n",
    "output=da.random.normal(size=(nmb,)).astype(\"float32\")"
   ]
  },
  {
   "cell_type": "code",
   "execution_count": 8,
   "metadata": {
    "hidden": true
   },
   "outputs": [],
   "source": [
    "from dask_ml.model_selection import train_test_split\n",
    "import dask\n",
    "\n",
    "#features = inp.to_dask_array(lengths=True).astype(\"float32\")\n",
    "#output = out.to_dask_array(lengths=True).astype(\"float32\")\n",
    "X_train, X_test, y_train, y_test = train_test_split(features, output, shuffle=True)\n",
    "\n",
    "# persist the data so it's not re-computed\n",
    "X_train, X_test, y_train, y_test = dask.persist(X_train, X_test, y_train, y_test)"
   ]
  },
  {
   "cell_type": "code",
   "execution_count": 9,
   "metadata": {
    "hidden": true
   },
   "outputs": [
    {
     "data": {
      "text/plain": [
       "(9000, 20)"
      ]
     },
     "execution_count": 9,
     "metadata": {},
     "output_type": "execute_result"
    }
   ],
   "source": [
    "X_train.compute().shape"
   ]
  },
  {
   "cell_type": "code",
   "execution_count": 10,
   "metadata": {
    "hidden": true
   },
   "outputs": [],
   "source": [
    "# Import our HiddenLayerNet pytorch model from a local torch_model.py module\n",
    "from torch_model import HiddenLayerNet\n",
    "# Send module with HiddenLayerNet to workers on cluster\n",
    "client.upload_file(\"torch_model.py\")"
   ]
  },
  {
   "cell_type": "code",
   "execution_count": 11,
   "metadata": {
    "hidden": true
   },
   "outputs": [],
   "source": [
    "from skorch import NeuralNetRegressor\n",
    "\n",
    "niceties = {\n",
    "    \"callbacks\": False,\n",
    "    \"warm_start\": True,\n",
    "    \"train_split\": None,\n",
    "    \"max_epochs\": 1,\n",
    "}\n",
    "\n",
    "model = NeuralNetRegressor(\n",
    "    module=HiddenLayerNet,\n",
    "    module__n_features=X_train.shape[1],\n",
    "    optimizer=optim.SGD,\n",
    "    criterion=nn.MSELoss,\n",
    "    lr=0.0001,\n",
    "    **niceties,\n",
    ")"
   ]
  },
  {
   "cell_type": "code",
   "execution_count": 12,
   "metadata": {
    "hidden": true
   },
   "outputs": [],
   "source": [
    "from scipy.stats import loguniform, uniform\n",
    "\n",
    "params = {\n",
    "    \"module__activation\": [\"relu\", \"elu\", \"softsign\", \"leaky_relu\", \"rrelu\"],\n",
    "    \"batch_size\": [32, 64, 128, 256],\n",
    "    \"optimizer__lr\": loguniform(1e-4, 1e-3),\n",
    "    \"optimizer__weight_decay\": loguniform(1e-6, 1e-3),\n",
    "    \"optimizer__momentum\": uniform(0, 1),\n",
    "    \"optimizer__nesterov\": [True],\n",
    "}"
   ]
  },
  {
   "cell_type": "code",
   "execution_count": 13,
   "metadata": {
    "hidden": true
   },
   "outputs": [],
   "source": [
    "from dask_ml.model_selection import HyperbandSearchCV\n",
    "search = HyperbandSearchCV(model, params, random_state=42, verbose=True, max_iter=9)"
   ]
  },
  {
   "cell_type": "code",
   "execution_count": 14,
   "metadata": {
    "collapsed": true,
    "hidden": true
   },
   "outputs": [
    {
     "name": "stdout",
     "output_type": "stream",
     "text": [
      "[CV, bracket=2] creating 9 models\n",
      "0\n",
      "<Future: pending, key: _create_model-54f12c088d8010ccb3f28dfc55429fd4>\n",
      "[CV, bracket=1] creating 5 models\n",
      "0\n",
      "<Future: pending, key: _create_model-b91f22ae4928f08a134421e51d77f885>\n",
      "[CV, bracket=0] creating 3 models\n",
      "0\n",
      "<Future: pending, key: _create_model-de6407238dc91fd2a294c8c3cd786d22>\n",
      "(<class 'skorch.regressor.NeuralNetRegressor'>[uninitialized](\n",
      "  module=<class 'torch_model.HiddenLayerNet'>,\n",
      "  module_=HiddenLayerNet(\n",
      "    (fc1): Linear(in_features=20, out_features=100, bias=True)\n",
      "    (fc2): Linear(in_features=100, out_features=1, bias=True)\n",
      "  ),\n",
      "  module__activation=leaky_relu,\n",
      "  module__n_features=20,\n",
      "), {'model_id': 0, 'params': {'batch_size': 128, 'module__activation': 'leaky_relu', 'optimizer__lr': 0.0008927180304353625, 'optimizer__momentum': 0.7319939418114051, 'optimizer__nesterov': True, 'optimizer__weight_decay': 6.251373574521747e-05}, 'partial_fit_calls': 0})\n",
      "1\n",
      "<Future: finished, type: builtins.tuple, key: _create_model-d938b0ecd61c216a57e3c90b82e29b53>\n",
      "(<class 'skorch.regressor.NeuralNetRegressor'>[uninitialized](\n",
      "  module=<class 'torch_model.HiddenLayerNet'>,\n",
      "  module_=HiddenLayerNet(\n",
      "    (fc1): Linear(in_features=20, out_features=100, bias=True)\n",
      "    (fc2): Linear(in_features=100, out_features=1, bias=True)\n",
      "  ),\n",
      "  module__activation=relu,\n",
      "  module__n_features=20,\n",
      "), {'model_id': 0, 'params': {'batch_size': 128, 'module__activation': 'relu', 'optimizer__lr': 0.0009450627248809966, 'optimizer__momentum': 0.035383571414983384, 'optimizer__nesterov': True, 'optimizer__weight_decay': 0.0003675962192839249}, 'partial_fit_calls': 0})\n",
      "1\n",
      "<Future: finished, type: builtins.tuple, key: _create_model-17b78d9e24ad11628f9a6b4dfceb85c4>\n",
      "(<class 'skorch.regressor.NeuralNetRegressor'>[uninitialized](\n",
      "  module=<class 'torch_model.HiddenLayerNet'>,\n",
      "  module_=HiddenLayerNet(\n",
      "    (fc1): Linear(in_features=20, out_features=100, bias=True)\n",
      "    (fc2): Linear(in_features=100, out_features=1, bias=True)\n",
      "  ),\n",
      "  module__activation=elu,\n",
      "  module__n_features=20,\n",
      "), {'model_id': 1, 'params': {'batch_size': 128, 'module__activation': 'elu', 'optimizer__lr': 0.00014321698289111517, 'optimizer__momentum': 0.05808361216819946, 'optimizer__nesterov': True, 'optimizer__weight_decay': 0.00039676050770529866}, 'partial_fit_calls': 0})\n",
      "2\n",
      "<Future: finished, type: builtins.tuple, key: _create_model-b65e3248da1c681ad65f130d10491d32>\n",
      "(<class 'skorch.regressor.NeuralNetRegressor'>[uninitialized](\n",
      "  module=<class 'torch_model.HiddenLayerNet'>,\n",
      "  module_=HiddenLayerNet(\n",
      "    (fc1): Linear(in_features=20, out_features=100, bias=True)\n",
      "    (fc2): Linear(in_features=100, out_features=1, bias=True)\n",
      "  ),\n",
      "  module__activation=rrelu,\n",
      "  module__n_features=20,\n",
      "), {'model_id': 1, 'params': {'batch_size': 128, 'module__activation': 'rrelu', 'optimizer__lr': 0.0003961342081293917, 'optimizer__momentum': 0.3989504451091438, 'optimizer__nesterov': True, 'optimizer__weight_decay': 4.254186565699362e-05}, 'partial_fit_calls': 0})\n",
      "2\n",
      "<Future: finished, type: builtins.tuple, key: _create_model-4d8fd1e35e02d9afc5da4b930b88819e>\n",
      "(<class 'skorch.regressor.NeuralNetRegressor'>[uninitialized](\n",
      "  module=<class 'torch_model.HiddenLayerNet'>,\n",
      "  module_=HiddenLayerNet(\n",
      "    (fc1): Linear(in_features=20, out_features=100, bias=True)\n",
      "    (fc2): Linear(in_features=100, out_features=1, bias=True)\n",
      "  ),\n",
      "  module__activation=leaky_relu,\n",
      "  module__n_features=20,\n",
      "), {'model_id': 0, 'params': {'batch_size': 256, 'module__activation': 'leaky_relu', 'optimizer__lr': 0.00014433091765123364, 'optimizer__momentum': 0.23900579435736002, 'optimizer__nesterov': True, 'optimizer__weight_decay': 5.1632152120709546e-05}, 'partial_fit_calls': 0})\n",
      "1\n",
      "<Future: finished, type: builtins.tuple, key: _create_model-345fc0f787c68fac7678732b4c6fbc21>\n",
      "(<class 'skorch.regressor.NeuralNetRegressor'>[uninitialized](\n",
      "  module=<class 'torch_model.HiddenLayerNet'>,\n",
      "  module_=HiddenLayerNet(\n",
      "    (fc1): Linear(in_features=20, out_features=100, bias=True)\n",
      "    (fc2): Linear(in_features=100, out_features=1, bias=True)\n",
      "  ),\n",
      "  module__activation=softsign,\n",
      "  module__n_features=20,\n",
      "), {'model_id': 2, 'params': {'batch_size': 256, 'module__activation': 'softsign', 'optimizer__lr': 0.00010485387725194618, 'optimizer__momentum': 0.9699098521619943, 'optimizer__nesterov': True, 'optimizer__weight_decay': 0.0003142880890840108}, 'partial_fit_calls': 0})\n",
      "(<class 'skorch.regressor.NeuralNetRegressor'>[uninitialized](\n",
      "  module=<class 'torch_model.HiddenLayerNet'>,\n",
      "  module_=HiddenLayerNet(\n",
      "    (fc1): Linear(in_features=20, out_features=100, bias=True)\n",
      "    (fc2): Linear(in_features=100, out_features=1, bias=True)\n",
      "  ),\n",
      "  module__activation=leaky_relu,\n",
      "  module__n_features=20,\n",
      "), {'model_id': 2, 'params': {'batch_size': 128, 'module__activation': 'leaky_relu', 'optimizer__lr': 0.00019345281276953027, 'optimizer__momentum': 0.5200466095048822, 'optimizer__nesterov': True, 'optimizer__weight_decay': 0.0007437386889885606}, 'partial_fit_calls': 0})\n",
      "3\n",
      "<Future: finished, type: builtins.tuple, key: _create_model-ac52ac8f56b22d8a49054176f11a3059>\n",
      "(<class 'skorch.regressor.NeuralNetRegressor'>[uninitialized](\n",
      "  module=<class 'torch_model.HiddenLayerNet'>,\n",
      "  module_=HiddenLayerNet(\n",
      "    (fc1): Linear(in_features=20, out_features=100, bias=True)\n",
      "    (fc2): Linear(in_features=100, out_features=1, bias=True)\n",
      "  ),\n",
      "  module__activation=elu,\n",
      "  module__n_features=20,\n",
      "), {'model_id': 1, 'params': {'batch_size': 256, 'module__activation': 'elu', 'optimizer__lr': 0.0003772575593831099, 'optimizer__momentum': 0.5067243019802232, 'optimizer__nesterov': True, 'optimizer__weight_decay': 3.274394404443548e-05}, 'partial_fit_calls': 0})\n",
      "2\n",
      "<Future: finished, type: builtins.tuple, key: _create_model-05cb328fe094eca3c19161782ee8f50e>\n",
      "(<class 'skorch.regressor.NeuralNetRegressor'>[uninitialized](\n",
      "  module=<class 'torch_model.HiddenLayerNet'>,\n",
      "  module_=HiddenLayerNet(\n",
      "    (fc1): Linear(in_features=20, out_features=100, bias=True)\n",
      "    (fc2): Linear(in_features=100, out_features=1, bias=True)\n",
      "  ),\n",
      "  module__activation=softsign,\n",
      "  module__n_features=20,\n",
      "), {'model_id': 3, 'params': {'batch_size': 256, 'module__activation': 'softsign', 'optimizer__lr': 0.00010612867131159412, 'optimizer__momentum': 0.5312337677966736, 'optimizer__nesterov': True, 'optimizer__weight_decay': 0.00015515385676075302}, 'partial_fit_calls': 0})\n",
      "4\n",
      "<Future: finished, type: builtins.tuple, key: _create_model-32f814a87d0948069d5a13d1bdcbeeb6>\n",
      "(<class 'skorch.regressor.NeuralNetRegressor'>[uninitialized](\n",
      "  module=<class 'torch_model.HiddenLayerNet'>,\n",
      "  module_=HiddenLayerNet(\n",
      "    (fc1): Linear(in_features=20, out_features=100, bias=True)\n",
      "    (fc2): Linear(in_features=100, out_features=1, bias=True)\n",
      "  ),\n",
      "  module__activation=relu,\n",
      "  module__n_features=20,\n",
      "), {'model_id': 2, 'params': {'batch_size': 256, 'module__activation': 'relu', 'optimizer__lr': 0.000576235858884343, 'optimizer__momentum': 0.4781729879291563, 'optimizer__nesterov': True, 'optimizer__weight_decay': 0.00012927342533138183}, 'partial_fit_calls': 0})\n",
      "3\n",
      "<Future: finished, type: builtins.tuple, key: _create_model-1ac0bec05351f7121988f611a19fa873>\n",
      "(<class 'skorch.regressor.NeuralNetRegressor'>[uninitialized](\n",
      "  module=<class 'torch_model.HiddenLayerNet'>,\n",
      "  module_=HiddenLayerNet(\n",
      "    (fc1): Linear(in_features=20, out_features=100, bias=True)\n",
      "    (fc2): Linear(in_features=100, out_features=1, bias=True)\n",
      "  ),\n",
      "  module__activation=rrelu,\n",
      "  module__n_features=20,\n",
      "), {'model_id': 4, 'params': {'batch_size': 32, 'module__activation': 'rrelu', 'optimizer__lr': 0.0002668107973843001, 'optimizer__momentum': 0.5920831762255758, 'optimizer__nesterov': True, 'optimizer__weight_decay': 3.6363529586270234e-05}, 'partial_fit_calls': 0})\n",
      "(<class 'skorch.regressor.NeuralNetRegressor'>[uninitialized](\n",
      "  module=<class 'torch_model.HiddenLayerNet'>,\n",
      "  module_=HiddenLayerNet(\n",
      "    (fc1): Linear(in_features=20, out_features=100, bias=True)\n",
      "    (fc2): Linear(in_features=100, out_features=1, bias=True)\n",
      "  ),\n",
      "  module__activation=elu,\n",
      "  module__n_features=20,\n",
      "), {'model_id': 3, 'params': {'batch_size': 128, 'module__activation': 'elu', 'optimizer__lr': 0.0001570390759955461, 'optimizer__momentum': 0.4417970350996703, 'optimizer__nesterov': True, 'optimizer__weight_decay': 0.0002651189769528663}, 'partial_fit_calls': 0})\n",
      "4\n",
      "<Future: finished, type: builtins.tuple, key: _create_model-434a249e34d7e26be3cd42cd31da1130>\n",
      "(<class 'skorch.regressor.NeuralNetRegressor'>[uninitialized](\n",
      "  module=<class 'torch_model.HiddenLayerNet'>,\n",
      "  module_=HiddenLayerNet(\n",
      "    (fc1): Linear(in_features=20, out_features=100, bias=True)\n",
      "    (fc2): Linear(in_features=100, out_features=1, bias=True)\n",
      "  ),\n",
      "  module__activation=rrelu,\n",
      "  module__n_features=20,\n",
      "), {'model_id': 4, 'params': {'batch_size': 32, 'module__activation': 'rrelu', 'optimizer__lr': 0.0003431087047277459, 'optimizer__momentum': 0.4201481595804837, 'optimizer__nesterov': True, 'optimizer__weight_decay': 3.7282337012562103e-05}, 'partial_fit_calls': 0})\n",
      "5\n",
      "<Future: finished, type: builtins.tuple, key: _create_model-ab1652dc485c66b05371383baad863ce>\n",
      "(<class 'skorch.regressor.NeuralNetRegressor'>[uninitialized](\n",
      "  module=<class 'torch_model.HiddenLayerNet'>,\n",
      "  module_=HiddenLayerNet(\n",
      "    (fc1): Linear(in_features=20, out_features=100, bias=True)\n",
      "    (fc2): Linear(in_features=100, out_features=1, bias=True)\n",
      "  ),\n",
      "  module__activation=leaky_relu,\n",
      "  module__n_features=20,\n",
      "), {'model_id': 5, 'params': {'batch_size': 256, 'module__activation': 'leaky_relu', 'optimizer__lr': 0.0006488666591127378, 'optimizer__momentum': 0.5621569857738367, 'optimizer__nesterov': True, 'optimizer__weight_decay': 1.6482160977427115e-06}, 'partial_fit_calls': 0})\n",
      "6\n",
      "<Future: finished, type: builtins.tuple, key: _create_model-dc5cf643c979ffc982d81813b93555d7>\n"
     ]
    },
    {
     "name": "stdout",
     "output_type": "stream",
     "text": [
      "(<class 'skorch.regressor.NeuralNetRegressor'>[uninitialized](\n",
      "  module=<class 'torch_model.HiddenLayerNet'>,\n",
      "  module_=HiddenLayerNet(\n",
      "    (fc1): Linear(in_features=20, out_features=100, bias=True)\n",
      "    (fc2): Linear(in_features=100, out_features=1, bias=True)\n",
      "  ),\n",
      "  module__activation=softsign,\n",
      "  module__n_features=20,\n",
      "), {'model_id': 6, 'params': {'batch_size': 256, 'module__activation': 'softsign', 'optimizer__lr': 0.000125986196637684, 'optimizer__momentum': 0.5656236363548182, 'optimizer__nesterov': True, 'optimizer__weight_decay': 0.0006714980653732507}, 'partial_fit_calls': 0})\n",
      "7\n",
      "<Future: finished, type: builtins.tuple, key: _create_model-85703cf2afe1285f5b759b274741463a>\n",
      "(<class 'skorch.regressor.NeuralNetRegressor'>[uninitialized](\n",
      "  module=<class 'torch_model.HiddenLayerNet'>,\n",
      "  module_=HiddenLayerNet(\n",
      "    (fc1): Linear(in_features=20, out_features=100, bias=True)\n",
      "    (fc2): Linear(in_features=100, out_features=1, bias=True)\n",
      "  ),\n",
      "  module__activation=rrelu,\n",
      "  module__n_features=20,\n",
      "), {'model_id': 7, 'params': {'batch_size': 256, 'module__activation': 'rrelu', 'optimizer__lr': 0.0007088815140337597, 'optimizer__momentum': 0.2320648106529879, 'optimizer__nesterov': True, 'optimizer__weight_decay': 0.0001018754759026626}, 'partial_fit_calls': 0})\n",
      "8\n",
      "<Future: finished, type: builtins.tuple, key: _create_model-11f89a166375dba595adf3c5023650af>\n",
      "[CV, bracket=0] For training there are between 7200 and 7200 examples in each chunk\n",
      "(<class 'skorch.regressor.NeuralNetRegressor'>[uninitialized](\n",
      "  module=<class 'torch_model.HiddenLayerNet'>,\n",
      "  module_=HiddenLayerNet(\n",
      "    (fc1): Linear(in_features=20, out_features=100, bias=True)\n",
      "    (fc2): Linear(in_features=100, out_features=1, bias=True)\n",
      "  ),\n",
      "  module__activation=leaky_relu,\n",
      "  module__n_features=20,\n",
      "), {'model_id': 8, 'params': {'batch_size': 256, 'module__activation': 'leaky_relu', 'optimizer__lr': 0.0004924212967202923, 'optimizer__momentum': 0.7747673623612199, 'optimizer__nesterov': True, 'optimizer__weight_decay': 5.115224581519462e-05}, 'partial_fit_calls': 0})\n",
      "[CV, bracket=1] For training there are between 7200 and 7200 examples in each chunk\n",
      "[CV, bracket=2] For training there are between 7200 and 7200 examples in each chunk\n",
      "[CV, bracket=0] validation score of -0.0229 received after 1 partial_fit calls\n",
      "[CV, bracket=1] validation score of -0.0167 received after 1 partial_fit calls\n",
      "[CV, bracket=2] validation score of -0.0265 received after 1 partial_fit calls\n",
      "[CV, bracket=1] validation score of -0.0116 received after 3 partial_fit calls\n",
      "[CV, bracket=2] validation score of -0.0210 received after 3 partial_fit calls\n",
      "[CV, bracket=0] validation score of 0.0006 received after 9 partial_fit calls\n",
      "[CV, bracket=2] validation score of -0.0119 received after 9 partial_fit calls\n"
     ]
    }
   ],
   "source": [
    "y_train2 = y_train.reshape(-1, 1).persist()\n",
    "_ = search.fit(X_train, y_train2)"
   ]
  },
  {
   "cell_type": "code",
   "execution_count": 16,
   "metadata": {
    "hidden": true
   },
   "outputs": [
    {
     "data": {
      "text/plain": [
       "0.000612503383119134"
      ]
     },
     "execution_count": 16,
     "metadata": {},
     "output_type": "execute_result"
    }
   ],
   "source": [
    "search.best_score_"
   ]
  },
  {
   "cell_type": "code",
   "execution_count": 17,
   "metadata": {
    "hidden": true
   },
   "outputs": [
    {
     "data": {
      "text/plain": [
       "{'batch_size': 256,\n",
       " 'module__activation': 'softsign',\n",
       " 'optimizer__lr': 0.00010485387725194618,\n",
       " 'optimizer__momentum': 0.9699098521619943,\n",
       " 'optimizer__nesterov': True,\n",
       " 'optimizer__weight_decay': 0.0003142880890840108}"
      ]
     },
     "execution_count": 17,
     "metadata": {},
     "output_type": "execute_result"
    }
   ],
   "source": [
    "search.best_params_"
   ]
  },
  {
   "cell_type": "code",
   "execution_count": 18,
   "metadata": {
    "hidden": true
   },
   "outputs": [
    {
     "data": {
      "text/plain": [
       "<class 'skorch.regressor.NeuralNetRegressor'>[initialized](\n",
       "  module_=HiddenLayerNet(\n",
       "    (fc1): Linear(in_features=20, out_features=100, bias=True)\n",
       "    (fc2): Linear(in_features=100, out_features=1, bias=True)\n",
       "  ),\n",
       ")"
      ]
     },
     "execution_count": 18,
     "metadata": {},
     "output_type": "execute_result"
    }
   ],
   "source": [
    "search.best_estimator_"
   ]
  },
  {
   "cell_type": "markdown",
   "metadata": {
    "heading_collapsed": true
   },
   "source": [
    "# Small Fake Classifier"
   ]
  },
  {
   "cell_type": "code",
   "execution_count": 5,
   "metadata": {
    "ExecuteTime": {
     "end_time": "2020-08-17T13:24:58.586569Z",
     "start_time": "2020-08-17T13:24:58.582562Z"
    },
    "hidden": true
   },
   "outputs": [],
   "source": [
    "nmb=10000\n",
    "nfeat=10\n",
    "nclasses=5"
   ]
  },
  {
   "cell_type": "code",
   "execution_count": 6,
   "metadata": {
    "ExecuteTime": {
     "end_time": "2020-08-17T13:24:59.143963Z",
     "start_time": "2020-08-17T13:24:59.138363Z"
    },
    "hidden": true
   },
   "outputs": [],
   "source": [
    "features=da.random.normal(size=(nmb,nfeat)).astype(\"float32\")"
   ]
  },
  {
   "cell_type": "code",
   "execution_count": 7,
   "metadata": {
    "ExecuteTime": {
     "end_time": "2020-08-17T13:24:59.585337Z",
     "start_time": "2020-08-17T13:24:59.582115Z"
    },
    "hidden": true
   },
   "outputs": [],
   "source": [
    "outclasses = np.random.randint(0, nclasses, (nmb,))"
   ]
  },
  {
   "cell_type": "code",
   "execution_count": 8,
   "metadata": {
    "ExecuteTime": {
     "end_time": "2020-08-17T13:25:10.152204Z",
     "start_time": "2020-08-17T13:25:10.149352Z"
    },
    "hidden": true
   },
   "outputs": [],
   "source": [
    "d_outclasses=da.from_array(outclasses)"
   ]
  },
  {
   "cell_type": "code",
   "execution_count": 11,
   "metadata": {
    "ExecuteTime": {
     "end_time": "2020-08-17T13:25:46.630996Z",
     "start_time": "2020-08-17T13:25:46.627943Z"
    },
    "hidden": true
   },
   "outputs": [],
   "source": [
    "#output = np.zeros((nmb,nclasses)).astype('float32')\n",
    "#output[(range(nmb),outclasses)] = 1\n",
    "#output\n",
    "#output.sum(axis=1)\n",
    "#output = da.from_array(output)"
   ]
  },
  {
   "cell_type": "code",
   "execution_count": 12,
   "metadata": {
    "ExecuteTime": {
     "end_time": "2020-08-17T13:25:48.129702Z",
     "start_time": "2020-08-17T13:25:48.116514Z"
    },
    "hidden": true
   },
   "outputs": [],
   "source": [
    "from dask_ml.model_selection import train_test_split\n",
    "import dask\n",
    "\n",
    "#features = inp.to_dask_array(lengths=True).astype(\"float32\")\n",
    "#output = out.to_dask_array(lengths=True).astype(\"float32\")\n",
    "X_train, X_test, y_train, y_test = train_test_split(features, d_outclasses, shuffle=True)\n",
    "\n",
    "# persist the data so it's not re-computed\n",
    "X_train, X_test, y_train, y_test = dask.persist(X_train, X_test, y_train, y_test)"
   ]
  },
  {
   "cell_type": "code",
   "execution_count": 13,
   "metadata": {
    "ExecuteTime": {
     "end_time": "2020-08-17T13:25:50.109941Z",
     "start_time": "2020-08-17T13:25:50.096098Z"
    },
    "hidden": true
   },
   "outputs": [
    {
     "data": {
      "text/plain": [
       "(9000, 10)"
      ]
     },
     "execution_count": 13,
     "metadata": {},
     "output_type": "execute_result"
    }
   ],
   "source": [
    "X_train.compute().shape"
   ]
  },
  {
   "cell_type": "code",
   "execution_count": 14,
   "metadata": {
    "ExecuteTime": {
     "end_time": "2020-08-17T13:25:51.114665Z",
     "start_time": "2020-08-17T13:25:51.105135Z"
    },
    "hidden": true
   },
   "outputs": [
    {
     "data": {
      "text/plain": [
       "array([4, 1, 3, ..., 0, 0, 1])"
      ]
     },
     "execution_count": 14,
     "metadata": {},
     "output_type": "execute_result"
    }
   ],
   "source": [
    "y_train.compute()"
   ]
  },
  {
   "cell_type": "code",
   "execution_count": null,
   "metadata": {
    "ExecuteTime": {
     "end_time": "2020-08-26T07:39:18.227426Z",
     "start_time": "2020-08-26T06:47:07.088Z"
    },
    "hidden": true
   },
   "outputs": [],
   "source": [
    "import importlib\n",
    "import torch_model\n",
    "\n",
    "importlib.reload(torch_model)\n",
    "\n",
    "# Import our HiddenLayerNet pytorch model from a local torch_model.py module\n",
    "from torch_model import HiddenLayerNet\n",
    "# Send module with HiddenLayerNet to workers on cluster\n",
    "client.upload_file(\"torch_model.py\")"
   ]
  },
  {
   "cell_type": "markdown",
   "metadata": {
    "ExecuteTime": {
     "end_time": "2020-08-17T13:23:56.459909Z",
     "start_time": "2020-08-17T13:23:56.456550Z"
    },
    "heading_collapsed": true,
    "hidden": true
   },
   "source": [
    "## Test Local Training"
   ]
  },
  {
   "cell_type": "code",
   "execution_count": 143,
   "metadata": {
    "ExecuteTime": {
     "end_time": "2020-08-17T13:20:32.203438Z",
     "start_time": "2020-08-17T13:20:32.198404Z"
    },
    "hidden": true
   },
   "outputs": [],
   "source": [
    "from skorch import NeuralNetClassifier\n",
    "\n",
    "niceties = {\n",
    "    \"callbacks\": False,\n",
    "    \"warm_start\": True,\n",
    "    \"train_split\": None,\n",
    "    \"max_epochs\": 100,\n",
    "}\n",
    "\n",
    "model = NeuralNetClassifier(\n",
    "    module=HiddenLayerNet,\n",
    "    module__n_features=X_train.shape[1],\n",
    "    module__n_outputs=5, #y_train.shape[1],\n",
    "    module__n_extra_layers=3,\n",
    "    optimizer=optim.SGD,\n",
    "    criterion=nn.CrossEntropyLoss,\n",
    "#    criterion=nn.MSELoss,\n",
    "    lr=0.5,\n",
    "    **niceties,\n",
    ")"
   ]
  },
  {
   "cell_type": "code",
   "execution_count": 144,
   "metadata": {
    "ExecuteTime": {
     "end_time": "2020-08-17T13:20:34.826914Z",
     "start_time": "2020-08-17T13:20:32.809224Z"
    },
    "collapsed": true,
    "hidden": true
   },
   "outputs": [
    {
     "name": "stdout",
     "output_type": "stream",
     "text": [
      "  epoch    train_loss     dur\n",
      "-------  ------------  ------\n",
      "      1        \u001b[36m1.6017\u001b[0m  0.0246\n",
      "      2        \u001b[36m1.5993\u001b[0m  0.0095\n",
      "      3        \u001b[36m1.5973\u001b[0m  0.0073\n",
      "      4        \u001b[36m1.5955\u001b[0m  0.0039\n",
      "      5        \u001b[36m1.5939\u001b[0m  0.0046\n",
      "      6        \u001b[36m1.5924\u001b[0m  0.0599\n",
      "      7        \u001b[36m1.5908\u001b[0m  0.0414\n",
      "      8        \u001b[36m1.5892\u001b[0m  0.0104\n",
      "      9        \u001b[36m1.5876\u001b[0m  0.0042\n",
      "     10        \u001b[36m1.5860\u001b[0m  0.0246\n",
      "     11        \u001b[36m1.5842\u001b[0m  0.0491\n",
      "     12        \u001b[36m1.5824\u001b[0m  0.0118\n",
      "     13        \u001b[36m1.5804\u001b[0m  0.0238\n",
      "     14        \u001b[36m1.5782\u001b[0m  0.0167\n",
      "     15        \u001b[36m1.5759\u001b[0m  0.0773\n",
      "     16        \u001b[36m1.5733\u001b[0m  0.0055\n",
      "     17        \u001b[36m1.5705\u001b[0m  0.0058\n",
      "     18        \u001b[36m1.5673\u001b[0m  0.0138\n",
      "     19        \u001b[36m1.5639\u001b[0m  0.0233\n",
      "     20        \u001b[36m1.5600\u001b[0m  0.0595\n",
      "     21        \u001b[36m1.5556\u001b[0m  0.0095\n",
      "     22        \u001b[36m1.5506\u001b[0m  0.0046\n",
      "     23        \u001b[36m1.5448\u001b[0m  0.0035\n",
      "     24        \u001b[36m1.5383\u001b[0m  0.0158\n",
      "     25        \u001b[36m1.5309\u001b[0m  0.0050\n",
      "     26        \u001b[36m1.5224\u001b[0m  0.0374\n",
      "     27        \u001b[36m1.5129\u001b[0m  0.0349\n",
      "     28        \u001b[36m1.5022\u001b[0m  0.0083\n",
      "     29        \u001b[36m1.4902\u001b[0m  0.0070\n",
      "     30        \u001b[36m1.4768\u001b[0m  0.0151\n",
      "     31        \u001b[36m1.4620\u001b[0m  0.0111\n",
      "     32        \u001b[36m1.4459\u001b[0m  0.0088\n",
      "     33        \u001b[36m1.4286\u001b[0m  0.0041\n",
      "     34        \u001b[36m1.4099\u001b[0m  0.0076\n",
      "     35        \u001b[36m1.3897\u001b[0m  0.0199\n",
      "     36        \u001b[36m1.3680\u001b[0m  0.0052\n",
      "     37        \u001b[36m1.3466\u001b[0m  0.0171\n",
      "     38        \u001b[36m1.3293\u001b[0m  0.0100\n",
      "     39        1.3374  0.0077\n",
      "     40        1.3889  0.0048\n",
      "     41        1.5363  0.0080\n",
      "     42        \u001b[36m1.3026\u001b[0m  0.0196\n",
      "     43        \u001b[36m1.2410\u001b[0m  0.0132\n",
      "     44        \u001b[36m1.1989\u001b[0m  0.0049\n",
      "     45        \u001b[36m1.1624\u001b[0m  0.0281\n",
      "     46        \u001b[36m1.1450\u001b[0m  0.0075\n",
      "     47        1.2152  0.0152\n",
      "     48        1.5343  0.0287\n",
      "     49        1.5907  0.0044\n",
      "     50        1.2865  0.0082\n",
      "     51        \u001b[36m1.1407\u001b[0m  0.0208\n",
      "     52        \u001b[36m1.0708\u001b[0m  0.0197\n",
      "     53        \u001b[36m1.0539\u001b[0m  0.0206\n",
      "     54        1.2385  0.0452\n",
      "     55        1.3805  0.0055\n",
      "     56        1.1906  0.0116\n",
      "     57        \u001b[36m0.9612\u001b[0m  0.0069\n",
      "     58        \u001b[36m0.8774\u001b[0m  0.0048\n",
      "     59        \u001b[36m0.8171\u001b[0m  0.0100\n",
      "     60        0.8299  0.0051\n",
      "     61        1.2707  0.0451\n",
      "     62        2.1928  0.0060\n",
      "     63        1.9642  0.0149\n",
      "     64        1.4010  0.0112\n",
      "     65        1.2190  0.0105\n",
      "     66        1.0717  0.0088\n",
      "     67        0.9571  0.0075\n",
      "     68        0.8554  0.0026\n",
      "     69        \u001b[36m0.7643\u001b[0m  0.0034\n",
      "     70        \u001b[36m0.6889\u001b[0m  0.0042\n",
      "     71        \u001b[36m0.6816\u001b[0m  0.0065\n",
      "     72        1.2224  0.0037\n",
      "     73        1.8785  0.0037\n",
      "     74        1.2379  0.0093\n",
      "     75        0.9549  0.0065\n",
      "     76        0.7547  0.0038\n",
      "     77        \u001b[36m0.6273\u001b[0m  0.0083\n",
      "     78        \u001b[36m0.5331\u001b[0m  0.0063\n",
      "     79        \u001b[36m0.4626\u001b[0m  0.0040\n",
      "     80        \u001b[36m0.4276\u001b[0m  0.0035\n",
      "     81        0.4553  0.0036\n",
      "     82        0.8137  0.0039\n",
      "     83        1.7437  0.0073\n",
      "     84        1.4459  0.0170\n",
      "     85        0.8966  0.0068\n",
      "     86        0.6925  0.0247\n",
      "     87        0.9093  0.0045\n",
      "     88        1.2233  0.0037\n",
      "     89        0.7086  0.0043\n",
      "     90        0.4436  0.0056\n",
      "     91        \u001b[36m0.3341\u001b[0m  0.0099\n",
      "     92        \u001b[36m0.2705\u001b[0m  0.0091\n",
      "     93        \u001b[36m0.2240\u001b[0m  0.0410\n",
      "     94        \u001b[36m0.1900\u001b[0m  0.0035\n",
      "     95        \u001b[36m0.1639\u001b[0m  0.0032\n",
      "     96        \u001b[36m0.1424\u001b[0m  0.0058\n",
      "     97        \u001b[36m0.1249\u001b[0m  0.0058\n",
      "     98        \u001b[36m0.1124\u001b[0m  0.0087\n",
      "     99        \u001b[36m0.1047\u001b[0m  0.0039\n",
      "    100        0.1066  0.0038\n"
     ]
    },
    {
     "data": {
      "text/plain": [
       "<class 'skorch.classifier.NeuralNetClassifier'>[initialized](\n",
       "  module_=HiddenLayerNet(\n",
       "    (fc1): Linear(in_features=10, out_features=100, bias=True)\n",
       "    (extra_layers): ModuleList(\n",
       "      (0): Linear(in_features=100, out_features=100, bias=True)\n",
       "      (1): Linear(in_features=100, out_features=100, bias=True)\n",
       "      (2): Linear(in_features=100, out_features=100, bias=True)\n",
       "    )\n",
       "    (fc2): Linear(in_features=100, out_features=5, bias=True)\n",
       "  ),\n",
       ")"
      ]
     },
     "execution_count": 144,
     "metadata": {},
     "output_type": "execute_result"
    }
   ],
   "source": [
    "model.fit(X_train.compute(), y_train.compute())"
   ]
  },
  {
   "cell_type": "code",
   "execution_count": 145,
   "metadata": {
    "ExecuteTime": {
     "end_time": "2020-08-17T13:20:41.230989Z",
     "start_time": "2020-08-17T13:20:41.224236Z"
    },
    "collapsed": true,
    "hidden": true
   },
   "outputs": [
    {
     "data": {
      "text/plain": [
       "ModuleList(\n",
       "  (0): Linear(in_features=100, out_features=100, bias=True)\n",
       "  (1): Linear(in_features=100, out_features=100, bias=True)\n",
       "  (2): Linear(in_features=100, out_features=100, bias=True)\n",
       ")"
      ]
     },
     "execution_count": 145,
     "metadata": {},
     "output_type": "execute_result"
    }
   ],
   "source": [
    "model.module_.extra_layers"
   ]
  },
  {
   "cell_type": "code",
   "execution_count": 146,
   "metadata": {
    "ExecuteTime": {
     "end_time": "2020-08-17T13:20:41.665908Z",
     "start_time": "2020-08-17T13:20:41.661998Z"
    },
    "collapsed": true,
    "hidden": true
   },
   "outputs": [
    {
     "data": {
      "text/plain": [
       "<bound method Module.parameters of HiddenLayerNet(\n",
       "  (fc1): Linear(in_features=10, out_features=100, bias=True)\n",
       "  (extra_layers): ModuleList(\n",
       "    (0): Linear(in_features=100, out_features=100, bias=True)\n",
       "    (1): Linear(in_features=100, out_features=100, bias=True)\n",
       "    (2): Linear(in_features=100, out_features=100, bias=True)\n",
       "  )\n",
       "  (fc2): Linear(in_features=100, out_features=5, bias=True)\n",
       ")>"
      ]
     },
     "execution_count": 146,
     "metadata": {},
     "output_type": "execute_result"
    }
   ],
   "source": [
    "model.module_.parameters"
   ]
  },
  {
   "cell_type": "code",
   "execution_count": 150,
   "metadata": {
    "ExecuteTime": {
     "end_time": "2020-08-17T13:21:31.184222Z",
     "start_time": "2020-08-17T13:21:31.150423Z"
    },
    "collapsed": true,
    "hidden": true
   },
   "outputs": [
    {
     "data": {
      "text/plain": [
       "[(0, 0),\n",
       " (4, 4),\n",
       " (4, 4),\n",
       " (1, 1),\n",
       " (3, 3),\n",
       " (1, 1),\n",
       " (4, 4),\n",
       " (3, 3),\n",
       " (3, 3),\n",
       " (2, 2),\n",
       " (4, 4),\n",
       " (3, 3),\n",
       " (1, 1),\n",
       " (2, 2),\n",
       " (1, 1),\n",
       " (2, 2),\n",
       " (2, 2),\n",
       " (0, 0),\n",
       " (2, 2),\n",
       " (3, 3),\n",
       " (2, 2),\n",
       " (2, 2),\n",
       " (1, 1),\n",
       " (2, 1),\n",
       " (1, 1),\n",
       " (0, 0),\n",
       " (0, 0),\n",
       " (0, 0),\n",
       " (2, 2),\n",
       " (0, 0),\n",
       " (1, 1),\n",
       " (3, 3),\n",
       " (1, 1),\n",
       " (2, 2),\n",
       " (1, 1),\n",
       " (3, 3),\n",
       " (0, 0),\n",
       " (4, 4),\n",
       " (0, 0),\n",
       " (4, 4),\n",
       " (4, 4),\n",
       " (3, 3),\n",
       " (2, 2),\n",
       " (4, 4),\n",
       " (3, 3),\n",
       " (1, 1),\n",
       " (4, 4),\n",
       " (4, 4),\n",
       " (1, 1),\n",
       " (2, 1),\n",
       " (1, 1),\n",
       " (2, 2),\n",
       " (4, 4),\n",
       " (3, 3),\n",
       " (4, 4),\n",
       " (2, 2),\n",
       " (3, 3),\n",
       " (4, 4),\n",
       " (1, 1),\n",
       " (4, 4),\n",
       " (2, 2),\n",
       " (2, 2),\n",
       " (0, 0),\n",
       " (2, 2),\n",
       " (4, 4),\n",
       " (3, 3),\n",
       " (0, 0),\n",
       " (0, 0),\n",
       " (4, 4),\n",
       " (2, 1),\n",
       " (2, 2),\n",
       " (4, 4),\n",
       " (0, 0),\n",
       " (1, 1),\n",
       " (3, 3),\n",
       " (0, 0),\n",
       " (3, 3),\n",
       " (1, 1),\n",
       " (0, 0),\n",
       " (4, 4),\n",
       " (4, 4),\n",
       " (1, 1),\n",
       " (0, 0),\n",
       " (3, 3),\n",
       " (1, 1),\n",
       " (2, 2),\n",
       " (4, 4),\n",
       " (0, 0),\n",
       " (2, 2),\n",
       " (4, 4)]"
      ]
     },
     "execution_count": 150,
     "metadata": {},
     "output_type": "execute_result"
    }
   ],
   "source": [
    "list(zip(model.predict(X_train.compute()), y_train.compute()))"
   ]
  },
  {
   "cell_type": "code",
   "execution_count": 148,
   "metadata": {
    "ExecuteTime": {
     "end_time": "2020-08-17T13:20:45.496775Z",
     "start_time": "2020-08-17T13:20:45.472759Z"
    },
    "hidden": true
   },
   "outputs": [
    {
     "data": {
      "text/plain": [
       "0.9666666666666667"
      ]
     },
     "execution_count": 148,
     "metadata": {},
     "output_type": "execute_result"
    }
   ],
   "source": [
    "model.score(X_train.compute(), y_train.compute())"
   ]
  },
  {
   "cell_type": "markdown",
   "metadata": {
    "ExecuteTime": {
     "end_time": "2020-08-17T13:23:56.459909Z",
     "start_time": "2020-08-17T13:23:56.456550Z"
    },
    "heading_collapsed": true,
    "hidden": true
   },
   "source": [
    "## Test Hyperparam Search"
   ]
  },
  {
   "cell_type": "code",
   "execution_count": 16,
   "metadata": {
    "ExecuteTime": {
     "end_time": "2020-08-17T13:26:01.248172Z",
     "start_time": "2020-08-17T13:26:01.238568Z"
    },
    "hidden": true
   },
   "outputs": [],
   "source": [
    "from skorch import NeuralNetClassifier\n",
    "\n",
    "niceties = {\n",
    "    \"callbacks\": False,\n",
    "    \"warm_start\": True,\n",
    "    \"train_split\": None,\n",
    "    \"max_epochs\": 1,\n",
    "}\n",
    "\n",
    "model = NeuralNetClassifier(\n",
    "    module=HiddenLayerNet,\n",
    "    module__n_features=X_train.shape[1],\n",
    "    module__n_outputs=5, #y_train.shape[1],\n",
    "    module__n_extra_layers=3,\n",
    "    optimizer=optim.SGD,\n",
    "    criterion=nn.CrossEntropyLoss,\n",
    "#    criterion=nn.MSELoss,\n",
    "    lr=0.5,\n",
    "    **niceties,\n",
    ")"
   ]
  },
  {
   "cell_type": "code",
   "execution_count": 17,
   "metadata": {
    "ExecuteTime": {
     "end_time": "2020-08-17T13:26:03.212107Z",
     "start_time": "2020-08-17T13:26:03.206430Z"
    },
    "hidden": true
   },
   "outputs": [],
   "source": [
    "from scipy.stats import loguniform, uniform\n",
    "\n",
    "params = {\n",
    "    \"module__activation\": [\"relu\", \"elu\", \"softsign\", \"leaky_relu\", \"rrelu\"],\n",
    "    \"batch_size\": [32, 64, 128, 256],\n",
    "    \"optimizer__lr\": loguniform(1e-4, 1e-3),\n",
    "    \"optimizer__weight_decay\": loguniform(1e-6, 1e-3),\n",
    "    \"optimizer__momentum\": uniform(0, 1),\n",
    "    \"optimizer__nesterov\": [True],\n",
    "}"
   ]
  },
  {
   "cell_type": "code",
   "execution_count": 18,
   "metadata": {
    "ExecuteTime": {
     "end_time": "2020-08-17T13:26:08.018985Z",
     "start_time": "2020-08-17T13:26:08.015185Z"
    },
    "hidden": true
   },
   "outputs": [],
   "source": [
    "from dask_ml.model_selection import HyperbandSearchCV\n",
    "search = HyperbandSearchCV(model, params, random_state=42, verbose=True, max_iter=9)"
   ]
  },
  {
   "cell_type": "code",
   "execution_count": 19,
   "metadata": {
    "ExecuteTime": {
     "end_time": "2020-08-17T13:27:03.366970Z",
     "start_time": "2020-08-17T13:26:10.251979Z"
    },
    "hidden": true
   },
   "outputs": [
    {
     "name": "stdout",
     "output_type": "stream",
     "text": [
      "[CV, bracket=2] creating 9 models\n",
      "[CV, bracket=1] creating 5 models\n",
      "[CV, bracket=0] creating 3 models\n",
      "[CV, bracket=0] For training there are between 7200 and 7200 examples in each chunk\n",
      "[CV, bracket=1] For training there are between 7200 and 7200 examples in each chunk\n",
      "[CV, bracket=2] For training there are between 7200 and 7200 examples in each chunk\n",
      "[CV, bracket=0] validation score of 0.1978 received after 1 partial_fit calls\n",
      "[CV, bracket=1] validation score of 0.2006 received after 1 partial_fit calls\n",
      "[CV, bracket=2] validation score of 0.2061 received after 1 partial_fit calls\n",
      "[CV, bracket=1] validation score of 0.2011 received after 3 partial_fit calls\n",
      "[CV, bracket=2] validation score of 0.2044 received after 3 partial_fit calls\n",
      "[CV, bracket=1] validation score of 0.2044 received after 9 partial_fit calls\n",
      "[CV, bracket=2] validation score of 0.2006 received after 9 partial_fit calls\n"
     ]
    }
   ],
   "source": [
    "#y_train2 = y_train.reshape(-1, 1).persist()\n",
    "y_train2 = y_train.persist()\n",
    "_ = search.fit(X_train, y_train2)"
   ]
  },
  {
   "cell_type": "code",
   "execution_count": 20,
   "metadata": {
    "ExecuteTime": {
     "end_time": "2020-08-17T13:27:07.891992Z",
     "start_time": "2020-08-17T13:27:07.887513Z"
    },
    "hidden": true
   },
   "outputs": [
    {
     "data": {
      "text/plain": [
       "0.20444444444444446"
      ]
     },
     "execution_count": 20,
     "metadata": {},
     "output_type": "execute_result"
    }
   ],
   "source": [
    "search.best_score_"
   ]
  },
  {
   "cell_type": "code",
   "execution_count": 21,
   "metadata": {
    "ExecuteTime": {
     "end_time": "2020-08-17T13:27:10.408420Z",
     "start_time": "2020-08-17T13:27:10.401953Z"
    },
    "hidden": true
   },
   "outputs": [
    {
     "data": {
      "text/plain": [
       "{'batch_size': 128,\n",
       " 'module__activation': 'rrelu',\n",
       " 'optimizer__lr': 0.0003961342081293917,\n",
       " 'optimizer__momentum': 0.3989504451091438,\n",
       " 'optimizer__nesterov': True,\n",
       " 'optimizer__weight_decay': 4.254186565699362e-05}"
      ]
     },
     "execution_count": 21,
     "metadata": {},
     "output_type": "execute_result"
    }
   ],
   "source": [
    "search.best_params_"
   ]
  },
  {
   "cell_type": "code",
   "execution_count": 22,
   "metadata": {
    "ExecuteTime": {
     "end_time": "2020-08-17T13:27:17.878936Z",
     "start_time": "2020-08-17T13:27:17.874655Z"
    },
    "hidden": true
   },
   "outputs": [
    {
     "data": {
      "text/plain": [
       "<class 'skorch.classifier.NeuralNetClassifier'>[initialized](\n",
       "  module_=HiddenLayerNet(\n",
       "    (fc1): Linear(in_features=10, out_features=100, bias=True)\n",
       "    (extra_layers): ModuleList(\n",
       "      (0): Linear(in_features=100, out_features=100, bias=True)\n",
       "      (1): Linear(in_features=100, out_features=100, bias=True)\n",
       "      (2): Linear(in_features=100, out_features=100, bias=True)\n",
       "    )\n",
       "    (fc2): Linear(in_features=100, out_features=5, bias=True)\n",
       "  ),\n",
       ")"
      ]
     },
     "execution_count": 22,
     "metadata": {},
     "output_type": "execute_result"
    }
   ],
   "source": [
    "search.best_estimator_"
   ]
  },
  {
   "cell_type": "code",
   "execution_count": 23,
   "metadata": {
    "ExecuteTime": {
     "end_time": "2020-08-17T13:27:24.121495Z",
     "start_time": "2020-08-17T13:27:24.118491Z"
    },
    "hidden": true
   },
   "outputs": [],
   "source": [
    "from dask_ml.wrappers import ParallelPostFit\n",
    "deployed_model = ParallelPostFit(search.best_estimator_)"
   ]
  },
  {
   "cell_type": "code",
   "execution_count": 24,
   "metadata": {
    "ExecuteTime": {
     "end_time": "2020-08-17T13:27:26.498828Z",
     "start_time": "2020-08-17T13:27:26.334602Z"
    },
    "hidden": true
   },
   "outputs": [
    {
     "data": {
      "text/plain": [
       "0.217"
      ]
     },
     "execution_count": 24,
     "metadata": {},
     "output_type": "execute_result"
    }
   ],
   "source": [
    "deployed_model.score(X_test, y_test)"
   ]
  },
  {
   "cell_type": "code",
   "execution_count": 27,
   "metadata": {
    "ExecuteTime": {
     "end_time": "2020-08-17T13:28:00.685101Z",
     "start_time": "2020-08-17T13:28:00.167641Z"
    },
    "hidden": true
   },
   "outputs": [
    {
     "data": {
      "text/plain": [
       "0.1998888888888889"
      ]
     },
     "execution_count": 27,
     "metadata": {},
     "output_type": "execute_result"
    }
   ],
   "source": [
    "deployed_model.score(X_train, y_train)"
   ]
  },
  {
   "cell_type": "code",
   "execution_count": 25,
   "metadata": {
    "ExecuteTime": {
     "end_time": "2020-08-17T13:27:31.787830Z",
     "start_time": "2020-08-17T13:27:31.309870Z"
    },
    "hidden": true
   },
   "outputs": [
    {
     "data": {
      "text/plain": [
       "array([0, 4, 0, ..., 2, 2, 4])"
      ]
     },
     "execution_count": 25,
     "metadata": {},
     "output_type": "execute_result"
    }
   ],
   "source": [
    "deployed_model.predict(X_train).compute()"
   ]
  },
  {
   "cell_type": "code",
   "execution_count": 26,
   "metadata": {
    "ExecuteTime": {
     "end_time": "2020-08-17T13:27:41.140736Z",
     "start_time": "2020-08-17T13:27:41.121499Z"
    },
    "hidden": true
   },
   "outputs": [
    {
     "data": {
      "text/plain": [
       "array([4, 1, 3, ..., 0, 0, 1])"
      ]
     },
     "execution_count": 26,
     "metadata": {},
     "output_type": "execute_result"
    }
   ],
   "source": [
    "y_train.compute()"
   ]
  },
  {
   "cell_type": "markdown",
   "metadata": {
    "heading_collapsed": true
   },
   "source": [
    "# Amazon Train Set (small)"
   ]
  },
  {
   "cell_type": "markdown",
   "metadata": {
    "hidden": true
   },
   "source": [
    "Dataset here is from:\n",
    "https://course.fast.ai/datasets"
   ]
  },
  {
   "cell_type": "code",
   "execution_count": 19,
   "metadata": {
    "hidden": true
   },
   "outputs": [
    {
     "name": "stdout",
     "output_type": "stream",
     "text": [
      "amazon_review_full_csv.tgz  train_small.tsv\r\n"
     ]
    }
   ],
   "source": [
    "!ls /workspace/data"
   ]
  },
  {
   "cell_type": "code",
   "execution_count": 14,
   "metadata": {
    "ExecuteTime": {
     "end_time": "2020-08-19T14:52:13.279114Z",
     "start_time": "2020-08-19T14:52:13.254042Z"
    },
    "hidden": true
   },
   "outputs": [],
   "source": [
    "import dask.dataframe as dd\n",
    "\n",
    "url=\"/workspace/data/train_small.tsv\"\n",
    "\n",
    "columns=[\"review_score\", \"title\", \"text\"]\n",
    "categorical = [\"review_score\"]\n",
    "\n",
    "df = dd.read_csv(\n",
    "    url,\n",
    "    names=columns,\n",
    "    dtype={\n",
    "        \"review_score\": \"UInt8\",\n",
    "        \"title\": \"string\",\n",
    "        \"text\": \"string\"\n",
    "    },\n",
    "    #blocksize=\"16 MiB\",\n",
    "    blocksize=\"128 KiB\"\n",
    ")"
   ]
  },
  {
   "cell_type": "code",
   "execution_count": 15,
   "metadata": {
    "ExecuteTime": {
     "end_time": "2020-08-19T14:52:14.302448Z",
     "start_time": "2020-08-19T14:52:14.285878Z"
    },
    "hidden": true
   },
   "outputs": [
    {
     "data": {
      "text/html": [
       "<div><strong>Dask DataFrame Structure:</strong></div>\n",
       "<div>\n",
       "<style scoped>\n",
       "    .dataframe tbody tr th:only-of-type {\n",
       "        vertical-align: middle;\n",
       "    }\n",
       "\n",
       "    .dataframe tbody tr th {\n",
       "        vertical-align: top;\n",
       "    }\n",
       "\n",
       "    .dataframe thead th {\n",
       "        text-align: right;\n",
       "    }\n",
       "</style>\n",
       "<table border=\"1\" class=\"dataframe\">\n",
       "  <thead>\n",
       "    <tr style=\"text-align: right;\">\n",
       "      <th></th>\n",
       "      <th>review_score</th>\n",
       "      <th>title</th>\n",
       "      <th>text</th>\n",
       "    </tr>\n",
       "    <tr>\n",
       "      <th>npartitions=35</th>\n",
       "      <th></th>\n",
       "      <th></th>\n",
       "      <th></th>\n",
       "    </tr>\n",
       "  </thead>\n",
       "  <tbody>\n",
       "    <tr>\n",
       "      <th></th>\n",
       "      <td>UInt8</td>\n",
       "      <td>string</td>\n",
       "      <td>string</td>\n",
       "    </tr>\n",
       "    <tr>\n",
       "      <th></th>\n",
       "      <td>...</td>\n",
       "      <td>...</td>\n",
       "      <td>...</td>\n",
       "    </tr>\n",
       "    <tr>\n",
       "      <th>...</th>\n",
       "      <td>...</td>\n",
       "      <td>...</td>\n",
       "      <td>...</td>\n",
       "    </tr>\n",
       "    <tr>\n",
       "      <th></th>\n",
       "      <td>...</td>\n",
       "      <td>...</td>\n",
       "      <td>...</td>\n",
       "    </tr>\n",
       "    <tr>\n",
       "      <th></th>\n",
       "      <td>...</td>\n",
       "      <td>...</td>\n",
       "      <td>...</td>\n",
       "    </tr>\n",
       "  </tbody>\n",
       "</table>\n",
       "</div>\n",
       "<div>Dask Name: read-csv, 35 tasks</div>"
      ],
      "text/plain": [
       "Dask DataFrame Structure:\n",
       "               review_score   title    text\n",
       "npartitions=35                             \n",
       "                      UInt8  string  string\n",
       "                        ...     ...     ...\n",
       "...                     ...     ...     ...\n",
       "                        ...     ...     ...\n",
       "                        ...     ...     ...\n",
       "Dask Name: read-csv, 35 tasks"
      ]
     },
     "execution_count": 15,
     "metadata": {},
     "output_type": "execute_result"
    }
   ],
   "source": [
    "df"
   ]
  },
  {
   "cell_type": "code",
   "execution_count": 16,
   "metadata": {
    "ExecuteTime": {
     "end_time": "2020-08-19T14:52:15.255932Z",
     "start_time": "2020-08-19T14:52:15.221872Z"
    },
    "hidden": true
   },
   "outputs": [
    {
     "data": {
      "text/html": [
       "<div>\n",
       "<style scoped>\n",
       "    .dataframe tbody tr th:only-of-type {\n",
       "        vertical-align: middle;\n",
       "    }\n",
       "\n",
       "    .dataframe tbody tr th {\n",
       "        vertical-align: top;\n",
       "    }\n",
       "\n",
       "    .dataframe thead th {\n",
       "        text-align: right;\n",
       "    }\n",
       "</style>\n",
       "<table border=\"1\" class=\"dataframe\">\n",
       "  <thead>\n",
       "    <tr style=\"text-align: right;\">\n",
       "      <th></th>\n",
       "      <th>review_score</th>\n",
       "      <th>title</th>\n",
       "      <th>text</th>\n",
       "    </tr>\n",
       "  </thead>\n",
       "  <tbody>\n",
       "    <tr>\n",
       "      <th>0</th>\n",
       "      <td>3</td>\n",
       "      <td>more like funchuck</td>\n",
       "      <td>Gave this to my dad for a gag gift after direc...</td>\n",
       "    </tr>\n",
       "    <tr>\n",
       "      <th>1</th>\n",
       "      <td>5</td>\n",
       "      <td>Inspiring</td>\n",
       "      <td>I hope a lot of people hear this cd. We need m...</td>\n",
       "    </tr>\n",
       "    <tr>\n",
       "      <th>2</th>\n",
       "      <td>5</td>\n",
       "      <td>The best soundtrack ever to anything.</td>\n",
       "      <td>I'm reading a lot of reviews saying that this ...</td>\n",
       "    </tr>\n",
       "    <tr>\n",
       "      <th>3</th>\n",
       "      <td>4</td>\n",
       "      <td>Chrono Cross OST</td>\n",
       "      <td>The music of Yasunori Misuda is without questi...</td>\n",
       "    </tr>\n",
       "    <tr>\n",
       "      <th>4</th>\n",
       "      <td>5</td>\n",
       "      <td>Too good to be true</td>\n",
       "      <td>Probably the greatest soundtrack in history! U...</td>\n",
       "    </tr>\n",
       "  </tbody>\n",
       "</table>\n",
       "</div>"
      ],
      "text/plain": [
       "   review_score                                  title  \\\n",
       "0             3                     more like funchuck   \n",
       "1             5                              Inspiring   \n",
       "2             5  The best soundtrack ever to anything.   \n",
       "3             4                       Chrono Cross OST   \n",
       "4             5                    Too good to be true   \n",
       "\n",
       "                                                text  \n",
       "0  Gave this to my dad for a gag gift after direc...  \n",
       "1  I hope a lot of people hear this cd. We need m...  \n",
       "2  I'm reading a lot of reviews saying that this ...  \n",
       "3  The music of Yasunori Misuda is without questi...  \n",
       "4  Probably the greatest soundtrack in history! U...  "
      ]
     },
     "execution_count": 16,
     "metadata": {},
     "output_type": "execute_result"
    }
   ],
   "source": [
    "df.head()"
   ]
  },
  {
   "cell_type": "code",
   "execution_count": 17,
   "metadata": {
    "ExecuteTime": {
     "end_time": "2020-08-19T14:52:18.077599Z",
     "start_time": "2020-08-19T14:52:18.061702Z"
    },
    "hidden": true
   },
   "outputs": [],
   "source": [
    "# This is an input, not an output so don't need to do this!\n",
    "\n",
    "\n",
    "# one hot encode the categorical columns;\n",
    "# if df[\"foo\"].unique() == [1, 3, 4], add columns foo_1, foo_3, foo_4\n",
    "#df = dd.get_dummies(df, columns=categorical)\n",
    "\n",
    "# persist so only download once\n",
    "df = df.persist()"
   ]
  },
  {
   "cell_type": "code",
   "execution_count": 18,
   "metadata": {
    "ExecuteTime": {
     "end_time": "2020-08-19T14:52:19.777497Z",
     "start_time": "2020-08-19T14:52:19.757817Z"
    },
    "hidden": true
   },
   "outputs": [
    {
     "data": {
      "text/html": [
       "<div>\n",
       "<style scoped>\n",
       "    .dataframe tbody tr th:only-of-type {\n",
       "        vertical-align: middle;\n",
       "    }\n",
       "\n",
       "    .dataframe tbody tr th {\n",
       "        vertical-align: top;\n",
       "    }\n",
       "\n",
       "    .dataframe thead th {\n",
       "        text-align: right;\n",
       "    }\n",
       "</style>\n",
       "<table border=\"1\" class=\"dataframe\">\n",
       "  <thead>\n",
       "    <tr style=\"text-align: right;\">\n",
       "      <th></th>\n",
       "      <th>review_score</th>\n",
       "      <th>title</th>\n",
       "      <th>text</th>\n",
       "    </tr>\n",
       "  </thead>\n",
       "  <tbody>\n",
       "    <tr>\n",
       "      <th>0</th>\n",
       "      <td>3</td>\n",
       "      <td>more like funchuck</td>\n",
       "      <td>Gave this to my dad for a gag gift after direc...</td>\n",
       "    </tr>\n",
       "    <tr>\n",
       "      <th>1</th>\n",
       "      <td>5</td>\n",
       "      <td>Inspiring</td>\n",
       "      <td>I hope a lot of people hear this cd. We need m...</td>\n",
       "    </tr>\n",
       "    <tr>\n",
       "      <th>2</th>\n",
       "      <td>5</td>\n",
       "      <td>The best soundtrack ever to anything.</td>\n",
       "      <td>I'm reading a lot of reviews saying that this ...</td>\n",
       "    </tr>\n",
       "    <tr>\n",
       "      <th>3</th>\n",
       "      <td>4</td>\n",
       "      <td>Chrono Cross OST</td>\n",
       "      <td>The music of Yasunori Misuda is without questi...</td>\n",
       "    </tr>\n",
       "    <tr>\n",
       "      <th>4</th>\n",
       "      <td>5</td>\n",
       "      <td>Too good to be true</td>\n",
       "      <td>Probably the greatest soundtrack in history! U...</td>\n",
       "    </tr>\n",
       "  </tbody>\n",
       "</table>\n",
       "</div>"
      ],
      "text/plain": [
       "   review_score                                  title  \\\n",
       "0             3                     more like funchuck   \n",
       "1             5                              Inspiring   \n",
       "2             5  The best soundtrack ever to anything.   \n",
       "3             4                       Chrono Cross OST   \n",
       "4             5                    Too good to be true   \n",
       "\n",
       "                                                text  \n",
       "0  Gave this to my dad for a gag gift after direc...  \n",
       "1  I hope a lot of people hear this cd. We need m...  \n",
       "2  I'm reading a lot of reviews saying that this ...  \n",
       "3  The music of Yasunori Misuda is without questi...  \n",
       "4  Probably the greatest soundtrack in history! U...  "
      ]
     },
     "execution_count": 18,
     "metadata": {},
     "output_type": "execute_result"
    }
   ],
   "source": [
    "df.head()"
   ]
  },
  {
   "cell_type": "markdown",
   "metadata": {
    "hidden": true
   },
   "source": [
    "## Local Feature Computation"
   ]
  },
  {
   "cell_type": "code",
   "execution_count": 40,
   "metadata": {
    "ExecuteTime": {
     "end_time": "2020-08-19T15:08:25.386149Z",
     "start_time": "2020-08-19T15:08:25.222744Z"
    },
    "hidden": true
   },
   "outputs": [],
   "source": [
    "sent_list = df[\"text\"].compute().tolist()"
   ]
  },
  {
   "cell_type": "code",
   "execution_count": 41,
   "metadata": {
    "ExecuteTime": {
     "end_time": "2020-08-19T15:08:26.545839Z",
     "start_time": "2020-08-19T15:08:26.425545Z"
    },
    "hidden": true
   },
   "outputs": [],
   "source": [
    "sent_series = df[\"text\"].compute()"
   ]
  },
  {
   "cell_type": "code",
   "execution_count": 16,
   "metadata": {
    "ExecuteTime": {
     "end_time": "2020-08-19T10:07:39.031877Z",
     "start_time": "2020-08-19T10:07:39.018713Z"
    },
    "collapsed": true,
    "hidden": true
   },
   "outputs": [
    {
     "data": {
      "text/plain": [
       "0     Gave this to my dad for a gag gift after direc...\n",
       "1     I hope a lot of people hear this cd. We need m...\n",
       "2     I'm reading a lot of reviews saying that this ...\n",
       "3     The music of Yasunori Misuda is without questi...\n",
       "4     Probably the greatest soundtrack in history! U...\n",
       "                            ...                        \n",
       "95    I agree, the CDs are a much needed help, since...\n",
       "96    I recommend this book highly. I have a competi...\n",
       "97    This is an AWESOME game! Almost everyone know ...\n",
       "98    I bought this game to bring down to my vacatio...\n",
       "99    After doing alot of researching and reading re...\n",
       "Name: text, Length: 100, dtype: string"
      ]
     },
     "execution_count": 16,
     "metadata": {},
     "output_type": "execute_result"
    }
   ],
   "source": [
    "sent_series[:100]"
   ]
  },
  {
   "cell_type": "code",
   "execution_count": 35,
   "metadata": {
    "ExecuteTime": {
     "end_time": "2020-08-19T15:08:10.174896Z",
     "start_time": "2020-08-19T15:08:10.167505Z"
    },
    "hidden": true
   },
   "outputs": [],
   "source": [
    "num_samples=10000"
   ]
  },
  {
   "cell_type": "code",
   "execution_count": 12,
   "metadata": {
    "ExecuteTime": {
     "end_time": "2020-08-19T13:32:59.170282Z",
     "start_time": "2020-08-19T13:32:59.167448Z"
    },
    "hidden": true
   },
   "outputs": [],
   "source": [
    "embeddings_file=\"./embeddings_%d_samples.npy\"%num_samples"
   ]
  },
  {
   "cell_type": "markdown",
   "metadata": {
    "heading_collapsed": true,
    "hidden": true
   },
   "source": [
    "### Sentence Embeddings"
   ]
  },
  {
   "cell_type": "code",
   "execution_count": 13,
   "metadata": {
    "ExecuteTime": {
     "end_time": "2020-08-19T13:33:02.324259Z",
     "start_time": "2020-08-19T13:33:00.397625Z"
    },
    "hidden": true
   },
   "outputs": [],
   "source": [
    "from sentence_transformers import SentenceTransformer\n",
    "model = SentenceTransformer('bert-base-nli-mean-tokens')"
   ]
  },
  {
   "cell_type": "code",
   "execution_count": 92,
   "metadata": {
    "ExecuteTime": {
     "end_time": "2020-08-19T13:26:27.363125Z",
     "start_time": "2020-08-19T13:26:27.355838Z"
    },
    "collapsed": true,
    "hidden": true
   },
   "outputs": [
    {
     "data": {
      "text/plain": [
       "'SentenceTransformer(\\n  (0): BERT(\\n    (bert): BertModel(\\n      (embeddings): BertEmbeddings(\\n        (word_embeddings): Embedding(30522, 768, padding_idx=0)\\n        (position_embeddings): Embedding(512, 768)\\n        (token_type_embeddings): Embedding(2, 768)\\n        (LayerNorm): LayerNorm((768,), eps=1e-12, elementwise_affine=True)\\n        (dropout): Dropout(p=0.1, inplace=False)\\n      )\\n      (encoder): BertEncoder(\\n        (layer): ModuleList(\\n          (0): BertLayer(\\n            (attention): BertAttention(\\n              (self): BertSelfAttention(\\n                (query): Linear(in_features=768, out_features=768, bias=True)\\n                (key): Linear(in_features=768, out_features=768, bias=True)\\n                (value): Linear(in_features=768, out_features=768, bias=True)\\n                (dropout): Dropout(p=0.1, inplace=False)\\n              )\\n              (output): BertSelfOutput(\\n                (dense): Linear(in_features=768, out_features=768, bias=True)\\n                (LayerNorm): LayerNorm((768,), eps=1e-12, elementwise_affine=True)\\n                (dropout): Dropout(p=0.1, inplace=False)\\n              )\\n            )\\n            (intermediate): BertIntermediate(\\n              (dense): Linear(in_features=768, out_features=3072, bias=True)\\n            )\\n            (output): BertOutput(\\n              (dense): Linear(in_features=3072, out_features=768, bias=True)\\n              (LayerNorm): LayerNorm((768,), eps=1e-12, elementwise_affine=True)\\n              (dropout): Dropout(p=0.1, inplace=False)\\n            )\\n          )\\n          (1): BertLayer(\\n            (attention): BertAttention(\\n              (self): BertSelfAttention(\\n                (query): Linear(in_features=768, out_features=768, bias=True)\\n                (key): Linear(in_features=768, out_features=768, bias=True)\\n                (value): Linear(in_features=768, out_features=768, bias=True)\\n                (dropout): Dropout(p=0.1, inplace=False)\\n              )\\n              (output): BertSelfOutput(\\n                (dense): Linear(in_features=768, out_features=768, bias=True)\\n                (LayerNorm): LayerNorm((768,), eps=1e-12, elementwise_affine=True)\\n                (dropout): Dropout(p=0.1, inplace=False)\\n              )\\n            )\\n            (intermediate): BertIntermediate(\\n              (dense): Linear(in_features=768, out_features=3072, bias=True)\\n            )\\n            (output): BertOutput(\\n              (dense): Linear(in_features=3072, out_features=768, bias=True)\\n              (LayerNorm): LayerNorm((768,), eps=1e-12, elementwise_affine=True)\\n              (dropout): Dropout(p=0.1, inplace=False)\\n            )\\n          )\\n          (2): BertLayer(\\n            (attention): BertAttention(\\n              (self): BertSelfAttention(\\n                (query): Linear(in_features=768, out_features=768, bias=True)\\n                (key): Linear(in_features=768, out_features=768, bias=True)\\n                (value): Linear(in_features=768, out_features=768, bias=True)\\n                (dropout): Dropout(p=0.1, inplace=False)\\n              )\\n              (output): BertSelfOutput(\\n                (dense): Linear(in_features=768, out_features=768, bias=True)\\n                (LayerNorm): LayerNorm((768,), eps=1e-12, elementwise_affine=True)\\n                (dropout): Dropout(p=0.1, inplace=False)\\n              )\\n            )\\n            (intermediate): BertIntermediate(\\n              (dense): Linear(in_features=768, out_features=3072, bias=True)\\n            )\\n            (output): BertOutput(\\n              (dense): Linear(in_features=3072, out_features=768, bias=True)\\n              (LayerNorm): LayerNorm((768,), eps=1e-12, elementwise_affine=True)\\n              (dropout): Dropout(p=0.1, inplace=False)\\n            )\\n          )\\n          (3): BertLayer(\\n            (attention): BertAttention(\\n              (self): BertSelfAttention(\\n                (query): Linear(in_features=768, out_features=768, bias=True)\\n                (key): Linear(in_features=768, out_features=768, bias=True)\\n                (value): Linear(in_features=768, out_features=768, bias=True)\\n                (dropout): Dropout(p=0.1, inplace=False)\\n              )\\n              (output): BertSelfOutput(\\n                (dense): Linear(in_features=768, out_features=768, bias=True)\\n                (LayerNorm): LayerNorm((768,), eps=1e-12, elementwise_affine=True)\\n                (dropout): Dropout(p=0.1, inplace=False)\\n              )\\n            )\\n            (intermediate): BertIntermediate(\\n              (dense): Linear(in_features=768, out_features=3072, bias=True)\\n            )\\n            (output): BertOutput(\\n              (dense): Linear(in_features=3072, out_features=768, bias=True)\\n              (LayerNorm): LayerNorm((768,), eps=1e-12, elementwise_affine=True)\\n              (dropout): Dropout(p=0.1, inplace=False)\\n            )\\n          )\\n          (4): BertLayer(\\n            (attention): BertAttention(\\n              (self): BertSelfAttention(\\n                (query): Linear(in_features=768, out_features=768, bias=True)\\n                (key): Linear(in_features=768, out_features=768, bias=True)\\n                (value): Linear(in_features=768, out_features=768, bias=True)\\n                (dropout): Dropout(p=0.1, inplace=False)\\n              )\\n              (output): BertSelfOutput(\\n                (dense): Linear(in_features=768, out_features=768, bias=True)\\n                (LayerNorm): LayerNorm((768,), eps=1e-12, elementwise_affine=True)\\n                (dropout): Dropout(p=0.1, inplace=False)\\n              )\\n            )\\n            (intermediate): BertIntermediate(\\n              (dense): Linear(in_features=768, out_features=3072, bias=True)\\n            )\\n            (output): BertOutput(\\n              (dense): Linear(in_features=3072, out_features=768, bias=True)\\n              (LayerNorm): LayerNorm((768,), eps=1e-12, elementwise_affine=True)\\n              (dropout): Dropout(p=0.1, inplace=False)\\n            )\\n          )\\n          (5): BertLayer(\\n            (attention): BertAttention(\\n              (self): BertSelfAttention(\\n                (query): Linear(in_features=768, out_features=768, bias=True)\\n                (key): Linear(in_features=768, out_features=768, bias=True)\\n                (value): Linear(in_features=768, out_features=768, bias=True)\\n                (dropout): Dropout(p=0.1, inplace=False)\\n              )\\n              (output): BertSelfOutput(\\n                (dense): Linear(in_features=768, out_features=768, bias=True)\\n                (LayerNorm): LayerNorm((768,), eps=1e-12, elementwise_affine=True)\\n                (dropout): Dropout(p=0.1, inplace=False)\\n              )\\n            )\\n            (intermediate): BertIntermediate(\\n              (dense): Linear(in_features=768, out_features=3072, bias=True)\\n            )\\n            (output): BertOutput(\\n              (dense): Linear(in_features=3072, out_features=768, bias=True)\\n              (LayerNorm): LayerNorm((768,), eps=1e-12, elementwise_affine=True)\\n              (dropout): Dropout(p=0.1, inplace=False)\\n            )\\n          )\\n          (6): BertLayer(\\n            (attention): BertAttention(\\n              (self): BertSelfAttention(\\n                (query): Linear(in_features=768, out_features=768, bias=True)\\n                (key): Linear(in_features=768, out_features=768, bias=True)\\n                (value): Linear(in_features=768, out_features=768, bias=True)\\n                (dropout): Dropout(p=0.1, inplace=False)\\n              )\\n              (output): BertSelfOutput(\\n                (dense): Linear(in_features=768, out_features=768, bias=True)\\n                (LayerNorm): LayerNorm((768,), eps=1e-12, elementwise_affine=True)\\n                (dropout): Dropout(p=0.1, inplace=False)\\n              )\\n            )\\n            (intermediate): BertIntermediate(\\n              (dense): Linear(in_features=768, out_features=3072, bias=True)\\n            )\\n            (output): BertOutput(\\n              (dense): Linear(in_features=3072, out_features=768, bias=True)\\n              (LayerNorm): LayerNorm((768,), eps=1e-12, elementwise_affine=True)\\n              (dropout): Dropout(p=0.1, inplace=False)\\n            )\\n          )\\n          (7): BertLayer(\\n            (attention): BertAttention(\\n              (self): BertSelfAttention(\\n                (query): Linear(in_features=768, out_features=768, bias=True)\\n                (key): Linear(in_features=768, out_features=768, bias=True)\\n                (value): Linear(in_features=768, out_features=768, bias=True)\\n                (dropout): Dropout(p=0.1, inplace=False)\\n              )\\n              (output): BertSelfOutput(\\n                (dense): Linear(in_features=768, out_features=768, bias=True)\\n                (LayerNorm): LayerNorm((768,), eps=1e-12, elementwise_affine=True)\\n                (dropout): Dropout(p=0.1, inplace=False)\\n              )\\n            )\\n            (intermediate): BertIntermediate(\\n              (dense): Linear(in_features=768, out_features=3072, bias=True)\\n            )\\n            (output): BertOutput(\\n              (dense): Linear(in_features=3072, out_features=768, bias=True)\\n              (LayerNorm): LayerNorm((768,), eps=1e-12, elementwise_affine=True)\\n              (dropout): Dropout(p=0.1, inplace=False)\\n            )\\n          )\\n          (8): BertLayer(\\n            (attention): BertAttention(\\n              (self): BertSelfAttention(\\n                (query): Linear(in_features=768, out_features=768, bias=True)\\n                (key): Linear(in_features=768, out_features=768, bias=True)\\n                (value): Linear(in_features=768, out_features=768, bias=True)\\n                (dropout): Dropout(p=0.1, inplace=False)\\n              )\\n              (output): BertSelfOutput(\\n                (dense): Linear(in_features=768, out_features=768, bias=True)\\n                (LayerNorm): LayerNorm((768,), eps=1e-12, elementwise_affine=True)\\n                (dropout): Dropout(p=0.1, inplace=False)\\n              )\\n            )\\n            (intermediate): BertIntermediate(\\n              (dense): Linear(in_features=768, out_features=3072, bias=True)\\n            )\\n            (output): BertOutput(\\n              (dense): Linear(in_features=3072, out_features=768, bias=True)\\n              (LayerNorm): LayerNorm((768,), eps=1e-12, elementwise_affine=True)\\n              (dropout): Dropout(p=0.1, inplace=False)\\n            )\\n          )\\n          (9): BertLayer(\\n            (attention): BertAttention(\\n              (self): BertSelfAttention(\\n                (query): Linear(in_features=768, out_features=768, bias=True)\\n                (key): Linear(in_features=768, out_features=768, bias=True)\\n                (value): Linear(in_features=768, out_features=768, bias=True)\\n                (dropout): Dropout(p=0.1, inplace=False)\\n              )\\n              (output): BertSelfOutput(\\n                (dense): Linear(in_features=768, out_features=768, bias=True)\\n                (LayerNorm): LayerNorm((768,), eps=1e-12, elementwise_affine=True)\\n                (dropout): Dropout(p=0.1, inplace=False)\\n              )\\n            )\\n            (intermediate): BertIntermediate(\\n              (dense): Linear(in_features=768, out_features=3072, bias=True)\\n            )\\n            (output): BertOutput(\\n              (dense): Linear(in_features=3072, out_features=768, bias=True)\\n              (LayerNorm): LayerNorm((768,), eps=1e-12, elementwise_affine=True)\\n              (dropout): Dropout(p=0.1, inplace=False)\\n            )\\n          )\\n          (10): BertLayer(\\n            (attention): BertAttention(\\n              (self): BertSelfAttention(\\n                (query): Linear(in_features=768, out_features=768, bias=True)\\n                (key): Linear(in_features=768, out_features=768, bias=True)\\n                (value): Linear(in_features=768, out_features=768, bias=True)\\n                (dropout): Dropout(p=0.1, inplace=False)\\n              )\\n              (output): BertSelfOutput(\\n                (dense): Linear(in_features=768, out_features=768, bias=True)\\n                (LayerNorm): LayerNorm((768,), eps=1e-12, elementwise_affine=True)\\n                (dropout): Dropout(p=0.1, inplace=False)\\n              )\\n            )\\n            (intermediate): BertIntermediate(\\n              (dense): Linear(in_features=768, out_features=3072, bias=True)\\n            )\\n            (output): BertOutput(\\n              (dense): Linear(in_features=3072, out_features=768, bias=True)\\n              (LayerNorm): LayerNorm((768,), eps=1e-12, elementwise_affine=True)\\n              (dropout): Dropout(p=0.1, inplace=False)\\n            )\\n          )\\n          (11): BertLayer(\\n            (attention): BertAttention(\\n              (self): BertSelfAttention(\\n                (query): Linear(in_features=768, out_features=768, bias=True)\\n                (key): Linear(in_features=768, out_features=768, bias=True)\\n                (value): Linear(in_features=768, out_features=768, bias=True)\\n                (dropout): Dropout(p=0.1, inplace=False)\\n              )\\n              (output): BertSelfOutput(\\n                (dense): Linear(in_features=768, out_features=768, bias=True)\\n                (LayerNorm): LayerNorm((768,), eps=1e-12, elementwise_affine=True)\\n                (dropout): Dropout(p=0.1, inplace=False)\\n              )\\n            )\\n            (intermediate): BertIntermediate(\\n              (dense): Linear(in_features=768, out_features=3072, bias=True)\\n            )\\n            (output): BertOutput(\\n              (dense): Linear(in_features=3072, out_features=768, bias=True)\\n              (LayerNorm): LayerNorm((768,), eps=1e-12, elementwise_affine=True)\\n              (dropout): Dropout(p=0.1, inplace=False)\\n            )\\n          )\\n        )\\n      )\\n      (pooler): BertPooler(\\n        (dense): Linear(in_features=768, out_features=768, bias=True)\\n        (activation): Tanh()\\n      )\\n    )\\n  )\\n  (1): Pooling()\\n)'"
      ]
     },
     "execution_count": 92,
     "metadata": {},
     "output_type": "execute_result"
    }
   ],
   "source": [
    "str(model)"
   ]
  },
  {
   "cell_type": "code",
   "execution_count": 138,
   "metadata": {
    "hidden": true
   },
   "outputs": [
    {
     "name": "stdout",
     "output_type": "stream",
     "text": [
      "CPU times: user 1min 35s, sys: 6.74 s, total: 1min 41s\n",
      "Wall time: 25.9 s\n"
     ]
    }
   ],
   "source": [
    "%%time\n",
    "sentence_embeddings = model.encode(sent_list[:300], batch_size=50)"
   ]
  },
  {
   "cell_type": "code",
   "execution_count": 15,
   "metadata": {
    "ExecuteTime": {
     "end_time": "2020-08-19T13:33:07.721223Z",
     "start_time": "2020-08-19T13:33:07.714421Z"
    },
    "hidden": true
   },
   "outputs": [],
   "source": [
    "import torch"
   ]
  },
  {
   "cell_type": "code",
   "execution_count": 16,
   "metadata": {
    "ExecuteTime": {
     "end_time": "2020-08-19T13:33:08.855349Z",
     "start_time": "2020-08-19T13:33:08.846447Z"
    },
    "hidden": true
   },
   "outputs": [
    {
     "data": {
      "text/plain": [
       "4"
      ]
     },
     "execution_count": 16,
     "metadata": {},
     "output_type": "execute_result"
    }
   ],
   "source": [
    "torch.get_num_threads()"
   ]
  },
  {
   "cell_type": "code",
   "execution_count": 18,
   "metadata": {
    "ExecuteTime": {
     "end_time": "2020-08-19T13:33:19.813655Z",
     "start_time": "2020-08-19T13:33:19.807667Z"
    },
    "hidden": true
   },
   "outputs": [],
   "source": [
    "torch.set_num_threads(1)"
   ]
  },
  {
   "cell_type": "code",
   "execution_count": 19,
   "metadata": {
    "ExecuteTime": {
     "end_time": "2020-08-19T13:33:22.496268Z",
     "start_time": "2020-08-19T13:33:22.492022Z"
    },
    "hidden": true
   },
   "outputs": [
    {
     "data": {
      "text/plain": [
       "1"
      ]
     },
     "execution_count": 19,
     "metadata": {},
     "output_type": "execute_result"
    }
   ],
   "source": [
    "torch.get_num_threads()"
   ]
  },
  {
   "cell_type": "code",
   "execution_count": 141,
   "metadata": {
    "hidden": true
   },
   "outputs": [
    {
     "name": "stdout",
     "output_type": "stream",
     "text": [
      "CPU times: user 1min 14s, sys: 4.63 s, total: 1min 19s\n",
      "Wall time: 39.8 s\n"
     ]
    }
   ],
   "source": [
    "%%time\n",
    "sentence_embeddings = model.encode(sent_list[:300], batch_size=50)"
   ]
  },
  {
   "cell_type": "code",
   "execution_count": 25,
   "metadata": {
    "hidden": true
   },
   "outputs": [
    {
     "data": {
      "text/plain": [
       "(1000, 768)"
      ]
     },
     "execution_count": 25,
     "metadata": {},
     "output_type": "execute_result"
    }
   ],
   "source": [
    "sentence_embeddings.shape"
   ]
  },
  {
   "cell_type": "code",
   "execution_count": 2,
   "metadata": {
    "ExecuteTime": {
     "end_time": "2020-08-19T13:33:48.079635Z",
     "start_time": "2020-08-19T13:33:48.011279Z"
    },
    "hidden": true,
    "scrolled": true
   },
   "outputs": [
    {
     "ename": "NameError",
     "evalue": "name 'num_samples' is not defined",
     "output_type": "error",
     "traceback": [
      "\u001b[0;31m---------------------------------------------------------------------------\u001b[0m",
      "\u001b[0;31mNameError\u001b[0m                                 Traceback (most recent call last)",
      "\u001b[0;32m<timed exec>\u001b[0m in \u001b[0;36m<module>\u001b[0;34m\u001b[0m\n",
      "\u001b[0;31mNameError\u001b[0m: name 'num_samples' is not defined"
     ]
    }
   ],
   "source": [
    "%%time\n",
    "print(num_samples)\n",
    "sentence_embeddings = model.encode(sent_list[:num_samples], batch_size=250)"
   ]
  },
  {
   "cell_type": "code",
   "execution_count": 74,
   "metadata": {
    "ExecuteTime": {
     "end_time": "2020-08-19T13:22:17.536645Z",
     "start_time": "2020-08-19T13:22:17.524910Z"
    },
    "hidden": true
   },
   "outputs": [],
   "source": [
    "# save tehse so we don't have to keep doing this\n",
    "np.save(embeddings_file, sentence_embeddings)"
   ]
  },
  {
   "cell_type": "code",
   "execution_count": 76,
   "metadata": {
    "ExecuteTime": {
     "end_time": "2020-08-19T13:22:39.975140Z",
     "start_time": "2020-08-19T13:22:39.969082Z"
    },
    "hidden": true
   },
   "outputs": [],
   "source": [
    "sentence_embeddings = np.load(embeddings_file)"
   ]
  },
  {
   "cell_type": "code",
   "execution_count": 77,
   "metadata": {
    "ExecuteTime": {
     "end_time": "2020-08-19T13:22:41.316222Z",
     "start_time": "2020-08-19T13:22:41.305659Z"
    },
    "hidden": true
   },
   "outputs": [
    {
     "data": {
      "text/plain": [
       "(1000, 768)"
      ]
     },
     "execution_count": 77,
     "metadata": {},
     "output_type": "execute_result"
    }
   ],
   "source": [
    "sentence_embeddings.shape"
   ]
  },
  {
   "cell_type": "markdown",
   "metadata": {
    "hidden": true
   },
   "source": [
    "### Tfidf"
   ]
  },
  {
   "cell_type": "code",
   "execution_count": 42,
   "metadata": {
    "ExecuteTime": {
     "end_time": "2020-08-19T15:08:32.325300Z",
     "start_time": "2020-08-19T15:08:32.320454Z"
    },
    "hidden": true
   },
   "outputs": [],
   "source": [
    "from sklearn.feature_extraction.text import TfidfVectorizer"
   ]
  },
  {
   "cell_type": "code",
   "execution_count": 43,
   "metadata": {
    "ExecuteTime": {
     "end_time": "2020-08-19T15:08:32.665013Z",
     "start_time": "2020-08-19T15:08:32.661084Z"
    },
    "hidden": true
   },
   "outputs": [],
   "source": [
    "vectorizer = TfidfVectorizer(sublinear_tf=True, max_df=0.5,\n",
    "                                 stop_words='english', max_features=20000)"
   ]
  },
  {
   "cell_type": "code",
   "execution_count": 44,
   "metadata": {
    "ExecuteTime": {
     "end_time": "2020-08-19T15:08:34.837664Z",
     "start_time": "2020-08-19T15:08:33.108782Z"
    },
    "hidden": true
   },
   "outputs": [],
   "source": [
    "tfidfX = np.array(vectorizer.fit_transform(sent_list[:num_samples]).todense().astype('float32'))"
   ]
  },
  {
   "cell_type": "code",
   "execution_count": 45,
   "metadata": {
    "ExecuteTime": {
     "end_time": "2020-08-19T15:08:34.845052Z",
     "start_time": "2020-08-19T15:08:34.840492Z"
    },
    "hidden": true
   },
   "outputs": [
    {
     "data": {
      "text/plain": [
       "(10000, 20000)"
      ]
     },
     "execution_count": 45,
     "metadata": {},
     "output_type": "execute_result"
    }
   ],
   "source": [
    "tfidfX.shape"
   ]
  },
  {
   "cell_type": "code",
   "execution_count": 46,
   "metadata": {
    "ExecuteTime": {
     "end_time": "2020-08-19T15:08:34.852686Z",
     "start_time": "2020-08-19T15:08:34.847153Z"
    },
    "hidden": true
   },
   "outputs": [
    {
     "data": {
      "text/plain": [
       "numpy.ndarray"
      ]
     },
     "execution_count": 46,
     "metadata": {},
     "output_type": "execute_result"
    }
   ],
   "source": [
    "type(tfidfX)"
   ]
  },
  {
   "cell_type": "markdown",
   "metadata": {
    "hidden": true
   },
   "source": [
    "### Outputs"
   ]
  },
  {
   "cell_type": "code",
   "execution_count": 47,
   "metadata": {
    "ExecuteTime": {
     "end_time": "2020-08-19T15:08:37.100511Z",
     "start_time": "2020-08-19T15:08:36.989621Z"
    },
    "hidden": true
   },
   "outputs": [],
   "source": [
    "classes = np.array(df[\"review_score\"].compute().tolist()).astype('long')\n",
    "classes = classes[:num_samples]-1"
   ]
  },
  {
   "cell_type": "code",
   "execution_count": 48,
   "metadata": {
    "ExecuteTime": {
     "end_time": "2020-08-19T15:08:37.809680Z",
     "start_time": "2020-08-19T15:08:37.800022Z"
    },
    "hidden": true
   },
   "outputs": [
    {
     "data": {
      "text/plain": [
       "array([2, 4, 4, ..., 0, 0, 3])"
      ]
     },
     "execution_count": 48,
     "metadata": {},
     "output_type": "execute_result"
    }
   ],
   "source": [
    "classes"
   ]
  },
  {
   "cell_type": "markdown",
   "metadata": {
    "hidden": true
   },
   "source": [
    "## Dask computation"
   ]
  },
  {
   "cell_type": "code",
   "execution_count": 19,
   "metadata": {
    "ExecuteTime": {
     "end_time": "2020-08-19T14:52:22.735163Z",
     "start_time": "2020-08-19T14:52:22.732806Z"
    },
    "hidden": true
   },
   "outputs": [],
   "source": [
    "import importlib"
   ]
  },
  {
   "cell_type": "code",
   "execution_count": 20,
   "metadata": {
    "ExecuteTime": {
     "end_time": "2020-08-19T14:52:23.322711Z",
     "start_time": "2020-08-19T14:52:23.314893Z"
    },
    "hidden": true
   },
   "outputs": [],
   "source": [
    "client.upload_file(\"transformer_wrapper.py\")"
   ]
  },
  {
   "cell_type": "code",
   "execution_count": 21,
   "metadata": {
    "ExecuteTime": {
     "end_time": "2020-08-19T14:52:24.612273Z",
     "start_time": "2020-08-19T14:52:24.409453Z"
    },
    "hidden": true
   },
   "outputs": [
    {
     "name": "stderr",
     "output_type": "stream",
     "text": [
      "WARNING:root:Sheer Loading transformer_wrapper\n",
      "WARNING:root:Sheer Loading transformer_wrapper\n"
     ]
    }
   ],
   "source": [
    "import transformer_wrapper\n",
    "importlib.reload(transformer_wrapper)\n",
    "from transformer_wrapper import check_models, load_model, gen_sent_features"
   ]
  },
  {
   "cell_type": "code",
   "execution_count": 22,
   "metadata": {
    "ExecuteTime": {
     "end_time": "2020-08-19T14:52:26.063012Z",
     "start_time": "2020-08-19T14:52:26.053454Z"
    },
    "hidden": true
   },
   "outputs": [
    {
     "data": {
      "text/plain": [
       "{'tcp://172.18.0.3:44975': ['public.ukp.informatik.tu-darmstadt.de_reimers_sentence-transformers_v0.2_bert-base-nli-mean-tokens.zip']}"
      ]
     },
     "execution_count": 22,
     "metadata": {},
     "output_type": "execute_result"
    }
   ],
   "source": [
    "client.run(check_models)"
   ]
  },
  {
   "cell_type": "code",
   "execution_count": 23,
   "metadata": {
    "ExecuteTime": {
     "end_time": "2020-08-19T14:52:29.670610Z",
     "start_time": "2020-08-19T14:52:27.481924Z"
    },
    "collapsed": true,
    "hidden": true
   },
   "outputs": [
    {
     "data": {
      "text/plain": [
       "{'tcp://172.18.0.3:44975': (2.1749770641326904,\n",
       "  'SentenceTransformer(\\n  (0): BERT(\\n    (bert): BertModel(\\n      (embeddings): BertEmbeddings(\\n        (word_embeddings): Embedding(30522, 768, padding_idx=0)\\n        (position_embeddings): Embedding(512, 768)\\n        (token_type_embeddings): Embedding(2, 768)\\n        (LayerNorm): LayerNorm((768,), eps=1e-12, elementwise_affine=True)\\n        (dropout): Dropout(p=0.1, inplace=False)\\n      )\\n      (encoder): BertEncoder(\\n        (layer): ModuleList(\\n          (0): BertLayer(\\n            (attention): BertAttention(\\n              (self): BertSelfAttention(\\n                (query): Linear(in_features=768, out_features=768, bias=True)\\n                (key): Linear(in_features=768, out_features=768, bias=True)\\n                (value): Linear(in_features=768, out_features=768, bias=True)\\n                (dropout): Dropout(p=0.1, inplace=False)\\n              )\\n              (output): BertSelfOutput(\\n                (dense): Linear(in_features=768, out_features=768, bias=True)\\n                (LayerNorm): LayerNorm((768,), eps=1e-12, elementwise_affine=True)\\n                (dropout): Dropout(p=0.1, inplace=False)\\n              )\\n            )\\n            (intermediate): BertIntermediate(\\n              (dense): Linear(in_features=768, out_features=3072, bias=True)\\n            )\\n            (output): BertOutput(\\n              (dense): Linear(in_features=3072, out_features=768, bias=True)\\n              (LayerNorm): LayerNorm((768,), eps=1e-12, elementwise_affine=True)\\n              (dropout): Dropout(p=0.1, inplace=False)\\n            )\\n          )\\n          (1): BertLayer(\\n            (attention): BertAttention(\\n              (self): BertSelfAttention(\\n                (query): Linear(in_features=768, out_features=768, bias=True)\\n                (key): Linear(in_features=768, out_features=768, bias=True)\\n                (value): Linear(in_features=768, out_features=768, bias=True)\\n                (dropout): Dropout(p=0.1, inplace=False)\\n              )\\n              (output): BertSelfOutput(\\n                (dense): Linear(in_features=768, out_features=768, bias=True)\\n                (LayerNorm): LayerNorm((768,), eps=1e-12, elementwise_affine=True)\\n                (dropout): Dropout(p=0.1, inplace=False)\\n              )\\n            )\\n            (intermediate): BertIntermediate(\\n              (dense): Linear(in_features=768, out_features=3072, bias=True)\\n            )\\n            (output): BertOutput(\\n              (dense): Linear(in_features=3072, out_features=768, bias=True)\\n              (LayerNorm): LayerNorm((768,), eps=1e-12, elementwise_affine=True)\\n              (dropout): Dropout(p=0.1, inplace=False)\\n            )\\n          )\\n          (2): BertLayer(\\n            (attention): BertAttention(\\n              (self): BertSelfAttention(\\n                (query): Linear(in_features=768, out_features=768, bias=True)\\n                (key): Linear(in_features=768, out_features=768, bias=True)\\n                (value): Linear(in_features=768, out_features=768, bias=True)\\n                (dropout): Dropout(p=0.1, inplace=False)\\n              )\\n              (output): BertSelfOutput(\\n                (dense): Linear(in_features=768, out_features=768, bias=True)\\n                (LayerNorm): LayerNorm((768,), eps=1e-12, elementwise_affine=True)\\n                (dropout): Dropout(p=0.1, inplace=False)\\n              )\\n            )\\n            (intermediate): BertIntermediate(\\n              (dense): Linear(in_features=768, out_features=3072, bias=True)\\n            )\\n            (output): BertOutput(\\n              (dense): Linear(in_features=3072, out_features=768, bias=True)\\n              (LayerNorm): LayerNorm((768,), eps=1e-12, elementwise_affine=True)\\n              (dropout): Dropout(p=0.1, inplace=False)\\n            )\\n          )\\n          (3): BertLayer(\\n            (attention): BertAttention(\\n              (self): BertSelfAttention(\\n                (query): Linear(in_features=768, out_features=768, bias=True)\\n                (key): Linear(in_features=768, out_features=768, bias=True)\\n                (value): Linear(in_features=768, out_features=768, bias=True)\\n                (dropout): Dropout(p=0.1, inplace=False)\\n              )\\n              (output): BertSelfOutput(\\n                (dense): Linear(in_features=768, out_features=768, bias=True)\\n                (LayerNorm): LayerNorm((768,), eps=1e-12, elementwise_affine=True)\\n                (dropout): Dropout(p=0.1, inplace=False)\\n              )\\n            )\\n            (intermediate): BertIntermediate(\\n              (dense): Linear(in_features=768, out_features=3072, bias=True)\\n            )\\n            (output): BertOutput(\\n              (dense): Linear(in_features=3072, out_features=768, bias=True)\\n              (LayerNorm): LayerNorm((768,), eps=1e-12, elementwise_affine=True)\\n              (dropout): Dropout(p=0.1, inplace=False)\\n            )\\n          )\\n          (4): BertLayer(\\n            (attention): BertAttention(\\n              (self): BertSelfAttention(\\n                (query): Linear(in_features=768, out_features=768, bias=True)\\n                (key): Linear(in_features=768, out_features=768, bias=True)\\n                (value): Linear(in_features=768, out_features=768, bias=True)\\n                (dropout): Dropout(p=0.1, inplace=False)\\n              )\\n              (output): BertSelfOutput(\\n                (dense): Linear(in_features=768, out_features=768, bias=True)\\n                (LayerNorm): LayerNorm((768,), eps=1e-12, elementwise_affine=True)\\n                (dropout): Dropout(p=0.1, inplace=False)\\n              )\\n            )\\n            (intermediate): BertIntermediate(\\n              (dense): Linear(in_features=768, out_features=3072, bias=True)\\n            )\\n            (output): BertOutput(\\n              (dense): Linear(in_features=3072, out_features=768, bias=True)\\n              (LayerNorm): LayerNorm((768,), eps=1e-12, elementwise_affine=True)\\n              (dropout): Dropout(p=0.1, inplace=False)\\n            )\\n          )\\n          (5): BertLayer(\\n            (attention): BertAttention(\\n              (self): BertSelfAttention(\\n                (query): Linear(in_features=768, out_features=768, bias=True)\\n                (key): Linear(in_features=768, out_features=768, bias=True)\\n                (value): Linear(in_features=768, out_features=768, bias=True)\\n                (dropout): Dropout(p=0.1, inplace=False)\\n              )\\n              (output): BertSelfOutput(\\n                (dense): Linear(in_features=768, out_features=768, bias=True)\\n                (LayerNorm): LayerNorm((768,), eps=1e-12, elementwise_affine=True)\\n                (dropout): Dropout(p=0.1, inplace=False)\\n              )\\n            )\\n            (intermediate): BertIntermediate(\\n              (dense): Linear(in_features=768, out_features=3072, bias=True)\\n            )\\n            (output): BertOutput(\\n              (dense): Linear(in_features=3072, out_features=768, bias=True)\\n              (LayerNorm): LayerNorm((768,), eps=1e-12, elementwise_affine=True)\\n              (dropout): Dropout(p=0.1, inplace=False)\\n            )\\n          )\\n          (6): BertLayer(\\n            (attention): BertAttention(\\n              (self): BertSelfAttention(\\n                (query): Linear(in_features=768, out_features=768, bias=True)\\n                (key): Linear(in_features=768, out_features=768, bias=True)\\n                (value): Linear(in_features=768, out_features=768, bias=True)\\n                (dropout): Dropout(p=0.1, inplace=False)\\n              )\\n              (output): BertSelfOutput(\\n                (dense): Linear(in_features=768, out_features=768, bias=True)\\n                (LayerNorm): LayerNorm((768,), eps=1e-12, elementwise_affine=True)\\n                (dropout): Dropout(p=0.1, inplace=False)\\n              )\\n            )\\n            (intermediate): BertIntermediate(\\n              (dense): Linear(in_features=768, out_features=3072, bias=True)\\n            )\\n            (output): BertOutput(\\n              (dense): Linear(in_features=3072, out_features=768, bias=True)\\n              (LayerNorm): LayerNorm((768,), eps=1e-12, elementwise_affine=True)\\n              (dropout): Dropout(p=0.1, inplace=False)\\n            )\\n          )\\n          (7): BertLayer(\\n            (attention): BertAttention(\\n              (self): BertSelfAttention(\\n                (query): Linear(in_features=768, out_features=768, bias=True)\\n                (key): Linear(in_features=768, out_features=768, bias=True)\\n                (value): Linear(in_features=768, out_features=768, bias=True)\\n                (dropout): Dropout(p=0.1, inplace=False)\\n              )\\n              (output): BertSelfOutput(\\n                (dense): Linear(in_features=768, out_features=768, bias=True)\\n                (LayerNorm): LayerNorm((768,), eps=1e-12, elementwise_affine=True)\\n                (dropout): Dropout(p=0.1, inplace=False)\\n              )\\n            )\\n            (intermediate): BertIntermediate(\\n              (dense): Linear(in_features=768, out_features=3072, bias=True)\\n            )\\n            (output): BertOutput(\\n              (dense): Linear(in_features=3072, out_features=768, bias=True)\\n              (LayerNorm): LayerNorm((768,), eps=1e-12, elementwise_affine=True)\\n              (dropout): Dropout(p=0.1, inplace=False)\\n            )\\n          )\\n          (8): BertLayer(\\n            (attention): BertAttention(\\n              (self): BertSelfAttention(\\n                (query): Linear(in_features=768, out_features=768, bias=True)\\n                (key): Linear(in_features=768, out_features=768, bias=True)\\n                (value): Linear(in_features=768, out_features=768, bias=True)\\n                (dropout): Dropout(p=0.1, inplace=False)\\n              )\\n              (output): BertSelfOutput(\\n                (dense): Linear(in_features=768, out_features=768, bias=True)\\n                (LayerNorm): LayerNorm((768,), eps=1e-12, elementwise_affine=True)\\n                (dropout): Dropout(p=0.1, inplace=False)\\n              )\\n            )\\n            (intermediate): BertIntermediate(\\n              (dense): Linear(in_features=768, out_features=3072, bias=True)\\n            )\\n            (output): BertOutput(\\n              (dense): Linear(in_features=3072, out_features=768, bias=True)\\n              (LayerNorm): LayerNorm((768,), eps=1e-12, elementwise_affine=True)\\n              (dropout): Dropout(p=0.1, inplace=False)\\n            )\\n          )\\n          (9): BertLayer(\\n            (attention): BertAttention(\\n              (self): BertSelfAttention(\\n                (query): Linear(in_features=768, out_features=768, bias=True)\\n                (key): Linear(in_features=768, out_features=768, bias=True)\\n                (value): Linear(in_features=768, out_features=768, bias=True)\\n                (dropout): Dropout(p=0.1, inplace=False)\\n              )\\n              (output): BertSelfOutput(\\n                (dense): Linear(in_features=768, out_features=768, bias=True)\\n                (LayerNorm): LayerNorm((768,), eps=1e-12, elementwise_affine=True)\\n                (dropout): Dropout(p=0.1, inplace=False)\\n              )\\n            )\\n            (intermediate): BertIntermediate(\\n              (dense): Linear(in_features=768, out_features=3072, bias=True)\\n            )\\n            (output): BertOutput(\\n              (dense): Linear(in_features=3072, out_features=768, bias=True)\\n              (LayerNorm): LayerNorm((768,), eps=1e-12, elementwise_affine=True)\\n              (dropout): Dropout(p=0.1, inplace=False)\\n            )\\n          )\\n          (10): BertLayer(\\n            (attention): BertAttention(\\n              (self): BertSelfAttention(\\n                (query): Linear(in_features=768, out_features=768, bias=True)\\n                (key): Linear(in_features=768, out_features=768, bias=True)\\n                (value): Linear(in_features=768, out_features=768, bias=True)\\n                (dropout): Dropout(p=0.1, inplace=False)\\n              )\\n              (output): BertSelfOutput(\\n                (dense): Linear(in_features=768, out_features=768, bias=True)\\n                (LayerNorm): LayerNorm((768,), eps=1e-12, elementwise_affine=True)\\n                (dropout): Dropout(p=0.1, inplace=False)\\n              )\\n            )\\n            (intermediate): BertIntermediate(\\n              (dense): Linear(in_features=768, out_features=3072, bias=True)\\n            )\\n            (output): BertOutput(\\n              (dense): Linear(in_features=3072, out_features=768, bias=True)\\n              (LayerNorm): LayerNorm((768,), eps=1e-12, elementwise_affine=True)\\n              (dropout): Dropout(p=0.1, inplace=False)\\n            )\\n          )\\n          (11): BertLayer(\\n            (attention): BertAttention(\\n              (self): BertSelfAttention(\\n                (query): Linear(in_features=768, out_features=768, bias=True)\\n                (key): Linear(in_features=768, out_features=768, bias=True)\\n                (value): Linear(in_features=768, out_features=768, bias=True)\\n                (dropout): Dropout(p=0.1, inplace=False)\\n              )\\n              (output): BertSelfOutput(\\n                (dense): Linear(in_features=768, out_features=768, bias=True)\\n                (LayerNorm): LayerNorm((768,), eps=1e-12, elementwise_affine=True)\\n                (dropout): Dropout(p=0.1, inplace=False)\\n              )\\n            )\\n            (intermediate): BertIntermediate(\\n              (dense): Linear(in_features=768, out_features=3072, bias=True)\\n            )\\n            (output): BertOutput(\\n              (dense): Linear(in_features=3072, out_features=768, bias=True)\\n              (LayerNorm): LayerNorm((768,), eps=1e-12, elementwise_affine=True)\\n              (dropout): Dropout(p=0.1, inplace=False)\\n            )\\n          )\\n        )\\n      )\\n      (pooler): BertPooler(\\n        (dense): Linear(in_features=768, out_features=768, bias=True)\\n        (activation): Tanh()\\n      )\\n    )\\n  )\\n  (1): Pooling()\\n)')}"
      ]
     },
     "execution_count": 23,
     "metadata": {},
     "output_type": "execute_result"
    }
   ],
   "source": [
    "client.run(load_model)"
   ]
  },
  {
   "cell_type": "code",
   "execution_count": 24,
   "metadata": {
    "ExecuteTime": {
     "end_time": "2020-08-19T14:52:36.976390Z",
     "start_time": "2020-08-19T14:52:36.973677Z"
    },
    "hidden": true
   },
   "outputs": [],
   "source": [
    "d_gen_sent_features = dask.delayed(gen_sent_features)"
   ]
  },
  {
   "cell_type": "code",
   "execution_count": 25,
   "metadata": {
    "ExecuteTime": {
     "end_time": "2020-08-19T14:52:37.998106Z",
     "start_time": "2020-08-19T14:52:37.941694Z"
    },
    "hidden": true
   },
   "outputs": [
    {
     "ename": "NameError",
     "evalue": "name 'sent_list' is not defined",
     "output_type": "error",
     "traceback": [
      "\u001b[0;31m---------------------------------------------------------------------------\u001b[0m",
      "\u001b[0;31mNameError\u001b[0m                                 Traceback (most recent call last)",
      "\u001b[0;32m<timed eval>\u001b[0m in \u001b[0;36m<module>\u001b[0;34m\u001b[0m\n",
      "\u001b[0;31mNameError\u001b[0m: name 'sent_list' is not defined"
     ]
    }
   ],
   "source": [
    "%%time\n",
    "d_gen_sent_features(sent_list[:10]).compute()"
   ]
  },
  {
   "cell_type": "code",
   "execution_count": 152,
   "metadata": {
    "collapsed": true,
    "hidden": true
   },
   "outputs": [
    {
     "name": "stdout",
     "output_type": "stream",
     "text": [
      "CPU times: user 41.3 ms, sys: 10.1 ms, total: 51.5 ms\n",
      "Wall time: 48.7 s\n"
     ]
    },
    {
     "data": {
      "text/plain": [
       "array([[-0.4301419 ,  0.635654  ,  1.0057247 , ...,  0.3879471 ,\n",
       "        -0.32287857,  0.29900575],\n",
       "       [-0.15508707, -0.40734345,  0.33508727, ...,  0.42280957,\n",
       "        -0.19019693, -0.51367515],\n",
       "       [ 0.1111841 ,  0.5360189 ,  0.17411903, ...,  0.6714969 ,\n",
       "         0.15350488,  0.1286595 ],\n",
       "       ...,\n",
       "       [-0.46399707,  0.4504652 ,  0.8953199 , ...,  0.62237537,\n",
       "         0.04999361,  0.03117059],\n",
       "       [-0.8013059 ,  0.33056563,  0.08894264, ..., -0.2287397 ,\n",
       "         0.8540461 ,  0.17452975],\n",
       "       [-0.4195155 , -0.08595073,  0.2911015 , ...,  1.0259533 ,\n",
       "        -0.1021437 ,  0.05288688]], dtype=float32)"
      ]
     },
     "execution_count": 152,
     "metadata": {},
     "output_type": "execute_result"
    }
   ],
   "source": [
    "%%time\n",
    "d_gen_sent_features(sent_list[:300]).compute()"
   ]
  },
  {
   "cell_type": "code",
   "execution_count": 82,
   "metadata": {
    "collapsed": true,
    "hidden": true
   },
   "outputs": [
    {
     "name": "stdout",
     "output_type": "stream",
     "text": [
      "CPU times: user 154 ms, sys: 23.9 ms, total: 178 ms\n",
      "Wall time: 2min 24s\n"
     ]
    },
    {
     "data": {
      "text/plain": [
       "array([[-0.4301419 ,  0.635654  ,  1.0057247 , ...,  0.3879471 ,\n",
       "        -0.32287857,  0.29900575],\n",
       "       [-0.15508707, -0.40734345,  0.33508727, ...,  0.42280957,\n",
       "        -0.19019693, -0.51367515],\n",
       "       [ 0.11118428,  0.536019  ,  0.17411919, ...,  0.67149687,\n",
       "         0.15350482,  0.12865965],\n",
       "       ...,\n",
       "       [-0.38612026,  0.84072685,  0.12853882, ...,  0.6550069 ,\n",
       "        -0.06093563, -0.07394619],\n",
       "       [-0.45464376,  0.4275732 ,  0.02125585, ...,  0.7673474 ,\n",
       "        -0.40999392,  0.365916  ],\n",
       "       [-0.30104864,  1.0877458 , -0.27813938, ...,  0.42075455,\n",
       "         0.08935574,  0.33397803]], dtype=float32)"
      ]
     },
     "execution_count": 82,
     "metadata": {},
     "output_type": "execute_result"
    }
   ],
   "source": [
    "%%time\n",
    "d_gen_sent_features(sent_list[:1000]).compute()"
   ]
  },
  {
   "cell_type": "code",
   "execution_count": 113,
   "metadata": {
    "hidden": true
   },
   "outputs": [],
   "source": [
    "feat = df[df['review_score'] == 1].text.map_partitions(gen_sent_features, \n",
    "                                                       meta=np.empty((0,0), dtype='float32'))"
   ]
  },
  {
   "cell_type": "code",
   "execution_count": 115,
   "metadata": {
    "hidden": true
   },
   "outputs": [
    {
     "data": {
      "text/html": [
       "<table>\n",
       "<tr>\n",
       "<td>\n",
       "<table>\n",
       "  <thead>\n",
       "    <tr><td> </td><th> Array </th><th> Chunk </th></tr>\n",
       "  </thead>\n",
       "  <tbody>\n",
       "    <tr><th> Bytes </th><td> 6.15 MB </td> <td> 6.15 MB </td></tr>\n",
       "    <tr><th> Shape </th><td> (2003, 768) </td> <td> (2003, 768) </td></tr>\n",
       "    <tr><th> Count </th><td> 6 Tasks </td><td> 1 Chunks </td></tr>\n",
       "    <tr><th> Type </th><td> float32 </td><td> numpy.ndarray </td></tr>\n",
       "  </tbody>\n",
       "</table>\n",
       "</td>\n",
       "<td>\n",
       "<svg width=\"96\" height=\"170\" style=\"stroke:rgb(0,0,0);stroke-width:1\" >\n",
       "\n",
       "  <!-- Horizontal lines -->\n",
       "  <line x1=\"0\" y1=\"0\" x2=\"46\" y2=\"0\" style=\"stroke-width:2\" />\n",
       "  <line x1=\"0\" y1=\"120\" x2=\"46\" y2=\"120\" style=\"stroke-width:2\" />\n",
       "\n",
       "  <!-- Vertical lines -->\n",
       "  <line x1=\"0\" y1=\"0\" x2=\"0\" y2=\"120\" style=\"stroke-width:2\" />\n",
       "  <line x1=\"46\" y1=\"0\" x2=\"46\" y2=\"120\" style=\"stroke-width:2\" />\n",
       "\n",
       "  <!-- Colored Rectangle -->\n",
       "  <polygon points=\"0.000000,0.000000 46.010984,0.000000 46.010984,120.000000 0.000000,120.000000\" style=\"fill:#ECB172A0;stroke-width:0\"/>\n",
       "\n",
       "  <!-- Text -->\n",
       "  <text x=\"23.005492\" y=\"140.000000\" font-size=\"1.0rem\" font-weight=\"100\" text-anchor=\"middle\" >768</text>\n",
       "  <text x=\"66.010984\" y=\"60.000000\" font-size=\"1.0rem\" font-weight=\"100\" text-anchor=\"middle\" transform=\"rotate(-90,66.010984,60.000000)\">2003</text>\n",
       "</svg>\n",
       "</td>\n",
       "</tr>\n",
       "</table>"
      ],
      "text/plain": [
       "dask.array<gen_sent_features, shape=(2003, 768), dtype=float32, chunksize=(2003, 768), chunktype=numpy.ndarray>"
      ]
     },
     "execution_count": 115,
     "metadata": {},
     "output_type": "execute_result"
    }
   ],
   "source": [
    "feat.compute_chunk_sizes()"
   ]
  },
  {
   "cell_type": "code",
   "execution_count": 116,
   "metadata": {
    "collapsed": true,
    "hidden": true
   },
   "outputs": [
    {
     "ename": "KeyboardInterrupt",
     "evalue": "",
     "output_type": "error",
     "traceback": [
      "\u001b[0;31m---------------------------------------------------------------------------\u001b[0m",
      "\u001b[0;31mKeyboardInterrupt\u001b[0m                         Traceback (most recent call last)",
      "\u001b[0;32m<ipython-input-116-d532b52a8db3>\u001b[0m in \u001b[0;36m<module>\u001b[0;34m\u001b[0m\n\u001b[0;32m----> 1\u001b[0;31m \u001b[0mfeat\u001b[0m\u001b[0;34m[\u001b[0m\u001b[0;34m:\u001b[0m\u001b[0;36m10\u001b[0m\u001b[0;34m]\u001b[0m\u001b[0;34m.\u001b[0m\u001b[0mcompute\u001b[0m\u001b[0;34m(\u001b[0m\u001b[0;34m)\u001b[0m\u001b[0;34m\u001b[0m\u001b[0;34m\u001b[0m\u001b[0m\n\u001b[0m",
      "\u001b[0;32m/workspace/src/dask/dask/dask/base.py\u001b[0m in \u001b[0;36mcompute\u001b[0;34m(self, **kwargs)\u001b[0m\n\u001b[1;32m    164\u001b[0m         \u001b[0mdask\u001b[0m\u001b[0;34m.\u001b[0m\u001b[0mbase\u001b[0m\u001b[0;34m.\u001b[0m\u001b[0mcompute\u001b[0m\u001b[0;34m\u001b[0m\u001b[0;34m\u001b[0m\u001b[0m\n\u001b[1;32m    165\u001b[0m         \"\"\"\n\u001b[0;32m--> 166\u001b[0;31m         \u001b[0;34m(\u001b[0m\u001b[0mresult\u001b[0m\u001b[0;34m,\u001b[0m\u001b[0;34m)\u001b[0m \u001b[0;34m=\u001b[0m \u001b[0mcompute\u001b[0m\u001b[0;34m(\u001b[0m\u001b[0mself\u001b[0m\u001b[0;34m,\u001b[0m \u001b[0mtraverse\u001b[0m\u001b[0;34m=\u001b[0m\u001b[0;32mFalse\u001b[0m\u001b[0;34m,\u001b[0m \u001b[0;34m**\u001b[0m\u001b[0mkwargs\u001b[0m\u001b[0;34m)\u001b[0m\u001b[0;34m\u001b[0m\u001b[0;34m\u001b[0m\u001b[0m\n\u001b[0m\u001b[1;32m    167\u001b[0m         \u001b[0;32mreturn\u001b[0m \u001b[0mresult\u001b[0m\u001b[0;34m\u001b[0m\u001b[0;34m\u001b[0m\u001b[0m\n\u001b[1;32m    168\u001b[0m \u001b[0;34m\u001b[0m\u001b[0m\n",
      "\u001b[0;32m/workspace/src/dask/dask/dask/base.py\u001b[0m in \u001b[0;36mcompute\u001b[0;34m(*args, **kwargs)\u001b[0m\n\u001b[1;32m    442\u001b[0m         \u001b[0mpostcomputes\u001b[0m\u001b[0;34m.\u001b[0m\u001b[0mappend\u001b[0m\u001b[0;34m(\u001b[0m\u001b[0mx\u001b[0m\u001b[0;34m.\u001b[0m\u001b[0m__dask_postcompute__\u001b[0m\u001b[0;34m(\u001b[0m\u001b[0;34m)\u001b[0m\u001b[0;34m)\u001b[0m\u001b[0;34m\u001b[0m\u001b[0;34m\u001b[0m\u001b[0m\n\u001b[1;32m    443\u001b[0m \u001b[0;34m\u001b[0m\u001b[0m\n\u001b[0;32m--> 444\u001b[0;31m     \u001b[0mresults\u001b[0m \u001b[0;34m=\u001b[0m \u001b[0mschedule\u001b[0m\u001b[0;34m(\u001b[0m\u001b[0mdsk\u001b[0m\u001b[0;34m,\u001b[0m \u001b[0mkeys\u001b[0m\u001b[0;34m,\u001b[0m \u001b[0;34m**\u001b[0m\u001b[0mkwargs\u001b[0m\u001b[0;34m)\u001b[0m\u001b[0;34m\u001b[0m\u001b[0;34m\u001b[0m\u001b[0m\n\u001b[0m\u001b[1;32m    445\u001b[0m     \u001b[0;32mreturn\u001b[0m \u001b[0mrepack\u001b[0m\u001b[0;34m(\u001b[0m\u001b[0;34m[\u001b[0m\u001b[0mf\u001b[0m\u001b[0;34m(\u001b[0m\u001b[0mr\u001b[0m\u001b[0;34m,\u001b[0m \u001b[0;34m*\u001b[0m\u001b[0ma\u001b[0m\u001b[0;34m)\u001b[0m \u001b[0;32mfor\u001b[0m \u001b[0mr\u001b[0m\u001b[0;34m,\u001b[0m \u001b[0;34m(\u001b[0m\u001b[0mf\u001b[0m\u001b[0;34m,\u001b[0m \u001b[0ma\u001b[0m\u001b[0;34m)\u001b[0m \u001b[0;32min\u001b[0m \u001b[0mzip\u001b[0m\u001b[0;34m(\u001b[0m\u001b[0mresults\u001b[0m\u001b[0;34m,\u001b[0m \u001b[0mpostcomputes\u001b[0m\u001b[0;34m)\u001b[0m\u001b[0;34m]\u001b[0m\u001b[0;34m)\u001b[0m\u001b[0;34m\u001b[0m\u001b[0;34m\u001b[0m\u001b[0m\n\u001b[1;32m    446\u001b[0m \u001b[0;34m\u001b[0m\u001b[0m\n",
      "\u001b[0;32m/workspace/src/dask/distributed/distributed/client.py\u001b[0m in \u001b[0;36mget\u001b[0;34m(self, dsk, keys, restrictions, loose_restrictions, resources, sync, asynchronous, direct, retries, priority, fifo_timeout, actors, **kwargs)\u001b[0m\n\u001b[1;32m   2680\u001b[0m                     \u001b[0mshould_rejoin\u001b[0m \u001b[0;34m=\u001b[0m \u001b[0;32mFalse\u001b[0m\u001b[0;34m\u001b[0m\u001b[0;34m\u001b[0m\u001b[0m\n\u001b[1;32m   2681\u001b[0m             \u001b[0;32mtry\u001b[0m\u001b[0;34m:\u001b[0m\u001b[0;34m\u001b[0m\u001b[0;34m\u001b[0m\u001b[0m\n\u001b[0;32m-> 2682\u001b[0;31m                 \u001b[0mresults\u001b[0m \u001b[0;34m=\u001b[0m \u001b[0mself\u001b[0m\u001b[0;34m.\u001b[0m\u001b[0mgather\u001b[0m\u001b[0;34m(\u001b[0m\u001b[0mpacked\u001b[0m\u001b[0;34m,\u001b[0m \u001b[0masynchronous\u001b[0m\u001b[0;34m=\u001b[0m\u001b[0masynchronous\u001b[0m\u001b[0;34m,\u001b[0m \u001b[0mdirect\u001b[0m\u001b[0;34m=\u001b[0m\u001b[0mdirect\u001b[0m\u001b[0;34m)\u001b[0m\u001b[0;34m\u001b[0m\u001b[0;34m\u001b[0m\u001b[0m\n\u001b[0m\u001b[1;32m   2683\u001b[0m             \u001b[0;32mfinally\u001b[0m\u001b[0;34m:\u001b[0m\u001b[0;34m\u001b[0m\u001b[0;34m\u001b[0m\u001b[0m\n\u001b[1;32m   2684\u001b[0m                 \u001b[0;32mfor\u001b[0m \u001b[0mf\u001b[0m \u001b[0;32min\u001b[0m \u001b[0mfutures\u001b[0m\u001b[0;34m.\u001b[0m\u001b[0mvalues\u001b[0m\u001b[0;34m(\u001b[0m\u001b[0;34m)\u001b[0m\u001b[0;34m:\u001b[0m\u001b[0;34m\u001b[0m\u001b[0;34m\u001b[0m\u001b[0m\n",
      "\u001b[0;32m/workspace/src/dask/distributed/distributed/client.py\u001b[0m in \u001b[0;36mgather\u001b[0;34m(self, futures, errors, direct, asynchronous)\u001b[0m\n\u001b[1;32m   1974\u001b[0m             \u001b[0;32melse\u001b[0m\u001b[0;34m:\u001b[0m\u001b[0;34m\u001b[0m\u001b[0;34m\u001b[0m\u001b[0m\n\u001b[1;32m   1975\u001b[0m                 \u001b[0mlocal_worker\u001b[0m \u001b[0;34m=\u001b[0m \u001b[0;32mNone\u001b[0m\u001b[0;34m\u001b[0m\u001b[0;34m\u001b[0m\u001b[0m\n\u001b[0;32m-> 1976\u001b[0;31m             return self.sync(\n\u001b[0m\u001b[1;32m   1977\u001b[0m                 \u001b[0mself\u001b[0m\u001b[0;34m.\u001b[0m\u001b[0m_gather\u001b[0m\u001b[0;34m,\u001b[0m\u001b[0;34m\u001b[0m\u001b[0;34m\u001b[0m\u001b[0m\n\u001b[1;32m   1978\u001b[0m                 \u001b[0mfutures\u001b[0m\u001b[0;34m,\u001b[0m\u001b[0;34m\u001b[0m\u001b[0;34m\u001b[0m\u001b[0m\n",
      "\u001b[0;32m/workspace/src/dask/distributed/distributed/client.py\u001b[0m in \u001b[0;36msync\u001b[0;34m(self, func, asynchronous, callback_timeout, *args, **kwargs)\u001b[0m\n\u001b[1;32m    829\u001b[0m             \u001b[0;32mreturn\u001b[0m \u001b[0mfuture\u001b[0m\u001b[0;34m\u001b[0m\u001b[0;34m\u001b[0m\u001b[0m\n\u001b[1;32m    830\u001b[0m         \u001b[0;32melse\u001b[0m\u001b[0;34m:\u001b[0m\u001b[0;34m\u001b[0m\u001b[0;34m\u001b[0m\u001b[0m\n\u001b[0;32m--> 831\u001b[0;31m             return sync(\n\u001b[0m\u001b[1;32m    832\u001b[0m                 \u001b[0mself\u001b[0m\u001b[0;34m.\u001b[0m\u001b[0mloop\u001b[0m\u001b[0;34m,\u001b[0m \u001b[0mfunc\u001b[0m\u001b[0;34m,\u001b[0m \u001b[0;34m*\u001b[0m\u001b[0margs\u001b[0m\u001b[0;34m,\u001b[0m \u001b[0mcallback_timeout\u001b[0m\u001b[0;34m=\u001b[0m\u001b[0mcallback_timeout\u001b[0m\u001b[0;34m,\u001b[0m \u001b[0;34m**\u001b[0m\u001b[0mkwargs\u001b[0m\u001b[0;34m\u001b[0m\u001b[0;34m\u001b[0m\u001b[0m\n\u001b[1;32m    833\u001b[0m             )\n",
      "\u001b[0;32m/workspace/src/dask/distributed/distributed/utils.py\u001b[0m in \u001b[0;36msync\u001b[0;34m(loop, func, callback_timeout, *args, **kwargs)\u001b[0m\n\u001b[1;32m    334\u001b[0m     \u001b[0;32melse\u001b[0m\u001b[0;34m:\u001b[0m\u001b[0;34m\u001b[0m\u001b[0;34m\u001b[0m\u001b[0m\n\u001b[1;32m    335\u001b[0m         \u001b[0;32mwhile\u001b[0m \u001b[0;32mnot\u001b[0m \u001b[0me\u001b[0m\u001b[0;34m.\u001b[0m\u001b[0mis_set\u001b[0m\u001b[0;34m(\u001b[0m\u001b[0;34m)\u001b[0m\u001b[0;34m:\u001b[0m\u001b[0;34m\u001b[0m\u001b[0;34m\u001b[0m\u001b[0m\n\u001b[0;32m--> 336\u001b[0;31m             \u001b[0me\u001b[0m\u001b[0;34m.\u001b[0m\u001b[0mwait\u001b[0m\u001b[0;34m(\u001b[0m\u001b[0;36m10\u001b[0m\u001b[0;34m)\u001b[0m\u001b[0;34m\u001b[0m\u001b[0;34m\u001b[0m\u001b[0m\n\u001b[0m\u001b[1;32m    337\u001b[0m     \u001b[0;32mif\u001b[0m \u001b[0merror\u001b[0m\u001b[0;34m[\u001b[0m\u001b[0;36m0\u001b[0m\u001b[0;34m]\u001b[0m\u001b[0;34m:\u001b[0m\u001b[0;34m\u001b[0m\u001b[0;34m\u001b[0m\u001b[0m\n\u001b[1;32m    338\u001b[0m         \u001b[0mtyp\u001b[0m\u001b[0;34m,\u001b[0m \u001b[0mexc\u001b[0m\u001b[0;34m,\u001b[0m \u001b[0mtb\u001b[0m \u001b[0;34m=\u001b[0m \u001b[0merror\u001b[0m\u001b[0;34m[\u001b[0m\u001b[0;36m0\u001b[0m\u001b[0;34m]\u001b[0m\u001b[0;34m\u001b[0m\u001b[0;34m\u001b[0m\u001b[0m\n",
      "\u001b[0;32m~/miniconda3/envs/coiled-sheer-coiled-def_pytorch/lib/python3.8/threading.py\u001b[0m in \u001b[0;36mwait\u001b[0;34m(self, timeout)\u001b[0m\n\u001b[1;32m    556\u001b[0m             \u001b[0msignaled\u001b[0m \u001b[0;34m=\u001b[0m \u001b[0mself\u001b[0m\u001b[0;34m.\u001b[0m\u001b[0m_flag\u001b[0m\u001b[0;34m\u001b[0m\u001b[0;34m\u001b[0m\u001b[0m\n\u001b[1;32m    557\u001b[0m             \u001b[0;32mif\u001b[0m \u001b[0;32mnot\u001b[0m \u001b[0msignaled\u001b[0m\u001b[0;34m:\u001b[0m\u001b[0;34m\u001b[0m\u001b[0;34m\u001b[0m\u001b[0m\n\u001b[0;32m--> 558\u001b[0;31m                 \u001b[0msignaled\u001b[0m \u001b[0;34m=\u001b[0m \u001b[0mself\u001b[0m\u001b[0;34m.\u001b[0m\u001b[0m_cond\u001b[0m\u001b[0;34m.\u001b[0m\u001b[0mwait\u001b[0m\u001b[0;34m(\u001b[0m\u001b[0mtimeout\u001b[0m\u001b[0;34m)\u001b[0m\u001b[0;34m\u001b[0m\u001b[0;34m\u001b[0m\u001b[0m\n\u001b[0m\u001b[1;32m    559\u001b[0m             \u001b[0;32mreturn\u001b[0m \u001b[0msignaled\u001b[0m\u001b[0;34m\u001b[0m\u001b[0;34m\u001b[0m\u001b[0m\n\u001b[1;32m    560\u001b[0m \u001b[0;34m\u001b[0m\u001b[0m\n",
      "\u001b[0;32m~/miniconda3/envs/coiled-sheer-coiled-def_pytorch/lib/python3.8/threading.py\u001b[0m in \u001b[0;36mwait\u001b[0;34m(self, timeout)\u001b[0m\n\u001b[1;32m    304\u001b[0m             \u001b[0;32melse\u001b[0m\u001b[0;34m:\u001b[0m\u001b[0;34m\u001b[0m\u001b[0;34m\u001b[0m\u001b[0m\n\u001b[1;32m    305\u001b[0m                 \u001b[0;32mif\u001b[0m \u001b[0mtimeout\u001b[0m \u001b[0;34m>\u001b[0m \u001b[0;36m0\u001b[0m\u001b[0;34m:\u001b[0m\u001b[0;34m\u001b[0m\u001b[0;34m\u001b[0m\u001b[0m\n\u001b[0;32m--> 306\u001b[0;31m                     \u001b[0mgotit\u001b[0m \u001b[0;34m=\u001b[0m \u001b[0mwaiter\u001b[0m\u001b[0;34m.\u001b[0m\u001b[0macquire\u001b[0m\u001b[0;34m(\u001b[0m\u001b[0;32mTrue\u001b[0m\u001b[0;34m,\u001b[0m \u001b[0mtimeout\u001b[0m\u001b[0;34m)\u001b[0m\u001b[0;34m\u001b[0m\u001b[0;34m\u001b[0m\u001b[0m\n\u001b[0m\u001b[1;32m    307\u001b[0m                 \u001b[0;32melse\u001b[0m\u001b[0;34m:\u001b[0m\u001b[0;34m\u001b[0m\u001b[0;34m\u001b[0m\u001b[0m\n\u001b[1;32m    308\u001b[0m                     \u001b[0mgotit\u001b[0m \u001b[0;34m=\u001b[0m \u001b[0mwaiter\u001b[0m\u001b[0;34m.\u001b[0m\u001b[0macquire\u001b[0m\u001b[0;34m(\u001b[0m\u001b[0;32mFalse\u001b[0m\u001b[0;34m)\u001b[0m\u001b[0;34m\u001b[0m\u001b[0;34m\u001b[0m\u001b[0m\n",
      "\u001b[0;31mKeyboardInterrupt\u001b[0m: "
     ]
    }
   ],
   "source": [
    "feat[:10].compute()"
   ]
  },
  {
   "cell_type": "code",
   "execution_count": 36,
   "metadata": {
    "ExecuteTime": {
     "end_time": "2020-08-19T14:48:36.917227Z",
     "start_time": "2020-08-19T14:48:36.067862Z"
    },
    "hidden": true
   },
   "outputs": [
    {
     "data": {
      "text/plain": [
       "10000"
      ]
     },
     "execution_count": 36,
     "metadata": {},
     "output_type": "execute_result"
    }
   ],
   "source": [
    "len(df.text)"
   ]
  },
  {
   "cell_type": "code",
   "execution_count": 26,
   "metadata": {
    "ExecuteTime": {
     "end_time": "2020-08-19T14:52:48.673229Z",
     "start_time": "2020-08-19T14:52:48.668202Z"
    },
    "hidden": true
   },
   "outputs": [],
   "source": [
    "feat = df.text.map_partitions(gen_sent_features, meta=np.empty((0,0), \n",
    "                                dtype='float32'))"
   ]
  },
  {
   "cell_type": "code",
   "execution_count": 27,
   "metadata": {
    "ExecuteTime": {
     "end_time": "2020-08-19T15:06:44.776727Z",
     "start_time": "2020-08-19T14:52:49.787242Z"
    },
    "hidden": true
   },
   "outputs": [],
   "source": [
    "sentence_embeddings = feat.compute()"
   ]
  },
  {
   "cell_type": "code",
   "execution_count": 28,
   "metadata": {
    "ExecuteTime": {
     "end_time": "2020-08-19T15:06:44.780598Z",
     "start_time": "2020-08-19T15:06:44.778259Z"
    },
    "hidden": true
   },
   "outputs": [],
   "source": [
    "embeddings_file_full = \"embeddings_full.npy\""
   ]
  },
  {
   "cell_type": "code",
   "execution_count": 30,
   "metadata": {
    "ExecuteTime": {
     "end_time": "2020-08-19T15:07:45.571695Z",
     "start_time": "2020-08-19T15:07:45.545130Z"
    },
    "hidden": true
   },
   "outputs": [],
   "source": [
    "# save tehse so we don't have to keep doing this\n",
    "np.save(embeddings_file_full, sentence_embeddings)"
   ]
  },
  {
   "cell_type": "code",
   "execution_count": 31,
   "metadata": {
    "ExecuteTime": {
     "end_time": "2020-08-19T15:07:54.968333Z",
     "start_time": "2020-08-19T15:07:54.958748Z"
    },
    "hidden": true
   },
   "outputs": [
    {
     "data": {
      "text/plain": [
       "(10000, 768)"
      ]
     },
     "execution_count": 31,
     "metadata": {},
     "output_type": "execute_result"
    }
   ],
   "source": [
    "sentence_embeddings.shape"
   ]
  },
  {
   "cell_type": "markdown",
   "metadata": {
    "heading_collapsed": true,
    "hidden": true
   },
   "source": [
    "## Local Model Training"
   ]
  },
  {
   "cell_type": "markdown",
   "metadata": {
    "hidden": true
   },
   "source": [
    "### With Embeddings"
   ]
  },
  {
   "cell_type": "code",
   "execution_count": 73,
   "metadata": {
    "ExecuteTime": {
     "end_time": "2020-08-21T13:04:48.413308Z",
     "start_time": "2020-08-21T13:04:48.398135Z"
    },
    "hidden": true
   },
   "outputs": [],
   "source": [
    "from dask_ml.model_selection import train_test_split\n",
    "import dask\n",
    "\n",
    "X_train, X_test, y_train, y_test = train_test_split(sentence_embeddings, classes, shuffle=True)\n",
    "\n",
    "# persist the data so it's not re-computed\n",
    "X_train, X_test, y_train, y_test = dask.persist(X_train, X_test, y_train, y_test)"
   ]
  },
  {
   "cell_type": "code",
   "execution_count": 74,
   "metadata": {
    "ExecuteTime": {
     "end_time": "2020-08-21T13:04:49.090623Z",
     "start_time": "2020-08-21T13:04:49.083104Z"
    },
    "hidden": true
   },
   "outputs": [
    {
     "data": {
      "text/plain": [
       "array([[-0.6420861 ,  0.35635602,  0.46377364, ..., -0.02072408,\n",
       "        -0.15344056,  0.5135324 ],\n",
       "       [-0.27175313, -0.09459253,  1.2993565 , ...,  0.81999063,\n",
       "         0.28646803,  0.62803245],\n",
       "       [-0.66346896,  0.18068172,  0.6943203 , ...,  0.9732542 ,\n",
       "        -0.27000448,  0.26392078],\n",
       "       ...,\n",
       "       [-0.7146554 ,  1.0973696 ,  0.8692502 , ...,  0.78516215,\n",
       "        -0.08688027,  0.28347337],\n",
       "       [ 0.11670861,  0.41923362,  0.5678272 , ...,  0.25726083,\n",
       "         0.01891077,  0.29377976],\n",
       "       [-0.34464687,  0.2876471 ,  0.45760393, ...,  0.45491216,\n",
       "        -0.73659074, -0.0227952 ]], dtype=float32)"
      ]
     },
     "execution_count": 74,
     "metadata": {},
     "output_type": "execute_result"
    }
   ],
   "source": [
    "X_train"
   ]
  },
  {
   "cell_type": "code",
   "execution_count": 75,
   "metadata": {
    "ExecuteTime": {
     "end_time": "2020-08-21T13:04:50.617939Z",
     "start_time": "2020-08-21T13:04:50.611365Z"
    },
    "hidden": true
   },
   "outputs": [
    {
     "data": {
      "text/plain": [
       "array([2, 1, 4, ..., 0, 2, 1])"
      ]
     },
     "execution_count": 75,
     "metadata": {},
     "output_type": "execute_result"
    }
   ],
   "source": [
    "y_train"
   ]
  },
  {
   "cell_type": "code",
   "execution_count": 76,
   "metadata": {
    "ExecuteTime": {
     "end_time": "2020-08-21T13:04:59.381362Z",
     "start_time": "2020-08-21T13:04:59.372528Z"
    },
    "hidden": true
   },
   "outputs": [],
   "source": [
    "import importlib\n",
    "import torch_model\n",
    "\n",
    "importlib.reload(torch_model)\n",
    "\n",
    "# Import our HiddenLayerNet pytorch model from a local torch_model.py module\n",
    "from torch_model import HiddenLayerNet\n",
    "# Send module with HiddenLayerNet to workers on cluster\n",
    "client.upload_file(\"torch_model.py\")"
   ]
  },
  {
   "cell_type": "code",
   "execution_count": 77,
   "metadata": {
    "ExecuteTime": {
     "end_time": "2020-08-21T13:05:01.351228Z",
     "start_time": "2020-08-21T13:05:01.344809Z"
    },
    "hidden": true
   },
   "outputs": [],
   "source": [
    "from skorch import NeuralNetClassifier\n",
    "\n",
    "niceties = {\n",
    "    \"callbacks\": False,\n",
    "    \"warm_start\": True,\n",
    "    \"train_split\": None,\n",
    "    \"max_epochs\": 100,\n",
    "}\n",
    "\n",
    "model = NeuralNetClassifier(\n",
    "    module=HiddenLayerNet,\n",
    "    module__n_features=X_train.shape[1],\n",
    "    module__n_outputs=5, #y_train.shape[1],\n",
    "    module__n_extra_layers=3,\n",
    "    optimizer=optim.SGD,\n",
    "    criterion=nn.CrossEntropyLoss,\n",
    "#    criterion=nn.MSELoss,\n",
    "    lr=0.1,\n",
    "    **niceties,\n",
    ")"
   ]
  },
  {
   "cell_type": "code",
   "execution_count": 78,
   "metadata": {
    "ExecuteTime": {
     "end_time": "2020-08-21T13:05:37.240463Z",
     "start_time": "2020-08-21T13:05:02.470433Z"
    },
    "collapsed": true,
    "hidden": true
   },
   "outputs": [
    {
     "name": "stdout",
     "output_type": "stream",
     "text": [
      "  epoch    train_loss     dur\n",
      "-------  ------------  ------\n",
      "      1        \u001b[36m1.6043\u001b[0m  0.3022\n",
      "      2        \u001b[36m1.4560\u001b[0m  0.2525\n",
      "      3        \u001b[36m1.3229\u001b[0m  0.2537\n",
      "      4        \u001b[36m1.2841\u001b[0m  0.2861\n",
      "      5        \u001b[36m1.2499\u001b[0m  0.3312\n",
      "      6        \u001b[36m1.2307\u001b[0m  0.2674\n",
      "      7        \u001b[36m1.2186\u001b[0m  0.3187\n",
      "      8        \u001b[36m1.2086\u001b[0m  0.2676\n",
      "      9        \u001b[36m1.1992\u001b[0m  0.2661\n",
      "     10        \u001b[36m1.1902\u001b[0m  0.2646\n",
      "     11        \u001b[36m1.1825\u001b[0m  0.2760\n",
      "     12        \u001b[36m1.1744\u001b[0m  0.2666\n",
      "     13        \u001b[36m1.1686\u001b[0m  0.2382\n",
      "     14        \u001b[36m1.1629\u001b[0m  0.2324\n",
      "     15        \u001b[36m1.1569\u001b[0m  0.2734\n",
      "     16        \u001b[36m1.1487\u001b[0m  0.2675\n",
      "     17        \u001b[36m1.1432\u001b[0m  0.2570\n",
      "     18        \u001b[36m1.1339\u001b[0m  0.2548\n",
      "     19        \u001b[36m1.1306\u001b[0m  0.2692\n",
      "     20        \u001b[36m1.1194\u001b[0m  0.2484\n",
      "     21        1.1200  0.2702\n",
      "     22        \u001b[36m1.1136\u001b[0m  0.3004\n",
      "     23        \u001b[36m1.1008\u001b[0m  0.2679\n",
      "     24        1.1027  0.2621\n",
      "     25        \u001b[36m1.0924\u001b[0m  0.2521\n",
      "     26        \u001b[36m1.0833\u001b[0m  0.3199\n",
      "     27        1.0860  0.2822\n",
      "     28        \u001b[36m1.0741\u001b[0m  0.2332\n",
      "     29        \u001b[36m1.0583\u001b[0m  0.3073\n",
      "     30        1.0609  0.2812\n",
      "     31        1.0604  0.2662\n",
      "     32        \u001b[36m1.0521\u001b[0m  0.3314\n",
      "     33        \u001b[36m1.0399\u001b[0m  0.2362\n",
      "     34        \u001b[36m1.0337\u001b[0m  0.2747\n",
      "     35        \u001b[36m1.0277\u001b[0m  0.2630\n",
      "     36        \u001b[36m1.0214\u001b[0m  0.2606\n",
      "     37        \u001b[36m1.0166\u001b[0m  0.2908\n",
      "     38        \u001b[36m1.0025\u001b[0m  0.2906\n",
      "     39        \u001b[36m0.9944\u001b[0m  0.3354\n",
      "     40        \u001b[36m0.9922\u001b[0m  0.3854\n",
      "     41        \u001b[36m0.9877\u001b[0m  0.4501\n",
      "     42        \u001b[36m0.9735\u001b[0m  0.4789\n",
      "     43        \u001b[36m0.9595\u001b[0m  0.4615\n",
      "     44        \u001b[36m0.9449\u001b[0m  0.3534\n",
      "     45        \u001b[36m0.9423\u001b[0m  0.3403\n",
      "     46        0.9545  0.3477\n",
      "     47        \u001b[36m0.9284\u001b[0m  0.3140\n",
      "     48        0.9289  0.3607\n",
      "     49        \u001b[36m0.9175\u001b[0m  0.3559\n",
      "     50        \u001b[36m0.9002\u001b[0m  0.2765\n",
      "     51        \u001b[36m0.8839\u001b[0m  0.3409\n",
      "     52        0.8987  0.3335\n",
      "     53        \u001b[36m0.8725\u001b[0m  0.2797\n",
      "     54        \u001b[36m0.8660\u001b[0m  0.5146\n",
      "     55        \u001b[36m0.8335\u001b[0m  0.4300\n",
      "     56        0.8535  0.3499\n",
      "     57        0.8423  0.3385\n",
      "     58        \u001b[36m0.8200\u001b[0m  0.4067\n",
      "     59        \u001b[36m0.7948\u001b[0m  0.4509\n",
      "     60        0.8012  0.2781\n",
      "     61        \u001b[36m0.7942\u001b[0m  0.4944\n",
      "     62        \u001b[36m0.7755\u001b[0m  0.4957\n",
      "     63        0.7787  0.4471\n",
      "     64        \u001b[36m0.7339\u001b[0m  0.4275\n",
      "     65        0.7452  0.4347\n",
      "     66        \u001b[36m0.7256\u001b[0m  0.3742\n",
      "     67        \u001b[36m0.7246\u001b[0m  0.3260\n",
      "     68        \u001b[36m0.7041\u001b[0m  0.4966\n",
      "     69        0.7599  0.2885\n",
      "     70        \u001b[36m0.6724\u001b[0m  0.2929\n",
      "     71        0.7021  0.2890\n",
      "     72        \u001b[36m0.6568\u001b[0m  0.3607\n",
      "     73        0.6805  0.3285\n",
      "     74        0.6600  0.2954\n",
      "     75        \u001b[36m0.6478\u001b[0m  0.2743\n",
      "     76        \u001b[36m0.5873\u001b[0m  0.2803\n",
      "     77        0.6049  0.4300\n",
      "     78        0.6451  0.5086\n",
      "     79        \u001b[36m0.5736\u001b[0m  0.4407\n",
      "     80        \u001b[36m0.5515\u001b[0m  0.3729\n",
      "     81        0.6336  0.2950\n",
      "     82        \u001b[36m0.5184\u001b[0m  0.2994\n",
      "     83        0.5368  0.2886\n",
      "     84        0.5338  0.3163\n",
      "     85        0.5527  0.2867\n",
      "     86        0.5437  0.3752\n",
      "     87        0.5300  0.2709\n",
      "     88        \u001b[36m0.4473\u001b[0m  0.2659\n",
      "     89        0.4976  0.2976\n",
      "     90        \u001b[36m0.4093\u001b[0m  0.2610\n",
      "     91        0.4945  0.2480\n",
      "     92        0.4237  0.3536\n",
      "     93        \u001b[36m0.4053\u001b[0m  0.2987\n",
      "     94        0.4143  0.2575\n",
      "     95        0.5125  0.2931\n",
      "     96        \u001b[36m0.3601\u001b[0m  0.2487\n",
      "     97        0.4289  0.2468\n",
      "     98        \u001b[36m0.3175\u001b[0m  0.2620\n",
      "     99        0.4041  0.2807\n",
      "    100        0.3740  0.2524\n"
     ]
    },
    {
     "data": {
      "text/plain": [
       "<class 'skorch.classifier.NeuralNetClassifier'>[initialized](\n",
       "  module_=HiddenLayerNet(\n",
       "    (fc1): Linear(in_features=768, out_features=100, bias=True)\n",
       "    (extra_layers): ModuleList(\n",
       "      (0): Linear(in_features=100, out_features=100, bias=True)\n",
       "      (1): Linear(in_features=100, out_features=100, bias=True)\n",
       "      (2): Linear(in_features=100, out_features=100, bias=True)\n",
       "    )\n",
       "    (fc2): Linear(in_features=100, out_features=5, bias=True)\n",
       "  ),\n",
       ")"
      ]
     },
     "execution_count": 78,
     "metadata": {},
     "output_type": "execute_result"
    }
   ],
   "source": [
    "model.fit(X_train, y_train)"
   ]
  },
  {
   "cell_type": "code",
   "execution_count": 79,
   "metadata": {
    "ExecuteTime": {
     "end_time": "2020-08-21T13:06:07.069084Z",
     "start_time": "2020-08-21T13:06:07.060169Z"
    },
    "hidden": true
   },
   "outputs": [
    {
     "data": {
      "text/plain": [
       "<bound method Module.parameters of HiddenLayerNet(\n",
       "  (fc1): Linear(in_features=768, out_features=100, bias=True)\n",
       "  (extra_layers): ModuleList(\n",
       "    (0): Linear(in_features=100, out_features=100, bias=True)\n",
       "    (1): Linear(in_features=100, out_features=100, bias=True)\n",
       "    (2): Linear(in_features=100, out_features=100, bias=True)\n",
       "  )\n",
       "  (fc2): Linear(in_features=100, out_features=5, bias=True)\n",
       ")>"
      ]
     },
     "execution_count": 79,
     "metadata": {},
     "output_type": "execute_result"
    }
   ],
   "source": [
    "model.module_.parameters"
   ]
  },
  {
   "cell_type": "code",
   "execution_count": 80,
   "metadata": {
    "ExecuteTime": {
     "end_time": "2020-08-21T13:06:08.962266Z",
     "start_time": "2020-08-21T13:06:08.718944Z"
    },
    "collapsed": true,
    "hidden": true
   },
   "outputs": [
    {
     "data": {
      "text/plain": [
       "[(2, 2),\n",
       " (1, 1),\n",
       " (4, 4),\n",
       " (3, 3),\n",
       " (2, 2),\n",
       " (4, 4),\n",
       " (1, 1),\n",
       " (0, 1),\n",
       " (1, 0),\n",
       " (1, 1),\n",
       " (3, 3),\n",
       " (4, 4),\n",
       " (4, 4),\n",
       " (2, 2),\n",
       " (4, 4),\n",
       " (2, 2),\n",
       " (3, 3),\n",
       " (4, 4),\n",
       " (0, 0),\n",
       " (1, 2),\n",
       " (0, 0),\n",
       " (4, 4),\n",
       " (4, 4),\n",
       " (1, 1),\n",
       " (2, 2),\n",
       " (1, 1),\n",
       " (0, 0),\n",
       " (3, 3),\n",
       " (4, 4),\n",
       " (3, 2),\n",
       " (1, 1),\n",
       " (2, 1),\n",
       " (4, 4),\n",
       " (2, 3),\n",
       " (3, 3),\n",
       " (1, 1),\n",
       " (2, 2),\n",
       " (1, 1),\n",
       " (3, 4),\n",
       " (1, 1),\n",
       " (3, 3),\n",
       " (2, 2),\n",
       " (0, 2),\n",
       " (1, 1),\n",
       " (4, 4),\n",
       " (2, 1),\n",
       " (4, 4),\n",
       " (1, 1),\n",
       " (4, 4),\n",
       " (0, 0),\n",
       " (2, 2),\n",
       " (1, 1),\n",
       " (1, 1),\n",
       " (3, 3),\n",
       " (1, 1),\n",
       " (1, 1),\n",
       " (3, 3),\n",
       " (0, 0),\n",
       " (0, 0),\n",
       " (4, 4),\n",
       " (3, 3),\n",
       " (3, 3),\n",
       " (2, 2),\n",
       " (4, 4),\n",
       " (1, 1),\n",
       " (0, 1),\n",
       " (4, 4),\n",
       " (1, 0),\n",
       " (1, 1),\n",
       " (3, 3),\n",
       " (0, 0),\n",
       " (1, 1),\n",
       " (4, 4),\n",
       " (1, 0),\n",
       " (3, 3),\n",
       " (4, 4),\n",
       " (0, 0),\n",
       " (3, 4),\n",
       " (3, 3),\n",
       " (4, 3),\n",
       " (2, 2),\n",
       " (2, 2),\n",
       " (1, 1),\n",
       " (1, 1),\n",
       " (2, 3),\n",
       " (1, 1),\n",
       " (4, 4),\n",
       " (1, 1),\n",
       " (4, 4),\n",
       " (3, 3),\n",
       " (2, 2),\n",
       " (1, 1),\n",
       " (3, 3),\n",
       " (2, 2),\n",
       " (1, 1),\n",
       " (1, 1),\n",
       " (0, 0),\n",
       " (3, 3),\n",
       " (2, 2),\n",
       " (2, 2),\n",
       " (4, 4),\n",
       " (3, 3),\n",
       " (0, 0),\n",
       " (3, 3),\n",
       " (4, 4),\n",
       " (1, 1),\n",
       " (4, 4),\n",
       " (4, 4),\n",
       " (1, 1),\n",
       " (1, 1),\n",
       " (0, 0),\n",
       " (1, 1),\n",
       " (0, 0),\n",
       " (3, 4),\n",
       " (2, 2),\n",
       " (1, 1),\n",
       " (2, 2),\n",
       " (0, 0),\n",
       " (0, 0),\n",
       " (2, 2),\n",
       " (4, 4),\n",
       " (3, 3),\n",
       " (1, 1),\n",
       " (2, 3),\n",
       " (3, 2),\n",
       " (2, 2),\n",
       " (1, 1),\n",
       " (1, 1),\n",
       " (1, 1),\n",
       " (2, 2),\n",
       " (4, 4),\n",
       " (3, 4),\n",
       " (0, 0),\n",
       " (1, 0),\n",
       " (2, 2),\n",
       " (3, 3),\n",
       " (1, 1),\n",
       " (2, 2),\n",
       " (0, 1),\n",
       " (3, 3),\n",
       " (4, 4),\n",
       " (2, 2),\n",
       " (2, 0),\n",
       " (2, 3),\n",
       " (4, 4),\n",
       " (3, 3),\n",
       " (3, 4),\n",
       " (4, 4),\n",
       " (1, 1),\n",
       " (0, 1),\n",
       " (0, 0),\n",
       " (0, 0),\n",
       " (3, 3),\n",
       " (2, 2),\n",
       " (1, 1),\n",
       " (0, 0),\n",
       " (2, 3),\n",
       " (4, 4),\n",
       " (4, 4),\n",
       " (2, 2),\n",
       " (2, 2),\n",
       " (1, 1),\n",
       " (1, 1),\n",
       " (2, 1),\n",
       " (1, 0),\n",
       " (4, 4),\n",
       " (0, 0),\n",
       " (4, 4),\n",
       " (3, 3),\n",
       " (0, 0),\n",
       " (1, 1),\n",
       " (1, 1),\n",
       " (4, 4),\n",
       " (3, 3),\n",
       " (3, 3),\n",
       " (3, 4),\n",
       " (2, 1),\n",
       " (2, 2),\n",
       " (2, 2),\n",
       " (1, 1),\n",
       " (1, 1),\n",
       " (1, 1),\n",
       " (1, 1),\n",
       " (0, 0),\n",
       " (2, 3),\n",
       " (4, 4),\n",
       " (0, 0),\n",
       " (2, 2),\n",
       " (1, 1),\n",
       " (3, 3),\n",
       " (1, 1),\n",
       " (3, 3),\n",
       " (4, 4),\n",
       " (0, 1),\n",
       " (0, 0),\n",
       " (1, 1),\n",
       " (1, 1),\n",
       " (4, 4),\n",
       " (4, 4),\n",
       " (2, 2),\n",
       " (1, 1),\n",
       " (3, 3),\n",
       " (3, 3),\n",
       " (3, 4),\n",
       " (1, 0),\n",
       " (1, 4),\n",
       " (0, 0),\n",
       " (2, 3),\n",
       " (1, 2),\n",
       " (2, 2),\n",
       " (0, 0),\n",
       " (3, 3),\n",
       " (2, 2),\n",
       " (4, 4),\n",
       " (0, 0),\n",
       " (3, 3),\n",
       " (1, 1),\n",
       " (1, 1),\n",
       " (1, 1),\n",
       " (2, 2),\n",
       " (3, 4),\n",
       " (4, 4),\n",
       " (4, 4),\n",
       " (3, 3),\n",
       " (3, 3),\n",
       " (4, 4),\n",
       " (3, 3),\n",
       " (3, 3),\n",
       " (3, 3),\n",
       " (2, 2),\n",
       " (0, 0),\n",
       " (2, 0),\n",
       " (4, 4),\n",
       " (3, 3),\n",
       " (2, 2),\n",
       " (3, 4),\n",
       " (1, 0),\n",
       " (0, 0),\n",
       " (2, 2),\n",
       " (2, 1),\n",
       " (4, 4),\n",
       " (1, 1),\n",
       " (3, 3),\n",
       " (4, 4),\n",
       " (2, 2),\n",
       " (0, 0),\n",
       " (4, 4),\n",
       " (3, 3),\n",
       " (1, 1),\n",
       " (2, 2),\n",
       " (2, 1),\n",
       " (3, 3),\n",
       " (2, 2),\n",
       " (2, 3),\n",
       " (1, 1),\n",
       " (1, 1),\n",
       " (3, 4),\n",
       " (2, 0),\n",
       " (3, 3),\n",
       " (1, 0),\n",
       " (3, 2),\n",
       " (2, 1),\n",
       " (1, 1),\n",
       " (2, 2),\n",
       " (2, 0),\n",
       " (4, 4),\n",
       " (3, 3),\n",
       " (3, 3),\n",
       " (4, 4),\n",
       " (0, 0),\n",
       " (0, 0),\n",
       " (2, 2),\n",
       " (2, 2),\n",
       " (1, 1),\n",
       " (3, 3),\n",
       " (3, 3),\n",
       " (3, 0),\n",
       " (1, 2),\n",
       " (2, 2),\n",
       " (4, 4),\n",
       " (1, 1),\n",
       " (3, 3),\n",
       " (3, 3),\n",
       " (4, 4),\n",
       " (2, 3),\n",
       " (3, 3),\n",
       " (2, 2),\n",
       " (0, 0),\n",
       " (3, 3),\n",
       " (3, 3),\n",
       " (3, 3),\n",
       " (3, 3),\n",
       " (0, 0),\n",
       " (2, 2),\n",
       " (1, 1),\n",
       " (2, 2),\n",
       " (4, 4),\n",
       " (2, 2),\n",
       " (4, 4),\n",
       " (0, 0),\n",
       " (1, 2),\n",
       " (3, 3),\n",
       " (0, 0),\n",
       " (2, 2),\n",
       " (4, 4),\n",
       " (0, 0),\n",
       " (0, 0),\n",
       " (4, 4),\n",
       " (4, 4),\n",
       " (2, 2),\n",
       " (3, 4),\n",
       " (4, 4),\n",
       " (3, 3),\n",
       " (1, 1),\n",
       " (4, 2),\n",
       " (1, 0),\n",
       " (3, 3),\n",
       " (3, 3),\n",
       " (3, 4),\n",
       " (0, 0),\n",
       " (2, 2),\n",
       " (2, 2),\n",
       " (3, 3),\n",
       " (2, 1),\n",
       " (3, 3),\n",
       " (4, 4),\n",
       " (1, 1),\n",
       " (4, 4),\n",
       " (1, 1),\n",
       " (3, 4),\n",
       " (0, 0),\n",
       " (3, 4),\n",
       " (1, 0),\n",
       " (2, 2),\n",
       " (3, 4),\n",
       " (0, 0),\n",
       " (0, 0),\n",
       " (3, 3),\n",
       " (3, 3),\n",
       " (0, 0),\n",
       " (2, 2),\n",
       " (2, 2),\n",
       " (2, 1),\n",
       " (3, 3),\n",
       " (4, 4),\n",
       " (3, 3),\n",
       " (2, 0),\n",
       " (2, 3),\n",
       " (3, 3),\n",
       " (3, 4),\n",
       " (2, 2),\n",
       " (1, 2),\n",
       " (0, 0),\n",
       " (4, 4),\n",
       " (4, 4),\n",
       " (2, 3),\n",
       " (0, 0),\n",
       " (0, 1),\n",
       " (1, 2),\n",
       " (2, 2),\n",
       " (2, 2),\n",
       " (1, 2),\n",
       " (2, 1),\n",
       " (0, 0),\n",
       " (1, 1),\n",
       " (3, 3),\n",
       " (4, 4),\n",
       " (0, 0),\n",
       " (1, 0),\n",
       " (4, 4),\n",
       " (4, 4),\n",
       " (0, 0),\n",
       " (2, 2),\n",
       " (4, 4),\n",
       " (1, 0),\n",
       " (2, 2),\n",
       " (3, 3),\n",
       " (2, 2),\n",
       " (0, 0),\n",
       " (0, 0),\n",
       " (0, 0),\n",
       " (2, 2),\n",
       " (3, 3),\n",
       " (3, 3),\n",
       " (2, 2),\n",
       " (2, 2),\n",
       " (4, 4),\n",
       " (4, 4),\n",
       " (1, 1),\n",
       " (1, 0),\n",
       " (1, 0),\n",
       " (1, 1),\n",
       " (1, 1),\n",
       " (1, 1),\n",
       " (2, 2),\n",
       " (2, 2),\n",
       " (2, 0),\n",
       " (3, 3),\n",
       " (3, 3),\n",
       " (2, 2),\n",
       " (2, 2),\n",
       " (1, 0),\n",
       " (1, 1),\n",
       " (4, 4),\n",
       " (1, 0),\n",
       " (1, 1),\n",
       " (4, 4),\n",
       " (2, 2),\n",
       " (1, 1),\n",
       " (0, 0),\n",
       " (1, 0),\n",
       " (1, 2),\n",
       " (0, 0),\n",
       " (3, 4),\n",
       " (1, 1),\n",
       " (2, 2),\n",
       " (3, 4),\n",
       " (2, 2),\n",
       " (4, 4),\n",
       " (0, 0),\n",
       " (2, 2),\n",
       " (0, 0),\n",
       " (1, 3),\n",
       " (2, 3),\n",
       " (4, 4),\n",
       " (3, 4),\n",
       " (0, 0),\n",
       " (2, 2),\n",
       " (0, 0),\n",
       " (0, 0),\n",
       " (1, 1),\n",
       " (4, 4),\n",
       " (3, 3),\n",
       " (3, 4),\n",
       " (3, 3),\n",
       " (1, 1),\n",
       " (0, 0),\n",
       " (2, 2),\n",
       " (0, 0),\n",
       " (3, 3),\n",
       " (2, 2),\n",
       " (2, 2),\n",
       " (2, 2),\n",
       " (1, 1),\n",
       " (2, 2),\n",
       " (4, 3),\n",
       " (4, 4),\n",
       " (0, 0),\n",
       " (3, 3),\n",
       " (0, 0),\n",
       " (0, 0),\n",
       " (3, 3),\n",
       " (4, 4),\n",
       " (1, 1),\n",
       " (2, 2),\n",
       " (1, 1),\n",
       " (1, 1),\n",
       " (2, 2),\n",
       " (3, 3),\n",
       " (2, 1),\n",
       " (3, 3),\n",
       " (4, 4),\n",
       " (1, 0),\n",
       " (3, 2),\n",
       " (0, 0),\n",
       " (1, 0),\n",
       " (3, 3),\n",
       " (4, 4),\n",
       " (1, 1),\n",
       " (1, 1),\n",
       " (2, 2),\n",
       " (2, 2),\n",
       " (1, 1),\n",
       " (2, 2),\n",
       " (2, 3),\n",
       " (3, 4),\n",
       " (2, 2),\n",
       " (2, 2),\n",
       " (1, 1),\n",
       " (3, 3),\n",
       " (0, 0),\n",
       " (2, 2),\n",
       " (2, 2),\n",
       " (4, 4),\n",
       " (2, 1),\n",
       " (4, 4),\n",
       " (2, 2),\n",
       " (3, 4),\n",
       " (1, 3),\n",
       " (2, 2),\n",
       " (4, 4),\n",
       " (1, 1),\n",
       " (1, 1),\n",
       " (1, 0),\n",
       " (1, 1),\n",
       " (3, 3),\n",
       " (4, 4),\n",
       " (3, 3),\n",
       " (2, 2),\n",
       " (2, 2),\n",
       " (2, 2),\n",
       " (2, 2),\n",
       " (0, 0),\n",
       " (1, 1),\n",
       " (0, 0),\n",
       " (0, 0),\n",
       " (2, 2),\n",
       " (1, 1),\n",
       " (2, 2),\n",
       " (1, 1),\n",
       " (0, 0),\n",
       " (1, 1),\n",
       " (2, 2),\n",
       " (0, 0),\n",
       " (3, 3),\n",
       " (2, 2),\n",
       " (1, 1),\n",
       " (2, 2),\n",
       " (4, 4),\n",
       " (2, 2),\n",
       " (4, 4),\n",
       " (3, 3),\n",
       " (0, 0),\n",
       " (1, 1),\n",
       " (1, 1),\n",
       " (3, 4),\n",
       " (0, 0),\n",
       " (0, 0),\n",
       " (3, 3),\n",
       " (2, 2),\n",
       " (0, 2),\n",
       " (0, 0),\n",
       " (4, 4),\n",
       " (1, 1),\n",
       " (3, 3),\n",
       " (3, 3),\n",
       " (0, 0),\n",
       " (0, 0),\n",
       " (3, 3),\n",
       " (3, 3),\n",
       " (3, 4),\n",
       " (2, 2),\n",
       " (3, 4),\n",
       " (3, 4),\n",
       " (2, 1),\n",
       " (1, 1),\n",
       " (3, 3),\n",
       " (0, 0),\n",
       " (4, 4),\n",
       " (3, 3),\n",
       " (1, 0),\n",
       " (0, 0),\n",
       " (1, 1),\n",
       " (1, 0),\n",
       " (2, 2),\n",
       " (2, 2),\n",
       " (0, 0),\n",
       " (3, 2),\n",
       " (0, 0),\n",
       " (4, 4),\n",
       " (4, 4),\n",
       " (3, 3),\n",
       " (2, 1),\n",
       " (4, 4),\n",
       " (1, 1),\n",
       " (4, 3),\n",
       " (3, 3),\n",
       " (3, 2),\n",
       " (3, 3),\n",
       " (4, 4),\n",
       " (2, 2),\n",
       " (3, 3),\n",
       " (1, 1),\n",
       " (1, 1),\n",
       " (3, 1),\n",
       " (2, 3),\n",
       " (4, 4),\n",
       " (2, 2),\n",
       " (3, 4),\n",
       " (1, 0),\n",
       " (3, 3),\n",
       " (3, 3),\n",
       " (4, 4),\n",
       " (3, 3),\n",
       " (4, 4),\n",
       " (1, 1),\n",
       " (0, 0),\n",
       " (4, 4),\n",
       " (2, 3),\n",
       " (1, 0),\n",
       " (3, 3),\n",
       " (3, 2),\n",
       " (4, 4),\n",
       " (3, 3),\n",
       " (3, 4),\n",
       " (2, 2),\n",
       " (3, 3),\n",
       " (3, 3),\n",
       " (3, 3),\n",
       " (1, 2),\n",
       " (2, 2),\n",
       " (4, 4),\n",
       " (0, 0),\n",
       " (2, 3),\n",
       " (3, 4),\n",
       " (1, 1),\n",
       " (1, 1),\n",
       " (2, 2),\n",
       " (2, 2),\n",
       " (4, 4),\n",
       " (2, 2),\n",
       " (1, 1),\n",
       " (0, 0),\n",
       " (1, 1),\n",
       " (1, 0),\n",
       " (0, 0),\n",
       " (2, 2),\n",
       " (1, 1),\n",
       " (2, 2),\n",
       " (4, 4),\n",
       " (3, 3),\n",
       " (3, 3),\n",
       " (4, 4),\n",
       " (4, 4),\n",
       " (4, 4),\n",
       " (3, 2),\n",
       " (1, 1),\n",
       " (3, 3),\n",
       " (3, 3),\n",
       " (4, 4),\n",
       " (2, 1),\n",
       " (4, 2),\n",
       " (0, 0),\n",
       " (1, 1),\n",
       " (1, 1),\n",
       " (3, 3),\n",
       " (4, 4),\n",
       " (3, 2),\n",
       " (3, 3),\n",
       " (2, 2),\n",
       " (0, 0),\n",
       " (1, 1),\n",
       " (1, 0),\n",
       " (2, 2),\n",
       " (2, 3),\n",
       " (2, 2),\n",
       " (1, 2),\n",
       " (1, 1),\n",
       " (2, 2),\n",
       " (2, 2),\n",
       " (1, 1),\n",
       " (3, 3),\n",
       " (3, 3),\n",
       " (2, 2),\n",
       " (2, 4),\n",
       " (1, 1),\n",
       " (3, 3),\n",
       " (1, 1),\n",
       " (2, 2),\n",
       " (3, 3),\n",
       " (3, 4),\n",
       " (0, 0),\n",
       " (3, 4),\n",
       " (0, 0),\n",
       " (2, 2),\n",
       " (4, 4),\n",
       " (3, 3),\n",
       " (1, 0),\n",
       " (2, 2),\n",
       " (2, 0),\n",
       " (4, 4),\n",
       " (3, 4),\n",
       " (2, 0),\n",
       " (2, 1),\n",
       " (3, 3),\n",
       " (1, 1),\n",
       " (0, 0),\n",
       " (2, 2),\n",
       " (3, 3),\n",
       " (1, 1),\n",
       " (0, 0),\n",
       " (1, 2),\n",
       " (0, 0),\n",
       " (3, 4),\n",
       " (0, 0),\n",
       " (1, 1),\n",
       " (1, 0),\n",
       " (4, 4),\n",
       " (2, 2),\n",
       " (3, 3),\n",
       " (3, 3),\n",
       " (3, 3),\n",
       " (0, 0),\n",
       " (4, 4),\n",
       " (4, 4),\n",
       " (1, 1),\n",
       " (3, 3),\n",
       " (2, 2),\n",
       " (0, 0),\n",
       " (2, 2),\n",
       " (0, 0),\n",
       " (3, 3),\n",
       " (3, 3),\n",
       " (3, 3),\n",
       " (0, 0),\n",
       " (3, 3),\n",
       " (2, 2),\n",
       " (0, 0),\n",
       " (3, 4),\n",
       " (1, 0),\n",
       " (4, 4),\n",
       " (0, 0),\n",
       " (3, 3),\n",
       " (3, 4),\n",
       " (4, 4),\n",
       " (2, 2),\n",
       " (4, 4),\n",
       " (1, 1),\n",
       " (3, 3),\n",
       " (4, 4),\n",
       " (1, 1),\n",
       " (4, 4),\n",
       " (1, 1),\n",
       " (3, 4),\n",
       " (4, 4),\n",
       " (3, 3),\n",
       " (1, 2),\n",
       " (1, 0),\n",
       " (4, 4),\n",
       " (1, 1),\n",
       " (3, 3),\n",
       " (1, 1),\n",
       " (0, 0),\n",
       " (3, 4),\n",
       " (1, 2),\n",
       " (1, 0),\n",
       " (1, 1),\n",
       " (0, 0),\n",
       " (3, 3),\n",
       " (2, 2),\n",
       " (0, 0),\n",
       " (2, 2),\n",
       " (3, 3),\n",
       " (0, 0),\n",
       " (2, 2),\n",
       " (1, 2),\n",
       " (1, 0),\n",
       " (0, 0),\n",
       " (2, 2),\n",
       " (3, 3),\n",
       " (1, 1),\n",
       " (1, 1),\n",
       " (4, 4),\n",
       " (0, 0),\n",
       " (2, 2),\n",
       " (0, 0),\n",
       " (4, 4),\n",
       " (2, 1),\n",
       " (4, 4),\n",
       " (1, 1),\n",
       " (1, 1),\n",
       " (4, 4),\n",
       " (0, 0),\n",
       " (2, 2),\n",
       " (3, 3),\n",
       " (1, 1),\n",
       " (3, 1),\n",
       " (0, 0),\n",
       " (0, 0),\n",
       " (4, 4),\n",
       " (1, 1),\n",
       " (1, 1),\n",
       " (3, 4),\n",
       " (0, 0),\n",
       " (3, 4),\n",
       " (1, 1),\n",
       " (3, 2),\n",
       " (2, 2),\n",
       " (2, 3),\n",
       " (2, 2),\n",
       " (2, 2),\n",
       " (2, 4),\n",
       " (1, 1),\n",
       " (2, 2),\n",
       " (4, 4),\n",
       " (1, 3),\n",
       " (0, 0),\n",
       " (3, 3),\n",
       " (3, 2),\n",
       " (0, 0),\n",
       " (0, 0),\n",
       " (4, 4),\n",
       " (1, 1),\n",
       " (1, 1),\n",
       " (1, 1),\n",
       " (1, 1),\n",
       " (1, 1),\n",
       " (2, 2),\n",
       " (2, 2),\n",
       " (0, 0),\n",
       " (2, 2),\n",
       " (1, 1),\n",
       " (2, 2),\n",
       " (3, 3),\n",
       " (3, 3),\n",
       " (3, 3),\n",
       " (1, 0),\n",
       " (1, 1),\n",
       " (2, 3),\n",
       " (1, 2),\n",
       " (2, 2),\n",
       " (3, 3),\n",
       " (0, 0),\n",
       " (1, 1),\n",
       " (1, 2),\n",
       " (4, 4),\n",
       " (4, 4),\n",
       " (3, 1),\n",
       " (3, 3),\n",
       " (4, 2),\n",
       " (2, 2),\n",
       " (3, 1),\n",
       " (3, 3),\n",
       " (0, 0),\n",
       " (2, 4),\n",
       " (0, 0),\n",
       " (2, 2),\n",
       " (2, 1),\n",
       " (2, 2),\n",
       " (1, 0),\n",
       " (2, 2),\n",
       " (3, 3),\n",
       " (3, 2),\n",
       " (2, 1),\n",
       " (4, 4),\n",
       " (1, 1),\n",
       " (1, 1),\n",
       " (2, 1),\n",
       " (3, 4),\n",
       " (2, 2),\n",
       " (3, 3),\n",
       " (2, 2),\n",
       " (3, 3),\n",
       " (3, 1),\n",
       " (2, 1),\n",
       " (0, 0),\n",
       " (1, 2),\n",
       " (2, 2),\n",
       " (4, 4),\n",
       " (0, 0),\n",
       " (1, 0),\n",
       " (3, 3),\n",
       " (3, 4),\n",
       " (0, 0),\n",
       " (1, 3),\n",
       " (1, 0),\n",
       " (2, 2),\n",
       " (3, 3),\n",
       " (3, 3),\n",
       " (1, 1),\n",
       " (1, 1),\n",
       " (4, 4),\n",
       " (3, 3),\n",
       " (4, 4),\n",
       " (0, 0),\n",
       " (2, 2),\n",
       " (2, 2),\n",
       " (1, 1),\n",
       " (2, 2),\n",
       " (0, 0),\n",
       " (0, 0),\n",
       " (2, 2),\n",
       " (4, 4),\n",
       " (0, 0),\n",
       " (1, 0),\n",
       " (1, 1),\n",
       " (3, 3),\n",
       " (1, 0),\n",
       " (0, 0),\n",
       " (0, 1),\n",
       " (2, 2),\n",
       " (2, 2),\n",
       " (4, 4),\n",
       " (0, 1),\n",
       " (1, 1),\n",
       " (3, 3),\n",
       " (3, 3),\n",
       " (2, 4),\n",
       " (2, 2),\n",
       " (3, 3),\n",
       " (3, 3),\n",
       " (1, 1),\n",
       " (1, 0),\n",
       " (3, 3),\n",
       " (2, 2),\n",
       " (3, 3),\n",
       " (4, 4),\n",
       " (2, 2),\n",
       " (0, 0),\n",
       " (2, 2),\n",
       " (4, 4),\n",
       " (3, 3),\n",
       " (2, 2),\n",
       " (3, 3),\n",
       " (3, 3),\n",
       " (1, 1),\n",
       " (2, 4),\n",
       " (3, 4),\n",
       " (2, 4),\n",
       " (0, 0),\n",
       " (4, 4),\n",
       " (2, 2),\n",
       " (1, 1),\n",
       " (2, 3),\n",
       " (2, 2),\n",
       " (3, 3),\n",
       " (0, 0),\n",
       " (3, 3),\n",
       " (1, 1),\n",
       " (4, 4),\n",
       " (4, 4),\n",
       " (2, 2),\n",
       " (1, 1),\n",
       " (3, 3),\n",
       " (4, 4),\n",
       " (3, 3),\n",
       " (3, 3),\n",
       " (1, 1),\n",
       " (2, 2),\n",
       " (1, 1),\n",
       " (2, 3),\n",
       " (4, 4),\n",
       " (1, 2),\n",
       " (3, 4),\n",
       " (3, 3),\n",
       " (0, 0),\n",
       " (1, 1),\n",
       " (0, 1),\n",
       " (1, 1),\n",
       " (3, 3),\n",
       " (3, 4),\n",
       " (1, 1),\n",
       " (0, 0),\n",
       " (1, 1),\n",
       " (2, 1),\n",
       " (3, 3),\n",
       " (2, 2),\n",
       " (1, 1),\n",
       " (1, 2),\n",
       " (0, 0),\n",
       " (3, 3),\n",
       " (1, 0),\n",
       " (3, 3),\n",
       " (3, 1),\n",
       " (3, 4),\n",
       " (3, 1),\n",
       " (0, 0),\n",
       " (3, 3),\n",
       " (0, 0),\n",
       " (1, 1),\n",
       " (1, 1),\n",
       " (3, 4),\n",
       " (1, 4),\n",
       " (3, 3),\n",
       " (1, 1),\n",
       " (1, 1),\n",
       " (3, 4),\n",
       " (1, 1),\n",
       " (2, 2),\n",
       " (1, 1),\n",
       " (2, 3),\n",
       " (4, 4),\n",
       " (4, 2),\n",
       " (1, 0),\n",
       " (3, 4),\n",
       " (3, 3),\n",
       " (3, 4),\n",
       " (0, 0),\n",
       " (0, 0),\n",
       " (1, 0),\n",
       " (0, 1),\n",
       " (4, 4),\n",
       " (3, 3),\n",
       " (2, 2),\n",
       " (4, 4),\n",
       " (3, 4),\n",
       " (3, 3),\n",
       " (3, 0),\n",
       " (0, 0),\n",
       " (1, 1),\n",
       " (4, 4),\n",
       " (1, 1),\n",
       " (1, 1),\n",
       " (3, 3),\n",
       " (2, 2),\n",
       " (2, 4),\n",
       " (1, 1),\n",
       " (1, 1),\n",
       " (2, 2),\n",
       " (0, 0),\n",
       " ...]"
      ]
     },
     "execution_count": 80,
     "metadata": {},
     "output_type": "execute_result"
    }
   ],
   "source": [
    "list(zip(model.predict(X_train), y_train))"
   ]
  },
  {
   "cell_type": "code",
   "execution_count": 81,
   "metadata": {
    "ExecuteTime": {
     "end_time": "2020-08-21T13:06:12.258136Z",
     "start_time": "2020-08-21T13:06:12.070645Z"
    },
    "hidden": true
   },
   "outputs": [
    {
     "data": {
      "text/plain": [
       "0.7513333333333333"
      ]
     },
     "execution_count": 81,
     "metadata": {},
     "output_type": "execute_result"
    }
   ],
   "source": [
    "model.score(X_train, y_train)"
   ]
  },
  {
   "cell_type": "code",
   "execution_count": 82,
   "metadata": {
    "ExecuteTime": {
     "end_time": "2020-08-21T13:06:14.161580Z",
     "start_time": "2020-08-21T13:06:14.126425Z"
    },
    "hidden": true
   },
   "outputs": [
    {
     "data": {
      "text/plain": [
       "0.379"
      ]
     },
     "execution_count": 82,
     "metadata": {},
     "output_type": "execute_result"
    }
   ],
   "source": [
    "model.score(X_test, y_test)"
   ]
  },
  {
   "cell_type": "code",
   "execution_count": 83,
   "metadata": {
    "ExecuteTime": {
     "end_time": "2020-08-21T13:06:21.489591Z",
     "start_time": "2020-08-21T13:06:21.480746Z"
    },
    "hidden": true
   },
   "outputs": [
    {
     "data": {
      "text/plain": [
       "(9000, 768)"
      ]
     },
     "execution_count": 83,
     "metadata": {},
     "output_type": "execute_result"
    }
   ],
   "source": [
    "X_train.shape"
   ]
  },
  {
   "cell_type": "code",
   "execution_count": 84,
   "metadata": {
    "ExecuteTime": {
     "end_time": "2020-08-21T13:06:36.656058Z",
     "start_time": "2020-08-21T13:06:36.619441Z"
    },
    "hidden": true
   },
   "outputs": [
    {
     "data": {
      "text/plain": [
       "array([[69, 69, 29, 21,  9],\n",
       "       [34, 89, 70, 22,  5],\n",
       "       [ 6, 76, 76, 50,  5],\n",
       "       [ 8,  4, 54, 90, 32],\n",
       "       [ 4, 11, 23, 89, 55]])"
      ]
     },
     "execution_count": 84,
     "metadata": {},
     "output_type": "execute_result"
    }
   ],
   "source": [
    "confusion_matrix(y_test, model.predict(X_test))"
   ]
  },
  {
   "cell_type": "markdown",
   "metadata": {
    "hidden": true
   },
   "source": [
    "### Tfidf Features"
   ]
  },
  {
   "cell_type": "code",
   "execution_count": 60,
   "metadata": {
    "ExecuteTime": {
     "end_time": "2020-08-19T15:09:54.831181Z",
     "start_time": "2020-08-19T15:09:54.687489Z"
    },
    "hidden": true
   },
   "outputs": [],
   "source": [
    "from dask_ml.model_selection import train_test_split\n",
    "import dask\n",
    "\n",
    "X_train, X_test, y_train, y_test = train_test_split(tfidfX, classes, shuffle=True)\n",
    "\n",
    "# persist the data so it's not re-computed\n",
    "X_train, X_test, y_train, y_test = dask.persist(X_train, X_test, y_train, y_test)"
   ]
  },
  {
   "cell_type": "code",
   "execution_count": 61,
   "metadata": {
    "ExecuteTime": {
     "end_time": "2020-08-19T15:09:55.636637Z",
     "start_time": "2020-08-19T15:09:55.627280Z"
    },
    "hidden": true
   },
   "outputs": [
    {
     "data": {
      "text/plain": [
       "(9000, 20000)"
      ]
     },
     "execution_count": 61,
     "metadata": {},
     "output_type": "execute_result"
    }
   ],
   "source": [
    "X_train.shape"
   ]
  },
  {
   "cell_type": "code",
   "execution_count": 58,
   "metadata": {
    "ExecuteTime": {
     "end_time": "2020-08-19T10:14:38.260783Z",
     "start_time": "2020-08-19T10:14:38.233877Z"
    },
    "collapsed": true,
    "hidden": true
   },
   "outputs": [
    {
     "data": {
      "text/plain": [
       "array([2742, 3259, 7853, 1161, 3807, 3574, 3780, 3389,  681, 5280,  312,\n",
       "       4469, 7625, 3333, 6016, 1414,  809, 4720,  117, 1774,  926, 2967,\n",
       "       3262, 1606, 3741, 7509, 7686, 3274, 7586,  349, 6399,  676, 1284,\n",
       "       6976, 2413, 2676, 6735, 5350,  178, 5475, 6788, 5101, 6314, 1399,\n",
       "        534, 3346, 4810, 2083, 5816, 1519, 6484, 5658, 1396, 4475, 4126,\n",
       "       1823, 2952,  330, 7254, 1819,  744, 3012, 6092, 7841, 1430, 4111,\n",
       "       1616, 2667, 5036, 6435, 3916, 2527, 7864, 5411, 1912, 1410, 3028,\n",
       "       2200,  666, 6735, 3373, 1138, 3996,  227,  926, 2756,  430, 3586,\n",
       "       6646, 3296, 5317, 6734, 5404, 7761,  463, 5703,  989, 7654,  442,\n",
       "       1828, 1209, 6454, 4809, 5891,  814,  347, 5254, 4926, 3510, 2552,\n",
       "       4960, 2281, 7205,  499, 3769,  878, 1325, 7698,  167, 2431, 7555,\n",
       "        249, 7837, 7112, 1051,   36, 4353, 5101, 4605, 2501, 6090, 3406,\n",
       "       6453, 1153, 1252, 1324, 1808,  976, 4251, 6455, 3195,  749, 1229,\n",
       "        372,  829, 3333, 5608, 3888, 4247,  107,  764,  355, 4060, 2027,\n",
       "        463,  506, 3506, 4386, 3962, 7032, 5085, 1662, 3985, 2393, 2337,\n",
       "       3411, 2820, 1285, 1177,  412, 3090, 6722, 6194, 3165, 6893, 2383,\n",
       "       7206, 6055,  535,  715, 1260,  654, 4175,  602, 6473, 5193, 4708,\n",
       "       7833, 3333, 1568, 1162, 2848, 1194, 7542, 1805, 6922, 6414, 1471,\n",
       "       1436, 1632, 3333, 3087, 5430, 4688, 1260,  114, 6438, 4782, 5458,\n",
       "       2363, 4413, 1272, 6131, 6041, 4815, 1274,   34, 3165, 2967, 4324,\n",
       "       6311, 5490, 1874, 1307, 7733,  683,  282, 7239, 3514, 7103, 6910,\n",
       "       4131,  834, 2320, 5952,  679, 1509, 4246, 3797, 5101, 1887, 2622,\n",
       "       3128, 2005, 6393, 6015, 1607, 7756, 4393, 2370, 6031, 4244,  814,\n",
       "       4582, 2042,  462, 3444, 4485, 1128, 2571, 1498, 7636, 3544, 6943,\n",
       "       5564, 5178, 6939, 3263, 6851, 1944, 3658, 7224, 3417, 3428, 2639,\n",
       "       2458, 2548, 5634, 6028, 6971,  443,  482, 4941, 4232, 6455, 1198,\n",
       "       2428, 5589, 5618, 4534, 5192, 2319,  389, 7297,  974,  161, 2024,\n",
       "       7064, 7614, 1695, 2696, 1321, 4267,  442, 4605, 4923, 1459,  769,\n",
       "       3801, 7853, 3506, 5102, 1259, 7188, 7372,  747, 2256, 3763, 2758,\n",
       "         49, 4963, 1766, 4246, 1088,  735, 6487,  221, 2965,  463, 1639,\n",
       "       1248, 2691, 7455, 6298,  113, 2110, 1386, 3046, 4937, 7115, 1091,\n",
       "        738, 6856, 2680, 6511, 1845, 3738,  458, 3081, 1663, 3753, 2487,\n",
       "       1912, 1046, 4801, 7071, 6584, 7776, 4812, 2371, 2323, 1080, 1202,\n",
       "       6609, 2603, 4952, 4308, 6433,  463, 1385, 7064, 4316,  650, 4605,\n",
       "       3313, 6569,    9, 6170, 7237,  502,  875,  180,  298,   82,   80,\n",
       "       2959, 1491, 4736, 4888, 5552, 2927, 2967,  652, 4110, 1538, 7069,\n",
       "       5344, 5718, 3251, 3059, 3017, 4833, 1170, 2843, 7086, 5976, 2990,\n",
       "       4854, 7658, 1897, 1208, 6150, 2499,  946, 5738, 2251, 2967, 2148,\n",
       "       7340, 3722, 7158, 6488,  647,  919,  999, 6569, 6947,  169,  419,\n",
       "       3024, 7636, 3323, 1237, 6034, 3973,  688, 3326, 3026, 2843, 5108,\n",
       "       4780, 3428, 4920, 4047, 1260,  133, 4582,  376, 7062, 2958, 3276,\n",
       "       2978, 1269, 7064, 4449, 5909,  386, 4582, 2281,  866, 6944, 6614,\n",
       "        689, 5980,  527,  725, 3134, 1089, 2200, 7561, 1121,  535, 3204,\n",
       "       4035, 1444, 2623, 5610, 2627, 1642, 6762, 6914, 6336, 5570, 3865,\n",
       "       2076,   51, 1410, 5989, 2201, 3876, 4325, 7653, 7435,  500, 2799,\n",
       "       7639, 6854, 6043, 5797, 7516,  517,  965, 3116,  335, 2771, 7653,\n",
       "       2524, 2832,  979, 6272, 6665, 7634,   66, 1765, 6318, 4012, 2305,\n",
       "       1309, 7558,  397,  621, 3382, 3763, 2583, 3013,  615, 1200, 5031,\n",
       "       6762, 2331,  913, 5139, 2052, 3759,  838,  877, 3408, 1889, 5388,\n",
       "       2856, 6380, 6664, 1613, 1599, 3069, 5101,  765, 3155, 4538, 5170,\n",
       "       6723, 1414, 2888, 3970, 4113, 6453, 3411, 4821,  755, 7653, 4151,\n",
       "       3677, 4736, 2497, 5171, 1789, 5914, 7208, 2701,  735, 6093, 6894,\n",
       "       3728, 2251, 2447, 1160, 1352, 6390, 3478, 2732, 1078, 2802, 3352,\n",
       "       1248, 3428, 5934, 3770, 5967,   65, 5325,  422, 7296, 5989, 6458,\n",
       "       6966, 6936, 5551, 1408, 3865, 5615, 7134, 3433, 2120, 2294,  482,\n",
       "       1335, 5092, 1221, 5101, 4073,  441, 4657, 1980, 2432, 6461, 2548,\n",
       "       1260, 1802, 6598,  917, 1882, 1663, 6233, 4208,  674, 6028, 7193,\n",
       "       1200, 3189, 2712, 4179,  232,  405, 4745, 6642, 2288, 4582, 3686,\n",
       "       3850, 4443, 5378, 2092,  716, 2990, 1795, 4944,  177, 6738, 2331,\n",
       "       4592,  262, 1372, 1292, 6597, 3554, 2430, 7742, 7669, 3209, 5004,\n",
       "       5110, 1647, 7523,  920, 1501, 3109, 6873, 2643,  527, 7328, 4972,\n",
       "       2077, 1308,  798, 7322, 2281, 1090, 7773, 5101, 4006, 1288, 2251,\n",
       "       6156, 2967, 3264, 6484, 2732, 2238,  206, 5174, 1051,  961, 1193,\n",
       "       3275,  446, 6353,  398, 7525, 6454, 1299, 3110, 1067, 7776, 4582,\n",
       "       4265, 7653, 1904, 5887, 4454,  406, 6316, 7384, 1944, 2933, 1930,\n",
       "       1124, 5988, 6869,  715,  921, 2455, 7585, 4693, 1195, 2125, 2251,\n",
       "       1622, 5191, 7611, 4991,  464, 6253, 1966,  479, 2029, 6922, 2935,\n",
       "        510, 2847, 3140, 1053,  492, 2017, 2572, 1107, 5977,  916, 7412,\n",
       "       5757, 7064, 1597, 7746, 4606, 4562, 5417,  735, 4791, 6555, 2633,\n",
       "       1222, 2830, 4029, 4925,  784, 5175, 1181, 7478,  555, 2807,  225,\n",
       "         97, 5105, 4657, 4946, 4931, 3425, 3257, 4317, 7041,  395, 6610,\n",
       "       1128,  918, 6350, 1702, 6076, 5649,  322, 6132, 3533, 2865, 5552,\n",
       "       1506,  869, 2182, 2289,  690, 4241, 1260, 2818, 2303, 2204, 7158,\n",
       "       5139, 6438, 7755, 4948, 2593,  463, 4442, 7359,  935, 2281, 5727,\n",
       "       3877, 1622, 1036, 2229, 1952, 2235, 1671, 3216, 1838, 4280, 1809,\n",
       "       3966, 2708, 5014, 6403, 4181, 2281, 3299,  715, 3174, 4936, 1000,\n",
       "       1320, 7126,  692, 4817, 1121, 3996, 5888,  124,  619, 3612, 3273,\n",
       "       3106, 5237, 4999, 2389, 2732, 3051, 3663, 6431, 4174, 6805, 1236,\n",
       "        302, 7519,  155, 1795, 3747,  407, 1908, 7587, 3176, 3763, 2597,\n",
       "       7033, 7048, 1311,  431, 5911, 7017,  760, 7562, 5891, 6151, 1347,\n",
       "       3825, 4366, 5990, 4949, 1200, 1804, 3321, 4582, 7711, 6031, 4114,\n",
       "       7111, 1070,  382,  514, 2642, 1616,  317, 3357, 5974])"
      ]
     },
     "execution_count": 58,
     "metadata": {},
     "output_type": "execute_result"
    }
   ],
   "source": [
    "np.argmax(X_train, axis=1)"
   ]
  },
  {
   "cell_type": "code",
   "execution_count": 46,
   "metadata": {
    "ExecuteTime": {
     "end_time": "2020-08-19T10:13:02.219772Z",
     "start_time": "2020-08-19T10:13:02.212514Z"
    },
    "collapsed": true,
    "hidden": true
   },
   "outputs": [
    {
     "data": {
      "text/plain": [
       "array([1, 3, 3, 2, 1, 2, 1, 2, 2, 2, 0, 0, 4, 0, 3, 4, 1, 0, 1, 1, 3, 2,\n",
       "       4, 2, 0, 1, 1, 1, 2, 4, 2, 3, 1, 3, 3, 3, 2, 2, 0, 1, 0, 3, 4, 0,\n",
       "       1, 3, 4, 1, 3, 2, 2, 2, 2, 2, 0, 2, 0, 0, 3, 2, 4, 1, 0, 4, 3, 3,\n",
       "       3, 2, 3, 4, 3, 3, 2, 1, 2, 1, 3, 3, 4, 1, 3, 3, 3, 0, 4, 0, 1, 3,\n",
       "       0, 0, 4, 4, 2, 4, 3, 1, 4, 3, 3, 2, 2, 2, 3, 4, 0, 4, 3, 1, 0, 3,\n",
       "       1, 0, 3, 1, 0, 4, 1, 0, 4, 2, 0, 3, 4, 3, 0, 1, 4, 2, 2, 4, 1, 0,\n",
       "       4, 2, 2, 2, 3, 2, 0, 1, 4, 0, 3, 4, 4, 1, 1, 1, 3, 4, 2, 4, 1, 3,\n",
       "       3, 1, 2, 0, 1, 0, 1, 4, 2, 4, 2, 0, 2, 2, 1, 3, 4, 0, 1, 4, 4, 4,\n",
       "       2, 3, 2, 0, 4, 3, 1, 0, 1, 1, 3, 2, 3, 2, 4, 3, 2, 4, 4, 0, 3, 0,\n",
       "       1, 2, 0, 2, 0, 2, 4, 4, 2, 3, 1, 0, 2, 0, 2, 2, 2, 3, 0, 3, 2, 1,\n",
       "       2, 4, 2, 2, 3, 3, 4, 3, 1, 2, 3, 1, 3, 3, 1, 1, 0, 4, 2, 3, 3, 0,\n",
       "       4, 3, 2, 2, 2, 3, 0, 0, 2, 1, 1, 3, 4, 1, 0, 4, 0, 3, 4, 2, 4, 0,\n",
       "       0, 2, 0, 2, 0, 3, 1, 0, 0, 2, 3, 0, 2, 1, 4, 3, 4, 4, 3, 3, 2, 0,\n",
       "       2, 4, 1, 4, 0, 1, 4, 3, 1, 2, 4, 3, 2, 2, 0, 2, 3, 1, 3, 2, 0, 1,\n",
       "       2, 1, 2, 2, 1, 1, 2, 4, 2, 1, 2, 1, 4, 1, 0, 3, 4, 4, 4, 2, 3, 4,\n",
       "       4, 2, 3, 3, 4, 0, 4, 1, 1, 3, 2, 4, 2, 0, 1, 2, 1, 2, 2, 4, 3, 0,\n",
       "       3, 0, 1, 2, 2, 1, 1, 3, 3, 3, 3, 4, 1, 4, 4, 4, 3, 4, 0, 1, 4, 1,\n",
       "       2, 4, 4, 3, 4, 0, 1, 2, 0, 2, 0, 0, 2, 0, 0, 2, 2, 3, 1, 3, 2, 1,\n",
       "       2, 2, 3, 0, 1, 0, 1, 4, 0, 0, 2, 3, 2, 2, 4, 2, 3, 0, 0, 1, 4, 1,\n",
       "       0, 4, 1, 4, 2, 4, 1, 0, 2, 4, 0, 0, 3, 4, 0, 2, 2, 4, 3, 3, 2, 4,\n",
       "       4, 4, 0, 4, 4, 4, 2, 2, 2, 1, 4, 2, 4, 3, 4, 3, 3, 2, 1, 1, 2, 4,\n",
       "       3, 4, 0, 3, 0, 4, 2, 0, 2, 4, 1, 2, 4, 0, 2, 3, 4, 1, 1, 0, 3, 3,\n",
       "       2, 2, 0, 2, 4, 2, 2, 2, 2, 2, 1, 1, 0, 4, 1, 0, 1, 3, 2, 0, 2, 1,\n",
       "       2, 3, 0, 3, 2, 0, 0, 0, 1, 2, 0, 3, 3, 0, 2, 2, 4, 4, 2, 1, 2, 0,\n",
       "       1, 0, 1, 4, 4, 2, 2, 4, 3, 1, 4, 4, 3, 0, 3, 1, 4, 0, 1, 3, 4, 0,\n",
       "       2, 3, 2, 4, 2, 2, 1, 1, 3, 2, 2, 0, 0, 1, 1, 1, 2, 4, 1, 4, 2, 4,\n",
       "       4, 0, 3, 2, 1, 4, 2, 4, 3, 2, 3, 2, 2, 0, 1, 4, 3, 4, 3, 2, 1, 0,\n",
       "       1, 3, 4, 0, 2, 2, 2, 2, 0, 4, 3, 0, 2, 3, 1, 3, 1, 1, 3, 3, 4, 3,\n",
       "       2, 1, 1, 2, 0, 0, 4, 0, 1, 3, 3, 2, 0, 2, 4, 4, 0, 0, 2, 1, 0, 1,\n",
       "       0, 2, 4, 0, 2, 1, 2, 3, 0, 0, 1, 1, 2, 4, 3, 4, 0, 4, 2, 4, 4, 0,\n",
       "       1, 3, 4, 4, 0, 1, 3, 1, 4, 4, 2, 1, 2, 4, 0, 0, 0, 1, 2, 1, 4, 1,\n",
       "       1, 4, 1, 1, 1, 1, 2, 1, 3, 4, 1, 2, 4, 3, 3, 0, 1, 1, 1, 1, 0, 2,\n",
       "       4, 3, 2, 2, 2, 4, 1, 4, 3, 0, 1, 3, 4, 4, 4, 1, 4, 1, 0, 0, 4, 0,\n",
       "       3, 0, 3, 3, 3, 4, 0, 3, 2, 3, 0, 1, 1, 3, 1, 2, 2, 2, 3, 3, 2, 3,\n",
       "       4, 1, 4, 4, 0, 0, 1, 1, 4, 3, 0, 2, 1, 3, 1, 2, 2, 1, 4, 1, 0, 1,\n",
       "       3, 0, 2, 2, 1, 4, 4, 2, 3, 0, 2, 0, 3, 3, 4, 0, 3, 2, 2, 4, 4, 4,\n",
       "       4, 3, 4, 1, 4, 4, 3, 1, 0, 0, 1, 2, 4, 2, 2, 3, 3, 0, 0, 1, 1, 0,\n",
       "       2, 3, 3, 0, 1, 0, 0, 4, 3, 0, 0, 0, 1, 1, 4, 1, 4, 1, 1, 4, 2, 3,\n",
       "       1, 3, 2, 3, 4, 3, 3, 0, 0, 3, 2, 3, 4, 4, 4, 0, 2, 4, 4, 1, 2, 0,\n",
       "       0, 2, 3, 0, 0, 3, 3, 3, 2, 1, 1, 0, 1, 4, 4, 2, 1, 4, 3, 1, 3, 3,\n",
       "       0, 1, 2, 3, 3, 3, 2, 4, 3, 3, 0, 4, 4, 3, 3, 3, 2, 2, 1, 4])"
      ]
     },
     "execution_count": 46,
     "metadata": {},
     "output_type": "execute_result"
    }
   ],
   "source": [
    "y_train"
   ]
  },
  {
   "cell_type": "code",
   "execution_count": 62,
   "metadata": {
    "ExecuteTime": {
     "end_time": "2020-08-19T15:10:07.686249Z",
     "start_time": "2020-08-19T15:10:07.675147Z"
    },
    "hidden": true
   },
   "outputs": [],
   "source": [
    "import importlib\n",
    "import torch_model\n",
    "\n",
    "importlib.reload(torch_model)\n",
    "\n",
    "# Import our HiddenLayerNet pytorch model from a local torch_model.py module\n",
    "from torch_model import HiddenLayerNet\n",
    "# Send module with HiddenLayerNet to workers on cluster\n",
    "client.upload_file(\"torch_model.py\")"
   ]
  },
  {
   "cell_type": "code",
   "execution_count": 63,
   "metadata": {
    "ExecuteTime": {
     "end_time": "2020-08-19T15:10:08.446171Z",
     "start_time": "2020-08-19T15:10:08.437220Z"
    },
    "hidden": true
   },
   "outputs": [],
   "source": [
    "from skorch import NeuralNetClassifier\n",
    "\n",
    "niceties = {\n",
    "    \"callbacks\": False,\n",
    "    \"warm_start\": True,\n",
    "    \"train_split\": None,\n",
    "    \"max_epochs\": 100,\n",
    "}\n",
    "\n",
    "model = NeuralNetClassifier(\n",
    "    module=HiddenLayerNet,\n",
    "    module__n_features=X_train.shape[1],\n",
    "    module__n_outputs=5, #y_train.shape[1],\n",
    "    module__n_extra_layers=0,\n",
    "    optimizer=optim.SGD,\n",
    "    criterion=nn.CrossEntropyLoss,\n",
    "#    criterion=nn.MSELoss,\n",
    "    lr=0.5,\n",
    "    **niceties,\n",
    ")"
   ]
  },
  {
   "cell_type": "code",
   "execution_count": 64,
   "metadata": {
    "ExecuteTime": {
     "end_time": "2020-08-19T15:12:09.185484Z",
     "start_time": "2020-08-19T15:10:09.793994Z"
    },
    "collapsed": true,
    "hidden": true
   },
   "outputs": [
    {
     "name": "stdout",
     "output_type": "stream",
     "text": [
      "  epoch    train_loss     dur\n",
      "-------  ------------  ------\n",
      "      1        \u001b[36m1.6101\u001b[0m  1.1552\n",
      "      2        \u001b[36m1.6081\u001b[0m  1.2562\n",
      "      3        \u001b[36m1.6045\u001b[0m  1.1296\n",
      "      4        \u001b[36m1.5976\u001b[0m  1.1284\n",
      "      5        \u001b[36m1.5841\u001b[0m  1.1832\n",
      "      6        \u001b[36m1.5587\u001b[0m  1.1678\n",
      "      7        \u001b[36m1.5169\u001b[0m  1.1704\n",
      "      8        \u001b[36m1.4626\u001b[0m  1.1323\n",
      "      9        \u001b[36m1.4231\u001b[0m  1.3477\n",
      "     10        \u001b[36m1.4015\u001b[0m  1.1582\n",
      "     11        \u001b[36m1.3631\u001b[0m  1.1699\n",
      "     12        \u001b[36m1.3230\u001b[0m  1.3124\n",
      "     13        \u001b[36m1.2928\u001b[0m  1.1512\n",
      "     14        \u001b[36m1.2690\u001b[0m  1.0116\n",
      "     15        \u001b[36m1.2344\u001b[0m  1.1215\n",
      "     16        \u001b[36m1.1971\u001b[0m  1.1347\n",
      "     17        \u001b[36m1.1507\u001b[0m  1.1438\n",
      "     18        1.1517  1.1394\n",
      "     19        \u001b[36m1.1076\u001b[0m  1.1139\n",
      "     20        \u001b[36m1.1036\u001b[0m  1.1442\n",
      "     21        \u001b[36m1.0318\u001b[0m  1.1421\n",
      "     22        \u001b[36m1.0098\u001b[0m  1.1672\n",
      "     23        \u001b[36m0.9705\u001b[0m  1.0916\n",
      "     24        1.0065  1.1335\n",
      "     25        \u001b[36m0.9673\u001b[0m  1.1170\n",
      "     26        \u001b[36m0.9646\u001b[0m  1.1165\n",
      "     27        \u001b[36m0.9597\u001b[0m  1.1092\n",
      "     28        \u001b[36m0.9086\u001b[0m  1.0962\n",
      "     29        \u001b[36m0.8674\u001b[0m  1.0711\n",
      "     30        \u001b[36m0.8607\u001b[0m  1.0104\n",
      "     31        \u001b[36m0.8312\u001b[0m  1.0795\n",
      "     32        0.8408  1.0029\n",
      "     33        \u001b[36m0.8178\u001b[0m  0.9810\n",
      "     34        0.8244  1.3306\n",
      "     35        \u001b[36m0.7567\u001b[0m  1.2932\n",
      "     36        0.7765  1.1216\n",
      "     37        \u001b[36m0.7182\u001b[0m  1.1346\n",
      "     38        0.7203  1.1170\n",
      "     39        \u001b[36m0.6821\u001b[0m  1.1144\n",
      "     40        0.7473  1.1122\n",
      "     41        \u001b[36m0.6280\u001b[0m  1.1474\n",
      "     42        0.7267  1.1337\n",
      "     43        0.7172  1.1484\n",
      "     44        \u001b[36m0.6225\u001b[0m  1.1300\n",
      "     45        0.6779  1.3035\n",
      "     46        \u001b[36m0.6091\u001b[0m  1.3578\n",
      "     47        \u001b[36m0.5265\u001b[0m  1.5342\n",
      "     48        \u001b[36m0.5251\u001b[0m  1.2097\n",
      "     49        \u001b[36m0.4895\u001b[0m  1.1928\n",
      "     50        0.5029  1.0691\n",
      "     51        0.5768  1.2228\n",
      "     52        \u001b[36m0.3868\u001b[0m  1.1591\n",
      "     53        0.5098  1.0980\n",
      "     54        0.6161  1.1532\n",
      "     55        0.5610  1.1476\n",
      "     56        \u001b[36m0.3463\u001b[0m  1.1071\n",
      "     57        0.4836  1.1222\n",
      "     58        0.4091  1.0923\n",
      "     59        \u001b[36m0.2931\u001b[0m  1.1276\n",
      "     60        0.3193  1.1260\n",
      "     61        0.3439  1.1503\n",
      "     62        0.6744  1.1572\n",
      "     63        0.4547  1.1757\n",
      "     64        0.3688  1.1261\n",
      "     65        0.3373  1.1232\n",
      "     66        0.3681  1.1023\n",
      "     67        \u001b[36m0.1773\u001b[0m  1.1605\n",
      "     68        \u001b[36m0.1431\u001b[0m  1.1609\n",
      "     69        \u001b[36m0.1202\u001b[0m  1.0220\n",
      "     70        \u001b[36m0.1085\u001b[0m  1.1975\n",
      "     71        \u001b[36m0.1008\u001b[0m  1.1631\n",
      "     72        \u001b[36m0.0928\u001b[0m  1.1500\n",
      "     73        \u001b[36m0.0862\u001b[0m  1.0407\n",
      "     74        \u001b[36m0.0804\u001b[0m  1.2752\n",
      "     75        \u001b[36m0.0753\u001b[0m  1.1411\n",
      "     76        \u001b[36m0.0707\u001b[0m  1.2192\n",
      "     77        \u001b[36m0.0663\u001b[0m  1.1982\n",
      "     78        \u001b[36m0.0624\u001b[0m  1.2163\n",
      "     79        \u001b[36m0.0588\u001b[0m  1.1799\n",
      "     80        \u001b[36m0.0555\u001b[0m  1.2370\n",
      "     81        \u001b[36m0.0524\u001b[0m  1.0477\n",
      "     82        \u001b[36m0.0496\u001b[0m  1.1268\n",
      "     83        \u001b[36m0.0471\u001b[0m  1.1945\n",
      "     84        \u001b[36m0.0447\u001b[0m  1.1296\n",
      "     85        \u001b[36m0.0426\u001b[0m  1.1614\n",
      "     86        \u001b[36m0.0406\u001b[0m  1.1947\n",
      "     87        \u001b[36m0.0388\u001b[0m  1.2656\n",
      "     88        \u001b[36m0.0370\u001b[0m  1.2053\n",
      "     89        \u001b[36m0.0355\u001b[0m  1.1282\n",
      "     90        \u001b[36m0.0341\u001b[0m  1.1580\n",
      "     91        \u001b[36m0.0327\u001b[0m  1.1737\n",
      "     92        \u001b[36m0.0315\u001b[0m  1.1081\n",
      "     93        \u001b[36m0.0303\u001b[0m  1.1143\n",
      "     94        \u001b[36m0.0292\u001b[0m  1.2337\n",
      "     95        \u001b[36m0.0282\u001b[0m  1.2042\n",
      "     96        \u001b[36m0.0272\u001b[0m  1.1730\n",
      "     97        \u001b[36m0.0263\u001b[0m  1.1715\n",
      "     98        \u001b[36m0.0255\u001b[0m  1.0782\n",
      "     99        \u001b[36m0.0247\u001b[0m  1.2330\n",
      "    100        \u001b[36m0.0239\u001b[0m  1.2373\n"
     ]
    },
    {
     "data": {
      "text/plain": [
       "<class 'skorch.classifier.NeuralNetClassifier'>[initialized](\n",
       "  module_=HiddenLayerNet(\n",
       "    (fc1): Linear(in_features=20000, out_features=100, bias=True)\n",
       "    (extra_layers): ModuleList()\n",
       "    (fc2): Linear(in_features=100, out_features=5, bias=True)\n",
       "  ),\n",
       ")"
      ]
     },
     "execution_count": 64,
     "metadata": {},
     "output_type": "execute_result"
    }
   ],
   "source": [
    "model.fit(X_train, y_train)"
   ]
  },
  {
   "cell_type": "code",
   "execution_count": 61,
   "metadata": {
    "ExecuteTime": {
     "end_time": "2020-08-19T10:15:34.129509Z",
     "start_time": "2020-08-19T10:15:34.125563Z"
    },
    "hidden": true
   },
   "outputs": [
    {
     "data": {
      "text/plain": [
       "ModuleList()"
      ]
     },
     "execution_count": 61,
     "metadata": {},
     "output_type": "execute_result"
    }
   ],
   "source": [
    "model.module_.extra_layers"
   ]
  },
  {
   "cell_type": "code",
   "execution_count": 65,
   "metadata": {
    "ExecuteTime": {
     "end_time": "2020-08-19T15:13:04.569957Z",
     "start_time": "2020-08-19T15:13:04.564451Z"
    },
    "hidden": true
   },
   "outputs": [
    {
     "data": {
      "text/plain": [
       "<bound method Module.parameters of HiddenLayerNet(\n",
       "  (fc1): Linear(in_features=20000, out_features=100, bias=True)\n",
       "  (extra_layers): ModuleList()\n",
       "  (fc2): Linear(in_features=100, out_features=5, bias=True)\n",
       ")>"
      ]
     },
     "execution_count": 65,
     "metadata": {},
     "output_type": "execute_result"
    }
   ],
   "source": [
    "model.module_.parameters"
   ]
  },
  {
   "cell_type": "code",
   "execution_count": 66,
   "metadata": {
    "ExecuteTime": {
     "end_time": "2020-08-19T15:13:05.853856Z",
     "start_time": "2020-08-19T15:13:05.343966Z"
    },
    "collapsed": true,
    "hidden": true
   },
   "outputs": [
    {
     "data": {
      "text/plain": [
       "[(1, 1),\n",
       " (2, 2),\n",
       " (0, 0),\n",
       " (0, 0),\n",
       " (4, 4),\n",
       " (4, 4),\n",
       " (2, 2),\n",
       " (1, 1),\n",
       " (3, 3),\n",
       " (0, 0),\n",
       " (2, 2),\n",
       " (4, 4),\n",
       " (4, 4),\n",
       " (4, 4),\n",
       " (4, 4),\n",
       " (2, 2),\n",
       " (3, 3),\n",
       " (4, 4),\n",
       " (2, 2),\n",
       " (4, 4),\n",
       " (2, 2),\n",
       " (3, 3),\n",
       " (0, 0),\n",
       " (0, 0),\n",
       " (2, 2),\n",
       " (0, 0),\n",
       " (0, 0),\n",
       " (1, 1),\n",
       " (3, 3),\n",
       " (2, 2),\n",
       " (1, 1),\n",
       " (4, 4),\n",
       " (0, 0),\n",
       " (0, 0),\n",
       " (4, 4),\n",
       " (2, 2),\n",
       " (1, 1),\n",
       " (0, 0),\n",
       " (3, 3),\n",
       " (1, 1),\n",
       " (4, 4),\n",
       " (3, 3),\n",
       " (3, 3),\n",
       " (1, 1),\n",
       " (1, 1),\n",
       " (3, 3),\n",
       " (2, 2),\n",
       " (4, 4),\n",
       " (2, 2),\n",
       " (3, 3),\n",
       " (2, 2),\n",
       " (1, 1),\n",
       " (3, 3),\n",
       " (1, 1),\n",
       " (2, 2),\n",
       " (2, 2),\n",
       " (4, 4),\n",
       " (2, 2),\n",
       " (2, 2),\n",
       " (2, 2),\n",
       " (3, 3),\n",
       " (1, 1),\n",
       " (3, 3),\n",
       " (1, 1),\n",
       " (0, 0),\n",
       " (0, 0),\n",
       " (4, 4),\n",
       " (3, 3),\n",
       " (3, 3),\n",
       " (0, 0),\n",
       " (2, 2),\n",
       " (4, 4),\n",
       " (4, 4),\n",
       " (1, 1),\n",
       " (4, 4),\n",
       " (3, 3),\n",
       " (0, 0),\n",
       " (3, 3),\n",
       " (1, 1),\n",
       " (3, 3),\n",
       " (3, 3),\n",
       " (3, 3),\n",
       " (2, 2),\n",
       " (0, 0),\n",
       " (2, 2),\n",
       " (2, 2),\n",
       " (3, 3),\n",
       " (0, 0),\n",
       " (4, 4),\n",
       " (0, 0),\n",
       " (2, 2),\n",
       " (0, 0),\n",
       " (0, 0),\n",
       " (4, 4),\n",
       " (1, 1),\n",
       " (1, 1),\n",
       " (4, 4),\n",
       " (4, 4),\n",
       " (1, 1),\n",
       " (2, 2),\n",
       " (1, 1),\n",
       " (0, 0),\n",
       " (3, 3),\n",
       " (1, 1),\n",
       " (0, 0),\n",
       " (3, 3),\n",
       " (0, 0),\n",
       " (1, 1),\n",
       " (1, 1),\n",
       " (4, 4),\n",
       " (0, 0),\n",
       " (0, 0),\n",
       " (3, 3),\n",
       " (0, 0),\n",
       " (1, 1),\n",
       " (1, 1),\n",
       " (4, 4),\n",
       " (3, 3),\n",
       " (4, 4),\n",
       " (1, 1),\n",
       " (3, 3),\n",
       " (3, 3),\n",
       " (1, 1),\n",
       " (0, 0),\n",
       " (2, 2),\n",
       " (1, 1),\n",
       " (2, 2),\n",
       " (1, 1),\n",
       " (3, 3),\n",
       " (4, 4),\n",
       " (2, 2),\n",
       " (1, 1),\n",
       " (4, 4),\n",
       " (3, 3),\n",
       " (3, 3),\n",
       " (1, 1),\n",
       " (1, 1),\n",
       " (4, 4),\n",
       " (3, 3),\n",
       " (4, 4),\n",
       " (3, 3),\n",
       " (3, 3),\n",
       " (0, 0),\n",
       " (3, 3),\n",
       " (4, 4),\n",
       " (3, 3),\n",
       " (4, 4),\n",
       " (4, 4),\n",
       " (4, 4),\n",
       " (1, 1),\n",
       " (4, 4),\n",
       " (2, 2),\n",
       " (4, 4),\n",
       " (4, 4),\n",
       " (1, 1),\n",
       " (0, 0),\n",
       " (3, 3),\n",
       " (3, 3),\n",
       " (4, 4),\n",
       " (3, 3),\n",
       " (3, 3),\n",
       " (2, 2),\n",
       " (1, 1),\n",
       " (0, 0),\n",
       " (3, 3),\n",
       " (3, 3),\n",
       " (3, 3),\n",
       " (0, 0),\n",
       " (0, 0),\n",
       " (2, 2),\n",
       " (4, 4),\n",
       " (3, 3),\n",
       " (2, 2),\n",
       " (1, 1),\n",
       " (2, 2),\n",
       " (0, 0),\n",
       " (2, 2),\n",
       " (3, 3),\n",
       " (4, 4),\n",
       " (3, 3),\n",
       " (3, 3),\n",
       " (4, 4),\n",
       " (1, 1),\n",
       " (1, 1),\n",
       " (3, 3),\n",
       " (1, 1),\n",
       " (3, 3),\n",
       " (1, 1),\n",
       " (0, 0),\n",
       " (0, 0),\n",
       " (2, 2),\n",
       " (4, 4),\n",
       " (2, 2),\n",
       " (1, 1),\n",
       " (1, 1),\n",
       " (0, 0),\n",
       " (1, 1),\n",
       " (0, 0),\n",
       " (4, 4),\n",
       " (2, 2),\n",
       " (0, 0),\n",
       " (2, 2),\n",
       " (1, 1),\n",
       " (2, 2),\n",
       " (2, 2),\n",
       " (1, 1),\n",
       " (0, 0),\n",
       " (0, 0),\n",
       " (3, 3),\n",
       " (4, 4),\n",
       " (4, 4),\n",
       " (3, 3),\n",
       " (1, 1),\n",
       " (3, 3),\n",
       " (0, 0),\n",
       " (4, 4),\n",
       " (0, 0),\n",
       " (4, 4),\n",
       " (4, 4),\n",
       " (2, 2),\n",
       " (2, 2),\n",
       " (2, 2),\n",
       " (0, 0),\n",
       " (0, 0),\n",
       " (0, 0),\n",
       " (2, 2),\n",
       " (1, 1),\n",
       " (2, 2),\n",
       " (3, 3),\n",
       " (1, 1),\n",
       " (0, 0),\n",
       " (4, 4),\n",
       " (0, 0),\n",
       " (0, 0),\n",
       " (3, 3),\n",
       " (3, 3),\n",
       " (0, 0),\n",
       " (1, 1),\n",
       " (3, 3),\n",
       " (1, 1),\n",
       " (4, 4),\n",
       " (2, 2),\n",
       " (0, 0),\n",
       " (4, 4),\n",
       " (0, 0),\n",
       " (4, 4),\n",
       " (4, 4),\n",
       " (4, 4),\n",
       " (1, 1),\n",
       " (4, 4),\n",
       " (1, 1),\n",
       " (4, 4),\n",
       " (2, 2),\n",
       " (3, 3),\n",
       " (2, 2),\n",
       " (3, 3),\n",
       " (2, 2),\n",
       " (2, 2),\n",
       " (1, 1),\n",
       " (1, 1),\n",
       " (0, 0),\n",
       " (1, 1),\n",
       " (1, 1),\n",
       " (3, 3),\n",
       " (4, 4),\n",
       " (3, 3),\n",
       " (4, 4),\n",
       " (0, 0),\n",
       " (0, 0),\n",
       " (0, 0),\n",
       " (3, 3),\n",
       " (1, 1),\n",
       " (0, 0),\n",
       " (0, 0),\n",
       " (4, 4),\n",
       " (3, 3),\n",
       " (4, 4),\n",
       " (4, 4),\n",
       " (4, 4),\n",
       " (2, 2),\n",
       " (0, 0),\n",
       " (1, 1),\n",
       " (3, 3),\n",
       " (0, 0),\n",
       " (0, 0),\n",
       " (2, 2),\n",
       " (2, 2),\n",
       " (3, 3),\n",
       " (2, 2),\n",
       " (4, 4),\n",
       " (3, 3),\n",
       " (0, 0),\n",
       " (4, 4),\n",
       " (1, 1),\n",
       " (1, 1),\n",
       " (4, 4),\n",
       " (3, 3),\n",
       " (2, 2),\n",
       " (4, 4),\n",
       " (3, 3),\n",
       " (1, 1),\n",
       " (1, 1),\n",
       " (1, 1),\n",
       " (4, 4),\n",
       " (2, 2),\n",
       " (2, 2),\n",
       " (3, 3),\n",
       " (4, 4),\n",
       " (4, 4),\n",
       " (1, 1),\n",
       " (2, 2),\n",
       " (4, 4),\n",
       " (2, 2),\n",
       " (0, 0),\n",
       " (1, 1),\n",
       " (3, 3),\n",
       " (2, 2),\n",
       " (0, 0),\n",
       " (3, 3),\n",
       " (3, 3),\n",
       " (4, 4),\n",
       " (3, 3),\n",
       " (3, 3),\n",
       " (3, 3),\n",
       " (0, 0),\n",
       " (2, 2),\n",
       " (1, 1),\n",
       " (4, 4),\n",
       " (4, 4),\n",
       " (0, 0),\n",
       " (2, 2),\n",
       " (2, 2),\n",
       " (3, 3),\n",
       " (2, 2),\n",
       " (0, 0),\n",
       " (2, 2),\n",
       " (3, 3),\n",
       " (4, 4),\n",
       " (3, 3),\n",
       " (1, 1),\n",
       " (3, 3),\n",
       " (1, 1),\n",
       " (0, 0),\n",
       " (4, 4),\n",
       " (1, 1),\n",
       " (4, 4),\n",
       " (0, 0),\n",
       " (0, 0),\n",
       " (2, 2),\n",
       " (0, 0),\n",
       " (1, 1),\n",
       " (4, 4),\n",
       " (4, 4),\n",
       " (0, 0),\n",
       " (1, 1),\n",
       " (0, 0),\n",
       " (4, 4),\n",
       " (3, 3),\n",
       " (3, 3),\n",
       " (2, 2),\n",
       " (2, 2),\n",
       " (1, 1),\n",
       " (3, 3),\n",
       " (2, 2),\n",
       " (2, 2),\n",
       " (4, 4),\n",
       " (1, 1),\n",
       " (3, 3),\n",
       " (1, 1),\n",
       " (4, 4),\n",
       " (2, 2),\n",
       " (2, 2),\n",
       " (3, 3),\n",
       " (1, 1),\n",
       " (4, 4),\n",
       " (4, 4),\n",
       " (4, 4),\n",
       " (2, 2),\n",
       " (3, 3),\n",
       " (1, 1),\n",
       " (3, 3),\n",
       " (3, 3),\n",
       " (2, 2),\n",
       " (1, 1),\n",
       " (0, 0),\n",
       " (4, 4),\n",
       " (2, 2),\n",
       " (1, 1),\n",
       " (4, 4),\n",
       " (4, 4),\n",
       " (4, 4),\n",
       " (4, 4),\n",
       " (3, 3),\n",
       " (4, 4),\n",
       " (3, 3),\n",
       " (0, 0),\n",
       " (3, 3),\n",
       " (1, 1),\n",
       " (2, 2),\n",
       " (4, 4),\n",
       " (0, 0),\n",
       " (2, 2),\n",
       " (2, 2),\n",
       " (1, 1),\n",
       " (0, 0),\n",
       " (0, 0),\n",
       " (1, 1),\n",
       " (4, 4),\n",
       " (0, 0),\n",
       " (3, 3),\n",
       " (3, 3),\n",
       " (1, 1),\n",
       " (0, 0),\n",
       " (3, 3),\n",
       " (1, 1),\n",
       " (0, 0),\n",
       " (2, 2),\n",
       " (2, 2),\n",
       " (1, 1),\n",
       " (3, 3),\n",
       " (4, 4),\n",
       " (2, 2),\n",
       " (4, 4),\n",
       " (2, 2),\n",
       " (3, 3),\n",
       " (3, 3),\n",
       " (2, 2),\n",
       " (4, 4),\n",
       " (1, 1),\n",
       " (0, 0),\n",
       " (1, 1),\n",
       " (1, 1),\n",
       " (2, 2),\n",
       " (4, 4),\n",
       " (2, 2),\n",
       " (0, 0),\n",
       " (3, 3),\n",
       " (2, 2),\n",
       " (0, 0),\n",
       " (1, 1),\n",
       " (4, 4),\n",
       " (3, 3),\n",
       " (3, 3),\n",
       " (2, 2),\n",
       " (3, 3),\n",
       " (3, 3),\n",
       " (2, 2),\n",
       " (3, 3),\n",
       " (1, 1),\n",
       " (2, 2),\n",
       " (4, 4),\n",
       " (2, 2),\n",
       " (3, 3),\n",
       " (3, 3),\n",
       " (4, 4),\n",
       " (4, 4),\n",
       " (2, 2),\n",
       " (3, 3),\n",
       " (2, 2),\n",
       " (3, 3),\n",
       " (0, 0),\n",
       " (3, 3),\n",
       " (0, 0),\n",
       " (4, 4),\n",
       " (2, 2),\n",
       " (0, 0),\n",
       " (1, 1),\n",
       " (0, 0),\n",
       " (0, 0),\n",
       " (4, 4),\n",
       " (0, 0),\n",
       " (1, 1),\n",
       " (1, 1),\n",
       " (0, 0),\n",
       " (3, 3),\n",
       " (1, 1),\n",
       " (4, 4),\n",
       " (2, 2),\n",
       " (1, 1),\n",
       " (3, 3),\n",
       " (0, 0),\n",
       " (0, 0),\n",
       " (2, 2),\n",
       " (2, 2),\n",
       " (1, 1),\n",
       " (3, 3),\n",
       " (1, 1),\n",
       " (1, 1),\n",
       " (0, 0),\n",
       " (1, 1),\n",
       " (4, 4),\n",
       " (0, 0),\n",
       " (3, 3),\n",
       " (1, 1),\n",
       " (1, 1),\n",
       " (0, 0),\n",
       " (2, 2),\n",
       " (4, 4),\n",
       " (2, 2),\n",
       " (4, 4),\n",
       " (4, 4),\n",
       " (1, 1),\n",
       " (4, 4),\n",
       " (0, 0),\n",
       " (3, 3),\n",
       " (4, 4),\n",
       " (0, 0),\n",
       " (1, 1),\n",
       " (0, 0),\n",
       " (3, 3),\n",
       " (2, 2),\n",
       " (0, 0),\n",
       " (2, 2),\n",
       " (1, 1),\n",
       " (3, 3),\n",
       " (2, 2),\n",
       " (4, 4),\n",
       " (3, 3),\n",
       " (4, 4),\n",
       " (0, 0),\n",
       " (1, 1),\n",
       " (2, 2),\n",
       " (1, 1),\n",
       " (2, 2),\n",
       " (2, 2),\n",
       " (1, 1),\n",
       " (1, 1),\n",
       " (0, 0),\n",
       " (1, 1),\n",
       " (0, 0),\n",
       " (1, 1),\n",
       " (1, 1),\n",
       " (3, 3),\n",
       " (1, 1),\n",
       " (2, 2),\n",
       " (2, 2),\n",
       " (3, 3),\n",
       " (0, 0),\n",
       " (3, 3),\n",
       " (2, 2),\n",
       " (4, 4),\n",
       " (1, 1),\n",
       " (3, 3),\n",
       " (4, 4),\n",
       " (0, 0),\n",
       " (0, 0),\n",
       " (1, 1),\n",
       " (2, 2),\n",
       " (0, 0),\n",
       " (2, 2),\n",
       " (1, 1),\n",
       " (2, 2),\n",
       " (2, 2),\n",
       " (1, 1),\n",
       " (1, 1),\n",
       " (0, 0),\n",
       " (4, 4),\n",
       " (3, 3),\n",
       " (4, 4),\n",
       " (3, 3),\n",
       " (4, 4),\n",
       " (1, 1),\n",
       " (1, 1),\n",
       " (1, 1),\n",
       " (4, 4),\n",
       " (1, 1),\n",
       " (4, 4),\n",
       " (3, 3),\n",
       " (1, 1),\n",
       " (1, 1),\n",
       " (3, 3),\n",
       " (2, 2),\n",
       " (3, 3),\n",
       " (0, 0),\n",
       " (0, 0),\n",
       " (1, 1),\n",
       " (1, 1),\n",
       " (0, 0),\n",
       " (3, 3),\n",
       " (4, 4),\n",
       " (2, 2),\n",
       " (4, 4),\n",
       " (4, 4),\n",
       " (1, 1),\n",
       " (0, 0),\n",
       " (0, 0),\n",
       " (3, 3),\n",
       " (1, 1),\n",
       " (1, 1),\n",
       " (0, 0),\n",
       " (2, 2),\n",
       " (1, 1),\n",
       " (0, 0),\n",
       " (3, 3),\n",
       " (2, 2),\n",
       " (2, 2),\n",
       " (4, 4),\n",
       " (4, 4),\n",
       " (4, 4),\n",
       " (1, 1),\n",
       " (0, 0),\n",
       " (3, 3),\n",
       " (1, 1),\n",
       " (4, 4),\n",
       " (2, 2),\n",
       " (0, 0),\n",
       " (0, 0),\n",
       " (1, 1),\n",
       " (2, 2),\n",
       " (0, 0),\n",
       " (1, 1),\n",
       " (1, 1),\n",
       " (4, 4),\n",
       " (0, 0),\n",
       " (1, 1),\n",
       " (0, 0),\n",
       " (3, 3),\n",
       " (0, 0),\n",
       " (1, 1),\n",
       " (2, 2),\n",
       " (3, 3),\n",
       " (4, 4),\n",
       " (2, 2),\n",
       " (1, 1),\n",
       " (1, 1),\n",
       " (3, 3),\n",
       " (0, 0),\n",
       " (3, 3),\n",
       " (1, 1),\n",
       " (1, 1),\n",
       " (0, 0),\n",
       " (2, 2),\n",
       " (4, 4),\n",
       " (2, 2),\n",
       " (0, 0),\n",
       " (4, 4),\n",
       " (4, 4),\n",
       " (1, 1),\n",
       " (3, 3),\n",
       " (3, 3),\n",
       " (0, 0),\n",
       " (0, 0),\n",
       " (0, 0),\n",
       " (4, 4),\n",
       " (1, 1),\n",
       " (2, 2),\n",
       " (3, 3),\n",
       " (2, 2),\n",
       " (0, 0),\n",
       " (2, 2),\n",
       " (4, 4),\n",
       " (1, 1),\n",
       " (1, 1),\n",
       " (4, 4),\n",
       " (0, 0),\n",
       " (2, 2),\n",
       " (4, 4),\n",
       " (0, 0),\n",
       " (2, 2),\n",
       " (1, 1),\n",
       " (3, 3),\n",
       " (2, 2),\n",
       " (2, 2),\n",
       " (0, 0),\n",
       " (1, 1),\n",
       " (2, 2),\n",
       " (4, 4),\n",
       " (1, 1),\n",
       " (4, 4),\n",
       " (3, 3),\n",
       " (4, 4),\n",
       " (3, 3),\n",
       " (2, 2),\n",
       " (1, 1),\n",
       " (4, 4),\n",
       " (0, 0),\n",
       " (3, 3),\n",
       " (0, 0),\n",
       " (0, 0),\n",
       " (0, 0),\n",
       " (2, 2),\n",
       " (1, 1),\n",
       " (4, 4),\n",
       " (1, 1),\n",
       " (1, 1),\n",
       " (1, 1),\n",
       " (4, 4),\n",
       " (0, 0),\n",
       " (2, 2),\n",
       " (3, 3),\n",
       " (3, 3),\n",
       " (2, 2),\n",
       " (1, 1),\n",
       " (1, 1),\n",
       " (0, 0),\n",
       " (0, 0),\n",
       " (0, 0),\n",
       " (1, 1),\n",
       " (4, 4),\n",
       " (1, 1),\n",
       " (0, 0),\n",
       " (2, 2),\n",
       " (1, 1),\n",
       " (3, 3),\n",
       " (0, 0),\n",
       " (0, 0),\n",
       " (4, 4),\n",
       " (3, 3),\n",
       " (3, 3),\n",
       " (3, 3),\n",
       " (4, 4),\n",
       " (3, 3),\n",
       " (0, 0),\n",
       " (0, 0),\n",
       " (3, 3),\n",
       " (3, 3),\n",
       " (0, 0),\n",
       " (2, 2),\n",
       " (4, 4),\n",
       " (1, 1),\n",
       " (3, 3),\n",
       " (4, 4),\n",
       " (4, 4),\n",
       " (4, 4),\n",
       " (1, 1),\n",
       " (2, 2),\n",
       " (2, 2),\n",
       " (1, 1),\n",
       " (4, 4),\n",
       " (2, 2),\n",
       " (2, 2),\n",
       " (0, 0),\n",
       " (4, 4),\n",
       " (0, 0),\n",
       " (1, 1),\n",
       " (0, 0),\n",
       " (4, 4),\n",
       " (3, 3),\n",
       " (0, 0),\n",
       " (4, 4),\n",
       " (1, 1),\n",
       " (4, 4),\n",
       " (0, 0),\n",
       " (1, 1),\n",
       " (1, 1),\n",
       " (3, 3),\n",
       " (1, 1),\n",
       " (3, 3),\n",
       " (3, 3),\n",
       " (4, 4),\n",
       " (3, 3),\n",
       " (0, 0),\n",
       " (4, 4),\n",
       " (2, 2),\n",
       " (1, 1),\n",
       " (2, 2),\n",
       " (4, 4),\n",
       " (1, 1),\n",
       " (0, 0),\n",
       " (1, 1),\n",
       " (4, 4),\n",
       " (2, 2),\n",
       " (1, 1),\n",
       " (4, 4),\n",
       " (2, 2),\n",
       " (3, 3),\n",
       " (4, 4),\n",
       " (2, 2),\n",
       " (3, 3),\n",
       " (3, 3),\n",
       " (2, 2),\n",
       " (4, 4),\n",
       " (3, 3),\n",
       " (3, 3),\n",
       " (2, 2),\n",
       " (0, 0),\n",
       " (4, 4),\n",
       " (0, 0),\n",
       " (3, 3),\n",
       " (4, 4),\n",
       " (4, 4),\n",
       " (2, 2),\n",
       " (0, 0),\n",
       " (3, 3),\n",
       " (3, 3),\n",
       " (1, 1),\n",
       " (2, 2),\n",
       " (0, 0),\n",
       " (0, 0),\n",
       " (4, 4),\n",
       " (3, 3),\n",
       " (1, 1),\n",
       " (0, 0),\n",
       " (1, 1),\n",
       " (3, 3),\n",
       " (4, 4),\n",
       " (2, 2),\n",
       " (0, 0),\n",
       " (1, 1),\n",
       " (0, 0),\n",
       " (1, 1),\n",
       " (0, 0),\n",
       " (4, 4),\n",
       " (3, 3),\n",
       " (2, 2),\n",
       " (0, 0),\n",
       " (3, 3),\n",
       " (4, 4),\n",
       " (4, 4),\n",
       " (0, 0),\n",
       " (3, 3),\n",
       " (1, 1),\n",
       " (3, 3),\n",
       " (1, 1),\n",
       " (2, 2),\n",
       " (3, 3),\n",
       " (2, 2),\n",
       " (2, 2),\n",
       " (1, 1),\n",
       " (3, 3),\n",
       " (1, 1),\n",
       " (2, 2),\n",
       " (1, 1),\n",
       " (3, 3),\n",
       " (4, 4),\n",
       " (1, 1),\n",
       " (2, 2),\n",
       " (1, 1),\n",
       " (4, 4),\n",
       " (3, 3),\n",
       " (2, 2),\n",
       " (3, 3),\n",
       " (0, 0),\n",
       " (3, 3),\n",
       " (1, 1),\n",
       " (3, 3),\n",
       " (3, 3),\n",
       " (3, 3),\n",
       " (3, 3),\n",
       " (3, 3),\n",
       " (2, 2),\n",
       " (2, 2),\n",
       " (4, 4),\n",
       " (4, 4),\n",
       " (3, 3),\n",
       " (3, 3),\n",
       " (0, 0),\n",
       " (4, 4),\n",
       " (4, 4),\n",
       " (1, 1),\n",
       " (0, 0),\n",
       " (3, 3),\n",
       " (4, 4),\n",
       " (1, 1),\n",
       " (2, 2),\n",
       " (2, 2),\n",
       " (4, 4),\n",
       " (4, 4),\n",
       " (1, 1),\n",
       " (1, 1),\n",
       " (1, 1),\n",
       " (1, 1),\n",
       " (3, 3),\n",
       " (2, 2),\n",
       " (3, 3),\n",
       " (1, 1),\n",
       " (1, 1),\n",
       " (1, 1),\n",
       " (4, 4),\n",
       " (0, 0),\n",
       " (2, 2),\n",
       " (2, 2),\n",
       " (0, 0),\n",
       " (1, 1),\n",
       " (0, 0),\n",
       " (1, 1),\n",
       " (4, 4),\n",
       " (1, 1),\n",
       " (4, 4),\n",
       " (3, 3),\n",
       " (0, 0),\n",
       " (2, 2),\n",
       " (2, 2),\n",
       " (3, 3),\n",
       " (3, 3),\n",
       " (0, 0),\n",
       " (3, 3),\n",
       " (2, 2),\n",
       " (3, 3),\n",
       " (3, 3),\n",
       " (0, 0),\n",
       " (4, 4),\n",
       " (0, 0),\n",
       " (0, 0),\n",
       " (1, 1),\n",
       " (2, 2),\n",
       " (3, 3),\n",
       " (0, 0),\n",
       " (0, 0),\n",
       " (1, 1),\n",
       " (1, 1),\n",
       " (3, 3),\n",
       " (2, 2),\n",
       " (0, 0),\n",
       " (4, 4),\n",
       " (4, 4),\n",
       " (4, 4),\n",
       " (1, 1),\n",
       " (2, 2),\n",
       " (0, 0),\n",
       " (4, 4),\n",
       " (4, 4),\n",
       " (2, 2),\n",
       " (2, 2),\n",
       " (3, 3),\n",
       " (3, 3),\n",
       " (1, 1),\n",
       " (4, 4),\n",
       " (1, 1),\n",
       " (2, 2),\n",
       " (4, 4),\n",
       " (0, 0),\n",
       " (4, 4),\n",
       " (4, 4),\n",
       " (2, 2),\n",
       " (1, 1),\n",
       " (0, 0),\n",
       " (4, 4),\n",
       " (1, 1),\n",
       " (3, 3),\n",
       " (2, 2),\n",
       " (2, 2),\n",
       " (3, 3),\n",
       " (1, 1),\n",
       " (1, 1),\n",
       " (1, 1),\n",
       " (3, 3),\n",
       " (4, 4),\n",
       " (2, 2),\n",
       " (1, 1),\n",
       " (0, 0),\n",
       " (3, 3),\n",
       " (2, 2),\n",
       " (0, 0),\n",
       " (1, 1),\n",
       " (0, 0),\n",
       " (1, 1),\n",
       " (3, 3),\n",
       " (3, 3),\n",
       " (1, 1),\n",
       " (2, 2),\n",
       " (4, 4),\n",
       " (4, 4),\n",
       " (0, 0),\n",
       " (0, 0),\n",
       " (1, 1),\n",
       " (0, 0),\n",
       " (1, 1),\n",
       " (1, 1),\n",
       " (4, 4),\n",
       " (4, 4),\n",
       " (1, 1),\n",
       " (2, 2),\n",
       " (2, 2),\n",
       " (0, 0),\n",
       " (1, 1),\n",
       " (2, 2),\n",
       " (1, 1),\n",
       " (4, 4),\n",
       " (3, 3),\n",
       " (2, 2),\n",
       " (2, 2),\n",
       " (1, 1),\n",
       " (3, 3),\n",
       " (3, 3),\n",
       " (2, 2),\n",
       " (0, 0),\n",
       " (1, 1),\n",
       " (0, 0),\n",
       " (0, 0),\n",
       " (0, 0),\n",
       " (0, 0),\n",
       " (1, 1),\n",
       " (4, 4),\n",
       " (3, 3),\n",
       " (2, 2),\n",
       " (4, 4),\n",
       " (4, 4),\n",
       " (2, 2),\n",
       " (0, 0),\n",
       " (3, 3),\n",
       " (2, 2),\n",
       " (4, 4),\n",
       " (1, 1),\n",
       " (3, 3),\n",
       " (0, 0),\n",
       " (4, 4),\n",
       " (4, 4),\n",
       " (2, 2),\n",
       " (1, 1),\n",
       " ...]"
      ]
     },
     "execution_count": 66,
     "metadata": {},
     "output_type": "execute_result"
    }
   ],
   "source": [
    "list(zip(model.predict(X_train), y_train))"
   ]
  },
  {
   "cell_type": "code",
   "execution_count": 67,
   "metadata": {
    "ExecuteTime": {
     "end_time": "2020-08-19T15:13:07.014825Z",
     "start_time": "2020-08-19T15:13:06.550555Z"
    },
    "hidden": true
   },
   "outputs": [
    {
     "data": {
      "text/plain": [
       "0.9998888888888889"
      ]
     },
     "execution_count": 67,
     "metadata": {},
     "output_type": "execute_result"
    }
   ],
   "source": [
    "model.score(X_train, y_train)"
   ]
  },
  {
   "cell_type": "code",
   "execution_count": 68,
   "metadata": {
    "ExecuteTime": {
     "end_time": "2020-08-19T15:13:09.254880Z",
     "start_time": "2020-08-19T15:13:09.138700Z"
    },
    "hidden": true
   },
   "outputs": [
    {
     "data": {
      "text/plain": [
       "0.39"
      ]
     },
     "execution_count": 68,
     "metadata": {},
     "output_type": "execute_result"
    }
   ],
   "source": [
    "model.score(X_test, y_test)"
   ]
  },
  {
   "cell_type": "code",
   "execution_count": 71,
   "metadata": {
    "ExecuteTime": {
     "end_time": "2020-08-21T13:04:05.517669Z",
     "start_time": "2020-08-21T13:04:05.512708Z"
    },
    "hidden": true
   },
   "outputs": [],
   "source": []
  },
  {
   "cell_type": "code",
   "execution_count": 72,
   "metadata": {
    "ExecuteTime": {
     "end_time": "2020-08-21T13:04:24.668750Z",
     "start_time": "2020-08-21T13:04:24.550582Z"
    },
    "hidden": true
   },
   "outputs": [
    {
     "data": {
      "text/plain": [
       "array([[ 86,  56,  22,   4,  23],\n",
       "       [ 49,  77,  40,  12,  20],\n",
       "       [ 26,  45,  59,  52,  30],\n",
       "       [ 13,  19,  48,  58,  71],\n",
       "       [ 11,  13,  17,  39, 110]])"
      ]
     },
     "execution_count": 72,
     "metadata": {},
     "output_type": "execute_result"
    }
   ],
   "source": [
    "confusion_matrix(y_test, model.predict(X_test))"
   ]
  },
  {
   "cell_type": "markdown",
   "metadata": {},
   "source": [
    "# Coiled Computation"
   ]
  },
  {
   "cell_type": "code",
   "execution_count": 75,
   "metadata": {
    "ExecuteTime": {
     "end_time": "2020-08-27T13:44:13.312833Z",
     "start_time": "2020-08-27T13:44:13.029710Z"
    }
   },
   "outputs": [],
   "source": [
    "import coiled"
   ]
  },
  {
   "cell_type": "code",
   "execution_count": 76,
   "metadata": {
    "ExecuteTime": {
     "end_time": "2020-08-27T13:44:13.318202Z",
     "start_time": "2020-08-27T13:44:13.314353Z"
    }
   },
   "outputs": [
    {
     "data": {
      "text/plain": [
       "'0.0.21'"
      ]
     },
     "execution_count": 76,
     "metadata": {},
     "output_type": "execute_result"
    }
   ],
   "source": [
    "coiled.__version__"
   ]
  },
  {
   "cell_type": "markdown",
   "metadata": {},
   "source": [
    "## Setup Cluster"
   ]
  },
  {
   "cell_type": "code",
   "execution_count": 3,
   "metadata": {
    "ExecuteTime": {
     "end_time": "2020-08-26T06:43:25.346866Z",
     "start_time": "2020-08-26T06:43:25.341949Z"
    }
   },
   "outputs": [],
   "source": [
    "# this is based off coied-default with some added stuff like pytorch and skorch\n",
    "conda_env = {\n",
    "  \"channels\": [\n",
    "    \"conda-forge\",\n",
    "    \"defaults\"\n",
    "  ],\n",
    "  \"dependencies\": [\n",
    "    \"bokeh>=2.1.1\",\n",
    "    \"bottleneck\",\n",
    "    \"cytoolz\",\n",
    "    \"dask-image>=0.3.0\",\n",
    "    \"dask-ml>=1.5.0\",\n",
    "    \"dask=2.21.0\",\n",
    "    \"h5py\",\n",
    "    \"lz4\",\n",
    "    \"numba\",\n",
    "    \"numpy>=1.19.0\",\n",
    "    \"pandas>=1.0.5\",\n",
    "    \"pillow>=7.2.0\",\n",
    "    \"pip\",\n",
    "    \"pyarrow>=0.15.1\",\n",
    "    \"python-blosc\",\n",
    "    \"python-graphviz\",\n",
    "    \"python=3.8\",\n",
    "    \"pytorch\",\n",
    "    \"skorch\",\n",
    "    \"requests\",\n",
    "    \"s3fs\",\n",
    "    \"scikit-learn>=0.23.1\",\n",
    "    \"xarray\",    \n",
    "  ]\n",
    "}\n",
    "\n",
    "pip_env = [\n",
    "    # useful to generate features for models\n",
    "    \"sentence-transformers\"\n",
    "]"
   ]
  },
  {
   "cell_type": "code",
   "execution_count": 4,
   "metadata": {
    "ExecuteTime": {
     "end_time": "2020-08-26T06:44:22.555631Z",
     "start_time": "2020-08-26T06:44:19.869594Z"
    }
   },
   "outputs": [],
   "source": [
    "#coiled.delete_cluster_configuration(\"ml_gpu\")\n",
    "coiled.create_cluster_configuration(\n",
    "    name=\"ml_gpu\",\n",
    "#    software=\"def_pytorch\",\n",
    "#    software=\"pip_only_gpu\",\n",
    "    software=\"gpu_pytorch\",\n",
    "    worker_memory=\"16 GiB\",\n",
    "    worker_gpu=1,\n",
    "    scheduler_memory=\"4 GiB\",\n",
    "    scheduler_cpu=1,\n",
    ")"
   ]
  },
  {
   "cell_type": "code",
   "execution_count": 5,
   "metadata": {
    "ExecuteTime": {
     "end_time": "2020-08-26T06:44:28.823384Z",
     "start_time": "2020-08-26T06:44:28.820367Z"
    }
   },
   "outputs": [],
   "source": [
    "cluster_name=\"nlp_gpu_cluster\""
   ]
  },
  {
   "cell_type": "code",
   "execution_count": 18,
   "metadata": {
    "ExecuteTime": {
     "end_time": "2020-08-21T13:29:34.474760Z",
     "start_time": "2020-08-21T13:29:33.536014Z"
    }
   },
   "outputs": [],
   "source": [
    "coiled.delete_cluster(cluster_name)"
   ]
  },
  {
   "cell_type": "code",
   "execution_count": 6,
   "metadata": {
    "ExecuteTime": {
     "end_time": "2020-08-26T07:39:18.225576Z",
     "start_time": "2020-08-26T06:44:32.721825Z"
    },
    "collapsed": true
   },
   "outputs": [
    {
     "name": "stdout",
     "output_type": "stream",
     "text": [
      "Creating Cluster. This takes about a minute ..."
     ]
    },
    {
     "ename": "KeyboardInterrupt",
     "evalue": "",
     "output_type": "error",
     "traceback": [
      "\u001b[0;31m---------------------------------------------------------------------------\u001b[0m",
      "\u001b[0;31mKeyboardInterrupt\u001b[0m                         Traceback (most recent call last)",
      "\u001b[0;32m<ipython-input-6-47fa42fefab9>\u001b[0m in \u001b[0;36m<module>\u001b[0;34m\u001b[0m\n\u001b[0;32m----> 1\u001b[0;31m cluster = coiled.Cluster(\n\u001b[0m\u001b[1;32m      2\u001b[0m     \u001b[0mname\u001b[0m \u001b[0;34m=\u001b[0m \u001b[0mcluster_name\u001b[0m\u001b[0;34m,\u001b[0m\u001b[0;34m\u001b[0m\u001b[0;34m\u001b[0m\u001b[0m\n\u001b[1;32m      3\u001b[0m     \u001b[0mn_workers\u001b[0m\u001b[0;34m=\u001b[0m\u001b[0;36m1\u001b[0m\u001b[0;34m,\u001b[0m\u001b[0;34m\u001b[0m\u001b[0;34m\u001b[0m\u001b[0m\n\u001b[1;32m      4\u001b[0m     \u001b[0mconfiguration\u001b[0m\u001b[0;34m=\u001b[0m\u001b[0;34m\"ml_gpu\"\u001b[0m\u001b[0;34m\u001b[0m\u001b[0;34m\u001b[0m\u001b[0m\n\u001b[1;32m      5\u001b[0m \u001b[0;31m#    configuration=\"ml_cpu\"\u001b[0m\u001b[0;34m\u001b[0m\u001b[0;34m\u001b[0m\u001b[0;34m\u001b[0m\u001b[0m\n",
      "\u001b[0;32m~/miniconda3/envs/coiled-sheer-coiled-def_pytorch/lib/python3.8/site-packages/coiled/cluster.py\u001b[0m in \u001b[0;36m__init__\u001b[0;34m(self, n_workers, configuration, name, asynchronous, cloud, account, shutdown_on_close)\u001b[0m\n\u001b[1;32m     74\u001b[0m \u001b[0;34m\u001b[0m\u001b[0m\n\u001b[1;32m     75\u001b[0m         \u001b[0;32mif\u001b[0m \u001b[0;32mnot\u001b[0m \u001b[0mself\u001b[0m\u001b[0;34m.\u001b[0m\u001b[0masynchronous\u001b[0m\u001b[0;34m:\u001b[0m\u001b[0;34m\u001b[0m\u001b[0;34m\u001b[0m\u001b[0m\n\u001b[0;32m---> 76\u001b[0;31m             \u001b[0mself\u001b[0m\u001b[0;34m.\u001b[0m\u001b[0msync\u001b[0m\u001b[0;34m(\u001b[0m\u001b[0mself\u001b[0m\u001b[0;34m.\u001b[0m\u001b[0m_start\u001b[0m\u001b[0;34m)\u001b[0m\u001b[0;34m\u001b[0m\u001b[0;34m\u001b[0m\u001b[0m\n\u001b[0m\u001b[1;32m     77\u001b[0m \u001b[0;34m\u001b[0m\u001b[0m\n\u001b[1;32m     78\u001b[0m     \u001b[0;34m@\u001b[0m\u001b[0mproperty\u001b[0m\u001b[0;34m\u001b[0m\u001b[0;34m\u001b[0m\u001b[0m\n",
      "\u001b[0;32m/workspace/src/dask/distributed/distributed/deploy/cluster.py\u001b[0m in \u001b[0;36msync\u001b[0;34m(self, func, asynchronous, callback_timeout, *args, **kwargs)\u001b[0m\n\u001b[1;32m    161\u001b[0m             \u001b[0;32mreturn\u001b[0m \u001b[0mfuture\u001b[0m\u001b[0;34m\u001b[0m\u001b[0;34m\u001b[0m\u001b[0m\n\u001b[1;32m    162\u001b[0m         \u001b[0;32melse\u001b[0m\u001b[0;34m:\u001b[0m\u001b[0;34m\u001b[0m\u001b[0;34m\u001b[0m\u001b[0m\n\u001b[0;32m--> 163\u001b[0;31m             \u001b[0;32mreturn\u001b[0m \u001b[0msync\u001b[0m\u001b[0;34m(\u001b[0m\u001b[0mself\u001b[0m\u001b[0;34m.\u001b[0m\u001b[0mloop\u001b[0m\u001b[0;34m,\u001b[0m \u001b[0mfunc\u001b[0m\u001b[0;34m,\u001b[0m \u001b[0;34m*\u001b[0m\u001b[0margs\u001b[0m\u001b[0;34m,\u001b[0m \u001b[0;34m**\u001b[0m\u001b[0mkwargs\u001b[0m\u001b[0;34m)\u001b[0m\u001b[0;34m\u001b[0m\u001b[0;34m\u001b[0m\u001b[0m\n\u001b[0m\u001b[1;32m    164\u001b[0m \u001b[0;34m\u001b[0m\u001b[0m\n\u001b[1;32m    165\u001b[0m     \u001b[0;32masync\u001b[0m \u001b[0;32mdef\u001b[0m \u001b[0m_get_logs\u001b[0m\u001b[0;34m(\u001b[0m\u001b[0mself\u001b[0m\u001b[0;34m,\u001b[0m \u001b[0mscheduler\u001b[0m\u001b[0;34m=\u001b[0m\u001b[0;32mTrue\u001b[0m\u001b[0;34m,\u001b[0m \u001b[0mworkers\u001b[0m\u001b[0;34m=\u001b[0m\u001b[0;32mTrue\u001b[0m\u001b[0;34m)\u001b[0m\u001b[0;34m:\u001b[0m\u001b[0;34m\u001b[0m\u001b[0;34m\u001b[0m\u001b[0m\n",
      "\u001b[0;32m/workspace/src/dask/distributed/distributed/utils.py\u001b[0m in \u001b[0;36msync\u001b[0;34m(loop, func, callback_timeout, *args, **kwargs)\u001b[0m\n\u001b[1;32m    334\u001b[0m     \u001b[0;32melse\u001b[0m\u001b[0;34m:\u001b[0m\u001b[0;34m\u001b[0m\u001b[0;34m\u001b[0m\u001b[0m\n\u001b[1;32m    335\u001b[0m         \u001b[0;32mwhile\u001b[0m \u001b[0;32mnot\u001b[0m \u001b[0me\u001b[0m\u001b[0;34m.\u001b[0m\u001b[0mis_set\u001b[0m\u001b[0;34m(\u001b[0m\u001b[0;34m)\u001b[0m\u001b[0;34m:\u001b[0m\u001b[0;34m\u001b[0m\u001b[0;34m\u001b[0m\u001b[0m\n\u001b[0;32m--> 336\u001b[0;31m             \u001b[0me\u001b[0m\u001b[0;34m.\u001b[0m\u001b[0mwait\u001b[0m\u001b[0;34m(\u001b[0m\u001b[0;36m10\u001b[0m\u001b[0;34m)\u001b[0m\u001b[0;34m\u001b[0m\u001b[0;34m\u001b[0m\u001b[0m\n\u001b[0m\u001b[1;32m    337\u001b[0m     \u001b[0;32mif\u001b[0m \u001b[0merror\u001b[0m\u001b[0;34m[\u001b[0m\u001b[0;36m0\u001b[0m\u001b[0;34m]\u001b[0m\u001b[0;34m:\u001b[0m\u001b[0;34m\u001b[0m\u001b[0;34m\u001b[0m\u001b[0m\n\u001b[1;32m    338\u001b[0m         \u001b[0mtyp\u001b[0m\u001b[0;34m,\u001b[0m \u001b[0mexc\u001b[0m\u001b[0;34m,\u001b[0m \u001b[0mtb\u001b[0m \u001b[0;34m=\u001b[0m \u001b[0merror\u001b[0m\u001b[0;34m[\u001b[0m\u001b[0;36m0\u001b[0m\u001b[0;34m]\u001b[0m\u001b[0;34m\u001b[0m\u001b[0;34m\u001b[0m\u001b[0m\n",
      "\u001b[0;32m~/miniconda3/envs/coiled-sheer-coiled-def_pytorch/lib/python3.8/threading.py\u001b[0m in \u001b[0;36mwait\u001b[0;34m(self, timeout)\u001b[0m\n\u001b[1;32m    556\u001b[0m             \u001b[0msignaled\u001b[0m \u001b[0;34m=\u001b[0m \u001b[0mself\u001b[0m\u001b[0;34m.\u001b[0m\u001b[0m_flag\u001b[0m\u001b[0;34m\u001b[0m\u001b[0;34m\u001b[0m\u001b[0m\n\u001b[1;32m    557\u001b[0m             \u001b[0;32mif\u001b[0m \u001b[0;32mnot\u001b[0m \u001b[0msignaled\u001b[0m\u001b[0;34m:\u001b[0m\u001b[0;34m\u001b[0m\u001b[0;34m\u001b[0m\u001b[0m\n\u001b[0;32m--> 558\u001b[0;31m                 \u001b[0msignaled\u001b[0m \u001b[0;34m=\u001b[0m \u001b[0mself\u001b[0m\u001b[0;34m.\u001b[0m\u001b[0m_cond\u001b[0m\u001b[0;34m.\u001b[0m\u001b[0mwait\u001b[0m\u001b[0;34m(\u001b[0m\u001b[0mtimeout\u001b[0m\u001b[0;34m)\u001b[0m\u001b[0;34m\u001b[0m\u001b[0;34m\u001b[0m\u001b[0m\n\u001b[0m\u001b[1;32m    559\u001b[0m             \u001b[0;32mreturn\u001b[0m \u001b[0msignaled\u001b[0m\u001b[0;34m\u001b[0m\u001b[0;34m\u001b[0m\u001b[0m\n\u001b[1;32m    560\u001b[0m \u001b[0;34m\u001b[0m\u001b[0m\n",
      "\u001b[0;32m~/miniconda3/envs/coiled-sheer-coiled-def_pytorch/lib/python3.8/threading.py\u001b[0m in \u001b[0;36mwait\u001b[0;34m(self, timeout)\u001b[0m\n\u001b[1;32m    304\u001b[0m             \u001b[0;32melse\u001b[0m\u001b[0;34m:\u001b[0m\u001b[0;34m\u001b[0m\u001b[0;34m\u001b[0m\u001b[0m\n\u001b[1;32m    305\u001b[0m                 \u001b[0;32mif\u001b[0m \u001b[0mtimeout\u001b[0m \u001b[0;34m>\u001b[0m \u001b[0;36m0\u001b[0m\u001b[0;34m:\u001b[0m\u001b[0;34m\u001b[0m\u001b[0;34m\u001b[0m\u001b[0m\n\u001b[0;32m--> 306\u001b[0;31m                     \u001b[0mgotit\u001b[0m \u001b[0;34m=\u001b[0m \u001b[0mwaiter\u001b[0m\u001b[0;34m.\u001b[0m\u001b[0macquire\u001b[0m\u001b[0;34m(\u001b[0m\u001b[0;32mTrue\u001b[0m\u001b[0;34m,\u001b[0m \u001b[0mtimeout\u001b[0m\u001b[0;34m)\u001b[0m\u001b[0;34m\u001b[0m\u001b[0;34m\u001b[0m\u001b[0m\n\u001b[0m\u001b[1;32m    307\u001b[0m                 \u001b[0;32melse\u001b[0m\u001b[0;34m:\u001b[0m\u001b[0;34m\u001b[0m\u001b[0;34m\u001b[0m\u001b[0m\n\u001b[1;32m    308\u001b[0m                     \u001b[0mgotit\u001b[0m \u001b[0;34m=\u001b[0m \u001b[0mwaiter\u001b[0m\u001b[0;34m.\u001b[0m\u001b[0macquire\u001b[0m\u001b[0;34m(\u001b[0m\u001b[0;32mFalse\u001b[0m\u001b[0;34m)\u001b[0m\u001b[0;34m\u001b[0m\u001b[0;34m\u001b[0m\u001b[0m\n",
      "\u001b[0;31mKeyboardInterrupt\u001b[0m: "
     ]
    }
   ],
   "source": [
    "cluster = coiled.Cluster(\n",
    "    name = cluster_name,\n",
    "    n_workers=1, \n",
    "    configuration=\"ml_gpu\"\n",
    "#    configuration=\"ml_cpu\"\n",
    ")\n",
    "client = dask.distributed.Client(cluster)\n",
    "\n",
    "client"
   ]
  },
  {
   "cell_type": "code",
   "execution_count": 77,
   "metadata": {
    "ExecuteTime": {
     "end_time": "2020-08-27T13:44:26.014025Z",
     "start_time": "2020-08-27T13:44:26.011098Z"
    }
   },
   "outputs": [],
   "source": [
    "cluster_name=\"nlp_cpu_cluster1\""
   ]
  },
  {
   "cell_type": "code",
   "execution_count": 9,
   "metadata": {
    "ExecuteTime": {
     "end_time": "2020-08-26T07:41:50.135189Z",
     "start_time": "2020-08-26T07:41:47.746035Z"
    }
   },
   "outputs": [],
   "source": [
    "coiled.delete_cluster(cluster_name)"
   ]
  },
  {
   "cell_type": "code",
   "execution_count": 25,
   "metadata": {
    "ExecuteTime": {
     "end_time": "2020-08-26T10:01:02.767035Z",
     "start_time": "2020-08-26T09:57:49.967416Z"
    }
   },
   "outputs": [
    {
     "name": "stdout",
     "output_type": "stream",
     "text": [
      "192.793s to start clusterkes about a minute ...\n"
     ]
    }
   ],
   "source": [
    "t0=time.time()\n",
    "cluster = coiled.Cluster(\n",
    "    name = cluster_name,\n",
    "    n_workers=1, \n",
    "#    configuration=\"ml_gpu\"\n",
    "    configuration=\"ml_cpu\"\n",
    ")\n",
    "t1=time.time()\n",
    "print(\"%.3fs to start cluster\\n\"%(t1-t0))"
   ]
  },
  {
   "cell_type": "code",
   "execution_count": 78,
   "metadata": {
    "ExecuteTime": {
     "end_time": "2020-08-27T13:47:41.011178Z",
     "start_time": "2020-08-27T13:44:32.769736Z"
    }
   },
   "outputs": [
    {
     "name": "stdout",
     "output_type": "stream",
     "text": [
      "188.235s to start clusterkes about a minute ...\n",
      "\n"
     ]
    }
   ],
   "source": [
    "t0=time.time()\n",
    "cluster = coiled.Cluster(\n",
    "    name = cluster_name,\n",
    "    n_workers=1, \n",
    "#    configuration=\"ml_gpu\"\n",
    "    configuration=\"ml_cpu\"\n",
    ")\n",
    "t1=time.time()\n",
    "print(\"%.3fs to start cluster\\n\"%(t1-t0))"
   ]
  },
  {
   "cell_type": "code",
   "execution_count": 79,
   "metadata": {
    "ExecuteTime": {
     "end_time": "2020-08-27T13:48:55.798753Z",
     "start_time": "2020-08-27T13:48:53.774344Z"
    }
   },
   "outputs": [
    {
     "name": "stderr",
     "output_type": "stream",
     "text": [
      "/workspace/src/dask/distributed/distributed/client.py:1130: VersionMismatchWarning: Mismatched versions found\n",
      "\n",
      "+-------------+--------------------+-----------+---------+\n",
      "| Package     | client             | scheduler | workers |\n",
      "+-------------+--------------------+-----------+---------+\n",
      "| dask        | 2.19.0+2.g4d7e6741 | 2.21.0    | 2.21.0  |\n",
      "| distributed | 2.19.0             | 2.22.0    | 2.22.0  |\n",
      "+-------------+--------------------+-----------+---------+\n",
      "  warnings.warn(version_module.VersionMismatchWarning(msg[0][\"warning\"]))\n"
     ]
    },
    {
     "data": {
      "text/html": [
       "<table style=\"border: 2px solid white;\">\n",
       "<tr>\n",
       "<td style=\"vertical-align: top; border: 0px solid white\">\n",
       "<h3 style=\"text-align: left;\">Client</h3>\n",
       "<ul style=\"text-align: left; list-style: none; margin: 0; padding: 0;\">\n",
       "  <li><b>Scheduler: </b>tls://ec2-3-129-10-41.us-east-2.compute.amazonaws.com:8786</li>\n",
       "  <li><b>Dashboard: </b><a href='http://ec2-3-129-10-41.us-east-2.compute.amazonaws.com:8787/status' target='_blank'>http://ec2-3-129-10-41.us-east-2.compute.amazonaws.com:8787/status</a></li>\n",
       "</ul>\n",
       "</td>\n",
       "<td style=\"vertical-align: top; border: 0px solid white\">\n",
       "<h3 style=\"text-align: left;\">Cluster</h3>\n",
       "<ul style=\"text-align: left; list-style:none; margin: 0; padding: 0;\">\n",
       "  <li><b>Workers: </b>1</li>\n",
       "  <li><b>Cores: </b>4</li>\n",
       "  <li><b>Memory: </b>17.18 GB</li>\n",
       "</ul>\n",
       "</td>\n",
       "</tr>\n",
       "</table>"
      ],
      "text/plain": [
       "<Client: 'tls://10.1.13.87:8786' processes=1 threads=4, memory=17.18 GB>"
      ]
     },
     "execution_count": 79,
     "metadata": {},
     "output_type": "execute_result"
    }
   ],
   "source": [
    "client = dask.distributed.Client(cluster)\n",
    "\n",
    "client"
   ]
  },
  {
   "cell_type": "markdown",
   "metadata": {
    "heading_collapsed": true
   },
   "source": [
    "## Test GPU Status"
   ]
  },
  {
   "cell_type": "code",
   "execution_count": 29,
   "metadata": {
    "ExecuteTime": {
     "end_time": "2020-08-26T10:04:50.510725Z",
     "start_time": "2020-08-26T10:04:49.953293Z"
    },
    "hidden": true
   },
   "outputs": [],
   "source": [
    "import importlib\n",
    "import torch_model\n",
    "\n",
    "importlib.reload(torch_model)\n",
    "\n",
    "# Import our HiddenLayerNet pytorch model from a local torch_model.py module\n",
    "from torch_model import HiddenLayerNet\n",
    "# Send module with HiddenLayerNet to workers on cluster\n",
    "client.upload_file(\"torch_model.py\")"
   ]
  },
  {
   "cell_type": "code",
   "execution_count": 30,
   "metadata": {
    "ExecuteTime": {
     "end_time": "2020-08-26T10:04:50.834165Z",
     "start_time": "2020-08-26T10:04:50.829352Z"
    },
    "hidden": true
   },
   "outputs": [
    {
     "name": "stderr",
     "output_type": "stream",
     "text": [
      "WARNING:root:Sheer Loading transformer_wrapper\n"
     ]
    }
   ],
   "source": [
    "import transformer_wrapper\n",
    "importlib.reload(transformer_wrapper)\n",
    "from transformer_wrapper import check_models, load_model, gen_sent_features, check_gpu_access"
   ]
  },
  {
   "cell_type": "code",
   "execution_count": 38,
   "metadata": {
    "ExecuteTime": {
     "end_time": "2020-08-26T10:10:01.093515Z",
     "start_time": "2020-08-26T10:09:59.828976Z"
    },
    "hidden": true
   },
   "outputs": [],
   "source": [
    "client.upload_file(\"transformer_wrapper.py\")"
   ]
  },
  {
   "cell_type": "code",
   "execution_count": 39,
   "metadata": {
    "ExecuteTime": {
     "end_time": "2020-08-26T10:10:05.389302Z",
     "start_time": "2020-08-26T10:10:05.114779Z"
    },
    "hidden": true
   },
   "outputs": [
    {
     "data": {
      "text/plain": [
       "{'tls://10.1.11.119:33555': False,\n",
       " 'tls://10.1.11.135:41187': False,\n",
       " 'tls://10.1.11.167:35175': False,\n",
       " 'tls://10.1.11.229:33105': False,\n",
       " 'tls://10.1.11.57:44587': False,\n",
       " 'tls://10.1.11.85:35517': False,\n",
       " 'tls://10.1.11.88:42941': False,\n",
       " 'tls://10.1.12.101:42771': False,\n",
       " 'tls://10.1.12.179:34217': False,\n",
       " 'tls://10.1.12.221:41673': False,\n",
       " 'tls://10.1.12.246:34075': False,\n",
       " 'tls://10.1.12.54:38741': False,\n",
       " 'tls://10.1.12.62:43131': False,\n",
       " 'tls://10.1.12.96:35289': False,\n",
       " 'tls://10.1.13.102:34127': False,\n",
       " 'tls://10.1.13.113:39655': False,\n",
       " 'tls://10.1.13.15:41881': False,\n",
       " 'tls://10.1.13.187:35913': False,\n",
       " 'tls://10.1.13.31:44427': False,\n",
       " 'tls://10.1.13.58:44211': False}"
      ]
     },
     "execution_count": 39,
     "metadata": {},
     "output_type": "execute_result"
    }
   ],
   "source": [
    "client.run(check_gpu_access)"
   ]
  },
  {
   "cell_type": "markdown",
   "metadata": {},
   "source": [
    "## Upload Data"
   ]
  },
  {
   "cell_type": "code",
   "execution_count": 80,
   "metadata": {
    "ExecuteTime": {
     "end_time": "2020-08-27T13:49:11.767210Z",
     "start_time": "2020-08-27T13:48:59.458846Z"
    }
   },
   "outputs": [],
   "source": [
    "cluster.scale(20)"
   ]
  },
  {
   "cell_type": "code",
   "execution_count": 81,
   "metadata": {
    "ExecuteTime": {
     "end_time": "2020-08-27T13:54:33.464260Z",
     "start_time": "2020-08-27T13:54:33.461127Z"
    }
   },
   "outputs": [],
   "source": [
    "num_samples=10000"
   ]
  },
  {
   "cell_type": "code",
   "execution_count": null,
   "metadata": {
    "ExecuteTime": {
     "end_time": "2020-08-26T07:41:27.626344Z",
     "start_time": "2020-08-26T07:41:24.403Z"
    }
   },
   "outputs": [],
   "source": [
    "# we need to set up a public bucket with this dataset to make this work\n",
    "import dask.dataframe as dd\n",
    "\n",
    "url=\"/workspace/data/train_small.tsv\"\n",
    "\n",
    "columns=[\"review_score\", \"title\", \"text\"]\n",
    "categorical = [\"review_score\"]\n",
    "\n",
    "df = dd.read_csv(\n",
    "    url,\n",
    "    names=columns,\n",
    "    dtype={\n",
    "        \"review_score\": \"UInt8\",\n",
    "        \"title\": \"string\",\n",
    "        \"text\": \"string\"\n",
    "    },\n",
    "    #blocksize=\"16 MiB\",\n",
    "    blocksize=\"128 KiB\"\n",
    ")"
   ]
  },
  {
   "cell_type": "code",
   "execution_count": 5,
   "metadata": {
    "ExecuteTime": {
     "end_time": "2020-08-27T13:24:34.529484Z",
     "start_time": "2020-08-27T13:24:34.419762Z"
    }
   },
   "outputs": [],
   "source": [
    "import pandas as pd\n",
    "\n",
    "url=\"/workspace/data/train_small.tsv\"\n",
    "\n",
    "columns=[\"review_score\", \"title\", \"text\"]\n",
    "categorical = [\"review_score\"]\n",
    "\n",
    "p_df = pd.read_csv(\n",
    "    url,\n",
    "    names=columns,\n",
    "    dtype={\n",
    "        \"review_score\": \"UInt8\",\n",
    "        \"title\": \"string\",\n",
    "        \"text\": \"string\"\n",
    "    },\n",
    ")"
   ]
  },
  {
   "cell_type": "code",
   "execution_count": 6,
   "metadata": {
    "ExecuteTime": {
     "end_time": "2020-08-27T13:24:35.888006Z",
     "start_time": "2020-08-27T13:24:35.884672Z"
    }
   },
   "outputs": [],
   "source": [
    "nchunks=8*10"
   ]
  },
  {
   "cell_type": "code",
   "execution_count": 36,
   "metadata": {
    "ExecuteTime": {
     "end_time": "2020-08-26T10:09:39.958903Z",
     "start_time": "2020-08-26T10:09:39.804300Z"
    }
   },
   "outputs": [
    {
     "data": {
      "text/html": [
       "<div><strong>Dask DataFrame Structure:</strong></div>\n",
       "<div>\n",
       "<style scoped>\n",
       "    .dataframe tbody tr th:only-of-type {\n",
       "        vertical-align: middle;\n",
       "    }\n",
       "\n",
       "    .dataframe tbody tr th {\n",
       "        vertical-align: top;\n",
       "    }\n",
       "\n",
       "    .dataframe thead th {\n",
       "        text-align: right;\n",
       "    }\n",
       "</style>\n",
       "<table border=\"1\" class=\"dataframe\">\n",
       "  <thead>\n",
       "    <tr style=\"text-align: right;\">\n",
       "      <th></th>\n",
       "      <th>review_score</th>\n",
       "      <th>title</th>\n",
       "      <th>text</th>\n",
       "    </tr>\n",
       "    <tr>\n",
       "      <th>npartitions=80</th>\n",
       "      <th></th>\n",
       "      <th></th>\n",
       "      <th></th>\n",
       "    </tr>\n",
       "  </thead>\n",
       "  <tbody>\n",
       "    <tr>\n",
       "      <th>0</th>\n",
       "      <td>UInt8</td>\n",
       "      <td>string</td>\n",
       "      <td>string</td>\n",
       "    </tr>\n",
       "    <tr>\n",
       "      <th>125</th>\n",
       "      <td>...</td>\n",
       "      <td>...</td>\n",
       "      <td>...</td>\n",
       "    </tr>\n",
       "    <tr>\n",
       "      <th>...</th>\n",
       "      <td>...</td>\n",
       "      <td>...</td>\n",
       "      <td>...</td>\n",
       "    </tr>\n",
       "    <tr>\n",
       "      <th>9875</th>\n",
       "      <td>...</td>\n",
       "      <td>...</td>\n",
       "      <td>...</td>\n",
       "    </tr>\n",
       "    <tr>\n",
       "      <th>9999</th>\n",
       "      <td>...</td>\n",
       "      <td>...</td>\n",
       "      <td>...</td>\n",
       "    </tr>\n",
       "  </tbody>\n",
       "</table>\n",
       "</div>\n",
       "<div>Dask Name: from_pandas, 80 tasks</div>"
      ],
      "text/plain": [
       "Dask DataFrame Structure:\n",
       "               review_score   title    text\n",
       "npartitions=80                             \n",
       "0                     UInt8  string  string\n",
       "125                     ...     ...     ...\n",
       "...                     ...     ...     ...\n",
       "9875                    ...     ...     ...\n",
       "9999                    ...     ...     ...\n",
       "Dask Name: from_pandas, 80 tasks"
      ]
     },
     "execution_count": 36,
     "metadata": {},
     "output_type": "execute_result"
    }
   ],
   "source": [
    "ddf = dd.from_pandas(p_df[:num_samples], npartitions=nchunks)\n",
    "ddf.persist()"
   ]
  },
  {
   "cell_type": "code",
   "execution_count": null,
   "metadata": {},
   "outputs": [],
   "source": []
  },
  {
   "cell_type": "markdown",
   "metadata": {},
   "source": [
    "### Outputs"
   ]
  },
  {
   "cell_type": "code",
   "execution_count": 10,
   "metadata": {
    "ExecuteTime": {
     "end_time": "2020-08-27T13:24:57.645384Z",
     "start_time": "2020-08-27T13:24:57.631666Z"
    }
   },
   "outputs": [],
   "source": [
    "classes = np.array(p_df[\"review_score\"].tolist()).astype('long')\n",
    "classes = classes[:num_samples]-1"
   ]
  },
  {
   "cell_type": "code",
   "execution_count": 11,
   "metadata": {
    "ExecuteTime": {
     "end_time": "2020-08-27T13:24:58.957929Z",
     "start_time": "2020-08-27T13:24:58.952304Z"
    }
   },
   "outputs": [
    {
     "data": {
      "text/plain": [
       "array([2, 4, 4, ..., 0, 0, 3])"
      ]
     },
     "execution_count": 11,
     "metadata": {},
     "output_type": "execute_result"
    }
   ],
   "source": [
    "classes"
   ]
  },
  {
   "cell_type": "code",
   "execution_count": 71,
   "metadata": {
    "ExecuteTime": {
     "end_time": "2020-08-26T10:31:55.247293Z",
     "start_time": "2020-08-26T10:31:55.160232Z"
    }
   },
   "outputs": [],
   "source": [
    "# we subtract 1 so that classes are 0-indexed\n",
    "d_classes = (ddf['review_score'].astype(\"long\") - 1).persist()"
   ]
  },
  {
   "cell_type": "code",
   "execution_count": 66,
   "metadata": {
    "ExecuteTime": {
     "end_time": "2020-08-26T10:29:06.919059Z",
     "start_time": "2020-08-26T10:28:42.469170Z"
    }
   },
   "outputs": [
    {
     "data": {
      "text/plain": [
       "0       2\n",
       "1       4\n",
       "2       4\n",
       "3       3\n",
       "4       4\n",
       "       ..\n",
       "9995    3\n",
       "9996    2\n",
       "9997    0\n",
       "9998    0\n",
       "9999    3\n",
       "Name: review_score, Length: 10000, dtype: int64"
      ]
     },
     "execution_count": 66,
     "metadata": {},
     "output_type": "execute_result"
    }
   ],
   "source": [
    "d_classes.compute()"
   ]
  },
  {
   "cell_type": "code",
   "execution_count": 82,
   "metadata": {
    "ExecuteTime": {
     "end_time": "2020-08-27T13:54:46.816968Z",
     "start_time": "2020-08-27T13:54:46.800337Z"
    }
   },
   "outputs": [],
   "source": [
    "# actually we need an array and it seems a bit painful to convert a dask series \n",
    "# to a dask aray directly so doing it locally\n",
    "#d_classes = da.from_array(classes, chunks=nchunks).reshape((num_samples,1)).persist()\n",
    "d_classes = da.from_array(classes, chunks=nchunks).persist()"
   ]
  },
  {
   "cell_type": "code",
   "execution_count": 83,
   "metadata": {
    "ExecuteTime": {
     "end_time": "2020-08-27T13:54:50.802319Z",
     "start_time": "2020-08-27T13:54:50.796675Z"
    }
   },
   "outputs": [
    {
     "data": {
      "text/html": [
       "<table>\n",
       "<tr>\n",
       "<td>\n",
       "<table>\n",
       "  <thead>\n",
       "    <tr><td> </td><th> Array </th><th> Chunk </th></tr>\n",
       "  </thead>\n",
       "  <tbody>\n",
       "    <tr><th> Bytes </th><td> 80.00 kB </td> <td> 640 B </td></tr>\n",
       "    <tr><th> Shape </th><td> (10000,) </td> <td> (80,) </td></tr>\n",
       "    <tr><th> Count </th><td> 125 Tasks </td><td> 125 Chunks </td></tr>\n",
       "    <tr><th> Type </th><td> int64 </td><td> numpy.ndarray </td></tr>\n",
       "  </tbody>\n",
       "</table>\n",
       "</td>\n",
       "<td>\n",
       "<svg width=\"170\" height=\"75\" style=\"stroke:rgb(0,0,0);stroke-width:1\" >\n",
       "\n",
       "  <!-- Horizontal lines -->\n",
       "  <line x1=\"0\" y1=\"0\" x2=\"120\" y2=\"0\" style=\"stroke-width:2\" />\n",
       "  <line x1=\"0\" y1=\"25\" x2=\"120\" y2=\"25\" style=\"stroke-width:2\" />\n",
       "\n",
       "  <!-- Vertical lines -->\n",
       "  <line x1=\"0\" y1=\"0\" x2=\"0\" y2=\"25\" style=\"stroke-width:2\" />\n",
       "  <line x1=\"0\" y1=\"0\" x2=\"0\" y2=\"25\" />\n",
       "  <line x1=\"1\" y1=\"0\" x2=\"1\" y2=\"25\" />\n",
       "  <line x1=\"2\" y1=\"0\" x2=\"2\" y2=\"25\" />\n",
       "  <line x1=\"3\" y1=\"0\" x2=\"3\" y2=\"25\" />\n",
       "  <line x1=\"4\" y1=\"0\" x2=\"4\" y2=\"25\" />\n",
       "  <line x1=\"5\" y1=\"0\" x2=\"5\" y2=\"25\" />\n",
       "  <line x1=\"6\" y1=\"0\" x2=\"6\" y2=\"25\" />\n",
       "  <line x1=\"7\" y1=\"0\" x2=\"7\" y2=\"25\" />\n",
       "  <line x1=\"8\" y1=\"0\" x2=\"8\" y2=\"25\" />\n",
       "  <line x1=\"9\" y1=\"0\" x2=\"9\" y2=\"25\" />\n",
       "  <line x1=\"10\" y1=\"0\" x2=\"10\" y2=\"25\" />\n",
       "  <line x1=\"11\" y1=\"0\" x2=\"11\" y2=\"25\" />\n",
       "  <line x1=\"12\" y1=\"0\" x2=\"12\" y2=\"25\" />\n",
       "  <line x1=\"13\" y1=\"0\" x2=\"13\" y2=\"25\" />\n",
       "  <line x1=\"14\" y1=\"0\" x2=\"14\" y2=\"25\" />\n",
       "  <line x1=\"15\" y1=\"0\" x2=\"15\" y2=\"25\" />\n",
       "  <line x1=\"16\" y1=\"0\" x2=\"16\" y2=\"25\" />\n",
       "  <line x1=\"17\" y1=\"0\" x2=\"17\" y2=\"25\" />\n",
       "  <line x1=\"18\" y1=\"0\" x2=\"18\" y2=\"25\" />\n",
       "  <line x1=\"19\" y1=\"0\" x2=\"19\" y2=\"25\" />\n",
       "  <line x1=\"20\" y1=\"0\" x2=\"20\" y2=\"25\" />\n",
       "  <line x1=\"21\" y1=\"0\" x2=\"21\" y2=\"25\" />\n",
       "  <line x1=\"22\" y1=\"0\" x2=\"22\" y2=\"25\" />\n",
       "  <line x1=\"23\" y1=\"0\" x2=\"23\" y2=\"25\" />\n",
       "  <line x1=\"24\" y1=\"0\" x2=\"24\" y2=\"25\" />\n",
       "  <line x1=\"24\" y1=\"0\" x2=\"24\" y2=\"25\" />\n",
       "  <line x1=\"25\" y1=\"0\" x2=\"25\" y2=\"25\" />\n",
       "  <line x1=\"26\" y1=\"0\" x2=\"26\" y2=\"25\" />\n",
       "  <line x1=\"27\" y1=\"0\" x2=\"27\" y2=\"25\" />\n",
       "  <line x1=\"28\" y1=\"0\" x2=\"28\" y2=\"25\" />\n",
       "  <line x1=\"29\" y1=\"0\" x2=\"29\" y2=\"25\" />\n",
       "  <line x1=\"30\" y1=\"0\" x2=\"30\" y2=\"25\" />\n",
       "  <line x1=\"31\" y1=\"0\" x2=\"31\" y2=\"25\" />\n",
       "  <line x1=\"32\" y1=\"0\" x2=\"32\" y2=\"25\" />\n",
       "  <line x1=\"33\" y1=\"0\" x2=\"33\" y2=\"25\" />\n",
       "  <line x1=\"34\" y1=\"0\" x2=\"34\" y2=\"25\" />\n",
       "  <line x1=\"35\" y1=\"0\" x2=\"35\" y2=\"25\" />\n",
       "  <line x1=\"36\" y1=\"0\" x2=\"36\" y2=\"25\" />\n",
       "  <line x1=\"37\" y1=\"0\" x2=\"37\" y2=\"25\" />\n",
       "  <line x1=\"38\" y1=\"0\" x2=\"38\" y2=\"25\" />\n",
       "  <line x1=\"39\" y1=\"0\" x2=\"39\" y2=\"25\" />\n",
       "  <line x1=\"40\" y1=\"0\" x2=\"40\" y2=\"25\" />\n",
       "  <line x1=\"41\" y1=\"0\" x2=\"41\" y2=\"25\" />\n",
       "  <line x1=\"42\" y1=\"0\" x2=\"42\" y2=\"25\" />\n",
       "  <line x1=\"43\" y1=\"0\" x2=\"43\" y2=\"25\" />\n",
       "  <line x1=\"44\" y1=\"0\" x2=\"44\" y2=\"25\" />\n",
       "  <line x1=\"45\" y1=\"0\" x2=\"45\" y2=\"25\" />\n",
       "  <line x1=\"46\" y1=\"0\" x2=\"46\" y2=\"25\" />\n",
       "  <line x1=\"47\" y1=\"0\" x2=\"47\" y2=\"25\" />\n",
       "  <line x1=\"48\" y1=\"0\" x2=\"48\" y2=\"25\" />\n",
       "  <line x1=\"48\" y1=\"0\" x2=\"48\" y2=\"25\" />\n",
       "  <line x1=\"49\" y1=\"0\" x2=\"49\" y2=\"25\" />\n",
       "  <line x1=\"50\" y1=\"0\" x2=\"50\" y2=\"25\" />\n",
       "  <line x1=\"51\" y1=\"0\" x2=\"51\" y2=\"25\" />\n",
       "  <line x1=\"52\" y1=\"0\" x2=\"52\" y2=\"25\" />\n",
       "  <line x1=\"53\" y1=\"0\" x2=\"53\" y2=\"25\" />\n",
       "  <line x1=\"54\" y1=\"0\" x2=\"54\" y2=\"25\" />\n",
       "  <line x1=\"55\" y1=\"0\" x2=\"55\" y2=\"25\" />\n",
       "  <line x1=\"56\" y1=\"0\" x2=\"56\" y2=\"25\" />\n",
       "  <line x1=\"57\" y1=\"0\" x2=\"57\" y2=\"25\" />\n",
       "  <line x1=\"58\" y1=\"0\" x2=\"58\" y2=\"25\" />\n",
       "  <line x1=\"59\" y1=\"0\" x2=\"59\" y2=\"25\" />\n",
       "  <line x1=\"60\" y1=\"0\" x2=\"60\" y2=\"25\" />\n",
       "  <line x1=\"61\" y1=\"0\" x2=\"61\" y2=\"25\" />\n",
       "  <line x1=\"62\" y1=\"0\" x2=\"62\" y2=\"25\" />\n",
       "  <line x1=\"63\" y1=\"0\" x2=\"63\" y2=\"25\" />\n",
       "  <line x1=\"64\" y1=\"0\" x2=\"64\" y2=\"25\" />\n",
       "  <line x1=\"65\" y1=\"0\" x2=\"65\" y2=\"25\" />\n",
       "  <line x1=\"66\" y1=\"0\" x2=\"66\" y2=\"25\" />\n",
       "  <line x1=\"67\" y1=\"0\" x2=\"67\" y2=\"25\" />\n",
       "  <line x1=\"68\" y1=\"0\" x2=\"68\" y2=\"25\" />\n",
       "  <line x1=\"69\" y1=\"0\" x2=\"69\" y2=\"25\" />\n",
       "  <line x1=\"70\" y1=\"0\" x2=\"70\" y2=\"25\" />\n",
       "  <line x1=\"71\" y1=\"0\" x2=\"71\" y2=\"25\" />\n",
       "  <line x1=\"72\" y1=\"0\" x2=\"72\" y2=\"25\" />\n",
       "  <line x1=\"72\" y1=\"0\" x2=\"72\" y2=\"25\" />\n",
       "  <line x1=\"73\" y1=\"0\" x2=\"73\" y2=\"25\" />\n",
       "  <line x1=\"74\" y1=\"0\" x2=\"74\" y2=\"25\" />\n",
       "  <line x1=\"75\" y1=\"0\" x2=\"75\" y2=\"25\" />\n",
       "  <line x1=\"76\" y1=\"0\" x2=\"76\" y2=\"25\" />\n",
       "  <line x1=\"77\" y1=\"0\" x2=\"77\" y2=\"25\" />\n",
       "  <line x1=\"78\" y1=\"0\" x2=\"78\" y2=\"25\" />\n",
       "  <line x1=\"79\" y1=\"0\" x2=\"79\" y2=\"25\" />\n",
       "  <line x1=\"80\" y1=\"0\" x2=\"80\" y2=\"25\" />\n",
       "  <line x1=\"81\" y1=\"0\" x2=\"81\" y2=\"25\" />\n",
       "  <line x1=\"82\" y1=\"0\" x2=\"82\" y2=\"25\" />\n",
       "  <line x1=\"83\" y1=\"0\" x2=\"83\" y2=\"25\" />\n",
       "  <line x1=\"84\" y1=\"0\" x2=\"84\" y2=\"25\" />\n",
       "  <line x1=\"85\" y1=\"0\" x2=\"85\" y2=\"25\" />\n",
       "  <line x1=\"86\" y1=\"0\" x2=\"86\" y2=\"25\" />\n",
       "  <line x1=\"87\" y1=\"0\" x2=\"87\" y2=\"25\" />\n",
       "  <line x1=\"88\" y1=\"0\" x2=\"88\" y2=\"25\" />\n",
       "  <line x1=\"89\" y1=\"0\" x2=\"89\" y2=\"25\" />\n",
       "  <line x1=\"90\" y1=\"0\" x2=\"90\" y2=\"25\" />\n",
       "  <line x1=\"91\" y1=\"0\" x2=\"91\" y2=\"25\" />\n",
       "  <line x1=\"92\" y1=\"0\" x2=\"92\" y2=\"25\" />\n",
       "  <line x1=\"93\" y1=\"0\" x2=\"93\" y2=\"25\" />\n",
       "  <line x1=\"94\" y1=\"0\" x2=\"94\" y2=\"25\" />\n",
       "  <line x1=\"95\" y1=\"0\" x2=\"95\" y2=\"25\" />\n",
       "  <line x1=\"96\" y1=\"0\" x2=\"96\" y2=\"25\" />\n",
       "  <line x1=\"96\" y1=\"0\" x2=\"96\" y2=\"25\" />\n",
       "  <line x1=\"97\" y1=\"0\" x2=\"97\" y2=\"25\" />\n",
       "  <line x1=\"98\" y1=\"0\" x2=\"98\" y2=\"25\" />\n",
       "  <line x1=\"99\" y1=\"0\" x2=\"99\" y2=\"25\" />\n",
       "  <line x1=\"100\" y1=\"0\" x2=\"100\" y2=\"25\" />\n",
       "  <line x1=\"101\" y1=\"0\" x2=\"101\" y2=\"25\" />\n",
       "  <line x1=\"102\" y1=\"0\" x2=\"102\" y2=\"25\" />\n",
       "  <line x1=\"103\" y1=\"0\" x2=\"103\" y2=\"25\" />\n",
       "  <line x1=\"104\" y1=\"0\" x2=\"104\" y2=\"25\" />\n",
       "  <line x1=\"105\" y1=\"0\" x2=\"105\" y2=\"25\" />\n",
       "  <line x1=\"106\" y1=\"0\" x2=\"106\" y2=\"25\" />\n",
       "  <line x1=\"107\" y1=\"0\" x2=\"107\" y2=\"25\" />\n",
       "  <line x1=\"108\" y1=\"0\" x2=\"108\" y2=\"25\" />\n",
       "  <line x1=\"109\" y1=\"0\" x2=\"109\" y2=\"25\" />\n",
       "  <line x1=\"110\" y1=\"0\" x2=\"110\" y2=\"25\" />\n",
       "  <line x1=\"111\" y1=\"0\" x2=\"111\" y2=\"25\" />\n",
       "  <line x1=\"112\" y1=\"0\" x2=\"112\" y2=\"25\" />\n",
       "  <line x1=\"113\" y1=\"0\" x2=\"113\" y2=\"25\" />\n",
       "  <line x1=\"114\" y1=\"0\" x2=\"114\" y2=\"25\" />\n",
       "  <line x1=\"115\" y1=\"0\" x2=\"115\" y2=\"25\" />\n",
       "  <line x1=\"116\" y1=\"0\" x2=\"116\" y2=\"25\" />\n",
       "  <line x1=\"117\" y1=\"0\" x2=\"117\" y2=\"25\" />\n",
       "  <line x1=\"118\" y1=\"0\" x2=\"118\" y2=\"25\" />\n",
       "  <line x1=\"119\" y1=\"0\" x2=\"119\" y2=\"25\" />\n",
       "  <line x1=\"120\" y1=\"0\" x2=\"120\" y2=\"25\" style=\"stroke-width:2\" />\n",
       "\n",
       "  <!-- Colored Rectangle -->\n",
       "  <polygon points=\"0.000000,0.000000 120.000000,0.000000 120.000000,25.412617 0.000000,25.412617\" style=\"fill:#ECB172A0;stroke-width:0\"/>\n",
       "\n",
       "  <!-- Text -->\n",
       "  <text x=\"60.000000\" y=\"45.412617\" font-size=\"1.0rem\" font-weight=\"100\" text-anchor=\"middle\" >10000</text>\n",
       "  <text x=\"140.000000\" y=\"12.706308\" font-size=\"1.0rem\" font-weight=\"100\" text-anchor=\"middle\" transform=\"rotate(0,140.000000,12.706308)\">1</text>\n",
       "</svg>\n",
       "</td>\n",
       "</tr>\n",
       "</table>"
      ],
      "text/plain": [
       "dask.array<array, shape=(10000,), dtype=int64, chunksize=(80,), chunktype=numpy.ndarray>"
      ]
     },
     "execution_count": 83,
     "metadata": {},
     "output_type": "execute_result"
    }
   ],
   "source": [
    "d_classes"
   ]
  },
  {
   "cell_type": "markdown",
   "metadata": {
    "heading_collapsed": true
   },
   "source": [
    "## Generate Embeddings"
   ]
  },
  {
   "cell_type": "code",
   "execution_count": 40,
   "metadata": {
    "ExecuteTime": {
     "end_time": "2020-08-26T10:10:10.548300Z",
     "start_time": "2020-08-26T10:10:09.687866Z"
    },
    "collapsed": true,
    "hidden": true
   },
   "outputs": [
    {
     "data": {
      "text/plain": [
       "{'tls://10.1.11.119:33555': [],\n",
       " 'tls://10.1.11.135:41187': [],\n",
       " 'tls://10.1.11.167:35175': [],\n",
       " 'tls://10.1.11.229:33105': [],\n",
       " 'tls://10.1.11.57:44587': [],\n",
       " 'tls://10.1.11.85:35517': [],\n",
       " 'tls://10.1.11.88:42941': [],\n",
       " 'tls://10.1.12.101:42771': [],\n",
       " 'tls://10.1.12.179:34217': [],\n",
       " 'tls://10.1.12.221:41673': [],\n",
       " 'tls://10.1.12.246:34075': [],\n",
       " 'tls://10.1.12.54:38741': [],\n",
       " 'tls://10.1.12.62:43131': [],\n",
       " 'tls://10.1.12.96:35289': [],\n",
       " 'tls://10.1.13.102:34127': [],\n",
       " 'tls://10.1.13.113:39655': [],\n",
       " 'tls://10.1.13.15:41881': [],\n",
       " 'tls://10.1.13.187:35913': [],\n",
       " 'tls://10.1.13.31:44427': [],\n",
       " 'tls://10.1.13.58:44211': []}"
      ]
     },
     "execution_count": 40,
     "metadata": {},
     "output_type": "execute_result"
    }
   ],
   "source": [
    "client.run(check_models)"
   ]
  },
  {
   "cell_type": "code",
   "execution_count": 41,
   "metadata": {
    "ExecuteTime": {
     "end_time": "2020-08-26T10:12:22.817481Z",
     "start_time": "2020-08-26T10:10:16.270539Z"
    },
    "hidden": true
   },
   "outputs": [],
   "source": [
    "# load the model on all workers\n",
    "ret = client.run(load_model)"
   ]
  },
  {
   "cell_type": "code",
   "execution_count": 42,
   "metadata": {
    "ExecuteTime": {
     "end_time": "2020-08-26T10:12:23.055993Z",
     "start_time": "2020-08-26T10:12:22.825554Z"
    },
    "collapsed": true,
    "hidden": true
   },
   "outputs": [
    {
     "data": {
      "text/plain": [
       "{'tls://10.1.11.119:33555': ['public.ukp.informatik.tu-darmstadt.de_reimers_sentence-transformers_v0.2_bert-base-nli-mean-tokens.zip'],\n",
       " 'tls://10.1.11.135:41187': ['public.ukp.informatik.tu-darmstadt.de_reimers_sentence-transformers_v0.2_bert-base-nli-mean-tokens.zip'],\n",
       " 'tls://10.1.11.167:35175': ['public.ukp.informatik.tu-darmstadt.de_reimers_sentence-transformers_v0.2_bert-base-nli-mean-tokens.zip'],\n",
       " 'tls://10.1.11.229:33105': ['public.ukp.informatik.tu-darmstadt.de_reimers_sentence-transformers_v0.2_bert-base-nli-mean-tokens.zip'],\n",
       " 'tls://10.1.11.57:44587': ['public.ukp.informatik.tu-darmstadt.de_reimers_sentence-transformers_v0.2_bert-base-nli-mean-tokens.zip'],\n",
       " 'tls://10.1.11.85:35517': ['public.ukp.informatik.tu-darmstadt.de_reimers_sentence-transformers_v0.2_bert-base-nli-mean-tokens.zip'],\n",
       " 'tls://10.1.11.88:42941': ['public.ukp.informatik.tu-darmstadt.de_reimers_sentence-transformers_v0.2_bert-base-nli-mean-tokens.zip'],\n",
       " 'tls://10.1.12.101:42771': ['public.ukp.informatik.tu-darmstadt.de_reimers_sentence-transformers_v0.2_bert-base-nli-mean-tokens.zip'],\n",
       " 'tls://10.1.12.179:34217': ['public.ukp.informatik.tu-darmstadt.de_reimers_sentence-transformers_v0.2_bert-base-nli-mean-tokens.zip'],\n",
       " 'tls://10.1.12.221:41673': ['public.ukp.informatik.tu-darmstadt.de_reimers_sentence-transformers_v0.2_bert-base-nli-mean-tokens.zip'],\n",
       " 'tls://10.1.12.246:34075': ['public.ukp.informatik.tu-darmstadt.de_reimers_sentence-transformers_v0.2_bert-base-nli-mean-tokens.zip'],\n",
       " 'tls://10.1.12.54:38741': ['public.ukp.informatik.tu-darmstadt.de_reimers_sentence-transformers_v0.2_bert-base-nli-mean-tokens.zip'],\n",
       " 'tls://10.1.12.62:43131': ['public.ukp.informatik.tu-darmstadt.de_reimers_sentence-transformers_v0.2_bert-base-nli-mean-tokens.zip'],\n",
       " 'tls://10.1.12.96:35289': ['public.ukp.informatik.tu-darmstadt.de_reimers_sentence-transformers_v0.2_bert-base-nli-mean-tokens.zip'],\n",
       " 'tls://10.1.13.102:34127': ['public.ukp.informatik.tu-darmstadt.de_reimers_sentence-transformers_v0.2_bert-base-nli-mean-tokens.zip'],\n",
       " 'tls://10.1.13.113:39655': ['public.ukp.informatik.tu-darmstadt.de_reimers_sentence-transformers_v0.2_bert-base-nli-mean-tokens.zip'],\n",
       " 'tls://10.1.13.15:41881': ['public.ukp.informatik.tu-darmstadt.de_reimers_sentence-transformers_v0.2_bert-base-nli-mean-tokens.zip'],\n",
       " 'tls://10.1.13.187:35913': ['public.ukp.informatik.tu-darmstadt.de_reimers_sentence-transformers_v0.2_bert-base-nli-mean-tokens.zip'],\n",
       " 'tls://10.1.13.31:44427': ['public.ukp.informatik.tu-darmstadt.de_reimers_sentence-transformers_v0.2_bert-base-nli-mean-tokens.zip'],\n",
       " 'tls://10.1.13.58:44211': ['public.ukp.informatik.tu-darmstadt.de_reimers_sentence-transformers_v0.2_bert-base-nli-mean-tokens.zip']}"
      ]
     },
     "execution_count": 42,
     "metadata": {},
     "output_type": "execute_result"
    }
   ],
   "source": [
    "# check that the model has been downloaded and locally cached\n",
    "client.run(check_models, modeldir=\"/root/.cache/torch/sentence_transformers/\")"
   ]
  },
  {
   "cell_type": "code",
   "execution_count": 43,
   "metadata": {
    "ExecuteTime": {
     "end_time": "2020-08-26T10:12:37.995615Z",
     "start_time": "2020-08-26T10:12:37.988116Z"
    },
    "hidden": true
   },
   "outputs": [],
   "source": [
    "# a feature generation function we map over the data frame\n",
    "# it takes a list of strings as inputs and ouputs a matrix of features, one row per string\n",
    "d_gen_sent_features = dask.delayed(gen_sent_features)"
   ]
  },
  {
   "cell_type": "code",
   "execution_count": 55,
   "metadata": {
    "ExecuteTime": {
     "end_time": "2020-08-26T10:23:40.330040Z",
     "start_time": "2020-08-26T10:23:40.306293Z"
    },
    "hidden": true
   },
   "outputs": [],
   "source": [
    "feat = ddf.text.map_partitions(gen_sent_features,\n",
    "                               meta=np.empty((0,0), dtype='float32'))"
   ]
  },
  {
   "cell_type": "code",
   "execution_count": 22,
   "metadata": {
    "ExecuteTime": {
     "end_time": "2020-08-26T08:57:19.733224Z",
     "start_time": "2020-08-26T08:11:57.368921Z"
    },
    "collapsed": true,
    "hidden": true
   },
   "outputs": [
    {
     "name": "stdout",
     "output_type": "stream",
     "text": [
      "CPU times: user 6.66 s, sys: 2.09 s, total: 8.75 s\n",
      "Wall time: 45min 22s\n"
     ]
    },
    {
     "data": {
      "text/plain": [
       "(10000, 768)"
      ]
     },
     "execution_count": 22,
     "metadata": {},
     "output_type": "execute_result"
    },
    {
     "name": "stderr",
     "output_type": "stream",
     "text": [
      "ERROR:asyncio:Unclosed client session\n",
      "client_session: <aiohttp.client.ClientSession object at 0x7f1c1275e130>\n",
      "distributed.client - ERROR - Failed to reconnect to scheduler after 10.00 seconds, closing client\n",
      "ERROR:asyncio:_GatheringFuture exception was never retrieved\n",
      "future: <_GatheringFuture finished exception=CancelledError()>\n",
      "asyncio.exceptions.CancelledError\n"
     ]
    }
   ],
   "source": [
    "%%time\n",
    "\n",
    "# time with one worker\n",
    "\n",
    "# this is 10k sents over 4 cores\n",
    "sent_embeddings = feat.compute()\n",
    "sent_embeddings.shape"
   ]
  },
  {
   "cell_type": "code",
   "execution_count": 56,
   "metadata": {
    "ExecuteTime": {
     "end_time": "2020-08-26T10:23:46.029347Z",
     "start_time": "2020-08-26T10:23:45.975823Z"
    },
    "hidden": true
   },
   "outputs": [
    {
     "name": "stdout",
     "output_type": "stream",
     "text": [
      "CPU times: user 25.3 ms, sys: 419 µs, total: 25.7 ms\n",
      "Wall time: 25.4 ms\n"
     ]
    }
   ],
   "source": [
    "%%time\n",
    "\n",
    "# time with 20 workers\n",
    "\n",
    "# this is 10k sents over 80 cores\n",
    "feat = feat.persist()"
   ]
  },
  {
   "cell_type": "code",
   "execution_count": 45,
   "metadata": {
    "ExecuteTime": {
     "end_time": "2020-08-26T10:16:20.489535Z",
     "start_time": "2020-08-26T10:12:56.771619Z"
    },
    "hidden": true
   },
   "outputs": [
    {
     "name": "stdout",
     "output_type": "stream",
     "text": [
      "CPU times: user 3.7 s, sys: 1.07 s, total: 4.77 s\n",
      "Wall time: 3min 23s\n"
     ]
    },
    {
     "data": {
      "text/plain": [
       "(10000, 768)"
      ]
     },
     "execution_count": 45,
     "metadata": {},
     "output_type": "execute_result"
    }
   ],
   "source": [
    "%%time\n",
    "\n",
    "# time with 20 workers\n",
    "\n",
    "sentence_embeddings = feat.compute()\n",
    "sentence_embeddings.shape"
   ]
  },
  {
   "cell_type": "code",
   "execution_count": 14,
   "metadata": {
    "ExecuteTime": {
     "end_time": "2020-08-27T13:25:20.336969Z",
     "start_time": "2020-08-27T13:25:20.333258Z"
    },
    "hidden": true
   },
   "outputs": [],
   "source": [
    "embeddings_file_full = \"embeddings_full_coiled.npy\""
   ]
  },
  {
   "cell_type": "code",
   "execution_count": 50,
   "metadata": {
    "ExecuteTime": {
     "end_time": "2020-08-26T10:16:59.768421Z",
     "start_time": "2020-08-26T10:16:59.689932Z"
    },
    "hidden": true
   },
   "outputs": [],
   "source": [
    "# save tehse so we don't have to keep doing this\n",
    "np.save(embeddings_file_full, sentence_embeddings)"
   ]
  },
  {
   "cell_type": "code",
   "execution_count": 16,
   "metadata": {
    "ExecuteTime": {
     "end_time": "2020-08-27T13:25:42.048681Z",
     "start_time": "2020-08-27T13:25:42.030546Z"
    },
    "hidden": true
   },
   "outputs": [
    {
     "data": {
      "text/plain": [
       "(10000, 768)"
      ]
     },
     "execution_count": 16,
     "metadata": {},
     "output_type": "execute_result"
    }
   ],
   "source": [
    "sentence_embeddings = np.load(embeddings_file_full)\n",
    "sentence_embeddings.shape"
   ]
  },
  {
   "cell_type": "markdown",
   "metadata": {},
   "source": [
    "## Train with Embeddings"
   ]
  },
  {
   "cell_type": "code",
   "execution_count": 56,
   "metadata": {
    "ExecuteTime": {
     "end_time": "2020-08-27T13:37:59.536247Z",
     "start_time": "2020-08-27T13:37:59.529601Z"
    }
   },
   "outputs": [
    {
     "data": {
      "text/plain": [
       "80"
      ]
     },
     "execution_count": 56,
     "metadata": {},
     "output_type": "execute_result"
    }
   ],
   "source": [
    "nchunks"
   ]
  },
  {
   "cell_type": "code",
   "execution_count": 84,
   "metadata": {
    "ExecuteTime": {
     "end_time": "2020-08-27T13:54:59.607430Z",
     "start_time": "2020-08-27T13:54:59.563171Z"
    }
   },
   "outputs": [],
   "source": [
    "# if we've loaded the cached versions\n",
    "d_sentence_embeddings = da.from_array(sentence_embeddings, chunks=(nchunks,sentence_embeddings.shape[1]))"
   ]
  },
  {
   "cell_type": "code",
   "execution_count": 67,
   "metadata": {
    "ExecuteTime": {
     "end_time": "2020-08-26T10:29:25.345632Z",
     "start_time": "2020-08-26T10:29:25.342877Z"
    }
   },
   "outputs": [],
   "source": [
    "d_sentence_embeddings = feat"
   ]
  },
  {
   "cell_type": "code",
   "execution_count": 85,
   "metadata": {
    "ExecuteTime": {
     "end_time": "2020-08-27T13:59:23.448169Z",
     "start_time": "2020-08-27T13:55:05.215042Z"
    }
   },
   "outputs": [
    {
     "data": {
      "text/html": [
       "<table>\n",
       "<tr>\n",
       "<td>\n",
       "<table>\n",
       "  <thead>\n",
       "    <tr><td> </td><th> Array </th><th> Chunk </th></tr>\n",
       "  </thead>\n",
       "  <tbody>\n",
       "    <tr><th> Bytes </th><td> 30.72 MB </td> <td> 245.76 kB </td></tr>\n",
       "    <tr><th> Shape </th><td> (10000, 768) </td> <td> (80, 768) </td></tr>\n",
       "    <tr><th> Count </th><td> 126 Tasks </td><td> 125 Chunks </td></tr>\n",
       "    <tr><th> Type </th><td> float32 </td><td> numpy.ndarray </td></tr>\n",
       "  </tbody>\n",
       "</table>\n",
       "</td>\n",
       "<td>\n",
       "<svg width=\"87\" height=\"170\" style=\"stroke:rgb(0,0,0);stroke-width:1\" >\n",
       "\n",
       "  <!-- Horizontal lines -->\n",
       "  <line x1=\"0\" y1=\"0\" x2=\"37\" y2=\"0\" style=\"stroke-width:2\" />\n",
       "  <line x1=\"0\" y1=\"0\" x2=\"37\" y2=\"0\" />\n",
       "  <line x1=\"0\" y1=\"1\" x2=\"37\" y2=\"1\" />\n",
       "  <line x1=\"0\" y1=\"2\" x2=\"37\" y2=\"2\" />\n",
       "  <line x1=\"0\" y1=\"3\" x2=\"37\" y2=\"3\" />\n",
       "  <line x1=\"0\" y1=\"4\" x2=\"37\" y2=\"4\" />\n",
       "  <line x1=\"0\" y1=\"5\" x2=\"37\" y2=\"5\" />\n",
       "  <line x1=\"0\" y1=\"6\" x2=\"37\" y2=\"6\" />\n",
       "  <line x1=\"0\" y1=\"7\" x2=\"37\" y2=\"7\" />\n",
       "  <line x1=\"0\" y1=\"8\" x2=\"37\" y2=\"8\" />\n",
       "  <line x1=\"0\" y1=\"9\" x2=\"37\" y2=\"9\" />\n",
       "  <line x1=\"0\" y1=\"10\" x2=\"37\" y2=\"10\" />\n",
       "  <line x1=\"0\" y1=\"11\" x2=\"37\" y2=\"11\" />\n",
       "  <line x1=\"0\" y1=\"12\" x2=\"37\" y2=\"12\" />\n",
       "  <line x1=\"0\" y1=\"13\" x2=\"37\" y2=\"13\" />\n",
       "  <line x1=\"0\" y1=\"14\" x2=\"37\" y2=\"14\" />\n",
       "  <line x1=\"0\" y1=\"15\" x2=\"37\" y2=\"15\" />\n",
       "  <line x1=\"0\" y1=\"16\" x2=\"37\" y2=\"16\" />\n",
       "  <line x1=\"0\" y1=\"17\" x2=\"37\" y2=\"17\" />\n",
       "  <line x1=\"0\" y1=\"18\" x2=\"37\" y2=\"18\" />\n",
       "  <line x1=\"0\" y1=\"19\" x2=\"37\" y2=\"19\" />\n",
       "  <line x1=\"0\" y1=\"20\" x2=\"37\" y2=\"20\" />\n",
       "  <line x1=\"0\" y1=\"21\" x2=\"37\" y2=\"21\" />\n",
       "  <line x1=\"0\" y1=\"22\" x2=\"37\" y2=\"22\" />\n",
       "  <line x1=\"0\" y1=\"23\" x2=\"37\" y2=\"23\" />\n",
       "  <line x1=\"0\" y1=\"24\" x2=\"37\" y2=\"24\" />\n",
       "  <line x1=\"0\" y1=\"24\" x2=\"37\" y2=\"24\" />\n",
       "  <line x1=\"0\" y1=\"25\" x2=\"37\" y2=\"25\" />\n",
       "  <line x1=\"0\" y1=\"26\" x2=\"37\" y2=\"26\" />\n",
       "  <line x1=\"0\" y1=\"27\" x2=\"37\" y2=\"27\" />\n",
       "  <line x1=\"0\" y1=\"28\" x2=\"37\" y2=\"28\" />\n",
       "  <line x1=\"0\" y1=\"29\" x2=\"37\" y2=\"29\" />\n",
       "  <line x1=\"0\" y1=\"30\" x2=\"37\" y2=\"30\" />\n",
       "  <line x1=\"0\" y1=\"31\" x2=\"37\" y2=\"31\" />\n",
       "  <line x1=\"0\" y1=\"32\" x2=\"37\" y2=\"32\" />\n",
       "  <line x1=\"0\" y1=\"33\" x2=\"37\" y2=\"33\" />\n",
       "  <line x1=\"0\" y1=\"34\" x2=\"37\" y2=\"34\" />\n",
       "  <line x1=\"0\" y1=\"35\" x2=\"37\" y2=\"35\" />\n",
       "  <line x1=\"0\" y1=\"36\" x2=\"37\" y2=\"36\" />\n",
       "  <line x1=\"0\" y1=\"37\" x2=\"37\" y2=\"37\" />\n",
       "  <line x1=\"0\" y1=\"38\" x2=\"37\" y2=\"38\" />\n",
       "  <line x1=\"0\" y1=\"39\" x2=\"37\" y2=\"39\" />\n",
       "  <line x1=\"0\" y1=\"40\" x2=\"37\" y2=\"40\" />\n",
       "  <line x1=\"0\" y1=\"41\" x2=\"37\" y2=\"41\" />\n",
       "  <line x1=\"0\" y1=\"42\" x2=\"37\" y2=\"42\" />\n",
       "  <line x1=\"0\" y1=\"43\" x2=\"37\" y2=\"43\" />\n",
       "  <line x1=\"0\" y1=\"44\" x2=\"37\" y2=\"44\" />\n",
       "  <line x1=\"0\" y1=\"45\" x2=\"37\" y2=\"45\" />\n",
       "  <line x1=\"0\" y1=\"46\" x2=\"37\" y2=\"46\" />\n",
       "  <line x1=\"0\" y1=\"47\" x2=\"37\" y2=\"47\" />\n",
       "  <line x1=\"0\" y1=\"48\" x2=\"37\" y2=\"48\" />\n",
       "  <line x1=\"0\" y1=\"48\" x2=\"37\" y2=\"48\" />\n",
       "  <line x1=\"0\" y1=\"49\" x2=\"37\" y2=\"49\" />\n",
       "  <line x1=\"0\" y1=\"50\" x2=\"37\" y2=\"50\" />\n",
       "  <line x1=\"0\" y1=\"51\" x2=\"37\" y2=\"51\" />\n",
       "  <line x1=\"0\" y1=\"52\" x2=\"37\" y2=\"52\" />\n",
       "  <line x1=\"0\" y1=\"53\" x2=\"37\" y2=\"53\" />\n",
       "  <line x1=\"0\" y1=\"54\" x2=\"37\" y2=\"54\" />\n",
       "  <line x1=\"0\" y1=\"55\" x2=\"37\" y2=\"55\" />\n",
       "  <line x1=\"0\" y1=\"56\" x2=\"37\" y2=\"56\" />\n",
       "  <line x1=\"0\" y1=\"57\" x2=\"37\" y2=\"57\" />\n",
       "  <line x1=\"0\" y1=\"58\" x2=\"37\" y2=\"58\" />\n",
       "  <line x1=\"0\" y1=\"59\" x2=\"37\" y2=\"59\" />\n",
       "  <line x1=\"0\" y1=\"60\" x2=\"37\" y2=\"60\" />\n",
       "  <line x1=\"0\" y1=\"61\" x2=\"37\" y2=\"61\" />\n",
       "  <line x1=\"0\" y1=\"62\" x2=\"37\" y2=\"62\" />\n",
       "  <line x1=\"0\" y1=\"63\" x2=\"37\" y2=\"63\" />\n",
       "  <line x1=\"0\" y1=\"64\" x2=\"37\" y2=\"64\" />\n",
       "  <line x1=\"0\" y1=\"65\" x2=\"37\" y2=\"65\" />\n",
       "  <line x1=\"0\" y1=\"66\" x2=\"37\" y2=\"66\" />\n",
       "  <line x1=\"0\" y1=\"67\" x2=\"37\" y2=\"67\" />\n",
       "  <line x1=\"0\" y1=\"68\" x2=\"37\" y2=\"68\" />\n",
       "  <line x1=\"0\" y1=\"69\" x2=\"37\" y2=\"69\" />\n",
       "  <line x1=\"0\" y1=\"70\" x2=\"37\" y2=\"70\" />\n",
       "  <line x1=\"0\" y1=\"71\" x2=\"37\" y2=\"71\" />\n",
       "  <line x1=\"0\" y1=\"72\" x2=\"37\" y2=\"72\" />\n",
       "  <line x1=\"0\" y1=\"72\" x2=\"37\" y2=\"72\" />\n",
       "  <line x1=\"0\" y1=\"73\" x2=\"37\" y2=\"73\" />\n",
       "  <line x1=\"0\" y1=\"74\" x2=\"37\" y2=\"74\" />\n",
       "  <line x1=\"0\" y1=\"75\" x2=\"37\" y2=\"75\" />\n",
       "  <line x1=\"0\" y1=\"76\" x2=\"37\" y2=\"76\" />\n",
       "  <line x1=\"0\" y1=\"77\" x2=\"37\" y2=\"77\" />\n",
       "  <line x1=\"0\" y1=\"78\" x2=\"37\" y2=\"78\" />\n",
       "  <line x1=\"0\" y1=\"79\" x2=\"37\" y2=\"79\" />\n",
       "  <line x1=\"0\" y1=\"80\" x2=\"37\" y2=\"80\" />\n",
       "  <line x1=\"0\" y1=\"81\" x2=\"37\" y2=\"81\" />\n",
       "  <line x1=\"0\" y1=\"82\" x2=\"37\" y2=\"82\" />\n",
       "  <line x1=\"0\" y1=\"83\" x2=\"37\" y2=\"83\" />\n",
       "  <line x1=\"0\" y1=\"84\" x2=\"37\" y2=\"84\" />\n",
       "  <line x1=\"0\" y1=\"85\" x2=\"37\" y2=\"85\" />\n",
       "  <line x1=\"0\" y1=\"86\" x2=\"37\" y2=\"86\" />\n",
       "  <line x1=\"0\" y1=\"87\" x2=\"37\" y2=\"87\" />\n",
       "  <line x1=\"0\" y1=\"88\" x2=\"37\" y2=\"88\" />\n",
       "  <line x1=\"0\" y1=\"89\" x2=\"37\" y2=\"89\" />\n",
       "  <line x1=\"0\" y1=\"90\" x2=\"37\" y2=\"90\" />\n",
       "  <line x1=\"0\" y1=\"91\" x2=\"37\" y2=\"91\" />\n",
       "  <line x1=\"0\" y1=\"92\" x2=\"37\" y2=\"92\" />\n",
       "  <line x1=\"0\" y1=\"93\" x2=\"37\" y2=\"93\" />\n",
       "  <line x1=\"0\" y1=\"94\" x2=\"37\" y2=\"94\" />\n",
       "  <line x1=\"0\" y1=\"95\" x2=\"37\" y2=\"95\" />\n",
       "  <line x1=\"0\" y1=\"96\" x2=\"37\" y2=\"96\" />\n",
       "  <line x1=\"0\" y1=\"96\" x2=\"37\" y2=\"96\" />\n",
       "  <line x1=\"0\" y1=\"97\" x2=\"37\" y2=\"97\" />\n",
       "  <line x1=\"0\" y1=\"98\" x2=\"37\" y2=\"98\" />\n",
       "  <line x1=\"0\" y1=\"99\" x2=\"37\" y2=\"99\" />\n",
       "  <line x1=\"0\" y1=\"100\" x2=\"37\" y2=\"100\" />\n",
       "  <line x1=\"0\" y1=\"101\" x2=\"37\" y2=\"101\" />\n",
       "  <line x1=\"0\" y1=\"102\" x2=\"37\" y2=\"102\" />\n",
       "  <line x1=\"0\" y1=\"103\" x2=\"37\" y2=\"103\" />\n",
       "  <line x1=\"0\" y1=\"104\" x2=\"37\" y2=\"104\" />\n",
       "  <line x1=\"0\" y1=\"105\" x2=\"37\" y2=\"105\" />\n",
       "  <line x1=\"0\" y1=\"106\" x2=\"37\" y2=\"106\" />\n",
       "  <line x1=\"0\" y1=\"107\" x2=\"37\" y2=\"107\" />\n",
       "  <line x1=\"0\" y1=\"108\" x2=\"37\" y2=\"108\" />\n",
       "  <line x1=\"0\" y1=\"109\" x2=\"37\" y2=\"109\" />\n",
       "  <line x1=\"0\" y1=\"110\" x2=\"37\" y2=\"110\" />\n",
       "  <line x1=\"0\" y1=\"111\" x2=\"37\" y2=\"111\" />\n",
       "  <line x1=\"0\" y1=\"112\" x2=\"37\" y2=\"112\" />\n",
       "  <line x1=\"0\" y1=\"113\" x2=\"37\" y2=\"113\" />\n",
       "  <line x1=\"0\" y1=\"114\" x2=\"37\" y2=\"114\" />\n",
       "  <line x1=\"0\" y1=\"115\" x2=\"37\" y2=\"115\" />\n",
       "  <line x1=\"0\" y1=\"116\" x2=\"37\" y2=\"116\" />\n",
       "  <line x1=\"0\" y1=\"117\" x2=\"37\" y2=\"117\" />\n",
       "  <line x1=\"0\" y1=\"118\" x2=\"37\" y2=\"118\" />\n",
       "  <line x1=\"0\" y1=\"119\" x2=\"37\" y2=\"119\" />\n",
       "  <line x1=\"0\" y1=\"120\" x2=\"37\" y2=\"120\" style=\"stroke-width:2\" />\n",
       "\n",
       "  <!-- Vertical lines -->\n",
       "  <line x1=\"0\" y1=\"0\" x2=\"0\" y2=\"120\" style=\"stroke-width:2\" />\n",
       "  <line x1=\"37\" y1=\"0\" x2=\"37\" y2=\"120\" style=\"stroke-width:2\" />\n",
       "\n",
       "  <!-- Colored Rectangle -->\n",
       "  <polygon points=\"0.000000,0.000000 37.087757,0.000000 37.087757,120.000000 0.000000,120.000000\" style=\"fill:#ECB172A0;stroke-width:0\"/>\n",
       "\n",
       "  <!-- Text -->\n",
       "  <text x=\"18.543879\" y=\"140.000000\" font-size=\"1.0rem\" font-weight=\"100\" text-anchor=\"middle\" >768</text>\n",
       "  <text x=\"57.087757\" y=\"60.000000\" font-size=\"1.0rem\" font-weight=\"100\" text-anchor=\"middle\" transform=\"rotate(-90,57.087757,60.000000)\">10000</text>\n",
       "</svg>\n",
       "</td>\n",
       "</tr>\n",
       "</table>"
      ],
      "text/plain": [
       "dask.array<array, shape=(10000, 768), dtype=float32, chunksize=(80, 768), chunktype=numpy.ndarray>"
      ]
     },
     "execution_count": 85,
     "metadata": {},
     "output_type": "execute_result"
    }
   ],
   "source": [
    "d_sentence_embeddings.compute_chunk_sizes()"
   ]
  },
  {
   "cell_type": "code",
   "execution_count": 86,
   "metadata": {
    "ExecuteTime": {
     "end_time": "2020-08-27T13:59:25.717047Z",
     "start_time": "2020-08-27T13:59:23.451387Z"
    }
   },
   "outputs": [
    {
     "data": {
      "text/html": [
       "<table>\n",
       "<tr>\n",
       "<td>\n",
       "<table>\n",
       "  <thead>\n",
       "    <tr><td> </td><th> Array </th><th> Chunk </th></tr>\n",
       "  </thead>\n",
       "  <tbody>\n",
       "    <tr><th> Bytes </th><td> 80.00 kB </td> <td> 640 B </td></tr>\n",
       "    <tr><th> Shape </th><td> (10000,) </td> <td> (80,) </td></tr>\n",
       "    <tr><th> Count </th><td> 125 Tasks </td><td> 125 Chunks </td></tr>\n",
       "    <tr><th> Type </th><td> int64 </td><td> numpy.ndarray </td></tr>\n",
       "  </tbody>\n",
       "</table>\n",
       "</td>\n",
       "<td>\n",
       "<svg width=\"170\" height=\"75\" style=\"stroke:rgb(0,0,0);stroke-width:1\" >\n",
       "\n",
       "  <!-- Horizontal lines -->\n",
       "  <line x1=\"0\" y1=\"0\" x2=\"120\" y2=\"0\" style=\"stroke-width:2\" />\n",
       "  <line x1=\"0\" y1=\"25\" x2=\"120\" y2=\"25\" style=\"stroke-width:2\" />\n",
       "\n",
       "  <!-- Vertical lines -->\n",
       "  <line x1=\"0\" y1=\"0\" x2=\"0\" y2=\"25\" style=\"stroke-width:2\" />\n",
       "  <line x1=\"0\" y1=\"0\" x2=\"0\" y2=\"25\" />\n",
       "  <line x1=\"1\" y1=\"0\" x2=\"1\" y2=\"25\" />\n",
       "  <line x1=\"2\" y1=\"0\" x2=\"2\" y2=\"25\" />\n",
       "  <line x1=\"3\" y1=\"0\" x2=\"3\" y2=\"25\" />\n",
       "  <line x1=\"4\" y1=\"0\" x2=\"4\" y2=\"25\" />\n",
       "  <line x1=\"5\" y1=\"0\" x2=\"5\" y2=\"25\" />\n",
       "  <line x1=\"6\" y1=\"0\" x2=\"6\" y2=\"25\" />\n",
       "  <line x1=\"7\" y1=\"0\" x2=\"7\" y2=\"25\" />\n",
       "  <line x1=\"8\" y1=\"0\" x2=\"8\" y2=\"25\" />\n",
       "  <line x1=\"9\" y1=\"0\" x2=\"9\" y2=\"25\" />\n",
       "  <line x1=\"10\" y1=\"0\" x2=\"10\" y2=\"25\" />\n",
       "  <line x1=\"11\" y1=\"0\" x2=\"11\" y2=\"25\" />\n",
       "  <line x1=\"12\" y1=\"0\" x2=\"12\" y2=\"25\" />\n",
       "  <line x1=\"13\" y1=\"0\" x2=\"13\" y2=\"25\" />\n",
       "  <line x1=\"14\" y1=\"0\" x2=\"14\" y2=\"25\" />\n",
       "  <line x1=\"15\" y1=\"0\" x2=\"15\" y2=\"25\" />\n",
       "  <line x1=\"16\" y1=\"0\" x2=\"16\" y2=\"25\" />\n",
       "  <line x1=\"17\" y1=\"0\" x2=\"17\" y2=\"25\" />\n",
       "  <line x1=\"18\" y1=\"0\" x2=\"18\" y2=\"25\" />\n",
       "  <line x1=\"19\" y1=\"0\" x2=\"19\" y2=\"25\" />\n",
       "  <line x1=\"20\" y1=\"0\" x2=\"20\" y2=\"25\" />\n",
       "  <line x1=\"21\" y1=\"0\" x2=\"21\" y2=\"25\" />\n",
       "  <line x1=\"22\" y1=\"0\" x2=\"22\" y2=\"25\" />\n",
       "  <line x1=\"23\" y1=\"0\" x2=\"23\" y2=\"25\" />\n",
       "  <line x1=\"24\" y1=\"0\" x2=\"24\" y2=\"25\" />\n",
       "  <line x1=\"24\" y1=\"0\" x2=\"24\" y2=\"25\" />\n",
       "  <line x1=\"25\" y1=\"0\" x2=\"25\" y2=\"25\" />\n",
       "  <line x1=\"26\" y1=\"0\" x2=\"26\" y2=\"25\" />\n",
       "  <line x1=\"27\" y1=\"0\" x2=\"27\" y2=\"25\" />\n",
       "  <line x1=\"28\" y1=\"0\" x2=\"28\" y2=\"25\" />\n",
       "  <line x1=\"29\" y1=\"0\" x2=\"29\" y2=\"25\" />\n",
       "  <line x1=\"30\" y1=\"0\" x2=\"30\" y2=\"25\" />\n",
       "  <line x1=\"31\" y1=\"0\" x2=\"31\" y2=\"25\" />\n",
       "  <line x1=\"32\" y1=\"0\" x2=\"32\" y2=\"25\" />\n",
       "  <line x1=\"33\" y1=\"0\" x2=\"33\" y2=\"25\" />\n",
       "  <line x1=\"34\" y1=\"0\" x2=\"34\" y2=\"25\" />\n",
       "  <line x1=\"35\" y1=\"0\" x2=\"35\" y2=\"25\" />\n",
       "  <line x1=\"36\" y1=\"0\" x2=\"36\" y2=\"25\" />\n",
       "  <line x1=\"37\" y1=\"0\" x2=\"37\" y2=\"25\" />\n",
       "  <line x1=\"38\" y1=\"0\" x2=\"38\" y2=\"25\" />\n",
       "  <line x1=\"39\" y1=\"0\" x2=\"39\" y2=\"25\" />\n",
       "  <line x1=\"40\" y1=\"0\" x2=\"40\" y2=\"25\" />\n",
       "  <line x1=\"41\" y1=\"0\" x2=\"41\" y2=\"25\" />\n",
       "  <line x1=\"42\" y1=\"0\" x2=\"42\" y2=\"25\" />\n",
       "  <line x1=\"43\" y1=\"0\" x2=\"43\" y2=\"25\" />\n",
       "  <line x1=\"44\" y1=\"0\" x2=\"44\" y2=\"25\" />\n",
       "  <line x1=\"45\" y1=\"0\" x2=\"45\" y2=\"25\" />\n",
       "  <line x1=\"46\" y1=\"0\" x2=\"46\" y2=\"25\" />\n",
       "  <line x1=\"47\" y1=\"0\" x2=\"47\" y2=\"25\" />\n",
       "  <line x1=\"48\" y1=\"0\" x2=\"48\" y2=\"25\" />\n",
       "  <line x1=\"48\" y1=\"0\" x2=\"48\" y2=\"25\" />\n",
       "  <line x1=\"49\" y1=\"0\" x2=\"49\" y2=\"25\" />\n",
       "  <line x1=\"50\" y1=\"0\" x2=\"50\" y2=\"25\" />\n",
       "  <line x1=\"51\" y1=\"0\" x2=\"51\" y2=\"25\" />\n",
       "  <line x1=\"52\" y1=\"0\" x2=\"52\" y2=\"25\" />\n",
       "  <line x1=\"53\" y1=\"0\" x2=\"53\" y2=\"25\" />\n",
       "  <line x1=\"54\" y1=\"0\" x2=\"54\" y2=\"25\" />\n",
       "  <line x1=\"55\" y1=\"0\" x2=\"55\" y2=\"25\" />\n",
       "  <line x1=\"56\" y1=\"0\" x2=\"56\" y2=\"25\" />\n",
       "  <line x1=\"57\" y1=\"0\" x2=\"57\" y2=\"25\" />\n",
       "  <line x1=\"58\" y1=\"0\" x2=\"58\" y2=\"25\" />\n",
       "  <line x1=\"59\" y1=\"0\" x2=\"59\" y2=\"25\" />\n",
       "  <line x1=\"60\" y1=\"0\" x2=\"60\" y2=\"25\" />\n",
       "  <line x1=\"61\" y1=\"0\" x2=\"61\" y2=\"25\" />\n",
       "  <line x1=\"62\" y1=\"0\" x2=\"62\" y2=\"25\" />\n",
       "  <line x1=\"63\" y1=\"0\" x2=\"63\" y2=\"25\" />\n",
       "  <line x1=\"64\" y1=\"0\" x2=\"64\" y2=\"25\" />\n",
       "  <line x1=\"65\" y1=\"0\" x2=\"65\" y2=\"25\" />\n",
       "  <line x1=\"66\" y1=\"0\" x2=\"66\" y2=\"25\" />\n",
       "  <line x1=\"67\" y1=\"0\" x2=\"67\" y2=\"25\" />\n",
       "  <line x1=\"68\" y1=\"0\" x2=\"68\" y2=\"25\" />\n",
       "  <line x1=\"69\" y1=\"0\" x2=\"69\" y2=\"25\" />\n",
       "  <line x1=\"70\" y1=\"0\" x2=\"70\" y2=\"25\" />\n",
       "  <line x1=\"71\" y1=\"0\" x2=\"71\" y2=\"25\" />\n",
       "  <line x1=\"72\" y1=\"0\" x2=\"72\" y2=\"25\" />\n",
       "  <line x1=\"72\" y1=\"0\" x2=\"72\" y2=\"25\" />\n",
       "  <line x1=\"73\" y1=\"0\" x2=\"73\" y2=\"25\" />\n",
       "  <line x1=\"74\" y1=\"0\" x2=\"74\" y2=\"25\" />\n",
       "  <line x1=\"75\" y1=\"0\" x2=\"75\" y2=\"25\" />\n",
       "  <line x1=\"76\" y1=\"0\" x2=\"76\" y2=\"25\" />\n",
       "  <line x1=\"77\" y1=\"0\" x2=\"77\" y2=\"25\" />\n",
       "  <line x1=\"78\" y1=\"0\" x2=\"78\" y2=\"25\" />\n",
       "  <line x1=\"79\" y1=\"0\" x2=\"79\" y2=\"25\" />\n",
       "  <line x1=\"80\" y1=\"0\" x2=\"80\" y2=\"25\" />\n",
       "  <line x1=\"81\" y1=\"0\" x2=\"81\" y2=\"25\" />\n",
       "  <line x1=\"82\" y1=\"0\" x2=\"82\" y2=\"25\" />\n",
       "  <line x1=\"83\" y1=\"0\" x2=\"83\" y2=\"25\" />\n",
       "  <line x1=\"84\" y1=\"0\" x2=\"84\" y2=\"25\" />\n",
       "  <line x1=\"85\" y1=\"0\" x2=\"85\" y2=\"25\" />\n",
       "  <line x1=\"86\" y1=\"0\" x2=\"86\" y2=\"25\" />\n",
       "  <line x1=\"87\" y1=\"0\" x2=\"87\" y2=\"25\" />\n",
       "  <line x1=\"88\" y1=\"0\" x2=\"88\" y2=\"25\" />\n",
       "  <line x1=\"89\" y1=\"0\" x2=\"89\" y2=\"25\" />\n",
       "  <line x1=\"90\" y1=\"0\" x2=\"90\" y2=\"25\" />\n",
       "  <line x1=\"91\" y1=\"0\" x2=\"91\" y2=\"25\" />\n",
       "  <line x1=\"92\" y1=\"0\" x2=\"92\" y2=\"25\" />\n",
       "  <line x1=\"93\" y1=\"0\" x2=\"93\" y2=\"25\" />\n",
       "  <line x1=\"94\" y1=\"0\" x2=\"94\" y2=\"25\" />\n",
       "  <line x1=\"95\" y1=\"0\" x2=\"95\" y2=\"25\" />\n",
       "  <line x1=\"96\" y1=\"0\" x2=\"96\" y2=\"25\" />\n",
       "  <line x1=\"96\" y1=\"0\" x2=\"96\" y2=\"25\" />\n",
       "  <line x1=\"97\" y1=\"0\" x2=\"97\" y2=\"25\" />\n",
       "  <line x1=\"98\" y1=\"0\" x2=\"98\" y2=\"25\" />\n",
       "  <line x1=\"99\" y1=\"0\" x2=\"99\" y2=\"25\" />\n",
       "  <line x1=\"100\" y1=\"0\" x2=\"100\" y2=\"25\" />\n",
       "  <line x1=\"101\" y1=\"0\" x2=\"101\" y2=\"25\" />\n",
       "  <line x1=\"102\" y1=\"0\" x2=\"102\" y2=\"25\" />\n",
       "  <line x1=\"103\" y1=\"0\" x2=\"103\" y2=\"25\" />\n",
       "  <line x1=\"104\" y1=\"0\" x2=\"104\" y2=\"25\" />\n",
       "  <line x1=\"105\" y1=\"0\" x2=\"105\" y2=\"25\" />\n",
       "  <line x1=\"106\" y1=\"0\" x2=\"106\" y2=\"25\" />\n",
       "  <line x1=\"107\" y1=\"0\" x2=\"107\" y2=\"25\" />\n",
       "  <line x1=\"108\" y1=\"0\" x2=\"108\" y2=\"25\" />\n",
       "  <line x1=\"109\" y1=\"0\" x2=\"109\" y2=\"25\" />\n",
       "  <line x1=\"110\" y1=\"0\" x2=\"110\" y2=\"25\" />\n",
       "  <line x1=\"111\" y1=\"0\" x2=\"111\" y2=\"25\" />\n",
       "  <line x1=\"112\" y1=\"0\" x2=\"112\" y2=\"25\" />\n",
       "  <line x1=\"113\" y1=\"0\" x2=\"113\" y2=\"25\" />\n",
       "  <line x1=\"114\" y1=\"0\" x2=\"114\" y2=\"25\" />\n",
       "  <line x1=\"115\" y1=\"0\" x2=\"115\" y2=\"25\" />\n",
       "  <line x1=\"116\" y1=\"0\" x2=\"116\" y2=\"25\" />\n",
       "  <line x1=\"117\" y1=\"0\" x2=\"117\" y2=\"25\" />\n",
       "  <line x1=\"118\" y1=\"0\" x2=\"118\" y2=\"25\" />\n",
       "  <line x1=\"119\" y1=\"0\" x2=\"119\" y2=\"25\" />\n",
       "  <line x1=\"120\" y1=\"0\" x2=\"120\" y2=\"25\" style=\"stroke-width:2\" />\n",
       "\n",
       "  <!-- Colored Rectangle -->\n",
       "  <polygon points=\"0.000000,0.000000 120.000000,0.000000 120.000000,25.412617 0.000000,25.412617\" style=\"fill:#ECB172A0;stroke-width:0\"/>\n",
       "\n",
       "  <!-- Text -->\n",
       "  <text x=\"60.000000\" y=\"45.412617\" font-size=\"1.0rem\" font-weight=\"100\" text-anchor=\"middle\" >10000</text>\n",
       "  <text x=\"140.000000\" y=\"12.706308\" font-size=\"1.0rem\" font-weight=\"100\" text-anchor=\"middle\" transform=\"rotate(0,140.000000,12.706308)\">1</text>\n",
       "</svg>\n",
       "</td>\n",
       "</tr>\n",
       "</table>"
      ],
      "text/plain": [
       "dask.array<array, shape=(10000,), dtype=int64, chunksize=(80,), chunktype=numpy.ndarray>"
      ]
     },
     "execution_count": 86,
     "metadata": {},
     "output_type": "execute_result"
    }
   ],
   "source": [
    "d_classes.compute_chunk_sizes()"
   ]
  },
  {
   "cell_type": "code",
   "execution_count": 87,
   "metadata": {
    "ExecuteTime": {
     "end_time": "2020-08-27T13:59:27.241336Z",
     "start_time": "2020-08-27T13:59:25.723529Z"
    }
   },
   "outputs": [],
   "source": [
    "from dask_ml.model_selection import train_test_split\n",
    "import dask\n",
    "\n",
    "X_train, X_test, y_train, y_test = train_test_split(d_sentence_embeddings, d_classes, shuffle=True)\n",
    "\n",
    "# persist the data so it's not re-computed\n",
    "X_train, X_test, y_train, y_test = dask.persist(X_train, X_test, y_train, y_test)"
   ]
  },
  {
   "cell_type": "code",
   "execution_count": 99,
   "metadata": {
    "ExecuteTime": {
     "end_time": "2020-08-27T14:10:36.764591Z",
     "start_time": "2020-08-27T14:10:36.758987Z"
    }
   },
   "outputs": [
    {
     "data": {
      "text/html": [
       "<table>\n",
       "<tr>\n",
       "<td>\n",
       "<table>\n",
       "  <thead>\n",
       "    <tr><td> </td><th> Array </th><th> Chunk </th></tr>\n",
       "  </thead>\n",
       "  <tbody>\n",
       "    <tr><th> Bytes </th><td> 27.65 MB </td> <td> 221.18 kB </td></tr>\n",
       "    <tr><th> Shape </th><td> (9000, 768) </td> <td> (72, 768) </td></tr>\n",
       "    <tr><th> Count </th><td> 125 Tasks </td><td> 125 Chunks </td></tr>\n",
       "    <tr><th> Type </th><td> float32 </td><td> numpy.ndarray </td></tr>\n",
       "  </tbody>\n",
       "</table>\n",
       "</td>\n",
       "<td>\n",
       "<svg width=\"87\" height=\"170\" style=\"stroke:rgb(0,0,0);stroke-width:1\" >\n",
       "\n",
       "  <!-- Horizontal lines -->\n",
       "  <line x1=\"0\" y1=\"0\" x2=\"37\" y2=\"0\" style=\"stroke-width:2\" />\n",
       "  <line x1=\"0\" y1=\"0\" x2=\"37\" y2=\"0\" />\n",
       "  <line x1=\"0\" y1=\"1\" x2=\"37\" y2=\"1\" />\n",
       "  <line x1=\"0\" y1=\"2\" x2=\"37\" y2=\"2\" />\n",
       "  <line x1=\"0\" y1=\"3\" x2=\"37\" y2=\"3\" />\n",
       "  <line x1=\"0\" y1=\"4\" x2=\"37\" y2=\"4\" />\n",
       "  <line x1=\"0\" y1=\"5\" x2=\"37\" y2=\"5\" />\n",
       "  <line x1=\"0\" y1=\"6\" x2=\"37\" y2=\"6\" />\n",
       "  <line x1=\"0\" y1=\"7\" x2=\"37\" y2=\"7\" />\n",
       "  <line x1=\"0\" y1=\"8\" x2=\"37\" y2=\"8\" />\n",
       "  <line x1=\"0\" y1=\"9\" x2=\"37\" y2=\"9\" />\n",
       "  <line x1=\"0\" y1=\"10\" x2=\"37\" y2=\"10\" />\n",
       "  <line x1=\"0\" y1=\"11\" x2=\"37\" y2=\"11\" />\n",
       "  <line x1=\"0\" y1=\"12\" x2=\"37\" y2=\"12\" />\n",
       "  <line x1=\"0\" y1=\"13\" x2=\"37\" y2=\"13\" />\n",
       "  <line x1=\"0\" y1=\"14\" x2=\"37\" y2=\"14\" />\n",
       "  <line x1=\"0\" y1=\"15\" x2=\"37\" y2=\"15\" />\n",
       "  <line x1=\"0\" y1=\"16\" x2=\"37\" y2=\"16\" />\n",
       "  <line x1=\"0\" y1=\"17\" x2=\"37\" y2=\"17\" />\n",
       "  <line x1=\"0\" y1=\"18\" x2=\"37\" y2=\"18\" />\n",
       "  <line x1=\"0\" y1=\"19\" x2=\"37\" y2=\"19\" />\n",
       "  <line x1=\"0\" y1=\"20\" x2=\"37\" y2=\"20\" />\n",
       "  <line x1=\"0\" y1=\"21\" x2=\"37\" y2=\"21\" />\n",
       "  <line x1=\"0\" y1=\"22\" x2=\"37\" y2=\"22\" />\n",
       "  <line x1=\"0\" y1=\"23\" x2=\"37\" y2=\"23\" />\n",
       "  <line x1=\"0\" y1=\"24\" x2=\"37\" y2=\"24\" />\n",
       "  <line x1=\"0\" y1=\"24\" x2=\"37\" y2=\"24\" />\n",
       "  <line x1=\"0\" y1=\"25\" x2=\"37\" y2=\"25\" />\n",
       "  <line x1=\"0\" y1=\"26\" x2=\"37\" y2=\"26\" />\n",
       "  <line x1=\"0\" y1=\"27\" x2=\"37\" y2=\"27\" />\n",
       "  <line x1=\"0\" y1=\"28\" x2=\"37\" y2=\"28\" />\n",
       "  <line x1=\"0\" y1=\"29\" x2=\"37\" y2=\"29\" />\n",
       "  <line x1=\"0\" y1=\"30\" x2=\"37\" y2=\"30\" />\n",
       "  <line x1=\"0\" y1=\"31\" x2=\"37\" y2=\"31\" />\n",
       "  <line x1=\"0\" y1=\"32\" x2=\"37\" y2=\"32\" />\n",
       "  <line x1=\"0\" y1=\"33\" x2=\"37\" y2=\"33\" />\n",
       "  <line x1=\"0\" y1=\"34\" x2=\"37\" y2=\"34\" />\n",
       "  <line x1=\"0\" y1=\"35\" x2=\"37\" y2=\"35\" />\n",
       "  <line x1=\"0\" y1=\"36\" x2=\"37\" y2=\"36\" />\n",
       "  <line x1=\"0\" y1=\"37\" x2=\"37\" y2=\"37\" />\n",
       "  <line x1=\"0\" y1=\"38\" x2=\"37\" y2=\"38\" />\n",
       "  <line x1=\"0\" y1=\"39\" x2=\"37\" y2=\"39\" />\n",
       "  <line x1=\"0\" y1=\"40\" x2=\"37\" y2=\"40\" />\n",
       "  <line x1=\"0\" y1=\"41\" x2=\"37\" y2=\"41\" />\n",
       "  <line x1=\"0\" y1=\"42\" x2=\"37\" y2=\"42\" />\n",
       "  <line x1=\"0\" y1=\"43\" x2=\"37\" y2=\"43\" />\n",
       "  <line x1=\"0\" y1=\"44\" x2=\"37\" y2=\"44\" />\n",
       "  <line x1=\"0\" y1=\"45\" x2=\"37\" y2=\"45\" />\n",
       "  <line x1=\"0\" y1=\"46\" x2=\"37\" y2=\"46\" />\n",
       "  <line x1=\"0\" y1=\"47\" x2=\"37\" y2=\"47\" />\n",
       "  <line x1=\"0\" y1=\"48\" x2=\"37\" y2=\"48\" />\n",
       "  <line x1=\"0\" y1=\"48\" x2=\"37\" y2=\"48\" />\n",
       "  <line x1=\"0\" y1=\"49\" x2=\"37\" y2=\"49\" />\n",
       "  <line x1=\"0\" y1=\"50\" x2=\"37\" y2=\"50\" />\n",
       "  <line x1=\"0\" y1=\"51\" x2=\"37\" y2=\"51\" />\n",
       "  <line x1=\"0\" y1=\"52\" x2=\"37\" y2=\"52\" />\n",
       "  <line x1=\"0\" y1=\"53\" x2=\"37\" y2=\"53\" />\n",
       "  <line x1=\"0\" y1=\"54\" x2=\"37\" y2=\"54\" />\n",
       "  <line x1=\"0\" y1=\"55\" x2=\"37\" y2=\"55\" />\n",
       "  <line x1=\"0\" y1=\"56\" x2=\"37\" y2=\"56\" />\n",
       "  <line x1=\"0\" y1=\"57\" x2=\"37\" y2=\"57\" />\n",
       "  <line x1=\"0\" y1=\"58\" x2=\"37\" y2=\"58\" />\n",
       "  <line x1=\"0\" y1=\"59\" x2=\"37\" y2=\"59\" />\n",
       "  <line x1=\"0\" y1=\"60\" x2=\"37\" y2=\"60\" />\n",
       "  <line x1=\"0\" y1=\"61\" x2=\"37\" y2=\"61\" />\n",
       "  <line x1=\"0\" y1=\"62\" x2=\"37\" y2=\"62\" />\n",
       "  <line x1=\"0\" y1=\"63\" x2=\"37\" y2=\"63\" />\n",
       "  <line x1=\"0\" y1=\"64\" x2=\"37\" y2=\"64\" />\n",
       "  <line x1=\"0\" y1=\"65\" x2=\"37\" y2=\"65\" />\n",
       "  <line x1=\"0\" y1=\"66\" x2=\"37\" y2=\"66\" />\n",
       "  <line x1=\"0\" y1=\"67\" x2=\"37\" y2=\"67\" />\n",
       "  <line x1=\"0\" y1=\"68\" x2=\"37\" y2=\"68\" />\n",
       "  <line x1=\"0\" y1=\"69\" x2=\"37\" y2=\"69\" />\n",
       "  <line x1=\"0\" y1=\"70\" x2=\"37\" y2=\"70\" />\n",
       "  <line x1=\"0\" y1=\"71\" x2=\"37\" y2=\"71\" />\n",
       "  <line x1=\"0\" y1=\"72\" x2=\"37\" y2=\"72\" />\n",
       "  <line x1=\"0\" y1=\"72\" x2=\"37\" y2=\"72\" />\n",
       "  <line x1=\"0\" y1=\"73\" x2=\"37\" y2=\"73\" />\n",
       "  <line x1=\"0\" y1=\"74\" x2=\"37\" y2=\"74\" />\n",
       "  <line x1=\"0\" y1=\"75\" x2=\"37\" y2=\"75\" />\n",
       "  <line x1=\"0\" y1=\"76\" x2=\"37\" y2=\"76\" />\n",
       "  <line x1=\"0\" y1=\"77\" x2=\"37\" y2=\"77\" />\n",
       "  <line x1=\"0\" y1=\"78\" x2=\"37\" y2=\"78\" />\n",
       "  <line x1=\"0\" y1=\"79\" x2=\"37\" y2=\"79\" />\n",
       "  <line x1=\"0\" y1=\"80\" x2=\"37\" y2=\"80\" />\n",
       "  <line x1=\"0\" y1=\"81\" x2=\"37\" y2=\"81\" />\n",
       "  <line x1=\"0\" y1=\"82\" x2=\"37\" y2=\"82\" />\n",
       "  <line x1=\"0\" y1=\"83\" x2=\"37\" y2=\"83\" />\n",
       "  <line x1=\"0\" y1=\"84\" x2=\"37\" y2=\"84\" />\n",
       "  <line x1=\"0\" y1=\"85\" x2=\"37\" y2=\"85\" />\n",
       "  <line x1=\"0\" y1=\"86\" x2=\"37\" y2=\"86\" />\n",
       "  <line x1=\"0\" y1=\"87\" x2=\"37\" y2=\"87\" />\n",
       "  <line x1=\"0\" y1=\"88\" x2=\"37\" y2=\"88\" />\n",
       "  <line x1=\"0\" y1=\"89\" x2=\"37\" y2=\"89\" />\n",
       "  <line x1=\"0\" y1=\"90\" x2=\"37\" y2=\"90\" />\n",
       "  <line x1=\"0\" y1=\"91\" x2=\"37\" y2=\"91\" />\n",
       "  <line x1=\"0\" y1=\"92\" x2=\"37\" y2=\"92\" />\n",
       "  <line x1=\"0\" y1=\"93\" x2=\"37\" y2=\"93\" />\n",
       "  <line x1=\"0\" y1=\"94\" x2=\"37\" y2=\"94\" />\n",
       "  <line x1=\"0\" y1=\"95\" x2=\"37\" y2=\"95\" />\n",
       "  <line x1=\"0\" y1=\"96\" x2=\"37\" y2=\"96\" />\n",
       "  <line x1=\"0\" y1=\"96\" x2=\"37\" y2=\"96\" />\n",
       "  <line x1=\"0\" y1=\"97\" x2=\"37\" y2=\"97\" />\n",
       "  <line x1=\"0\" y1=\"98\" x2=\"37\" y2=\"98\" />\n",
       "  <line x1=\"0\" y1=\"99\" x2=\"37\" y2=\"99\" />\n",
       "  <line x1=\"0\" y1=\"100\" x2=\"37\" y2=\"100\" />\n",
       "  <line x1=\"0\" y1=\"101\" x2=\"37\" y2=\"101\" />\n",
       "  <line x1=\"0\" y1=\"102\" x2=\"37\" y2=\"102\" />\n",
       "  <line x1=\"0\" y1=\"103\" x2=\"37\" y2=\"103\" />\n",
       "  <line x1=\"0\" y1=\"104\" x2=\"37\" y2=\"104\" />\n",
       "  <line x1=\"0\" y1=\"105\" x2=\"37\" y2=\"105\" />\n",
       "  <line x1=\"0\" y1=\"106\" x2=\"37\" y2=\"106\" />\n",
       "  <line x1=\"0\" y1=\"107\" x2=\"37\" y2=\"107\" />\n",
       "  <line x1=\"0\" y1=\"108\" x2=\"37\" y2=\"108\" />\n",
       "  <line x1=\"0\" y1=\"109\" x2=\"37\" y2=\"109\" />\n",
       "  <line x1=\"0\" y1=\"110\" x2=\"37\" y2=\"110\" />\n",
       "  <line x1=\"0\" y1=\"111\" x2=\"37\" y2=\"111\" />\n",
       "  <line x1=\"0\" y1=\"112\" x2=\"37\" y2=\"112\" />\n",
       "  <line x1=\"0\" y1=\"113\" x2=\"37\" y2=\"113\" />\n",
       "  <line x1=\"0\" y1=\"114\" x2=\"37\" y2=\"114\" />\n",
       "  <line x1=\"0\" y1=\"115\" x2=\"37\" y2=\"115\" />\n",
       "  <line x1=\"0\" y1=\"116\" x2=\"37\" y2=\"116\" />\n",
       "  <line x1=\"0\" y1=\"117\" x2=\"37\" y2=\"117\" />\n",
       "  <line x1=\"0\" y1=\"118\" x2=\"37\" y2=\"118\" />\n",
       "  <line x1=\"0\" y1=\"119\" x2=\"37\" y2=\"119\" />\n",
       "  <line x1=\"0\" y1=\"120\" x2=\"37\" y2=\"120\" style=\"stroke-width:2\" />\n",
       "\n",
       "  <!-- Vertical lines -->\n",
       "  <line x1=\"0\" y1=\"0\" x2=\"0\" y2=\"120\" style=\"stroke-width:2\" />\n",
       "  <line x1=\"37\" y1=\"0\" x2=\"37\" y2=\"120\" style=\"stroke-width:2\" />\n",
       "\n",
       "  <!-- Colored Rectangle -->\n",
       "  <polygon points=\"0.000000,0.000000 37.700407,0.000000 37.700407,120.000000 0.000000,120.000000\" style=\"fill:#ECB172A0;stroke-width:0\"/>\n",
       "\n",
       "  <!-- Text -->\n",
       "  <text x=\"18.850203\" y=\"140.000000\" font-size=\"1.0rem\" font-weight=\"100\" text-anchor=\"middle\" >768</text>\n",
       "  <text x=\"57.700407\" y=\"60.000000\" font-size=\"1.0rem\" font-weight=\"100\" text-anchor=\"middle\" transform=\"rotate(-90,57.700407,60.000000)\">9000</text>\n",
       "</svg>\n",
       "</td>\n",
       "</tr>\n",
       "</table>"
      ],
      "text/plain": [
       "dask.array<concatenate, shape=(9000, 768), dtype=float32, chunksize=(72, 768), chunktype=numpy.ndarray>"
      ]
     },
     "execution_count": 99,
     "metadata": {},
     "output_type": "execute_result"
    }
   ],
   "source": [
    "X_train"
   ]
  },
  {
   "cell_type": "code",
   "execution_count": 89,
   "metadata": {
    "ExecuteTime": {
     "end_time": "2020-08-27T13:59:40.589238Z",
     "start_time": "2020-08-27T13:59:40.584486Z"
    }
   },
   "outputs": [
    {
     "data": {
      "text/html": [
       "<table>\n",
       "<tr>\n",
       "<td>\n",
       "<table>\n",
       "  <thead>\n",
       "    <tr><td> </td><th> Array </th><th> Chunk </th></tr>\n",
       "  </thead>\n",
       "  <tbody>\n",
       "    <tr><th> Bytes </th><td> 72.00 kB </td> <td> 576 B </td></tr>\n",
       "    <tr><th> Shape </th><td> (9000,) </td> <td> (72,) </td></tr>\n",
       "    <tr><th> Count </th><td> 125 Tasks </td><td> 125 Chunks </td></tr>\n",
       "    <tr><th> Type </th><td> int64 </td><td> numpy.ndarray </td></tr>\n",
       "  </tbody>\n",
       "</table>\n",
       "</td>\n",
       "<td>\n",
       "<svg width=\"170\" height=\"75\" style=\"stroke:rgb(0,0,0);stroke-width:1\" >\n",
       "\n",
       "  <!-- Horizontal lines -->\n",
       "  <line x1=\"0\" y1=\"0\" x2=\"120\" y2=\"0\" style=\"stroke-width:2\" />\n",
       "  <line x1=\"0\" y1=\"25\" x2=\"120\" y2=\"25\" style=\"stroke-width:2\" />\n",
       "\n",
       "  <!-- Vertical lines -->\n",
       "  <line x1=\"0\" y1=\"0\" x2=\"0\" y2=\"25\" style=\"stroke-width:2\" />\n",
       "  <line x1=\"0\" y1=\"0\" x2=\"0\" y2=\"25\" />\n",
       "  <line x1=\"1\" y1=\"0\" x2=\"1\" y2=\"25\" />\n",
       "  <line x1=\"2\" y1=\"0\" x2=\"2\" y2=\"25\" />\n",
       "  <line x1=\"3\" y1=\"0\" x2=\"3\" y2=\"25\" />\n",
       "  <line x1=\"4\" y1=\"0\" x2=\"4\" y2=\"25\" />\n",
       "  <line x1=\"5\" y1=\"0\" x2=\"5\" y2=\"25\" />\n",
       "  <line x1=\"6\" y1=\"0\" x2=\"6\" y2=\"25\" />\n",
       "  <line x1=\"7\" y1=\"0\" x2=\"7\" y2=\"25\" />\n",
       "  <line x1=\"8\" y1=\"0\" x2=\"8\" y2=\"25\" />\n",
       "  <line x1=\"9\" y1=\"0\" x2=\"9\" y2=\"25\" />\n",
       "  <line x1=\"10\" y1=\"0\" x2=\"10\" y2=\"25\" />\n",
       "  <line x1=\"11\" y1=\"0\" x2=\"11\" y2=\"25\" />\n",
       "  <line x1=\"12\" y1=\"0\" x2=\"12\" y2=\"25\" />\n",
       "  <line x1=\"13\" y1=\"0\" x2=\"13\" y2=\"25\" />\n",
       "  <line x1=\"14\" y1=\"0\" x2=\"14\" y2=\"25\" />\n",
       "  <line x1=\"15\" y1=\"0\" x2=\"15\" y2=\"25\" />\n",
       "  <line x1=\"16\" y1=\"0\" x2=\"16\" y2=\"25\" />\n",
       "  <line x1=\"17\" y1=\"0\" x2=\"17\" y2=\"25\" />\n",
       "  <line x1=\"18\" y1=\"0\" x2=\"18\" y2=\"25\" />\n",
       "  <line x1=\"19\" y1=\"0\" x2=\"19\" y2=\"25\" />\n",
       "  <line x1=\"20\" y1=\"0\" x2=\"20\" y2=\"25\" />\n",
       "  <line x1=\"21\" y1=\"0\" x2=\"21\" y2=\"25\" />\n",
       "  <line x1=\"22\" y1=\"0\" x2=\"22\" y2=\"25\" />\n",
       "  <line x1=\"23\" y1=\"0\" x2=\"23\" y2=\"25\" />\n",
       "  <line x1=\"24\" y1=\"0\" x2=\"24\" y2=\"25\" />\n",
       "  <line x1=\"24\" y1=\"0\" x2=\"24\" y2=\"25\" />\n",
       "  <line x1=\"25\" y1=\"0\" x2=\"25\" y2=\"25\" />\n",
       "  <line x1=\"26\" y1=\"0\" x2=\"26\" y2=\"25\" />\n",
       "  <line x1=\"27\" y1=\"0\" x2=\"27\" y2=\"25\" />\n",
       "  <line x1=\"28\" y1=\"0\" x2=\"28\" y2=\"25\" />\n",
       "  <line x1=\"29\" y1=\"0\" x2=\"29\" y2=\"25\" />\n",
       "  <line x1=\"30\" y1=\"0\" x2=\"30\" y2=\"25\" />\n",
       "  <line x1=\"31\" y1=\"0\" x2=\"31\" y2=\"25\" />\n",
       "  <line x1=\"32\" y1=\"0\" x2=\"32\" y2=\"25\" />\n",
       "  <line x1=\"33\" y1=\"0\" x2=\"33\" y2=\"25\" />\n",
       "  <line x1=\"34\" y1=\"0\" x2=\"34\" y2=\"25\" />\n",
       "  <line x1=\"35\" y1=\"0\" x2=\"35\" y2=\"25\" />\n",
       "  <line x1=\"36\" y1=\"0\" x2=\"36\" y2=\"25\" />\n",
       "  <line x1=\"37\" y1=\"0\" x2=\"37\" y2=\"25\" />\n",
       "  <line x1=\"38\" y1=\"0\" x2=\"38\" y2=\"25\" />\n",
       "  <line x1=\"39\" y1=\"0\" x2=\"39\" y2=\"25\" />\n",
       "  <line x1=\"40\" y1=\"0\" x2=\"40\" y2=\"25\" />\n",
       "  <line x1=\"41\" y1=\"0\" x2=\"41\" y2=\"25\" />\n",
       "  <line x1=\"42\" y1=\"0\" x2=\"42\" y2=\"25\" />\n",
       "  <line x1=\"43\" y1=\"0\" x2=\"43\" y2=\"25\" />\n",
       "  <line x1=\"44\" y1=\"0\" x2=\"44\" y2=\"25\" />\n",
       "  <line x1=\"45\" y1=\"0\" x2=\"45\" y2=\"25\" />\n",
       "  <line x1=\"46\" y1=\"0\" x2=\"46\" y2=\"25\" />\n",
       "  <line x1=\"47\" y1=\"0\" x2=\"47\" y2=\"25\" />\n",
       "  <line x1=\"48\" y1=\"0\" x2=\"48\" y2=\"25\" />\n",
       "  <line x1=\"48\" y1=\"0\" x2=\"48\" y2=\"25\" />\n",
       "  <line x1=\"49\" y1=\"0\" x2=\"49\" y2=\"25\" />\n",
       "  <line x1=\"50\" y1=\"0\" x2=\"50\" y2=\"25\" />\n",
       "  <line x1=\"51\" y1=\"0\" x2=\"51\" y2=\"25\" />\n",
       "  <line x1=\"52\" y1=\"0\" x2=\"52\" y2=\"25\" />\n",
       "  <line x1=\"53\" y1=\"0\" x2=\"53\" y2=\"25\" />\n",
       "  <line x1=\"54\" y1=\"0\" x2=\"54\" y2=\"25\" />\n",
       "  <line x1=\"55\" y1=\"0\" x2=\"55\" y2=\"25\" />\n",
       "  <line x1=\"56\" y1=\"0\" x2=\"56\" y2=\"25\" />\n",
       "  <line x1=\"57\" y1=\"0\" x2=\"57\" y2=\"25\" />\n",
       "  <line x1=\"58\" y1=\"0\" x2=\"58\" y2=\"25\" />\n",
       "  <line x1=\"59\" y1=\"0\" x2=\"59\" y2=\"25\" />\n",
       "  <line x1=\"60\" y1=\"0\" x2=\"60\" y2=\"25\" />\n",
       "  <line x1=\"61\" y1=\"0\" x2=\"61\" y2=\"25\" />\n",
       "  <line x1=\"62\" y1=\"0\" x2=\"62\" y2=\"25\" />\n",
       "  <line x1=\"63\" y1=\"0\" x2=\"63\" y2=\"25\" />\n",
       "  <line x1=\"64\" y1=\"0\" x2=\"64\" y2=\"25\" />\n",
       "  <line x1=\"65\" y1=\"0\" x2=\"65\" y2=\"25\" />\n",
       "  <line x1=\"66\" y1=\"0\" x2=\"66\" y2=\"25\" />\n",
       "  <line x1=\"67\" y1=\"0\" x2=\"67\" y2=\"25\" />\n",
       "  <line x1=\"68\" y1=\"0\" x2=\"68\" y2=\"25\" />\n",
       "  <line x1=\"69\" y1=\"0\" x2=\"69\" y2=\"25\" />\n",
       "  <line x1=\"70\" y1=\"0\" x2=\"70\" y2=\"25\" />\n",
       "  <line x1=\"71\" y1=\"0\" x2=\"71\" y2=\"25\" />\n",
       "  <line x1=\"72\" y1=\"0\" x2=\"72\" y2=\"25\" />\n",
       "  <line x1=\"72\" y1=\"0\" x2=\"72\" y2=\"25\" />\n",
       "  <line x1=\"73\" y1=\"0\" x2=\"73\" y2=\"25\" />\n",
       "  <line x1=\"74\" y1=\"0\" x2=\"74\" y2=\"25\" />\n",
       "  <line x1=\"75\" y1=\"0\" x2=\"75\" y2=\"25\" />\n",
       "  <line x1=\"76\" y1=\"0\" x2=\"76\" y2=\"25\" />\n",
       "  <line x1=\"77\" y1=\"0\" x2=\"77\" y2=\"25\" />\n",
       "  <line x1=\"78\" y1=\"0\" x2=\"78\" y2=\"25\" />\n",
       "  <line x1=\"79\" y1=\"0\" x2=\"79\" y2=\"25\" />\n",
       "  <line x1=\"80\" y1=\"0\" x2=\"80\" y2=\"25\" />\n",
       "  <line x1=\"81\" y1=\"0\" x2=\"81\" y2=\"25\" />\n",
       "  <line x1=\"82\" y1=\"0\" x2=\"82\" y2=\"25\" />\n",
       "  <line x1=\"83\" y1=\"0\" x2=\"83\" y2=\"25\" />\n",
       "  <line x1=\"84\" y1=\"0\" x2=\"84\" y2=\"25\" />\n",
       "  <line x1=\"85\" y1=\"0\" x2=\"85\" y2=\"25\" />\n",
       "  <line x1=\"86\" y1=\"0\" x2=\"86\" y2=\"25\" />\n",
       "  <line x1=\"87\" y1=\"0\" x2=\"87\" y2=\"25\" />\n",
       "  <line x1=\"88\" y1=\"0\" x2=\"88\" y2=\"25\" />\n",
       "  <line x1=\"89\" y1=\"0\" x2=\"89\" y2=\"25\" />\n",
       "  <line x1=\"90\" y1=\"0\" x2=\"90\" y2=\"25\" />\n",
       "  <line x1=\"91\" y1=\"0\" x2=\"91\" y2=\"25\" />\n",
       "  <line x1=\"92\" y1=\"0\" x2=\"92\" y2=\"25\" />\n",
       "  <line x1=\"93\" y1=\"0\" x2=\"93\" y2=\"25\" />\n",
       "  <line x1=\"94\" y1=\"0\" x2=\"94\" y2=\"25\" />\n",
       "  <line x1=\"95\" y1=\"0\" x2=\"95\" y2=\"25\" />\n",
       "  <line x1=\"96\" y1=\"0\" x2=\"96\" y2=\"25\" />\n",
       "  <line x1=\"96\" y1=\"0\" x2=\"96\" y2=\"25\" />\n",
       "  <line x1=\"97\" y1=\"0\" x2=\"97\" y2=\"25\" />\n",
       "  <line x1=\"98\" y1=\"0\" x2=\"98\" y2=\"25\" />\n",
       "  <line x1=\"99\" y1=\"0\" x2=\"99\" y2=\"25\" />\n",
       "  <line x1=\"100\" y1=\"0\" x2=\"100\" y2=\"25\" />\n",
       "  <line x1=\"101\" y1=\"0\" x2=\"101\" y2=\"25\" />\n",
       "  <line x1=\"102\" y1=\"0\" x2=\"102\" y2=\"25\" />\n",
       "  <line x1=\"103\" y1=\"0\" x2=\"103\" y2=\"25\" />\n",
       "  <line x1=\"104\" y1=\"0\" x2=\"104\" y2=\"25\" />\n",
       "  <line x1=\"105\" y1=\"0\" x2=\"105\" y2=\"25\" />\n",
       "  <line x1=\"106\" y1=\"0\" x2=\"106\" y2=\"25\" />\n",
       "  <line x1=\"107\" y1=\"0\" x2=\"107\" y2=\"25\" />\n",
       "  <line x1=\"108\" y1=\"0\" x2=\"108\" y2=\"25\" />\n",
       "  <line x1=\"109\" y1=\"0\" x2=\"109\" y2=\"25\" />\n",
       "  <line x1=\"110\" y1=\"0\" x2=\"110\" y2=\"25\" />\n",
       "  <line x1=\"111\" y1=\"0\" x2=\"111\" y2=\"25\" />\n",
       "  <line x1=\"112\" y1=\"0\" x2=\"112\" y2=\"25\" />\n",
       "  <line x1=\"113\" y1=\"0\" x2=\"113\" y2=\"25\" />\n",
       "  <line x1=\"114\" y1=\"0\" x2=\"114\" y2=\"25\" />\n",
       "  <line x1=\"115\" y1=\"0\" x2=\"115\" y2=\"25\" />\n",
       "  <line x1=\"116\" y1=\"0\" x2=\"116\" y2=\"25\" />\n",
       "  <line x1=\"117\" y1=\"0\" x2=\"117\" y2=\"25\" />\n",
       "  <line x1=\"118\" y1=\"0\" x2=\"118\" y2=\"25\" />\n",
       "  <line x1=\"119\" y1=\"0\" x2=\"119\" y2=\"25\" />\n",
       "  <line x1=\"120\" y1=\"0\" x2=\"120\" y2=\"25\" style=\"stroke-width:2\" />\n",
       "\n",
       "  <!-- Colored Rectangle -->\n",
       "  <polygon points=\"0.000000,0.000000 120.000000,0.000000 120.000000,25.412617 0.000000,25.412617\" style=\"fill:#ECB172A0;stroke-width:0\"/>\n",
       "\n",
       "  <!-- Text -->\n",
       "  <text x=\"60.000000\" y=\"45.412617\" font-size=\"1.0rem\" font-weight=\"100\" text-anchor=\"middle\" >9000</text>\n",
       "  <text x=\"140.000000\" y=\"12.706308\" font-size=\"1.0rem\" font-weight=\"100\" text-anchor=\"middle\" transform=\"rotate(0,140.000000,12.706308)\">1</text>\n",
       "</svg>\n",
       "</td>\n",
       "</tr>\n",
       "</table>"
      ],
      "text/plain": [
       "dask.array<concatenate, shape=(9000,), dtype=int64, chunksize=(72,), chunktype=numpy.ndarray>"
      ]
     },
     "execution_count": 89,
     "metadata": {},
     "output_type": "execute_result"
    }
   ],
   "source": [
    "y_train"
   ]
  },
  {
   "cell_type": "code",
   "execution_count": 100,
   "metadata": {
    "ExecuteTime": {
     "end_time": "2020-08-27T14:10:46.918804Z",
     "start_time": "2020-08-27T14:10:45.745680Z"
    }
   },
   "outputs": [
    {
     "data": {
      "text/plain": [
       "array([0, 1, 4, ..., 0, 1, 0])"
      ]
     },
     "execution_count": 100,
     "metadata": {},
     "output_type": "execute_result"
    }
   ],
   "source": [
    "y_train.compute()"
   ]
  },
  {
   "cell_type": "code",
   "execution_count": 90,
   "metadata": {
    "ExecuteTime": {
     "end_time": "2020-08-27T13:59:42.742411Z",
     "start_time": "2020-08-27T13:59:42.262939Z"
    }
   },
   "outputs": [],
   "source": [
    "import importlib\n",
    "import torch_model\n",
    "\n",
    "importlib.reload(torch_model)\n",
    "\n",
    "# Import our HiddenLayerNet pytorch model from a local torch_model.py module\n",
    "from torch_model import HiddenLayerNet\n",
    "# Send module with HiddenLayerNet to workers on cluster\n",
    "client.upload_file(\"torch_model.py\")"
   ]
  },
  {
   "cell_type": "code",
   "execution_count": 91,
   "metadata": {
    "ExecuteTime": {
     "end_time": "2020-08-27T13:59:44.860767Z",
     "start_time": "2020-08-27T13:59:44.855684Z"
    }
   },
   "outputs": [],
   "source": [
    "from skorch import NeuralNetClassifier\n",
    "\n",
    "niceties = {\n",
    "    \"callbacks\": False,\n",
    "    \"warm_start\": True,\n",
    "    \"train_split\": None,\n",
    "    \"max_epochs\": 100,\n",
    "}\n",
    "\n",
    "model = NeuralNetClassifier(\n",
    "    module=HiddenLayerNet,\n",
    "    module__n_features=X_train.shape[1],\n",
    "    module__n_outputs=5, #y_train.shape[1],\n",
    "    module__n_extra_layers=3,\n",
    "    optimizer=optim.SGD,\n",
    "    criterion=nn.CrossEntropyLoss,\n",
    "#    criterion=nn.MSELoss,\n",
    "    lr=0.1,\n",
    "    **niceties,\n",
    ")"
   ]
  },
  {
   "cell_type": "code",
   "execution_count": 92,
   "metadata": {
    "ExecuteTime": {
     "end_time": "2020-08-27T14:00:25.524683Z",
     "start_time": "2020-08-27T14:00:25.514656Z"
    }
   },
   "outputs": [],
   "source": [
    "from scipy.stats import loguniform, uniform\n",
    "\n",
    "params = {\n",
    "    \"module__activation\": [\"relu\", \"elu\", \"softsign\", \"leaky_relu\", \"rrelu\"],\n",
    "    \"batch_size\": [32, 64, 128, 256],\n",
    "    \"optimizer__lr\": loguniform(1e-4, 1e-1),\n",
    "    \"optimizer__weight_decay\": loguniform(1e-6, 1e-3),\n",
    "    \"optimizer__momentum\": uniform(0, 1),\n",
    "    \"optimizer__nesterov\": [True],\n",
    "}"
   ]
  },
  {
   "cell_type": "code",
   "execution_count": 93,
   "metadata": {
    "ExecuteTime": {
     "end_time": "2020-08-27T14:00:28.632372Z",
     "start_time": "2020-08-27T14:00:28.628046Z"
    }
   },
   "outputs": [],
   "source": [
    "search = HyperbandSearchCV(model, params, random_state=42, \n",
    "                           verbose=True, max_iter=9)"
   ]
  },
  {
   "cell_type": "code",
   "execution_count": 94,
   "metadata": {
    "ExecuteTime": {
     "end_time": "2020-08-27T14:04:36.554421Z",
     "start_time": "2020-08-27T14:00:40.028836Z"
    }
   },
   "outputs": [
    {
     "name": "stdout",
     "output_type": "stream",
     "text": [
      "[CV, bracket=2] creating 9 models\n",
      "[CV, bracket=1] creating 5 models\n",
      "[CV, bracket=0] creating 3 models\n",
      "[CV, bracket=0] For training there are between 71 and 71 examples in each chunk\n",
      "[CV, bracket=1] For training there are between 71 and 71 examples in each chunk\n",
      "[CV, bracket=0] validation score of 0.3760 received after 1 partial_fit calls\n",
      "[CV, bracket=2] For training there are between 71 and 71 examples in each chunk\n",
      "[CV, bracket=1] validation score of 0.2560 received after 1 partial_fit calls\n",
      "[CV, bracket=2] validation score of 0.2640 received after 1 partial_fit calls\n",
      "[CV, bracket=2] validation score of 0.3440 received after 3 partial_fit calls\n",
      "[CV, bracket=1] validation score of 0.4080 received after 3 partial_fit calls\n",
      "[CV, bracket=1] validation score of 0.2960 received after 9 partial_fit calls\n",
      "[CV, bracket=2] validation score of 0.3440 received after 9 partial_fit calls\n",
      "[CV, bracket=0] validation score of 0.4800 received after 9 partial_fit calls\n"
     ]
    }
   ],
   "source": [
    "res = search.fit(X_train, y_train)"
   ]
  },
  {
   "cell_type": "code",
   "execution_count": 65,
   "metadata": {
    "ExecuteTime": {
     "end_time": "2020-08-27T13:39:22.753226Z",
     "start_time": "2020-08-27T13:38:07.742837Z"
    },
    "collapsed": true
   },
   "outputs": [
    {
     "name": "stdout",
     "output_type": "stream",
     "text": [
      "[CV, bracket=2] creating 9 models\n"
     ]
    },
    {
     "name": "stderr",
     "output_type": "stream",
     "text": [
      "/home/sheer/miniconda3/envs/coiled-sheer-coiled-def_pytorch/lib/python3.8/site-packages/sklearn/model_selection/_search.py:278: UserWarning: The total space of parameters 5 is smaller than n_iter=9. Running 5 iterations. For exhaustive searches, use GridSearchCV.\n",
      "  warnings.warn(\n"
     ]
    },
    {
     "name": "stdout",
     "output_type": "stream",
     "text": [
      "[CV, bracket=1] creating 5 models\n",
      "[CV, bracket=0] creating 3 models\n",
      "[CV, bracket=0] For training there are between 71 and 71 examples in each chunk\n",
      "[CV, bracket=1] For training there are between 71 and 71 examples in each chunk\n",
      "[CV, bracket=2] For training there are between 71 and 71 examples in each chunk\n",
      "[CV, bracket=0] validation score of 0.3280 received after 1 partial_fit calls\n",
      "[CV, bracket=1] validation score of 0.3920 received after 1 partial_fit calls\n",
      "[CV, bracket=2] validation score of 0.3600 received after 1 partial_fit calls\n",
      "[CV, bracket=1] validation score of 0.4480 received after 3 partial_fit calls\n",
      "[CV, bracket=2] validation score of 0.4320 received after 3 partial_fit calls\n",
      "[CV, bracket=0] validation score of 0.3440 received after 9 partial_fit calls\n",
      "[CV, bracket=1] validation score of 0.3600 received after 9 partial_fit calls\n",
      "[CV, bracket=2] validation score of 0.3600 received after 9 partial_fit calls\n"
     ]
    }
   ],
   "source": [
    "res = search.fit(X_train, y_train)"
   ]
  },
  {
   "cell_type": "code",
   "execution_count": 66,
   "metadata": {
    "ExecuteTime": {
     "end_time": "2020-08-27T13:39:33.072618Z",
     "start_time": "2020-08-27T13:39:33.068398Z"
    }
   },
   "outputs": [
    {
     "data": {
      "text/plain": [
       "0.36"
      ]
     },
     "execution_count": 66,
     "metadata": {},
     "output_type": "execute_result"
    }
   ],
   "source": [
    "search.best_score_"
   ]
  },
  {
   "cell_type": "code",
   "execution_count": 95,
   "metadata": {
    "ExecuteTime": {
     "end_time": "2020-08-27T14:06:19.341722Z",
     "start_time": "2020-08-27T14:06:19.336253Z"
    }
   },
   "outputs": [
    {
     "data": {
      "text/plain": [
       "0.48"
      ]
     },
     "execution_count": 95,
     "metadata": {},
     "output_type": "execute_result"
    }
   ],
   "source": [
    "search.best_score_"
   ]
  },
  {
   "cell_type": "code",
   "execution_count": 96,
   "metadata": {
    "ExecuteTime": {
     "end_time": "2020-08-27T14:06:21.715421Z",
     "start_time": "2020-08-27T14:06:21.711041Z"
    }
   },
   "outputs": [
    {
     "data": {
      "text/plain": [
       "{'batch_size': 128,\n",
       " 'module__activation': 'leaky_relu',\n",
       " 'optimizer__lr': 0.07114476009343418,\n",
       " 'optimizer__momentum': 0.7319939418114051,\n",
       " 'optimizer__nesterov': True,\n",
       " 'optimizer__weight_decay': 6.251373574521747e-05}"
      ]
     },
     "execution_count": 96,
     "metadata": {},
     "output_type": "execute_result"
    }
   ],
   "source": [
    "search.best_params_"
   ]
  },
  {
   "cell_type": "code",
   "execution_count": 97,
   "metadata": {
    "ExecuteTime": {
     "end_time": "2020-08-27T14:06:30.315788Z",
     "start_time": "2020-08-27T14:06:30.312111Z"
    }
   },
   "outputs": [
    {
     "data": {
      "text/plain": [
       "<class 'skorch.classifier.NeuralNetClassifier'>[initialized](\n",
       "  module_=HiddenLayerNet(\n",
       "    (fc1): Linear(in_features=768, out_features=100, bias=True)\n",
       "    (extra_layers): ModuleList(\n",
       "      (0): Linear(in_features=100, out_features=100, bias=True)\n",
       "      (1): Linear(in_features=100, out_features=100, bias=True)\n",
       "      (2): Linear(in_features=100, out_features=100, bias=True)\n",
       "    )\n",
       "    (fc2): Linear(in_features=100, out_features=5, bias=True)\n",
       "  ),\n",
       ")"
      ]
     },
     "execution_count": 97,
     "metadata": {},
     "output_type": "execute_result"
    }
   ],
   "source": [
    "search.best_estimator_"
   ]
  },
  {
   "cell_type": "code",
   "execution_count": 101,
   "metadata": {
    "ExecuteTime": {
     "end_time": "2020-08-27T14:11:30.873608Z",
     "start_time": "2020-08-27T14:10:57.031497Z"
    },
    "collapsed": true
   },
   "outputs": [
    {
     "ename": "KeyboardInterrupt",
     "evalue": "",
     "output_type": "error",
     "traceback": [
      "\u001b[0;31m---------------------------------------------------------------------------\u001b[0m",
      "\u001b[0;31mKeyboardInterrupt\u001b[0m                         Traceback (most recent call last)",
      "\u001b[0;32m<ipython-input-101-f197642056c7>\u001b[0m in \u001b[0;36m<module>\u001b[0;34m\u001b[0m\n\u001b[1;32m      1\u001b[0m \u001b[0;32mfrom\u001b[0m \u001b[0mdask_ml\u001b[0m\u001b[0;34m.\u001b[0m\u001b[0mwrappers\u001b[0m \u001b[0;32mimport\u001b[0m \u001b[0mParallelPostFit\u001b[0m\u001b[0;34m\u001b[0m\u001b[0;34m\u001b[0m\u001b[0m\n\u001b[1;32m      2\u001b[0m \u001b[0mdeployed_model\u001b[0m \u001b[0;34m=\u001b[0m \u001b[0mParallelPostFit\u001b[0m\u001b[0;34m(\u001b[0m\u001b[0msearch\u001b[0m\u001b[0;34m.\u001b[0m\u001b[0mbest_estimator_\u001b[0m\u001b[0;34m)\u001b[0m\u001b[0;34m\u001b[0m\u001b[0;34m\u001b[0m\u001b[0m\n\u001b[0;32m----> 3\u001b[0;31m \u001b[0mdeployed_model\u001b[0m\u001b[0;34m.\u001b[0m\u001b[0mscore\u001b[0m\u001b[0;34m(\u001b[0m\u001b[0mX_test\u001b[0m\u001b[0;34m,\u001b[0m \u001b[0my_test\u001b[0m\u001b[0;34m)\u001b[0m\u001b[0;34m\u001b[0m\u001b[0;34m\u001b[0m\u001b[0m\n\u001b[0m",
      "\u001b[0;32m~/miniconda3/envs/coiled-sheer-coiled-def_pytorch/lib/python3.8/site-packages/dask_ml/wrappers.py\u001b[0m in \u001b[0;36mscore\u001b[0;34m(self, X, y, compute)\u001b[0m\n\u001b[1;32m    249\u001b[0m             \u001b[0;32melse\u001b[0m\u001b[0;34m:\u001b[0m\u001b[0;34m\u001b[0m\u001b[0;34m\u001b[0m\u001b[0m\n\u001b[1;32m    250\u001b[0m                 \u001b[0mscorer\u001b[0m \u001b[0;34m=\u001b[0m \u001b[0mget_scorer\u001b[0m\u001b[0;34m(\u001b[0m\u001b[0mscoring\u001b[0m\u001b[0;34m,\u001b[0m \u001b[0mcompute\u001b[0m\u001b[0;34m=\u001b[0m\u001b[0mcompute\u001b[0m\u001b[0;34m)\u001b[0m\u001b[0;34m\u001b[0m\u001b[0;34m\u001b[0m\u001b[0m\n\u001b[0;32m--> 251\u001b[0;31m             \u001b[0;32mreturn\u001b[0m \u001b[0mscorer\u001b[0m\u001b[0;34m(\u001b[0m\u001b[0mself\u001b[0m\u001b[0;34m,\u001b[0m \u001b[0mX\u001b[0m\u001b[0;34m,\u001b[0m \u001b[0my\u001b[0m\u001b[0;34m)\u001b[0m\u001b[0;34m\u001b[0m\u001b[0;34m\u001b[0m\u001b[0m\n\u001b[0m\u001b[1;32m    252\u001b[0m         \u001b[0;32melse\u001b[0m\u001b[0;34m:\u001b[0m\u001b[0;34m\u001b[0m\u001b[0;34m\u001b[0m\u001b[0m\n\u001b[1;32m    253\u001b[0m             \u001b[0;32mreturn\u001b[0m \u001b[0mself\u001b[0m\u001b[0;34m.\u001b[0m\u001b[0m_postfit_estimator\u001b[0m\u001b[0;34m.\u001b[0m\u001b[0mscore\u001b[0m\u001b[0;34m(\u001b[0m\u001b[0mX\u001b[0m\u001b[0;34m,\u001b[0m \u001b[0my\u001b[0m\u001b[0;34m)\u001b[0m\u001b[0;34m\u001b[0m\u001b[0;34m\u001b[0m\u001b[0m\n",
      "\u001b[0;32m~/miniconda3/envs/coiled-sheer-coiled-def_pytorch/lib/python3.8/site-packages/sklearn/metrics/_scorer.py\u001b[0m in \u001b[0;36m__call__\u001b[0;34m(self, estimator, X, y_true, sample_weight)\u001b[0m\n\u001b[1;32m    167\u001b[0m                           \u001b[0mcategory\u001b[0m\u001b[0;34m=\u001b[0m\u001b[0mFutureWarning\u001b[0m\u001b[0;34m,\u001b[0m\u001b[0;34m\u001b[0m\u001b[0;34m\u001b[0m\u001b[0m\n\u001b[1;32m    168\u001b[0m                           stacklevel=2)\n\u001b[0;32m--> 169\u001b[0;31m         return self._score(partial(_cached_call, None), estimator, X, y_true,\n\u001b[0m\u001b[1;32m    170\u001b[0m                            sample_weight=sample_weight)\n\u001b[1;32m    171\u001b[0m \u001b[0;34m\u001b[0m\u001b[0m\n",
      "\u001b[0;32m~/miniconda3/envs/coiled-sheer-coiled-def_pytorch/lib/python3.8/site-packages/sklearn/metrics/_scorer.py\u001b[0m in \u001b[0;36m_score\u001b[0;34m(self, method_caller, estimator, X, y_true, sample_weight)\u001b[0m\n\u001b[1;32m    210\u001b[0m                                                  **self._kwargs)\n\u001b[1;32m    211\u001b[0m         \u001b[0;32melse\u001b[0m\u001b[0;34m:\u001b[0m\u001b[0;34m\u001b[0m\u001b[0;34m\u001b[0m\u001b[0m\n\u001b[0;32m--> 212\u001b[0;31m             return self._sign * self._score_func(y_true, y_pred,\n\u001b[0m\u001b[1;32m    213\u001b[0m                                                  **self._kwargs)\n\u001b[1;32m    214\u001b[0m \u001b[0;34m\u001b[0m\u001b[0m\n",
      "\u001b[0;32m~/miniconda3/envs/coiled-sheer-coiled-def_pytorch/lib/python3.8/site-packages/dask_ml/metrics/classification.py\u001b[0m in \u001b[0;36maccuracy_score\u001b[0;34m(y_true, y_pred, normalize, sample_weight, compute)\u001b[0m\n\u001b[1;32m     91\u001b[0m \u001b[0;34m\u001b[0m\u001b[0m\n\u001b[1;32m     92\u001b[0m     \u001b[0;32mif\u001b[0m \u001b[0mcompute\u001b[0m\u001b[0;34m:\u001b[0m\u001b[0;34m\u001b[0m\u001b[0;34m\u001b[0m\u001b[0m\n\u001b[0;32m---> 93\u001b[0;31m         \u001b[0mscore\u001b[0m \u001b[0;34m=\u001b[0m \u001b[0mscore\u001b[0m\u001b[0;34m.\u001b[0m\u001b[0mcompute\u001b[0m\u001b[0;34m(\u001b[0m\u001b[0;34m)\u001b[0m\u001b[0;34m\u001b[0m\u001b[0;34m\u001b[0m\u001b[0m\n\u001b[0m\u001b[1;32m     94\u001b[0m     \u001b[0;32mreturn\u001b[0m \u001b[0mscore\u001b[0m\u001b[0;34m\u001b[0m\u001b[0;34m\u001b[0m\u001b[0m\n\u001b[1;32m     95\u001b[0m \u001b[0;34m\u001b[0m\u001b[0m\n",
      "\u001b[0;32m/workspace/src/dask/dask/dask/base.py\u001b[0m in \u001b[0;36mcompute\u001b[0;34m(self, **kwargs)\u001b[0m\n\u001b[1;32m    164\u001b[0m         \u001b[0mdask\u001b[0m\u001b[0;34m.\u001b[0m\u001b[0mbase\u001b[0m\u001b[0;34m.\u001b[0m\u001b[0mcompute\u001b[0m\u001b[0;34m\u001b[0m\u001b[0;34m\u001b[0m\u001b[0m\n\u001b[1;32m    165\u001b[0m         \"\"\"\n\u001b[0;32m--> 166\u001b[0;31m         \u001b[0;34m(\u001b[0m\u001b[0mresult\u001b[0m\u001b[0;34m,\u001b[0m\u001b[0;34m)\u001b[0m \u001b[0;34m=\u001b[0m \u001b[0mcompute\u001b[0m\u001b[0;34m(\u001b[0m\u001b[0mself\u001b[0m\u001b[0;34m,\u001b[0m \u001b[0mtraverse\u001b[0m\u001b[0;34m=\u001b[0m\u001b[0;32mFalse\u001b[0m\u001b[0;34m,\u001b[0m \u001b[0;34m**\u001b[0m\u001b[0mkwargs\u001b[0m\u001b[0;34m)\u001b[0m\u001b[0;34m\u001b[0m\u001b[0;34m\u001b[0m\u001b[0m\n\u001b[0m\u001b[1;32m    167\u001b[0m         \u001b[0;32mreturn\u001b[0m \u001b[0mresult\u001b[0m\u001b[0;34m\u001b[0m\u001b[0;34m\u001b[0m\u001b[0m\n\u001b[1;32m    168\u001b[0m \u001b[0;34m\u001b[0m\u001b[0m\n",
      "\u001b[0;32m/workspace/src/dask/dask/dask/base.py\u001b[0m in \u001b[0;36mcompute\u001b[0;34m(*args, **kwargs)\u001b[0m\n\u001b[1;32m    442\u001b[0m         \u001b[0mpostcomputes\u001b[0m\u001b[0;34m.\u001b[0m\u001b[0mappend\u001b[0m\u001b[0;34m(\u001b[0m\u001b[0mx\u001b[0m\u001b[0;34m.\u001b[0m\u001b[0m__dask_postcompute__\u001b[0m\u001b[0;34m(\u001b[0m\u001b[0;34m)\u001b[0m\u001b[0;34m)\u001b[0m\u001b[0;34m\u001b[0m\u001b[0;34m\u001b[0m\u001b[0m\n\u001b[1;32m    443\u001b[0m \u001b[0;34m\u001b[0m\u001b[0m\n\u001b[0;32m--> 444\u001b[0;31m     \u001b[0mresults\u001b[0m \u001b[0;34m=\u001b[0m \u001b[0mschedule\u001b[0m\u001b[0;34m(\u001b[0m\u001b[0mdsk\u001b[0m\u001b[0;34m,\u001b[0m \u001b[0mkeys\u001b[0m\u001b[0;34m,\u001b[0m \u001b[0;34m**\u001b[0m\u001b[0mkwargs\u001b[0m\u001b[0;34m)\u001b[0m\u001b[0;34m\u001b[0m\u001b[0;34m\u001b[0m\u001b[0m\n\u001b[0m\u001b[1;32m    445\u001b[0m     \u001b[0;32mreturn\u001b[0m \u001b[0mrepack\u001b[0m\u001b[0;34m(\u001b[0m\u001b[0;34m[\u001b[0m\u001b[0mf\u001b[0m\u001b[0;34m(\u001b[0m\u001b[0mr\u001b[0m\u001b[0;34m,\u001b[0m \u001b[0;34m*\u001b[0m\u001b[0ma\u001b[0m\u001b[0;34m)\u001b[0m \u001b[0;32mfor\u001b[0m \u001b[0mr\u001b[0m\u001b[0;34m,\u001b[0m \u001b[0;34m(\u001b[0m\u001b[0mf\u001b[0m\u001b[0;34m,\u001b[0m \u001b[0ma\u001b[0m\u001b[0;34m)\u001b[0m \u001b[0;32min\u001b[0m \u001b[0mzip\u001b[0m\u001b[0;34m(\u001b[0m\u001b[0mresults\u001b[0m\u001b[0;34m,\u001b[0m \u001b[0mpostcomputes\u001b[0m\u001b[0;34m)\u001b[0m\u001b[0;34m]\u001b[0m\u001b[0;34m)\u001b[0m\u001b[0;34m\u001b[0m\u001b[0;34m\u001b[0m\u001b[0m\n\u001b[1;32m    446\u001b[0m \u001b[0;34m\u001b[0m\u001b[0m\n",
      "\u001b[0;32m/workspace/src/dask/distributed/distributed/client.py\u001b[0m in \u001b[0;36mget\u001b[0;34m(self, dsk, keys, restrictions, loose_restrictions, resources, sync, asynchronous, direct, retries, priority, fifo_timeout, actors, **kwargs)\u001b[0m\n\u001b[1;32m   2680\u001b[0m                     \u001b[0mshould_rejoin\u001b[0m \u001b[0;34m=\u001b[0m \u001b[0;32mFalse\u001b[0m\u001b[0;34m\u001b[0m\u001b[0;34m\u001b[0m\u001b[0m\n\u001b[1;32m   2681\u001b[0m             \u001b[0;32mtry\u001b[0m\u001b[0;34m:\u001b[0m\u001b[0;34m\u001b[0m\u001b[0;34m\u001b[0m\u001b[0m\n\u001b[0;32m-> 2682\u001b[0;31m                 \u001b[0mresults\u001b[0m \u001b[0;34m=\u001b[0m \u001b[0mself\u001b[0m\u001b[0;34m.\u001b[0m\u001b[0mgather\u001b[0m\u001b[0;34m(\u001b[0m\u001b[0mpacked\u001b[0m\u001b[0;34m,\u001b[0m \u001b[0masynchronous\u001b[0m\u001b[0;34m=\u001b[0m\u001b[0masynchronous\u001b[0m\u001b[0;34m,\u001b[0m \u001b[0mdirect\u001b[0m\u001b[0;34m=\u001b[0m\u001b[0mdirect\u001b[0m\u001b[0;34m)\u001b[0m\u001b[0;34m\u001b[0m\u001b[0;34m\u001b[0m\u001b[0m\n\u001b[0m\u001b[1;32m   2683\u001b[0m             \u001b[0;32mfinally\u001b[0m\u001b[0;34m:\u001b[0m\u001b[0;34m\u001b[0m\u001b[0;34m\u001b[0m\u001b[0m\n\u001b[1;32m   2684\u001b[0m                 \u001b[0;32mfor\u001b[0m \u001b[0mf\u001b[0m \u001b[0;32min\u001b[0m \u001b[0mfutures\u001b[0m\u001b[0;34m.\u001b[0m\u001b[0mvalues\u001b[0m\u001b[0;34m(\u001b[0m\u001b[0;34m)\u001b[0m\u001b[0;34m:\u001b[0m\u001b[0;34m\u001b[0m\u001b[0;34m\u001b[0m\u001b[0m\n",
      "\u001b[0;32m/workspace/src/dask/distributed/distributed/client.py\u001b[0m in \u001b[0;36mgather\u001b[0;34m(self, futures, errors, direct, asynchronous)\u001b[0m\n\u001b[1;32m   1974\u001b[0m             \u001b[0;32melse\u001b[0m\u001b[0;34m:\u001b[0m\u001b[0;34m\u001b[0m\u001b[0;34m\u001b[0m\u001b[0m\n\u001b[1;32m   1975\u001b[0m                 \u001b[0mlocal_worker\u001b[0m \u001b[0;34m=\u001b[0m \u001b[0;32mNone\u001b[0m\u001b[0;34m\u001b[0m\u001b[0;34m\u001b[0m\u001b[0m\n\u001b[0;32m-> 1976\u001b[0;31m             return self.sync(\n\u001b[0m\u001b[1;32m   1977\u001b[0m                 \u001b[0mself\u001b[0m\u001b[0;34m.\u001b[0m\u001b[0m_gather\u001b[0m\u001b[0;34m,\u001b[0m\u001b[0;34m\u001b[0m\u001b[0;34m\u001b[0m\u001b[0m\n\u001b[1;32m   1978\u001b[0m                 \u001b[0mfutures\u001b[0m\u001b[0;34m,\u001b[0m\u001b[0;34m\u001b[0m\u001b[0;34m\u001b[0m\u001b[0m\n",
      "\u001b[0;32m/workspace/src/dask/distributed/distributed/client.py\u001b[0m in \u001b[0;36msync\u001b[0;34m(self, func, asynchronous, callback_timeout, *args, **kwargs)\u001b[0m\n\u001b[1;32m    829\u001b[0m             \u001b[0;32mreturn\u001b[0m \u001b[0mfuture\u001b[0m\u001b[0;34m\u001b[0m\u001b[0;34m\u001b[0m\u001b[0m\n\u001b[1;32m    830\u001b[0m         \u001b[0;32melse\u001b[0m\u001b[0;34m:\u001b[0m\u001b[0;34m\u001b[0m\u001b[0;34m\u001b[0m\u001b[0m\n\u001b[0;32m--> 831\u001b[0;31m             return sync(\n\u001b[0m\u001b[1;32m    832\u001b[0m                 \u001b[0mself\u001b[0m\u001b[0;34m.\u001b[0m\u001b[0mloop\u001b[0m\u001b[0;34m,\u001b[0m \u001b[0mfunc\u001b[0m\u001b[0;34m,\u001b[0m \u001b[0;34m*\u001b[0m\u001b[0margs\u001b[0m\u001b[0;34m,\u001b[0m \u001b[0mcallback_timeout\u001b[0m\u001b[0;34m=\u001b[0m\u001b[0mcallback_timeout\u001b[0m\u001b[0;34m,\u001b[0m \u001b[0;34m**\u001b[0m\u001b[0mkwargs\u001b[0m\u001b[0;34m\u001b[0m\u001b[0;34m\u001b[0m\u001b[0m\n\u001b[1;32m    833\u001b[0m             )\n",
      "\u001b[0;32m/workspace/src/dask/distributed/distributed/utils.py\u001b[0m in \u001b[0;36msync\u001b[0;34m(loop, func, callback_timeout, *args, **kwargs)\u001b[0m\n\u001b[1;32m    334\u001b[0m     \u001b[0;32melse\u001b[0m\u001b[0;34m:\u001b[0m\u001b[0;34m\u001b[0m\u001b[0;34m\u001b[0m\u001b[0m\n\u001b[1;32m    335\u001b[0m         \u001b[0;32mwhile\u001b[0m \u001b[0;32mnot\u001b[0m \u001b[0me\u001b[0m\u001b[0;34m.\u001b[0m\u001b[0mis_set\u001b[0m\u001b[0;34m(\u001b[0m\u001b[0;34m)\u001b[0m\u001b[0;34m:\u001b[0m\u001b[0;34m\u001b[0m\u001b[0;34m\u001b[0m\u001b[0m\n\u001b[0;32m--> 336\u001b[0;31m             \u001b[0me\u001b[0m\u001b[0;34m.\u001b[0m\u001b[0mwait\u001b[0m\u001b[0;34m(\u001b[0m\u001b[0;36m10\u001b[0m\u001b[0;34m)\u001b[0m\u001b[0;34m\u001b[0m\u001b[0;34m\u001b[0m\u001b[0m\n\u001b[0m\u001b[1;32m    337\u001b[0m     \u001b[0;32mif\u001b[0m \u001b[0merror\u001b[0m\u001b[0;34m[\u001b[0m\u001b[0;36m0\u001b[0m\u001b[0;34m]\u001b[0m\u001b[0;34m:\u001b[0m\u001b[0;34m\u001b[0m\u001b[0;34m\u001b[0m\u001b[0m\n\u001b[1;32m    338\u001b[0m         \u001b[0mtyp\u001b[0m\u001b[0;34m,\u001b[0m \u001b[0mexc\u001b[0m\u001b[0;34m,\u001b[0m \u001b[0mtb\u001b[0m \u001b[0;34m=\u001b[0m \u001b[0merror\u001b[0m\u001b[0;34m[\u001b[0m\u001b[0;36m0\u001b[0m\u001b[0;34m]\u001b[0m\u001b[0;34m\u001b[0m\u001b[0;34m\u001b[0m\u001b[0m\n",
      "\u001b[0;32m~/miniconda3/envs/coiled-sheer-coiled-def_pytorch/lib/python3.8/threading.py\u001b[0m in \u001b[0;36mwait\u001b[0;34m(self, timeout)\u001b[0m\n\u001b[1;32m    556\u001b[0m             \u001b[0msignaled\u001b[0m \u001b[0;34m=\u001b[0m \u001b[0mself\u001b[0m\u001b[0;34m.\u001b[0m\u001b[0m_flag\u001b[0m\u001b[0;34m\u001b[0m\u001b[0;34m\u001b[0m\u001b[0m\n\u001b[1;32m    557\u001b[0m             \u001b[0;32mif\u001b[0m \u001b[0;32mnot\u001b[0m \u001b[0msignaled\u001b[0m\u001b[0;34m:\u001b[0m\u001b[0;34m\u001b[0m\u001b[0;34m\u001b[0m\u001b[0m\n\u001b[0;32m--> 558\u001b[0;31m                 \u001b[0msignaled\u001b[0m \u001b[0;34m=\u001b[0m \u001b[0mself\u001b[0m\u001b[0;34m.\u001b[0m\u001b[0m_cond\u001b[0m\u001b[0;34m.\u001b[0m\u001b[0mwait\u001b[0m\u001b[0;34m(\u001b[0m\u001b[0mtimeout\u001b[0m\u001b[0;34m)\u001b[0m\u001b[0;34m\u001b[0m\u001b[0;34m\u001b[0m\u001b[0m\n\u001b[0m\u001b[1;32m    559\u001b[0m             \u001b[0;32mreturn\u001b[0m \u001b[0msignaled\u001b[0m\u001b[0;34m\u001b[0m\u001b[0;34m\u001b[0m\u001b[0m\n\u001b[1;32m    560\u001b[0m \u001b[0;34m\u001b[0m\u001b[0m\n",
      "\u001b[0;32m~/miniconda3/envs/coiled-sheer-coiled-def_pytorch/lib/python3.8/threading.py\u001b[0m in \u001b[0;36mwait\u001b[0;34m(self, timeout)\u001b[0m\n\u001b[1;32m    304\u001b[0m             \u001b[0;32melse\u001b[0m\u001b[0;34m:\u001b[0m\u001b[0;34m\u001b[0m\u001b[0;34m\u001b[0m\u001b[0m\n\u001b[1;32m    305\u001b[0m                 \u001b[0;32mif\u001b[0m \u001b[0mtimeout\u001b[0m \u001b[0;34m>\u001b[0m \u001b[0;36m0\u001b[0m\u001b[0;34m:\u001b[0m\u001b[0;34m\u001b[0m\u001b[0;34m\u001b[0m\u001b[0m\n\u001b[0;32m--> 306\u001b[0;31m                     \u001b[0mgotit\u001b[0m \u001b[0;34m=\u001b[0m \u001b[0mwaiter\u001b[0m\u001b[0;34m.\u001b[0m\u001b[0macquire\u001b[0m\u001b[0;34m(\u001b[0m\u001b[0;32mTrue\u001b[0m\u001b[0;34m,\u001b[0m \u001b[0mtimeout\u001b[0m\u001b[0;34m)\u001b[0m\u001b[0;34m\u001b[0m\u001b[0;34m\u001b[0m\u001b[0m\n\u001b[0m\u001b[1;32m    307\u001b[0m                 \u001b[0;32melse\u001b[0m\u001b[0;34m:\u001b[0m\u001b[0;34m\u001b[0m\u001b[0;34m\u001b[0m\u001b[0m\n\u001b[1;32m    308\u001b[0m                     \u001b[0mgotit\u001b[0m \u001b[0;34m=\u001b[0m \u001b[0mwaiter\u001b[0m\u001b[0;34m.\u001b[0m\u001b[0macquire\u001b[0m\u001b[0;34m(\u001b[0m\u001b[0;32mFalse\u001b[0m\u001b[0;34m)\u001b[0m\u001b[0;34m\u001b[0m\u001b[0;34m\u001b[0m\u001b[0m\n",
      "\u001b[0;31mKeyboardInterrupt\u001b[0m: "
     ]
    }
   ],
   "source": [
    "from dask_ml.wrappers import ParallelPostFit\n",
    "deployed_model = ParallelPostFit(search.best_estimator_)\n",
    "deployed_model.score(X_test, y_test)"
   ]
  },
  {
   "cell_type": "code",
   "execution_count": 69,
   "metadata": {
    "ExecuteTime": {
     "end_time": "2020-08-27T13:40:18.464963Z",
     "start_time": "2020-08-27T13:40:12.919291Z"
    }
   },
   "outputs": [
    {
     "data": {
      "text/plain": [
       "0.361"
      ]
     },
     "execution_count": 69,
     "metadata": {},
     "output_type": "execute_result"
    }
   ],
   "source": [
    "from dask_ml.wrappers import ParallelPostFit\n",
    "deployed_model = ParallelPostFit(search.best_estimator_)\n",
    "deployed_model.score(X_test, y_test)"
   ]
  },
  {
   "cell_type": "code",
   "execution_count": 102,
   "metadata": {
    "ExecuteTime": {
     "end_time": "2020-08-27T14:11:35.146424Z",
     "start_time": "2020-08-27T14:11:35.139223Z"
    }
   },
   "outputs": [
    {
     "data": {
      "text/html": [
       "<table>\n",
       "<tr>\n",
       "<td>\n",
       "<table>\n",
       "  <thead>\n",
       "    <tr><td> </td><th> Array </th><th> Chunk </th></tr>\n",
       "  </thead>\n",
       "  <tbody>\n",
       "    <tr><th> Bytes </th><td> 8.00 kB </td> <td> 64 B </td></tr>\n",
       "    <tr><th> Shape </th><td> (1000,) </td> <td> (8,) </td></tr>\n",
       "    <tr><th> Count </th><td> 250 Tasks </td><td> 125 Chunks </td></tr>\n",
       "    <tr><th> Type </th><td> int64 </td><td> numpy.ndarray </td></tr>\n",
       "  </tbody>\n",
       "</table>\n",
       "</td>\n",
       "<td>\n",
       "<svg width=\"170\" height=\"75\" style=\"stroke:rgb(0,0,0);stroke-width:1\" >\n",
       "\n",
       "  <!-- Horizontal lines -->\n",
       "  <line x1=\"0\" y1=\"0\" x2=\"120\" y2=\"0\" style=\"stroke-width:2\" />\n",
       "  <line x1=\"0\" y1=\"25\" x2=\"120\" y2=\"25\" style=\"stroke-width:2\" />\n",
       "\n",
       "  <!-- Vertical lines -->\n",
       "  <line x1=\"0\" y1=\"0\" x2=\"0\" y2=\"25\" style=\"stroke-width:2\" />\n",
       "  <line x1=\"0\" y1=\"0\" x2=\"0\" y2=\"25\" />\n",
       "  <line x1=\"1\" y1=\"0\" x2=\"1\" y2=\"25\" />\n",
       "  <line x1=\"2\" y1=\"0\" x2=\"2\" y2=\"25\" />\n",
       "  <line x1=\"3\" y1=\"0\" x2=\"3\" y2=\"25\" />\n",
       "  <line x1=\"4\" y1=\"0\" x2=\"4\" y2=\"25\" />\n",
       "  <line x1=\"5\" y1=\"0\" x2=\"5\" y2=\"25\" />\n",
       "  <line x1=\"6\" y1=\"0\" x2=\"6\" y2=\"25\" />\n",
       "  <line x1=\"7\" y1=\"0\" x2=\"7\" y2=\"25\" />\n",
       "  <line x1=\"8\" y1=\"0\" x2=\"8\" y2=\"25\" />\n",
       "  <line x1=\"9\" y1=\"0\" x2=\"9\" y2=\"25\" />\n",
       "  <line x1=\"10\" y1=\"0\" x2=\"10\" y2=\"25\" />\n",
       "  <line x1=\"11\" y1=\"0\" x2=\"11\" y2=\"25\" />\n",
       "  <line x1=\"12\" y1=\"0\" x2=\"12\" y2=\"25\" />\n",
       "  <line x1=\"13\" y1=\"0\" x2=\"13\" y2=\"25\" />\n",
       "  <line x1=\"14\" y1=\"0\" x2=\"14\" y2=\"25\" />\n",
       "  <line x1=\"15\" y1=\"0\" x2=\"15\" y2=\"25\" />\n",
       "  <line x1=\"16\" y1=\"0\" x2=\"16\" y2=\"25\" />\n",
       "  <line x1=\"17\" y1=\"0\" x2=\"17\" y2=\"25\" />\n",
       "  <line x1=\"18\" y1=\"0\" x2=\"18\" y2=\"25\" />\n",
       "  <line x1=\"19\" y1=\"0\" x2=\"19\" y2=\"25\" />\n",
       "  <line x1=\"20\" y1=\"0\" x2=\"20\" y2=\"25\" />\n",
       "  <line x1=\"21\" y1=\"0\" x2=\"21\" y2=\"25\" />\n",
       "  <line x1=\"22\" y1=\"0\" x2=\"22\" y2=\"25\" />\n",
       "  <line x1=\"23\" y1=\"0\" x2=\"23\" y2=\"25\" />\n",
       "  <line x1=\"24\" y1=\"0\" x2=\"24\" y2=\"25\" />\n",
       "  <line x1=\"24\" y1=\"0\" x2=\"24\" y2=\"25\" />\n",
       "  <line x1=\"25\" y1=\"0\" x2=\"25\" y2=\"25\" />\n",
       "  <line x1=\"26\" y1=\"0\" x2=\"26\" y2=\"25\" />\n",
       "  <line x1=\"27\" y1=\"0\" x2=\"27\" y2=\"25\" />\n",
       "  <line x1=\"28\" y1=\"0\" x2=\"28\" y2=\"25\" />\n",
       "  <line x1=\"29\" y1=\"0\" x2=\"29\" y2=\"25\" />\n",
       "  <line x1=\"30\" y1=\"0\" x2=\"30\" y2=\"25\" />\n",
       "  <line x1=\"31\" y1=\"0\" x2=\"31\" y2=\"25\" />\n",
       "  <line x1=\"32\" y1=\"0\" x2=\"32\" y2=\"25\" />\n",
       "  <line x1=\"33\" y1=\"0\" x2=\"33\" y2=\"25\" />\n",
       "  <line x1=\"34\" y1=\"0\" x2=\"34\" y2=\"25\" />\n",
       "  <line x1=\"35\" y1=\"0\" x2=\"35\" y2=\"25\" />\n",
       "  <line x1=\"36\" y1=\"0\" x2=\"36\" y2=\"25\" />\n",
       "  <line x1=\"37\" y1=\"0\" x2=\"37\" y2=\"25\" />\n",
       "  <line x1=\"38\" y1=\"0\" x2=\"38\" y2=\"25\" />\n",
       "  <line x1=\"39\" y1=\"0\" x2=\"39\" y2=\"25\" />\n",
       "  <line x1=\"40\" y1=\"0\" x2=\"40\" y2=\"25\" />\n",
       "  <line x1=\"41\" y1=\"0\" x2=\"41\" y2=\"25\" />\n",
       "  <line x1=\"42\" y1=\"0\" x2=\"42\" y2=\"25\" />\n",
       "  <line x1=\"43\" y1=\"0\" x2=\"43\" y2=\"25\" />\n",
       "  <line x1=\"44\" y1=\"0\" x2=\"44\" y2=\"25\" />\n",
       "  <line x1=\"45\" y1=\"0\" x2=\"45\" y2=\"25\" />\n",
       "  <line x1=\"46\" y1=\"0\" x2=\"46\" y2=\"25\" />\n",
       "  <line x1=\"47\" y1=\"0\" x2=\"47\" y2=\"25\" />\n",
       "  <line x1=\"48\" y1=\"0\" x2=\"48\" y2=\"25\" />\n",
       "  <line x1=\"48\" y1=\"0\" x2=\"48\" y2=\"25\" />\n",
       "  <line x1=\"49\" y1=\"0\" x2=\"49\" y2=\"25\" />\n",
       "  <line x1=\"50\" y1=\"0\" x2=\"50\" y2=\"25\" />\n",
       "  <line x1=\"51\" y1=\"0\" x2=\"51\" y2=\"25\" />\n",
       "  <line x1=\"52\" y1=\"0\" x2=\"52\" y2=\"25\" />\n",
       "  <line x1=\"53\" y1=\"0\" x2=\"53\" y2=\"25\" />\n",
       "  <line x1=\"54\" y1=\"0\" x2=\"54\" y2=\"25\" />\n",
       "  <line x1=\"55\" y1=\"0\" x2=\"55\" y2=\"25\" />\n",
       "  <line x1=\"56\" y1=\"0\" x2=\"56\" y2=\"25\" />\n",
       "  <line x1=\"57\" y1=\"0\" x2=\"57\" y2=\"25\" />\n",
       "  <line x1=\"58\" y1=\"0\" x2=\"58\" y2=\"25\" />\n",
       "  <line x1=\"59\" y1=\"0\" x2=\"59\" y2=\"25\" />\n",
       "  <line x1=\"60\" y1=\"0\" x2=\"60\" y2=\"25\" />\n",
       "  <line x1=\"61\" y1=\"0\" x2=\"61\" y2=\"25\" />\n",
       "  <line x1=\"62\" y1=\"0\" x2=\"62\" y2=\"25\" />\n",
       "  <line x1=\"63\" y1=\"0\" x2=\"63\" y2=\"25\" />\n",
       "  <line x1=\"64\" y1=\"0\" x2=\"64\" y2=\"25\" />\n",
       "  <line x1=\"65\" y1=\"0\" x2=\"65\" y2=\"25\" />\n",
       "  <line x1=\"66\" y1=\"0\" x2=\"66\" y2=\"25\" />\n",
       "  <line x1=\"67\" y1=\"0\" x2=\"67\" y2=\"25\" />\n",
       "  <line x1=\"68\" y1=\"0\" x2=\"68\" y2=\"25\" />\n",
       "  <line x1=\"69\" y1=\"0\" x2=\"69\" y2=\"25\" />\n",
       "  <line x1=\"70\" y1=\"0\" x2=\"70\" y2=\"25\" />\n",
       "  <line x1=\"71\" y1=\"0\" x2=\"71\" y2=\"25\" />\n",
       "  <line x1=\"72\" y1=\"0\" x2=\"72\" y2=\"25\" />\n",
       "  <line x1=\"72\" y1=\"0\" x2=\"72\" y2=\"25\" />\n",
       "  <line x1=\"73\" y1=\"0\" x2=\"73\" y2=\"25\" />\n",
       "  <line x1=\"74\" y1=\"0\" x2=\"74\" y2=\"25\" />\n",
       "  <line x1=\"75\" y1=\"0\" x2=\"75\" y2=\"25\" />\n",
       "  <line x1=\"76\" y1=\"0\" x2=\"76\" y2=\"25\" />\n",
       "  <line x1=\"77\" y1=\"0\" x2=\"77\" y2=\"25\" />\n",
       "  <line x1=\"78\" y1=\"0\" x2=\"78\" y2=\"25\" />\n",
       "  <line x1=\"79\" y1=\"0\" x2=\"79\" y2=\"25\" />\n",
       "  <line x1=\"80\" y1=\"0\" x2=\"80\" y2=\"25\" />\n",
       "  <line x1=\"81\" y1=\"0\" x2=\"81\" y2=\"25\" />\n",
       "  <line x1=\"82\" y1=\"0\" x2=\"82\" y2=\"25\" />\n",
       "  <line x1=\"83\" y1=\"0\" x2=\"83\" y2=\"25\" />\n",
       "  <line x1=\"84\" y1=\"0\" x2=\"84\" y2=\"25\" />\n",
       "  <line x1=\"85\" y1=\"0\" x2=\"85\" y2=\"25\" />\n",
       "  <line x1=\"86\" y1=\"0\" x2=\"86\" y2=\"25\" />\n",
       "  <line x1=\"87\" y1=\"0\" x2=\"87\" y2=\"25\" />\n",
       "  <line x1=\"88\" y1=\"0\" x2=\"88\" y2=\"25\" />\n",
       "  <line x1=\"89\" y1=\"0\" x2=\"89\" y2=\"25\" />\n",
       "  <line x1=\"90\" y1=\"0\" x2=\"90\" y2=\"25\" />\n",
       "  <line x1=\"91\" y1=\"0\" x2=\"91\" y2=\"25\" />\n",
       "  <line x1=\"92\" y1=\"0\" x2=\"92\" y2=\"25\" />\n",
       "  <line x1=\"93\" y1=\"0\" x2=\"93\" y2=\"25\" />\n",
       "  <line x1=\"94\" y1=\"0\" x2=\"94\" y2=\"25\" />\n",
       "  <line x1=\"95\" y1=\"0\" x2=\"95\" y2=\"25\" />\n",
       "  <line x1=\"96\" y1=\"0\" x2=\"96\" y2=\"25\" />\n",
       "  <line x1=\"96\" y1=\"0\" x2=\"96\" y2=\"25\" />\n",
       "  <line x1=\"97\" y1=\"0\" x2=\"97\" y2=\"25\" />\n",
       "  <line x1=\"98\" y1=\"0\" x2=\"98\" y2=\"25\" />\n",
       "  <line x1=\"99\" y1=\"0\" x2=\"99\" y2=\"25\" />\n",
       "  <line x1=\"100\" y1=\"0\" x2=\"100\" y2=\"25\" />\n",
       "  <line x1=\"101\" y1=\"0\" x2=\"101\" y2=\"25\" />\n",
       "  <line x1=\"102\" y1=\"0\" x2=\"102\" y2=\"25\" />\n",
       "  <line x1=\"103\" y1=\"0\" x2=\"103\" y2=\"25\" />\n",
       "  <line x1=\"104\" y1=\"0\" x2=\"104\" y2=\"25\" />\n",
       "  <line x1=\"105\" y1=\"0\" x2=\"105\" y2=\"25\" />\n",
       "  <line x1=\"106\" y1=\"0\" x2=\"106\" y2=\"25\" />\n",
       "  <line x1=\"107\" y1=\"0\" x2=\"107\" y2=\"25\" />\n",
       "  <line x1=\"108\" y1=\"0\" x2=\"108\" y2=\"25\" />\n",
       "  <line x1=\"109\" y1=\"0\" x2=\"109\" y2=\"25\" />\n",
       "  <line x1=\"110\" y1=\"0\" x2=\"110\" y2=\"25\" />\n",
       "  <line x1=\"111\" y1=\"0\" x2=\"111\" y2=\"25\" />\n",
       "  <line x1=\"112\" y1=\"0\" x2=\"112\" y2=\"25\" />\n",
       "  <line x1=\"113\" y1=\"0\" x2=\"113\" y2=\"25\" />\n",
       "  <line x1=\"114\" y1=\"0\" x2=\"114\" y2=\"25\" />\n",
       "  <line x1=\"115\" y1=\"0\" x2=\"115\" y2=\"25\" />\n",
       "  <line x1=\"116\" y1=\"0\" x2=\"116\" y2=\"25\" />\n",
       "  <line x1=\"117\" y1=\"0\" x2=\"117\" y2=\"25\" />\n",
       "  <line x1=\"118\" y1=\"0\" x2=\"118\" y2=\"25\" />\n",
       "  <line x1=\"119\" y1=\"0\" x2=\"119\" y2=\"25\" />\n",
       "  <line x1=\"120\" y1=\"0\" x2=\"120\" y2=\"25\" style=\"stroke-width:2\" />\n",
       "\n",
       "  <!-- Colored Rectangle -->\n",
       "  <polygon points=\"0.000000,0.000000 120.000000,0.000000 120.000000,25.412617 0.000000,25.412617\" style=\"fill:#ECB172A0;stroke-width:0\"/>\n",
       "\n",
       "  <!-- Text -->\n",
       "  <text x=\"60.000000\" y=\"45.412617\" font-size=\"1.0rem\" font-weight=\"100\" text-anchor=\"middle\" >1000</text>\n",
       "  <text x=\"140.000000\" y=\"12.706308\" font-size=\"1.0rem\" font-weight=\"100\" text-anchor=\"middle\" transform=\"rotate(0,140.000000,12.706308)\">1</text>\n",
       "</svg>\n",
       "</td>\n",
       "</tr>\n",
       "</table>"
      ],
      "text/plain": [
       "dask.array<_predict, shape=(1000,), dtype=int64, chunksize=(8,), chunktype=numpy.ndarray>"
      ]
     },
     "execution_count": 102,
     "metadata": {},
     "output_type": "execute_result"
    }
   ],
   "source": [
    "deployed_model.predict(X_test)"
   ]
  },
  {
   "cell_type": "code",
   "execution_count": 103,
   "metadata": {
    "ExecuteTime": {
     "end_time": "2020-08-27T14:11:45.666209Z",
     "start_time": "2020-08-27T14:11:45.156333Z"
    }
   },
   "outputs": [
    {
     "data": {
      "text/plain": [
       "array([3, 2, 1, 2, 1, 1, 2, 4, 2, 3, 3, 2, 4, 4, 4, 3, 2, 1, 3, 4, 0, 2,\n",
       "       3, 3, 4, 0, 4, 3, 0, 1, 4, 1, 1, 2, 4, 0, 2, 3, 1, 2, 0, 4, 0, 1,\n",
       "       0, 2, 2, 1, 1, 3, 4, 1, 2, 1, 2, 3, 3, 0, 3, 3, 4, 1, 0, 0, 3, 1,\n",
       "       3, 4, 3, 0, 4, 3, 4, 3, 2, 0, 0, 3, 1, 1, 2, 3, 2, 4, 0, 0, 2, 0,\n",
       "       1, 3, 2, 4, 0, 1, 4, 2, 1, 0, 3, 4, 0, 1, 2, 2, 2, 4, 0, 3, 2, 4,\n",
       "       2, 2, 1, 4, 2, 2, 1, 0, 0, 3, 0, 2, 4, 1, 1, 2, 3, 0, 1, 0, 2, 4,\n",
       "       1, 3, 1, 0, 4, 1, 4, 1, 1, 3, 3, 3, 4, 3, 3, 2, 1, 1, 4, 0, 1, 2,\n",
       "       3, 1, 4, 1, 1, 1, 4, 0, 1, 3, 1, 1, 2, 3, 4, 1, 1, 1, 3, 1, 2, 0,\n",
       "       1, 0, 2, 4, 0, 1, 3, 4, 0, 3, 3, 0, 0, 0, 2, 4, 2, 2, 1, 4, 4, 0,\n",
       "       2, 3, 0, 1, 4, 0, 1, 1, 0, 2, 3, 3, 1, 4, 3, 1, 3, 0, 2, 2, 3, 3,\n",
       "       4, 3, 1, 2, 2, 0, 3, 1, 3, 2, 2, 1, 4, 0, 2, 4, 0, 4, 4, 4, 2, 1,\n",
       "       0, 3, 1, 1, 0, 4, 3, 2, 1, 4, 4, 3, 0, 0, 2, 1, 2, 1, 3, 3, 2, 3,\n",
       "       1, 1, 3, 0, 0, 4, 1, 0, 3, 3, 3, 3, 3, 4, 2, 4, 0, 3, 1, 2, 3, 2,\n",
       "       1, 4, 2, 0, 0, 4, 0, 1, 4, 4, 3, 1, 4, 1, 4, 0, 0, 2, 3, 0, 1, 0,\n",
       "       4, 4, 1, 4, 3, 1, 2, 1, 1, 1, 1, 0, 4, 4, 3, 1, 4, 3, 1, 2, 4, 0,\n",
       "       0, 3, 0, 4, 2, 1, 3, 2, 0, 0, 4, 2, 0, 4, 2, 0, 1, 2, 0, 0, 0, 0,\n",
       "       4, 4, 2, 1, 4, 4, 4, 1, 3, 0, 1, 2, 3, 4, 2, 3, 4, 3, 1, 2, 3, 0,\n",
       "       2, 2, 3, 3, 1, 3, 0, 3, 3, 4, 2, 0, 3, 3, 0, 1, 3, 2, 2, 0, 0, 3,\n",
       "       2, 1, 3, 0, 1, 0, 2, 1, 3, 0, 3, 0, 0, 3, 1, 3, 4, 4, 2, 1, 1, 0,\n",
       "       1, 4, 1, 1, 2, 1, 2, 1, 2, 2, 0, 2, 1, 3, 3, 1, 2, 1, 1, 0, 0, 0,\n",
       "       0, 3, 3, 3, 1, 3, 0, 0, 0, 3, 3, 2, 0, 1, 3, 0, 4, 3, 4, 2, 1, 1,\n",
       "       0, 3, 1, 3, 3, 0, 2, 1, 3, 2, 1, 4, 2, 0, 4, 2, 2, 0, 2, 4, 2, 0,\n",
       "       4, 2, 3, 4, 1, 4, 3, 3, 2, 0, 3, 4, 1, 2, 3, 1, 0, 3, 2, 3, 4, 4,\n",
       "       4, 4, 4, 2, 0, 3, 3, 4, 3, 4, 0, 0, 0, 0, 4, 3, 0, 2, 3, 0, 3, 4,\n",
       "       4, 3, 1, 3, 2, 2, 3, 4, 1, 2, 3, 2, 3, 4, 2, 0, 3, 2, 3, 1, 1, 2,\n",
       "       1, 1, 0, 2, 1, 1, 1, 2, 4, 3, 1, 4, 2, 4, 0, 2, 4, 3, 4, 4, 1, 3,\n",
       "       0, 3, 0, 1, 0, 1, 1, 2, 0, 2, 2, 4, 2, 2, 3, 3, 2, 1, 4, 3, 1, 2,\n",
       "       1, 3, 4, 2, 2, 1, 0, 2, 1, 3, 2, 2, 3, 0, 4, 0, 1, 3, 0, 0, 2, 2,\n",
       "       4, 4, 3, 0, 1, 4, 1, 1, 0, 0, 0, 1, 0, 3, 2, 3, 2, 3, 4, 3, 1, 2,\n",
       "       2, 3, 3, 3, 4, 1, 2, 4, 2, 3, 4, 0, 3, 4, 1, 4, 0, 0, 0, 4, 1, 3,\n",
       "       0, 3, 1, 1, 2, 2, 1, 0, 4, 0, 3, 3, 3, 2, 0, 2, 2, 0, 1, 4, 1, 2,\n",
       "       0, 0, 3, 3, 1, 1, 3, 0, 0, 4, 4, 1, 2, 3, 4, 0, 1, 0, 0, 4, 0, 4,\n",
       "       0, 4, 1, 0, 2, 3, 1, 3, 1, 2, 2, 0, 1, 1, 1, 4, 3, 2, 0, 2, 1, 2,\n",
       "       3, 3, 4, 1, 4, 2, 2, 2, 4, 4, 3, 1, 0, 0, 0, 0, 2, 1, 4, 3, 1, 1,\n",
       "       1, 3, 0, 3, 2, 2, 2, 1, 1, 4, 4, 3, 1, 4, 2, 3, 3, 1, 3, 0, 3, 2,\n",
       "       4, 1, 2, 0, 4, 1, 3, 3, 3, 3, 2, 3, 3, 4, 3, 1, 3, 0, 0, 3, 4, 1,\n",
       "       3, 3, 4, 2, 3, 4, 2, 4, 1, 0, 0, 0, 0, 1, 0, 4, 4, 2, 1, 4, 4, 1,\n",
       "       4, 0, 4, 2, 3, 3, 4, 1, 1, 0, 2, 4, 2, 2, 1, 0, 1, 4, 3, 1, 0, 0,\n",
       "       3, 3, 1, 3, 0, 2, 1, 2, 3, 1, 1, 4, 3, 2, 3, 2, 1, 0, 0, 0, 1, 4,\n",
       "       2, 3, 4, 1, 1, 3, 0, 3, 4, 2, 3, 0, 1, 4, 1, 4, 1, 4, 4, 1, 4, 4,\n",
       "       0, 1, 1, 3, 0, 0, 3, 1, 4, 2, 0, 2, 1, 4, 0, 3, 0, 1, 2, 2, 3, 2,\n",
       "       4, 4, 0, 3, 2, 0, 1, 2, 0, 1, 1, 1, 1, 1, 1, 1, 0, 0, 1, 2, 4, 1,\n",
       "       4, 0, 3, 1, 3, 2, 3, 1, 4, 2, 4, 0, 1, 1, 0, 2, 3, 1, 2, 3, 2, 3,\n",
       "       4, 0, 4, 0, 1, 1, 4, 3, 1, 0, 2, 0, 3, 0, 0, 4, 3, 3, 1, 2, 2, 0,\n",
       "       4, 0, 2, 0, 0, 0, 2, 0, 2, 0, 2, 0, 2, 3, 2, 2, 3, 0, 4, 4, 1, 0,\n",
       "       1, 1, 0, 2, 4, 3, 4, 4, 3, 3])"
      ]
     },
     "execution_count": 103,
     "metadata": {},
     "output_type": "execute_result"
    }
   ],
   "source": [
    "y_test.compute()"
   ]
  },
  {
   "cell_type": "code",
   "execution_count": 104,
   "metadata": {
    "ExecuteTime": {
     "end_time": "2020-08-27T14:13:38.014116Z",
     "start_time": "2020-08-27T14:11:47.096502Z"
    },
    "collapsed": true
   },
   "outputs": [
    {
     "ename": "KeyboardInterrupt",
     "evalue": "",
     "output_type": "error",
     "traceback": [
      "\u001b[0;31m---------------------------------------------------------------------------\u001b[0m",
      "\u001b[0;31mKeyboardInterrupt\u001b[0m                         Traceback (most recent call last)",
      "\u001b[0;32m<ipython-input-104-d5623e9536c9>\u001b[0m in \u001b[0;36m<module>\u001b[0;34m\u001b[0m\n\u001b[0;32m----> 1\u001b[0;31m \u001b[0mconfusion_matrix\u001b[0m\u001b[0;34m(\u001b[0m\u001b[0mdeployed_model\u001b[0m\u001b[0;34m.\u001b[0m\u001b[0mpredict\u001b[0m\u001b[0;34m(\u001b[0m\u001b[0mX_test\u001b[0m\u001b[0;34m)\u001b[0m\u001b[0;34m,\u001b[0m \u001b[0my_test\u001b[0m\u001b[0;34m.\u001b[0m\u001b[0mcompute\u001b[0m\u001b[0;34m(\u001b[0m\u001b[0;34m)\u001b[0m\u001b[0;34m)\u001b[0m\u001b[0;34m\u001b[0m\u001b[0;34m\u001b[0m\u001b[0m\n\u001b[0m",
      "\u001b[0;32m~/miniconda3/envs/coiled-sheer-coiled-def_pytorch/lib/python3.8/site-packages/sklearn/utils/validation.py\u001b[0m in \u001b[0;36minner_f\u001b[0;34m(*args, **kwargs)\u001b[0m\n\u001b[1;32m     70\u001b[0m                           FutureWarning)\n\u001b[1;32m     71\u001b[0m         \u001b[0mkwargs\u001b[0m\u001b[0;34m.\u001b[0m\u001b[0mupdate\u001b[0m\u001b[0;34m(\u001b[0m\u001b[0;34m{\u001b[0m\u001b[0mk\u001b[0m\u001b[0;34m:\u001b[0m \u001b[0marg\u001b[0m \u001b[0;32mfor\u001b[0m \u001b[0mk\u001b[0m\u001b[0;34m,\u001b[0m \u001b[0marg\u001b[0m \u001b[0;32min\u001b[0m \u001b[0mzip\u001b[0m\u001b[0;34m(\u001b[0m\u001b[0msig\u001b[0m\u001b[0;34m.\u001b[0m\u001b[0mparameters\u001b[0m\u001b[0;34m,\u001b[0m \u001b[0margs\u001b[0m\u001b[0;34m)\u001b[0m\u001b[0;34m}\u001b[0m\u001b[0;34m)\u001b[0m\u001b[0;34m\u001b[0m\u001b[0;34m\u001b[0m\u001b[0m\n\u001b[0;32m---> 72\u001b[0;31m         \u001b[0;32mreturn\u001b[0m \u001b[0mf\u001b[0m\u001b[0;34m(\u001b[0m\u001b[0;34m**\u001b[0m\u001b[0mkwargs\u001b[0m\u001b[0;34m)\u001b[0m\u001b[0;34m\u001b[0m\u001b[0;34m\u001b[0m\u001b[0m\n\u001b[0m\u001b[1;32m     73\u001b[0m     \u001b[0;32mreturn\u001b[0m \u001b[0minner_f\u001b[0m\u001b[0;34m\u001b[0m\u001b[0;34m\u001b[0m\u001b[0m\n\u001b[1;32m     74\u001b[0m \u001b[0;34m\u001b[0m\u001b[0m\n",
      "\u001b[0;32m~/miniconda3/envs/coiled-sheer-coiled-def_pytorch/lib/python3.8/site-packages/sklearn/metrics/_classification.py\u001b[0m in \u001b[0;36mconfusion_matrix\u001b[0;34m(y_true, y_pred, labels, sample_weight, normalize)\u001b[0m\n\u001b[1;32m    274\u001b[0m \u001b[0;34m\u001b[0m\u001b[0m\n\u001b[1;32m    275\u001b[0m     \"\"\"\n\u001b[0;32m--> 276\u001b[0;31m     \u001b[0my_type\u001b[0m\u001b[0;34m,\u001b[0m \u001b[0my_true\u001b[0m\u001b[0;34m,\u001b[0m \u001b[0my_pred\u001b[0m \u001b[0;34m=\u001b[0m \u001b[0m_check_targets\u001b[0m\u001b[0;34m(\u001b[0m\u001b[0my_true\u001b[0m\u001b[0;34m,\u001b[0m \u001b[0my_pred\u001b[0m\u001b[0;34m)\u001b[0m\u001b[0;34m\u001b[0m\u001b[0;34m\u001b[0m\u001b[0m\n\u001b[0m\u001b[1;32m    277\u001b[0m     \u001b[0;32mif\u001b[0m \u001b[0my_type\u001b[0m \u001b[0;32mnot\u001b[0m \u001b[0;32min\u001b[0m \u001b[0;34m(\u001b[0m\u001b[0;34m\"binary\"\u001b[0m\u001b[0;34m,\u001b[0m \u001b[0;34m\"multiclass\"\u001b[0m\u001b[0;34m)\u001b[0m\u001b[0;34m:\u001b[0m\u001b[0;34m\u001b[0m\u001b[0;34m\u001b[0m\u001b[0m\n\u001b[1;32m    278\u001b[0m         \u001b[0;32mraise\u001b[0m \u001b[0mValueError\u001b[0m\u001b[0;34m(\u001b[0m\u001b[0;34m\"%s is not supported\"\u001b[0m \u001b[0;34m%\u001b[0m \u001b[0my_type\u001b[0m\u001b[0;34m)\u001b[0m\u001b[0;34m\u001b[0m\u001b[0;34m\u001b[0m\u001b[0m\n",
      "\u001b[0;32m~/miniconda3/envs/coiled-sheer-coiled-def_pytorch/lib/python3.8/site-packages/sklearn/metrics/_classification.py\u001b[0m in \u001b[0;36m_check_targets\u001b[0;34m(y_true, y_pred)\u001b[0m\n\u001b[1;32m     80\u001b[0m     \"\"\"\n\u001b[1;32m     81\u001b[0m     \u001b[0mcheck_consistent_length\u001b[0m\u001b[0;34m(\u001b[0m\u001b[0my_true\u001b[0m\u001b[0;34m,\u001b[0m \u001b[0my_pred\u001b[0m\u001b[0;34m)\u001b[0m\u001b[0;34m\u001b[0m\u001b[0;34m\u001b[0m\u001b[0m\n\u001b[0;32m---> 82\u001b[0;31m     \u001b[0mtype_true\u001b[0m \u001b[0;34m=\u001b[0m \u001b[0mtype_of_target\u001b[0m\u001b[0;34m(\u001b[0m\u001b[0my_true\u001b[0m\u001b[0;34m)\u001b[0m\u001b[0;34m\u001b[0m\u001b[0;34m\u001b[0m\u001b[0m\n\u001b[0m\u001b[1;32m     83\u001b[0m     \u001b[0mtype_pred\u001b[0m \u001b[0;34m=\u001b[0m \u001b[0mtype_of_target\u001b[0m\u001b[0;34m(\u001b[0m\u001b[0my_pred\u001b[0m\u001b[0;34m)\u001b[0m\u001b[0;34m\u001b[0m\u001b[0;34m\u001b[0m\u001b[0m\n\u001b[1;32m     84\u001b[0m \u001b[0;34m\u001b[0m\u001b[0m\n",
      "\u001b[0;32m~/miniconda3/envs/coiled-sheer-coiled-def_pytorch/lib/python3.8/site-packages/sklearn/utils/multiclass.py\u001b[0m in \u001b[0;36mtype_of_target\u001b[0;34m(y)\u001b[0m\n\u001b[1;32m    248\u001b[0m         \u001b[0;32mraise\u001b[0m \u001b[0mValueError\u001b[0m\u001b[0;34m(\u001b[0m\u001b[0;34m\"y cannot be class 'SparseSeries' or 'SparseArray'\"\u001b[0m\u001b[0;34m)\u001b[0m\u001b[0;34m\u001b[0m\u001b[0;34m\u001b[0m\u001b[0m\n\u001b[1;32m    249\u001b[0m \u001b[0;34m\u001b[0m\u001b[0m\n\u001b[0;32m--> 250\u001b[0;31m     \u001b[0;32mif\u001b[0m \u001b[0mis_multilabel\u001b[0m\u001b[0;34m(\u001b[0m\u001b[0my\u001b[0m\u001b[0;34m)\u001b[0m\u001b[0;34m:\u001b[0m\u001b[0;34m\u001b[0m\u001b[0;34m\u001b[0m\u001b[0m\n\u001b[0m\u001b[1;32m    251\u001b[0m         \u001b[0;32mreturn\u001b[0m \u001b[0;34m'multilabel-indicator'\u001b[0m\u001b[0;34m\u001b[0m\u001b[0;34m\u001b[0m\u001b[0m\n\u001b[1;32m    252\u001b[0m \u001b[0;34m\u001b[0m\u001b[0m\n",
      "\u001b[0;32m~/miniconda3/envs/coiled-sheer-coiled-def_pytorch/lib/python3.8/site-packages/sklearn/utils/multiclass.py\u001b[0m in \u001b[0;36mis_multilabel\u001b[0;34m(y)\u001b[0m\n\u001b[1;32m    139\u001b[0m     \"\"\"\n\u001b[1;32m    140\u001b[0m     \u001b[0;32mif\u001b[0m \u001b[0mhasattr\u001b[0m\u001b[0;34m(\u001b[0m\u001b[0my\u001b[0m\u001b[0;34m,\u001b[0m \u001b[0;34m'__array__'\u001b[0m\u001b[0;34m)\u001b[0m \u001b[0;32mor\u001b[0m \u001b[0misinstance\u001b[0m\u001b[0;34m(\u001b[0m\u001b[0my\u001b[0m\u001b[0;34m,\u001b[0m \u001b[0mSequence\u001b[0m\u001b[0;34m)\u001b[0m\u001b[0;34m:\u001b[0m\u001b[0;34m\u001b[0m\u001b[0;34m\u001b[0m\u001b[0m\n\u001b[0;32m--> 141\u001b[0;31m         \u001b[0my\u001b[0m \u001b[0;34m=\u001b[0m \u001b[0mnp\u001b[0m\u001b[0;34m.\u001b[0m\u001b[0masarray\u001b[0m\u001b[0;34m(\u001b[0m\u001b[0my\u001b[0m\u001b[0;34m)\u001b[0m\u001b[0;34m\u001b[0m\u001b[0;34m\u001b[0m\u001b[0m\n\u001b[0m\u001b[1;32m    142\u001b[0m     \u001b[0;32mif\u001b[0m \u001b[0;32mnot\u001b[0m \u001b[0;34m(\u001b[0m\u001b[0mhasattr\u001b[0m\u001b[0;34m(\u001b[0m\u001b[0my\u001b[0m\u001b[0;34m,\u001b[0m \u001b[0;34m\"shape\"\u001b[0m\u001b[0;34m)\u001b[0m \u001b[0;32mand\u001b[0m \u001b[0my\u001b[0m\u001b[0;34m.\u001b[0m\u001b[0mndim\u001b[0m \u001b[0;34m==\u001b[0m \u001b[0;36m2\u001b[0m \u001b[0;32mand\u001b[0m \u001b[0my\u001b[0m\u001b[0;34m.\u001b[0m\u001b[0mshape\u001b[0m\u001b[0;34m[\u001b[0m\u001b[0;36m1\u001b[0m\u001b[0;34m]\u001b[0m \u001b[0;34m>\u001b[0m \u001b[0;36m1\u001b[0m\u001b[0;34m)\u001b[0m\u001b[0;34m:\u001b[0m\u001b[0;34m\u001b[0m\u001b[0;34m\u001b[0m\u001b[0m\n\u001b[1;32m    143\u001b[0m         \u001b[0;32mreturn\u001b[0m \u001b[0;32mFalse\u001b[0m\u001b[0;34m\u001b[0m\u001b[0;34m\u001b[0m\u001b[0m\n",
      "\u001b[0;32m~/miniconda3/envs/coiled-sheer-coiled-def_pytorch/lib/python3.8/site-packages/numpy/core/_asarray.py\u001b[0m in \u001b[0;36masarray\u001b[0;34m(a, dtype, order)\u001b[0m\n\u001b[1;32m     81\u001b[0m \u001b[0;34m\u001b[0m\u001b[0m\n\u001b[1;32m     82\u001b[0m     \"\"\"\n\u001b[0;32m---> 83\u001b[0;31m     \u001b[0;32mreturn\u001b[0m \u001b[0marray\u001b[0m\u001b[0;34m(\u001b[0m\u001b[0ma\u001b[0m\u001b[0;34m,\u001b[0m \u001b[0mdtype\u001b[0m\u001b[0;34m,\u001b[0m \u001b[0mcopy\u001b[0m\u001b[0;34m=\u001b[0m\u001b[0;32mFalse\u001b[0m\u001b[0;34m,\u001b[0m \u001b[0morder\u001b[0m\u001b[0;34m=\u001b[0m\u001b[0morder\u001b[0m\u001b[0;34m)\u001b[0m\u001b[0;34m\u001b[0m\u001b[0;34m\u001b[0m\u001b[0m\n\u001b[0m\u001b[1;32m     84\u001b[0m \u001b[0;34m\u001b[0m\u001b[0m\n\u001b[1;32m     85\u001b[0m \u001b[0;34m\u001b[0m\u001b[0m\n",
      "\u001b[0;32m/workspace/src/dask/dask/dask/array/core.py\u001b[0m in \u001b[0;36m__array__\u001b[0;34m(self, dtype, **kwargs)\u001b[0m\n\u001b[1;32m   1338\u001b[0m \u001b[0;34m\u001b[0m\u001b[0m\n\u001b[1;32m   1339\u001b[0m     \u001b[0;32mdef\u001b[0m \u001b[0m__array__\u001b[0m\u001b[0;34m(\u001b[0m\u001b[0mself\u001b[0m\u001b[0;34m,\u001b[0m \u001b[0mdtype\u001b[0m\u001b[0;34m=\u001b[0m\u001b[0;32mNone\u001b[0m\u001b[0;34m,\u001b[0m \u001b[0;34m**\u001b[0m\u001b[0mkwargs\u001b[0m\u001b[0;34m)\u001b[0m\u001b[0;34m:\u001b[0m\u001b[0;34m\u001b[0m\u001b[0;34m\u001b[0m\u001b[0m\n\u001b[0;32m-> 1340\u001b[0;31m         \u001b[0mx\u001b[0m \u001b[0;34m=\u001b[0m \u001b[0mself\u001b[0m\u001b[0;34m.\u001b[0m\u001b[0mcompute\u001b[0m\u001b[0;34m(\u001b[0m\u001b[0;34m)\u001b[0m\u001b[0;34m\u001b[0m\u001b[0;34m\u001b[0m\u001b[0m\n\u001b[0m\u001b[1;32m   1341\u001b[0m         \u001b[0;32mif\u001b[0m \u001b[0mdtype\u001b[0m \u001b[0;32mand\u001b[0m \u001b[0mx\u001b[0m\u001b[0;34m.\u001b[0m\u001b[0mdtype\u001b[0m \u001b[0;34m!=\u001b[0m \u001b[0mdtype\u001b[0m\u001b[0;34m:\u001b[0m\u001b[0;34m\u001b[0m\u001b[0;34m\u001b[0m\u001b[0m\n\u001b[1;32m   1342\u001b[0m             \u001b[0mx\u001b[0m \u001b[0;34m=\u001b[0m \u001b[0mx\u001b[0m\u001b[0;34m.\u001b[0m\u001b[0mastype\u001b[0m\u001b[0;34m(\u001b[0m\u001b[0mdtype\u001b[0m\u001b[0;34m)\u001b[0m\u001b[0;34m\u001b[0m\u001b[0;34m\u001b[0m\u001b[0m\n",
      "\u001b[0;32m/workspace/src/dask/dask/dask/base.py\u001b[0m in \u001b[0;36mcompute\u001b[0;34m(self, **kwargs)\u001b[0m\n\u001b[1;32m    164\u001b[0m         \u001b[0mdask\u001b[0m\u001b[0;34m.\u001b[0m\u001b[0mbase\u001b[0m\u001b[0;34m.\u001b[0m\u001b[0mcompute\u001b[0m\u001b[0;34m\u001b[0m\u001b[0;34m\u001b[0m\u001b[0m\n\u001b[1;32m    165\u001b[0m         \"\"\"\n\u001b[0;32m--> 166\u001b[0;31m         \u001b[0;34m(\u001b[0m\u001b[0mresult\u001b[0m\u001b[0;34m,\u001b[0m\u001b[0;34m)\u001b[0m \u001b[0;34m=\u001b[0m \u001b[0mcompute\u001b[0m\u001b[0;34m(\u001b[0m\u001b[0mself\u001b[0m\u001b[0;34m,\u001b[0m \u001b[0mtraverse\u001b[0m\u001b[0;34m=\u001b[0m\u001b[0;32mFalse\u001b[0m\u001b[0;34m,\u001b[0m \u001b[0;34m**\u001b[0m\u001b[0mkwargs\u001b[0m\u001b[0;34m)\u001b[0m\u001b[0;34m\u001b[0m\u001b[0;34m\u001b[0m\u001b[0m\n\u001b[0m\u001b[1;32m    167\u001b[0m         \u001b[0;32mreturn\u001b[0m \u001b[0mresult\u001b[0m\u001b[0;34m\u001b[0m\u001b[0;34m\u001b[0m\u001b[0m\n\u001b[1;32m    168\u001b[0m \u001b[0;34m\u001b[0m\u001b[0m\n",
      "\u001b[0;32m/workspace/src/dask/dask/dask/base.py\u001b[0m in \u001b[0;36mcompute\u001b[0;34m(*args, **kwargs)\u001b[0m\n\u001b[1;32m    442\u001b[0m         \u001b[0mpostcomputes\u001b[0m\u001b[0;34m.\u001b[0m\u001b[0mappend\u001b[0m\u001b[0;34m(\u001b[0m\u001b[0mx\u001b[0m\u001b[0;34m.\u001b[0m\u001b[0m__dask_postcompute__\u001b[0m\u001b[0;34m(\u001b[0m\u001b[0;34m)\u001b[0m\u001b[0;34m)\u001b[0m\u001b[0;34m\u001b[0m\u001b[0;34m\u001b[0m\u001b[0m\n\u001b[1;32m    443\u001b[0m \u001b[0;34m\u001b[0m\u001b[0m\n\u001b[0;32m--> 444\u001b[0;31m     \u001b[0mresults\u001b[0m \u001b[0;34m=\u001b[0m \u001b[0mschedule\u001b[0m\u001b[0;34m(\u001b[0m\u001b[0mdsk\u001b[0m\u001b[0;34m,\u001b[0m \u001b[0mkeys\u001b[0m\u001b[0;34m,\u001b[0m \u001b[0;34m**\u001b[0m\u001b[0mkwargs\u001b[0m\u001b[0;34m)\u001b[0m\u001b[0;34m\u001b[0m\u001b[0;34m\u001b[0m\u001b[0m\n\u001b[0m\u001b[1;32m    445\u001b[0m     \u001b[0;32mreturn\u001b[0m \u001b[0mrepack\u001b[0m\u001b[0;34m(\u001b[0m\u001b[0;34m[\u001b[0m\u001b[0mf\u001b[0m\u001b[0;34m(\u001b[0m\u001b[0mr\u001b[0m\u001b[0;34m,\u001b[0m \u001b[0;34m*\u001b[0m\u001b[0ma\u001b[0m\u001b[0;34m)\u001b[0m \u001b[0;32mfor\u001b[0m \u001b[0mr\u001b[0m\u001b[0;34m,\u001b[0m \u001b[0;34m(\u001b[0m\u001b[0mf\u001b[0m\u001b[0;34m,\u001b[0m \u001b[0ma\u001b[0m\u001b[0;34m)\u001b[0m \u001b[0;32min\u001b[0m \u001b[0mzip\u001b[0m\u001b[0;34m(\u001b[0m\u001b[0mresults\u001b[0m\u001b[0;34m,\u001b[0m \u001b[0mpostcomputes\u001b[0m\u001b[0;34m)\u001b[0m\u001b[0;34m]\u001b[0m\u001b[0;34m)\u001b[0m\u001b[0;34m\u001b[0m\u001b[0;34m\u001b[0m\u001b[0m\n\u001b[1;32m    446\u001b[0m \u001b[0;34m\u001b[0m\u001b[0m\n",
      "\u001b[0;32m/workspace/src/dask/distributed/distributed/client.py\u001b[0m in \u001b[0;36mget\u001b[0;34m(self, dsk, keys, restrictions, loose_restrictions, resources, sync, asynchronous, direct, retries, priority, fifo_timeout, actors, **kwargs)\u001b[0m\n\u001b[1;32m   2680\u001b[0m                     \u001b[0mshould_rejoin\u001b[0m \u001b[0;34m=\u001b[0m \u001b[0;32mFalse\u001b[0m\u001b[0;34m\u001b[0m\u001b[0;34m\u001b[0m\u001b[0m\n\u001b[1;32m   2681\u001b[0m             \u001b[0;32mtry\u001b[0m\u001b[0;34m:\u001b[0m\u001b[0;34m\u001b[0m\u001b[0;34m\u001b[0m\u001b[0m\n\u001b[0;32m-> 2682\u001b[0;31m                 \u001b[0mresults\u001b[0m \u001b[0;34m=\u001b[0m \u001b[0mself\u001b[0m\u001b[0;34m.\u001b[0m\u001b[0mgather\u001b[0m\u001b[0;34m(\u001b[0m\u001b[0mpacked\u001b[0m\u001b[0;34m,\u001b[0m \u001b[0masynchronous\u001b[0m\u001b[0;34m=\u001b[0m\u001b[0masynchronous\u001b[0m\u001b[0;34m,\u001b[0m \u001b[0mdirect\u001b[0m\u001b[0;34m=\u001b[0m\u001b[0mdirect\u001b[0m\u001b[0;34m)\u001b[0m\u001b[0;34m\u001b[0m\u001b[0;34m\u001b[0m\u001b[0m\n\u001b[0m\u001b[1;32m   2683\u001b[0m             \u001b[0;32mfinally\u001b[0m\u001b[0;34m:\u001b[0m\u001b[0;34m\u001b[0m\u001b[0;34m\u001b[0m\u001b[0m\n\u001b[1;32m   2684\u001b[0m                 \u001b[0;32mfor\u001b[0m \u001b[0mf\u001b[0m \u001b[0;32min\u001b[0m \u001b[0mfutures\u001b[0m\u001b[0;34m.\u001b[0m\u001b[0mvalues\u001b[0m\u001b[0;34m(\u001b[0m\u001b[0;34m)\u001b[0m\u001b[0;34m:\u001b[0m\u001b[0;34m\u001b[0m\u001b[0;34m\u001b[0m\u001b[0m\n",
      "\u001b[0;32m/workspace/src/dask/distributed/distributed/client.py\u001b[0m in \u001b[0;36mgather\u001b[0;34m(self, futures, errors, direct, asynchronous)\u001b[0m\n\u001b[1;32m   1974\u001b[0m             \u001b[0;32melse\u001b[0m\u001b[0;34m:\u001b[0m\u001b[0;34m\u001b[0m\u001b[0;34m\u001b[0m\u001b[0m\n\u001b[1;32m   1975\u001b[0m                 \u001b[0mlocal_worker\u001b[0m \u001b[0;34m=\u001b[0m \u001b[0;32mNone\u001b[0m\u001b[0;34m\u001b[0m\u001b[0;34m\u001b[0m\u001b[0m\n\u001b[0;32m-> 1976\u001b[0;31m             return self.sync(\n\u001b[0m\u001b[1;32m   1977\u001b[0m                 \u001b[0mself\u001b[0m\u001b[0;34m.\u001b[0m\u001b[0m_gather\u001b[0m\u001b[0;34m,\u001b[0m\u001b[0;34m\u001b[0m\u001b[0;34m\u001b[0m\u001b[0m\n\u001b[1;32m   1978\u001b[0m                 \u001b[0mfutures\u001b[0m\u001b[0;34m,\u001b[0m\u001b[0;34m\u001b[0m\u001b[0;34m\u001b[0m\u001b[0m\n",
      "\u001b[0;32m/workspace/src/dask/distributed/distributed/client.py\u001b[0m in \u001b[0;36msync\u001b[0;34m(self, func, asynchronous, callback_timeout, *args, **kwargs)\u001b[0m\n\u001b[1;32m    829\u001b[0m             \u001b[0;32mreturn\u001b[0m \u001b[0mfuture\u001b[0m\u001b[0;34m\u001b[0m\u001b[0;34m\u001b[0m\u001b[0m\n\u001b[1;32m    830\u001b[0m         \u001b[0;32melse\u001b[0m\u001b[0;34m:\u001b[0m\u001b[0;34m\u001b[0m\u001b[0;34m\u001b[0m\u001b[0m\n\u001b[0;32m--> 831\u001b[0;31m             return sync(\n\u001b[0m\u001b[1;32m    832\u001b[0m                 \u001b[0mself\u001b[0m\u001b[0;34m.\u001b[0m\u001b[0mloop\u001b[0m\u001b[0;34m,\u001b[0m \u001b[0mfunc\u001b[0m\u001b[0;34m,\u001b[0m \u001b[0;34m*\u001b[0m\u001b[0margs\u001b[0m\u001b[0;34m,\u001b[0m \u001b[0mcallback_timeout\u001b[0m\u001b[0;34m=\u001b[0m\u001b[0mcallback_timeout\u001b[0m\u001b[0;34m,\u001b[0m \u001b[0;34m**\u001b[0m\u001b[0mkwargs\u001b[0m\u001b[0;34m\u001b[0m\u001b[0;34m\u001b[0m\u001b[0m\n\u001b[1;32m    833\u001b[0m             )\n",
      "\u001b[0;32m/workspace/src/dask/distributed/distributed/utils.py\u001b[0m in \u001b[0;36msync\u001b[0;34m(loop, func, callback_timeout, *args, **kwargs)\u001b[0m\n\u001b[1;32m    334\u001b[0m     \u001b[0;32melse\u001b[0m\u001b[0;34m:\u001b[0m\u001b[0;34m\u001b[0m\u001b[0;34m\u001b[0m\u001b[0m\n\u001b[1;32m    335\u001b[0m         \u001b[0;32mwhile\u001b[0m \u001b[0;32mnot\u001b[0m \u001b[0me\u001b[0m\u001b[0;34m.\u001b[0m\u001b[0mis_set\u001b[0m\u001b[0;34m(\u001b[0m\u001b[0;34m)\u001b[0m\u001b[0;34m:\u001b[0m\u001b[0;34m\u001b[0m\u001b[0;34m\u001b[0m\u001b[0m\n\u001b[0;32m--> 336\u001b[0;31m             \u001b[0me\u001b[0m\u001b[0;34m.\u001b[0m\u001b[0mwait\u001b[0m\u001b[0;34m(\u001b[0m\u001b[0;36m10\u001b[0m\u001b[0;34m)\u001b[0m\u001b[0;34m\u001b[0m\u001b[0;34m\u001b[0m\u001b[0m\n\u001b[0m\u001b[1;32m    337\u001b[0m     \u001b[0;32mif\u001b[0m \u001b[0merror\u001b[0m\u001b[0;34m[\u001b[0m\u001b[0;36m0\u001b[0m\u001b[0;34m]\u001b[0m\u001b[0;34m:\u001b[0m\u001b[0;34m\u001b[0m\u001b[0;34m\u001b[0m\u001b[0m\n\u001b[1;32m    338\u001b[0m         \u001b[0mtyp\u001b[0m\u001b[0;34m,\u001b[0m \u001b[0mexc\u001b[0m\u001b[0;34m,\u001b[0m \u001b[0mtb\u001b[0m \u001b[0;34m=\u001b[0m \u001b[0merror\u001b[0m\u001b[0;34m[\u001b[0m\u001b[0;36m0\u001b[0m\u001b[0;34m]\u001b[0m\u001b[0;34m\u001b[0m\u001b[0;34m\u001b[0m\u001b[0m\n",
      "\u001b[0;32m~/miniconda3/envs/coiled-sheer-coiled-def_pytorch/lib/python3.8/threading.py\u001b[0m in \u001b[0;36mwait\u001b[0;34m(self, timeout)\u001b[0m\n\u001b[1;32m    556\u001b[0m             \u001b[0msignaled\u001b[0m \u001b[0;34m=\u001b[0m \u001b[0mself\u001b[0m\u001b[0;34m.\u001b[0m\u001b[0m_flag\u001b[0m\u001b[0;34m\u001b[0m\u001b[0;34m\u001b[0m\u001b[0m\n\u001b[1;32m    557\u001b[0m             \u001b[0;32mif\u001b[0m \u001b[0;32mnot\u001b[0m \u001b[0msignaled\u001b[0m\u001b[0;34m:\u001b[0m\u001b[0;34m\u001b[0m\u001b[0;34m\u001b[0m\u001b[0m\n\u001b[0;32m--> 558\u001b[0;31m                 \u001b[0msignaled\u001b[0m \u001b[0;34m=\u001b[0m \u001b[0mself\u001b[0m\u001b[0;34m.\u001b[0m\u001b[0m_cond\u001b[0m\u001b[0;34m.\u001b[0m\u001b[0mwait\u001b[0m\u001b[0;34m(\u001b[0m\u001b[0mtimeout\u001b[0m\u001b[0;34m)\u001b[0m\u001b[0;34m\u001b[0m\u001b[0;34m\u001b[0m\u001b[0m\n\u001b[0m\u001b[1;32m    559\u001b[0m             \u001b[0;32mreturn\u001b[0m \u001b[0msignaled\u001b[0m\u001b[0;34m\u001b[0m\u001b[0;34m\u001b[0m\u001b[0m\n\u001b[1;32m    560\u001b[0m \u001b[0;34m\u001b[0m\u001b[0m\n",
      "\u001b[0;32m~/miniconda3/envs/coiled-sheer-coiled-def_pytorch/lib/python3.8/threading.py\u001b[0m in \u001b[0;36mwait\u001b[0;34m(self, timeout)\u001b[0m\n\u001b[1;32m    304\u001b[0m             \u001b[0;32melse\u001b[0m\u001b[0;34m:\u001b[0m\u001b[0;34m\u001b[0m\u001b[0;34m\u001b[0m\u001b[0m\n\u001b[1;32m    305\u001b[0m                 \u001b[0;32mif\u001b[0m \u001b[0mtimeout\u001b[0m \u001b[0;34m>\u001b[0m \u001b[0;36m0\u001b[0m\u001b[0;34m:\u001b[0m\u001b[0;34m\u001b[0m\u001b[0;34m\u001b[0m\u001b[0m\n\u001b[0;32m--> 306\u001b[0;31m                     \u001b[0mgotit\u001b[0m \u001b[0;34m=\u001b[0m \u001b[0mwaiter\u001b[0m\u001b[0;34m.\u001b[0m\u001b[0macquire\u001b[0m\u001b[0;34m(\u001b[0m\u001b[0;32mTrue\u001b[0m\u001b[0;34m,\u001b[0m \u001b[0mtimeout\u001b[0m\u001b[0;34m)\u001b[0m\u001b[0;34m\u001b[0m\u001b[0;34m\u001b[0m\u001b[0m\n\u001b[0m\u001b[1;32m    307\u001b[0m                 \u001b[0;32melse\u001b[0m\u001b[0;34m:\u001b[0m\u001b[0;34m\u001b[0m\u001b[0;34m\u001b[0m\u001b[0m\n\u001b[1;32m    308\u001b[0m                     \u001b[0mgotit\u001b[0m \u001b[0;34m=\u001b[0m \u001b[0mwaiter\u001b[0m\u001b[0;34m.\u001b[0m\u001b[0macquire\u001b[0m\u001b[0;34m(\u001b[0m\u001b[0;32mFalse\u001b[0m\u001b[0;34m)\u001b[0m\u001b[0;34m\u001b[0m\u001b[0;34m\u001b[0m\u001b[0m\n",
      "\u001b[0;31mKeyboardInterrupt\u001b[0m: "
     ]
    }
   ],
   "source": [
    "confusion_matrix(deployed_model.predict(X_test), y_test.compute())"
   ]
  },
  {
   "cell_type": "code",
   "execution_count": 74,
   "metadata": {
    "ExecuteTime": {
     "end_time": "2020-08-27T13:42:40.948023Z",
     "start_time": "2020-08-27T13:42:25.959224Z"
    }
   },
   "outputs": [
    {
     "data": {
      "text/plain": [
       "array([[ 55,  30,  15,  11,  15],\n",
       "       [ 55,  75,  45,  20,   7],\n",
       "       [ 49,  66,  64,  33,  24],\n",
       "       [ 13,  26,  34,  59,  43],\n",
       "       [  9,  19,  49,  76, 108]])"
      ]
     },
     "execution_count": 74,
     "metadata": {},
     "output_type": "execute_result"
    }
   ],
   "source": [
    "confusion_matrix(deployed_model.predict(X_test), y_test.compute())"
   ]
  },
  {
   "cell_type": "code",
   "execution_count": null,
   "metadata": {},
   "outputs": [],
   "source": []
  }
 ],
 "metadata": {
  "kernelspec": {
   "display_name": "Python [conda env:coiled-sheer-coiled-def_pytorch]",
   "language": "python",
   "name": "conda-env-coiled-sheer-coiled-def_pytorch-py"
  },
  "language_info": {
   "codemirror_mode": {
    "name": "ipython",
    "version": 3
   },
   "file_extension": ".py",
   "mimetype": "text/x-python",
   "name": "python",
   "nbconvert_exporter": "python",
   "pygments_lexer": "ipython3",
   "version": "3.8.5"
  },
  "toc": {
   "base_numbering": 1,
   "nav_menu": {},
   "number_sections": true,
   "sideBar": true,
   "skip_h1_title": false,
   "title_cell": "Table of Contents",
   "title_sidebar": "Contents",
   "toc_cell": false,
   "toc_position": {},
   "toc_section_display": true,
   "toc_window_display": true
  }
 },
 "nbformat": 4,
 "nbformat_minor": 4
}
