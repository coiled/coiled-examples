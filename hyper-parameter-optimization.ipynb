{
 "cells": [
  {
   "cell_type": "markdown",
   "metadata": {},
   "source": [
    "This example will walk through the following:\n",
    "\n",
    "* **Getting and processing the data.**\n",
    "* **Defining a model and parameters.**\n",
    "* **Finding the best parameters,** and some details on why we're using the chosen search algorithm.\n",
    "* **Scoring** and deploying.\n",
    "\n",
    "All of these tasks will be performed on the New York City Taxi Cab dataset."
   ]
  },
  {
   "cell_type": "markdown",
   "metadata": {},
   "source": [
    "## Setup cluster"
   ]
  },
  {
   "cell_type": "code",
   "execution_count": null,
   "metadata": {},
   "outputs": [],
   "source": [
    "import coiled\n",
    "import dask.distributed"
   ]
  },
  {
   "cell_type": "code",
   "execution_count": null,
   "metadata": {},
   "outputs": [],
   "source": [
    "cluster = coiled.Cluster(\n",
    "    n_workers=20, \n",
    "    configuration=\"coiled/default\", \n",
    ")\n",
    "client = dask.distributed.Client(cluster)\n",
    "\n",
    "client"
   ]
  },
  {
   "cell_type": "markdown",
   "metadata": {},
   "source": [
    "## Get and pre-process data"
   ]
  },
  {
   "cell_type": "markdown",
   "metadata": {},
   "source": [
    "This example will mirror the Kaggle \"[NYC Taxi Trip Duration][1]\" example with different data.\n",
    "\n",
    "These data have records on 84 million taxi rides.\n",
    "\n",
    "[1]:https://www.kaggle.com/c/nyc-taxi-trip-duration/"
   ]
  },
  {
   "cell_type": "code",
   "execution_count": 2,
   "metadata": {},
   "outputs": [],
   "source": [
    "import dask.dataframe as dd\n",
    "\n",
    "features = [\"passenger_count\", \"trip_distance\", \"fare_amount\"]\n",
    "categorical_features = [\"RatecodeID\", \"payment_type\"]\n",
    "output = [\"tpep_pickup_datetime\", \"tpep_dropoff_datetime\"]\n",
    "\n",
    "df = dd.read_csv(\n",
    "    \"s3://nyc-tlc/trip data/yellow_tripdata_2019-*.csv\", \n",
    "    parse_dates=output,\n",
    "    usecols=features + categorical_features + output,\n",
    "    dtype={\n",
    "        \"passenger_count\": \"UInt8\",\n",
    "        \"RatecodeID\": \"category\",\n",
    "        \"payment_type\": \"category\",\n",
    "    },\n",
    "    blocksize=\"16 MiB\",\n",
    ")\n",
    "\n",
    "# one hot encode the categorical columns;\n",
    "# if df[\"foo\"].unique() == [1, 3, 4], add columns foo_1, foo_3, foo_4\n",
    "df = dd.get_dummies(df, columns=categorical_features)\n",
    "\n",
    "# persist so only download once\n",
    "df = df.persist()\n",
    "\n",
    "data = df[[c for c in df.columns if c not in output]]\n",
    "data = data.fillna(0)"
   ]
  },
  {
   "cell_type": "code",
   "execution_count": 3,
   "metadata": {},
   "outputs": [],
   "source": [
    "durations = (df[\"tpep_dropoff_datetime\"] - df[\"tpep_pickup_datetime\"]).dt.total_seconds() / 60  # minutes"
   ]
  },
  {
   "cell_type": "code",
   "execution_count": 4,
   "metadata": {},
   "outputs": [],
   "source": [
    "from dask_ml.model_selection import train_test_split\n",
    "import dask\n",
    "\n",
    "features = data.to_dask_array(lengths=True).astype(\"float32\")\n",
    "output = durations.to_dask_array(lengths=True).astype(\"float32\")\n",
    "X_train, X_test, y_train, y_test = train_test_split(features, output, shuffle=True)\n",
    "\n",
    "# persist the data so it's not re-computed\n",
    "X_train, X_test, y_train, y_test = dask.persist(X_train, X_test, y_train, y_test)"
   ]
  },
  {
   "cell_type": "markdown",
   "metadata": {},
   "source": [
    "## Define model and hyperparameters"
   ]
  },
  {
   "cell_type": "markdown",
   "metadata": {},
   "source": [
    "Let's use a simple neural network from [PyTorch] usin Skorch, a simple wrapper that provides a Scikit-Learn API for PyTorch.\n",
    "\n",
    "This network is only small for demonstration. If desired, we could use much larger networks on GPUs.\n",
    "\n",
    "[PyTorch]:https://pytorch.org/\n",
    "[skorch]:https://skorch.readthedocs.io/en/stable/"
   ]
  },
  {
   "cell_type": "markdown",
   "metadata": {},
   "source": [
    "If desired, this model could use GPUs."
   ]
  },
  {
   "cell_type": "code",
   "execution_count": 5,
   "metadata": {},
   "outputs": [],
   "source": [
    "import torch.optim as optim\n",
    "import torch.nn as nn\n",
    "import torch.nn.functional as F\n",
    "\n",
    "class HiddenLayerNet(nn.Module):\n",
    "    def __init__(self, n_features=10, n_outputs=1, n_hidden=100, activation=\"relu\"):\n",
    "        super().__init__()\n",
    "        self.fc1 = nn.Linear(n_features, n_hidden)\n",
    "        self.fc2 = nn.Linear(n_hidden, n_outputs)\n",
    "        self.activation = getattr(F, activation)\n",
    "\n",
    "    def forward(self, x, **kwargs):\n",
    "        return self.fc2(self.activation(self.fc1(x)))"
   ]
  },
  {
   "cell_type": "code",
   "execution_count": 6,
   "metadata": {},
   "outputs": [],
   "source": [
    "from torch_model import HiddenLayerNet"
   ]
  },
  {
   "cell_type": "code",
   "execution_count": 7,
   "metadata": {},
   "outputs": [
    {
     "data": {
      "text/plain": [
       "(900, 14)"
      ]
     },
     "execution_count": 7,
     "metadata": {},
     "output_type": "execute_result"
    }
   ],
   "source": [
    "X_train.shape"
   ]
  },
  {
   "cell_type": "code",
   "execution_count": 8,
   "metadata": {},
   "outputs": [],
   "source": [
    "from skorch import NeuralNetRegressor\n",
    "\n",
    "niceties = {\n",
    "    \"callbacks\": False,\n",
    "    \"warm_start\": True,\n",
    "    \"train_split\": None,\n",
    "    \"max_epochs\": 1,\n",
    "}\n",
    "\n",
    "model = NeuralNetRegressor(\n",
    "    module=HiddenLayerNet,\n",
    "    module__n_features=X_train.shape[1],\n",
    "    optimizer=optim.SGD,\n",
    "    criterion=nn.MSELoss,\n",
    "    lr=0.0001,\n",
    "    **niceties,\n",
    ")"
   ]
  },
  {
   "cell_type": "code",
   "execution_count": 9,
   "metadata": {},
   "outputs": [],
   "source": [
    "from scipy.stats import loguniform, uniform\n",
    "\n",
    "params = {\n",
    "    \"module__activation\": [\"relu\", \"elu\", \"softsign\", \"leaky_relu\", \"rrelu\"],\n",
    "    \"batch_size\": [32, 64, 128, 256],\n",
    "    \"optimizer__lr\": loguniform(1e-4, 1e-3),\n",
    "    \"optimizer__weight_decay\": loguniform(1e-6, 1e-3),\n",
    "    \"optimizer__momentum\": uniform(0, 1),\n",
    "    \"optimizer__nesterov\": [True],\n",
    "}"
   ]
  },
  {
   "cell_type": "markdown",
   "metadata": {},
   "source": [
    "All of these parameters control model architecture, execpt for two basic optimizatino parameters, `batch_size` and `learning_rate_init`. They control finding the best model of a particular architecture."
   ]
  },
  {
   "cell_type": "markdown",
   "metadata": {},
   "source": [
    "## Find the best hyperparameters"
   ]
  },
  {
   "cell_type": "markdown",
   "metadata": {},
   "source": [
    "Our search is \"computationally-constrained\" because (hypothetically) it requires GPUs and has a pretty complicated search space (in reality it has neither of those features). And obviously it's \"memory-constrained\" because the dataset doesn't fit in memory.\n",
    "\n",
    "[Dask-ML's documentation on hyperparameter searches][2] indicates that we should use `HyperbandSearchCV`.\n",
    "\n",
    "[2]:https://ml.dask.org/hyper-parameter-search.html"
   ]
  },
  {
   "cell_type": "code",
   "execution_count": 10,
   "metadata": {},
   "outputs": [],
   "source": [
    "from dask_ml.model_selection import HyperbandSearchCV\n",
    "search = HyperbandSearchCV(model, params, random_state=42, verbose=True, max_iter=9)"
   ]
  },
  {
   "cell_type": "markdown",
   "metadata": {},
   "source": [
    "By default, `HyperbandSearchCV` will call `partial_fit` on each chunk of the Dask Array. `HyperbandSearchCV`'s rule of thumb specifies how to train for longer or sample more parameters."
   ]
  },
  {
   "cell_type": "code",
   "execution_count": 12,
   "metadata": {},
   "outputs": [
    {
     "name": "stdout",
     "output_type": "stream",
     "text": [
      "[CV, bracket=2] creating 9 models\n",
      "[CV, bracket=1] creating 5 models\n",
      "[CV, bracket=0] creating 3 models\n",
      "[CV, bracket=0] For training there are between 360 and 360 examples in each chunk\n",
      "[CV, bracket=1] For training there are between 360 and 360 examples in each chunk\n",
      "[CV, bracket=0] validation score of -0.3191 received after 1 partial_fit calls\n",
      "[CV, bracket=2] For training there are between 360 and 360 examples in each chunk\n",
      "[CV, bracket=1] validation score of 0.0170 received after 1 partial_fit calls\n",
      "[CV, bracket=1] validation score of 0.0322 received after 3 partial_fit calls\n",
      "[CV, bracket=2] validation score of 0.2228 received after 1 partial_fit calls\n",
      "[CV, bracket=2] validation score of -0.7214 received after 3 partial_fit calls\n",
      "[CV, bracket=1] validation score of 0.0183 received after 9 partial_fit calls\n",
      "[CV, bracket=0] validation score of -0.2677 received after 9 partial_fit calls\n",
      "[CV, bracket=2] validation score of -0.5336 received after 9 partial_fit calls\n"
     ]
    },
    {
     "data": {
      "text/plain": [
       "HyperbandSearchCV(estimator=<class 'skorch.regressor.NeuralNetRegressor'>[uninitialized](\n",
       "  module=<class 'torch_model.HiddenLayerNet'>,\n",
       "  module__n_features=14,\n",
       "),\n",
       "                  max_iter=9,\n",
       "                  parameters={'batch_size': [32, 64, 128, 256],\n",
       "                              'module__activation': ['relu', 'elu', 'softsign',\n",
       "                                                     'leaky_relu', 'rrelu'],\n",
       "                              'optimizer__lr': <scipy.stats._distn_infrastructure.rv_frozen object at 0x1318ea6d0>,\n",
       "                              'optimizer__momentum': <scipy.stats._distn_infrastructure.rv_frozen object at 0x1318eae50>,\n",
       "                              'optimizer__nesterov': [True],\n",
       "                              'optimizer__weight_decay': <scipy.stats._distn_infrastructure.rv_frozen object at 0x1318eaca0>},\n",
       "                  random_state=42, verbose=True)"
      ]
     },
     "execution_count": 12,
     "metadata": {},
     "output_type": "execute_result"
    }
   ],
   "source": [
    "y_train2 = y_train.reshape(-1, 1).persist()\n",
    "_ = search.fit(X_train, y_train2)"
   ]
  },
  {
   "cell_type": "markdown",
   "metadata": {},
   "source": [
    "## Score"
   ]
  },
  {
   "cell_type": "markdown",
   "metadata": {},
   "source": [
    "`HyperbandSearchCV` and the like mirror the Scikit-Learn model selection interface, so all attributes of Scikit-Learn's [RandomizedSearchCV][rscv] are available:\n",
    "\n",
    "[rscv]:https://scikit-learn.org/stable/modules/generated/sklearn.model_selection.RandomizedSearchCV.html"
   ]
  },
  {
   "cell_type": "code",
   "execution_count": 17,
   "metadata": {},
   "outputs": [
    {
     "data": {
      "text/plain": [
       "0.018286365127180515"
      ]
     },
     "execution_count": 17,
     "metadata": {},
     "output_type": "execute_result"
    }
   ],
   "source": [
    "search.best_score_"
   ]
  },
  {
   "cell_type": "code",
   "execution_count": 18,
   "metadata": {},
   "outputs": [
    {
     "data": {
      "text/plain": [
       "{'batch_size': 32,\n",
       " 'module__activation': 'rrelu',\n",
       " 'optimizer__lr': 0.0002668107973843001,\n",
       " 'optimizer__momentum': 0.5920831762255758,\n",
       " 'optimizer__nesterov': True,\n",
       " 'optimizer__weight_decay': 3.6363529586270234e-05}"
      ]
     },
     "execution_count": 18,
     "metadata": {},
     "output_type": "execute_result"
    }
   ],
   "source": [
    "search.best_params_"
   ]
  },
  {
   "cell_type": "code",
   "execution_count": 19,
   "metadata": {},
   "outputs": [
    {
     "data": {
      "text/plain": [
       "<class 'skorch.regressor.NeuralNetRegressor'>[initialized](\n",
       "  module_=HiddenLayerNet(\n",
       "    (fc1): Linear(in_features=14, out_features=100, bias=True)\n",
       "    (fc2): Linear(in_features=100, out_features=1, bias=True)\n",
       "  ),\n",
       ")"
      ]
     },
     "execution_count": 19,
     "metadata": {},
     "output_type": "execute_result"
    }
   ],
   "source": [
    "search.best_estimator_"
   ]
  },
  {
   "cell_type": "markdown",
   "metadata": {},
   "source": [
    "This means we can deploy the best model and score on the entire dataset:"
   ]
  },
  {
   "cell_type": "code",
   "execution_count": 20,
   "metadata": {},
   "outputs": [
    {
     "data": {
      "text/plain": [
       "0.33630241003610284"
      ]
     },
     "execution_count": 20,
     "metadata": {},
     "output_type": "execute_result"
    }
   ],
   "source": [
    "from dask_ml.wrappers import ParallelPostFit\n",
    "deployed_model = ParallelPostFit(search.best_estimator_)\n",
    "deployed_model.score(X_test, y_test)"
   ]
  },
  {
   "cell_type": "markdown",
   "metadata": {},
   "source": [
    "## Visualization"
   ]
  },
  {
   "cell_type": "markdown",
   "metadata": {},
   "source": [
    "What does the error distribution look like on this larger dataset?"
   ]
  },
  {
   "cell_type": "code",
   "execution_count": 103,
   "metadata": {},
   "outputs": [],
   "source": [
    "y_pred = deployed_model.predict(X_test)\n",
    "y_pred = y_pred.flatten()"
   ]
  },
  {
   "cell_type": "code",
   "execution_count": 108,
   "metadata": {},
   "outputs": [
    {
     "data": {
      "text/html": [
       "<table>\n",
       "<tr>\n",
       "<td>\n",
       "<table>\n",
       "  <thead>\n",
       "    <tr><td> </td><th> Array </th><th> Chunk </th></tr>\n",
       "  </thead>\n",
       "  <tbody>\n",
       "    <tr><th> Bytes </th><td> 800 B </td> <td> 400 B </td></tr>\n",
       "    <tr><th> Shape </th><td> (100,) </td> <td> (50,) </td></tr>\n",
       "    <tr><th> Count </th><td> 4 Tasks </td><td> 2 Chunks </td></tr>\n",
       "    <tr><th> Type </th><td> int64 </td><td> numpy.ndarray </td></tr>\n",
       "  </tbody>\n",
       "</table>\n",
       "</td>\n",
       "<td>\n",
       "<svg width=\"170\" height=\"75\" style=\"stroke:rgb(0,0,0);stroke-width:1\" >\n",
       "\n",
       "  <!-- Horizontal lines -->\n",
       "  <line x1=\"0\" y1=\"0\" x2=\"120\" y2=\"0\" style=\"stroke-width:2\" />\n",
       "  <line x1=\"0\" y1=\"25\" x2=\"120\" y2=\"25\" style=\"stroke-width:2\" />\n",
       "\n",
       "  <!-- Vertical lines -->\n",
       "  <line x1=\"0\" y1=\"0\" x2=\"0\" y2=\"25\" style=\"stroke-width:2\" />\n",
       "  <line x1=\"60\" y1=\"0\" x2=\"60\" y2=\"25\" />\n",
       "  <line x1=\"120\" y1=\"0\" x2=\"120\" y2=\"25\" style=\"stroke-width:2\" />\n",
       "\n",
       "  <!-- Colored Rectangle -->\n",
       "  <polygon points=\"0.000000,0.000000 120.000000,0.000000 120.000000,25.412617 0.000000,25.412617\" style=\"fill:#ECB172A0;stroke-width:0\"/>\n",
       "\n",
       "  <!-- Text -->\n",
       "  <text x=\"60.000000\" y=\"45.412617\" font-size=\"1.0rem\" font-weight=\"100\" text-anchor=\"middle\" >100</text>\n",
       "  <text x=\"140.000000\" y=\"12.706308\" font-size=\"1.0rem\" font-weight=\"100\" text-anchor=\"middle\" transform=\"rotate(0,140.000000,12.706308)\">1</text>\n",
       "</svg>\n",
       "</td>\n",
       "</tr>\n",
       "</table>"
      ],
      "text/plain": [
       "dask.array<_predict, shape=(100,), dtype=int64, chunksize=(50,), chunktype=numpy.ndarray>"
      ]
     },
     "execution_count": 108,
     "metadata": {},
     "output_type": "execute_result"
    }
   ],
   "source": [
    "y_pred"
   ]
  },
  {
   "cell_type": "code",
   "execution_count": 109,
   "metadata": {},
   "outputs": [],
   "source": [
    "import numpy as np\n",
    "import pandas as pd\n",
    "import dask.array as da\n",
    "\n",
    "err = np.abs(y_pred - y_test)\n",
    "max_min_err = 20\n",
    "vals, edges = da.histogram(err, range=(0, max_min_err), bins=max_min_err)\n",
    "vals, edges = dask.compute(vals, edges)"
   ]
  },
  {
   "cell_type": "code",
   "execution_count": 110,
   "metadata": {},
   "outputs": [
    {
     "data": {
      "text/plain": [
       "(100,)"
      ]
     },
     "execution_count": 110,
     "metadata": {},
     "output_type": "execute_result"
    }
   ],
   "source": [
    "y_test.shape"
   ]
  },
  {
   "cell_type": "code",
   "execution_count": 111,
   "metadata": {},
   "outputs": [
    {
     "data": {
      "image/png": "[encoded data removed]",
      "text/plain": [
       "<Figure size 432x288 with 1 Axes>"
      ]
     },
     "metadata": {
      "image/png": {
       "height": 290,
       "width": 388
      },
      "needs_background": "light"
     },
     "output_type": "display_data"
    }
   ],
   "source": [
    "df = pd.DataFrame({\"vals\": vals, \"edges\": edges[1:]})\n",
    "ax = df.plot.bar(x=\"edges\", y=\"vals\", width=1)\n",
    "ax.set_ylabel(\"Frequency\")\n",
    "ax.set_xlabel(\"Maximum error (minutes)\")\n",
    "ax.set_title(\"Prediction error\")\n",
    "ax.legend_.remove()"
   ]
  },
  {
   "cell_type": "markdown",
   "metadata": {},
   "source": [
    "## Why not simply sampling instead?"
   ]
  },
  {
   "cell_type": "markdown",
   "metadata": {},
   "source": [
    "Sampling solves the memory issues:"
   ]
  },
  {
   "cell_type": "code",
   "execution_count": null,
   "metadata": {},
   "outputs": [],
   "source": [
    "X_train_small =  X_train.sample(frac=0.01, random_state=123).compute()\n",
    "y_train_small = y_train.sample(frac=0.01, random_state=123).compute()\n",
    "\n",
    "X_train_small  # NumPy ndarray; must fit in memory"
   ]
  },
  {
   "cell_type": "markdown",
   "metadata": {},
   "source": [
    "But `HyperbandSearchCV` is meant for computationally-constrained problems, regardless of their memory usage (which [Dask-ML's documentation on hyperparameter searches][2] also indicate). `HyperbandSearchCV` would still be relevant:\n",
    "\n",
    "[2]:https://ml.dask.org/hyper-parameter-search.html"
   ]
  },
  {
   "cell_type": "code",
   "execution_count": null,
   "metadata": {},
   "outputs": [],
   "source": [
    "search = HyperbandSearchCV(model, params, max_iter=81, random_state=0)\n",
    "search.fit(X_train_small, y_train_small, classes=[0, 1]);"
   ]
  },
  {
   "cell_type": "markdown",
   "metadata": {},
   "source": [
    "`HyperbandSearchCV` would not be relevant when the search problem is not computationally-constrained, which happens with a smaller search space or a simpler model that doesn't require GPUs.\n",
    "\n",
    "If we had a simpler model and a massive dataset, `IncrementalSearchCV` is recommended. It mirrors Scikit-Learn's `RandomizedSearchCV` but works on Dask Arrays/Dataframes, both of which can be larger than memory."
   ]
  },
  {
   "cell_type": "code",
   "execution_count": null,
   "metadata": {},
   "outputs": [],
   "source": []
  }
 ],
 "metadata": {
  "kernelspec": {
   "display_name": "Python [conda env:skorch]",
   "language": "python",
   "name": "conda-env-skorch-py"
  },
  "language_info": {
   "codemirror_mode": {
    "name": "ipython",
    "version": 3
   },
   "file_extension": ".py",
   "mimetype": "text/x-python",
   "name": "python",
   "nbconvert_exporter": "python",
   "pygments_lexer": "ipython3",
   "version": "3.8.5"
  }
 },
 "nbformat": 4,
 "nbformat_minor": 4
}
