{
 "cells": [
  {
   "cell_type": "markdown",
   "metadata": {},
   "source": [
    "## Get resources"
   ]
  },
  {
   "cell_type": "code",
   "execution_count": null,
   "metadata": {},
   "outputs": [],
   "source": [
    "import coiled\n",
    "import dask.distributed"
   ]
  },
  {
   "cell_type": "code",
   "execution_count": null,
   "metadata": {},
   "outputs": [],
   "source": [
    "cluster = coiled.Cluster(\n",
    "    n_workers=20, \n",
    "    configuration=\"coiled/default\", \n",
    ")\n",
    "client = dask.distributed.Client(cluster)\n",
    "\n",
    "client"
   ]
  },
  {
   "cell_type": "markdown",
   "metadata": {},
   "source": [
    "## Get and pre-process data"
   ]
  },
  {
   "cell_type": "code",
   "execution_count": null,
   "metadata": {},
   "outputs": [],
   "source": [
    "import dask.dataframe as dd\n",
    "df = dd.read_csv(\n",
    "    \"s3://nyc-tlc/trip data/yellow_tripdata_2019-*.csv\", \n",
    "    parse_dates=[\"tpep_pickup_datetime\", \"tpep_dropoff_datetime\"],\n",
    "    dtype={\n",
    "        \"VendorID\": \"UInt8\",\n",
    "        \"passenger_count\": \"UInt8\",\n",
    "        \"RatecodeID\": \"UInt8\",\n",
    "        \"store_and_fwd_flag\": \"category\",\n",
    "        \"PULocationID\": \"UInt16\",\n",
    "        \"DOLocationID\": \"UInt16\",    \n",
    "        \"payment_type\": \"UInt8\",\n",
    "    },\n",
    "    blocksize=\"16 MiB\",\n",
    ")\n",
    "\n",
    "data = df[[\"passenger_count\", \"trip_distance\", \"RatecodeID\", \"payment_type\", \"fare_amount\"]]\n",
    "data = data.fillna(0)\n",
    "\n",
    "labels = (df.tip_amount / df.fare_amount) > 0.25\n",
    "labels = labels.fillna(False)\n",
    "\n",
    "from dask_ml.model_selection import train_test_split\n",
    "\n",
    "X_train, X_test, y_train, y_test = train_test_split(data, labels, shuffle=True)\n",
    "X_train, X_test, y_train, y_test = dask.persist(X_train, X_test, y_train, y_test)"
   ]
  },
  {
   "cell_type": "markdown",
   "metadata": {},
   "source": [
    "## Train model"
   ]
  },
  {
   "cell_type": "code",
   "execution_count": null,
   "metadata": {},
   "outputs": [],
   "source": [
    "from sklearn.linear_model import SGDClassifier\n",
    "from dask_ml.model_selection import HyperbandSearchCV\n",
    "from scipy.stats import uniform, loguniform\n",
    "\n",
    "\n",
    "clf = SGDClassifier(tol=1e-3, penalty='elasticnet', random_state=0)\n",
    "\n",
    "params = {'alpha': loguniform(1e-2, 1e0),  # or np.logspace\n",
    "          'l1_ratio': uniform(0, 1)}  # or np.linspace\n",
    "\n",
    "search = HyperbandSearchCV(clf, params, max_iter=81, random_state=0)\n",
    "\n",
    "search.fit(X_train, y_train, classes=[0, 1]);"
   ]
  },
  {
   "cell_type": "markdown",
   "metadata": {},
   "source": [
    "## Score"
   ]
  },
  {
   "cell_type": "code",
   "execution_count": null,
   "metadata": {},
   "outputs": [],
   "source": [
    "search.score(X_test.sample(frac=0.1, random_state=123), y_test.sample(frac=0.1, random_state=123))"
   ]
  },
  {
   "cell_type": "markdown",
   "metadata": {},
   "source": [
    "## What if we just sampled instead?"
   ]
  },
  {
   "cell_type": "code",
   "execution_count": null,
   "metadata": {},
   "outputs": [],
   "source": [
    "clf.fit(\n",
    "    X_train.sample(frac=0.01, random_state=123).compute(), \n",
    "    y_train.sample(frac=0.01, random_state=123).compute()\n",
    ")"
   ]
  },
  {
   "cell_type": "code",
   "execution_count": null,
   "metadata": {},
   "outputs": [],
   "source": [
    "clf.score(\n",
    "    X_test.sample(frac=0.01, random_state=123).compute(), \n",
    "    y_test.sample(frac=0.01, random_state=123).compute()\n",
    ")"
   ]
  },
  {
   "cell_type": "markdown",
   "metadata": {},
   "source": [
    "Depending on our business needs, we maybe didn't need to do all of this :)"
   ]
  }
 ],
 "metadata": {
  "kernelspec": {
   "display_name": "Python [conda env:coiled-coiled-default]",
   "language": "python",
   "name": "conda-env-coiled-coiled-default-py"
  },
  "language_info": {
   "codemirror_mode": {
    "name": "ipython",
    "version": 3
   },
   "file_extension": ".py",
   "mimetype": "text/x-python",
   "name": "python",
   "nbconvert_exporter": "python",
   "pygments_lexer": "ipython3",
   "version": "3.8.5"
  }
 },
 "nbformat": 4,
 "nbformat_minor": 4
}
